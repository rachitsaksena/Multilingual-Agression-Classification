{
 "cells": [
  {
   "cell_type": "markdown",
   "metadata": {},
   "source": [
    "# Lexical Normalization for Hindi & Bangla Data"
   ]
  },
  {
   "cell_type": "code",
   "execution_count": 11,
   "metadata": {},
   "outputs": [],
   "source": [
    "import requests\n",
    "import pandas                        as pd\n",
    "import numpy                         as np\n",
    "import math\n",
    "\n",
    "import seaborn                       as sns\n",
    "import matplotlib.pyplot             as plt\n",
    "\n",
    "from googletrans                     import Translator\n",
    "translator = Translator()\n",
    "\n",
    "from collections                     import Counter\n",
    "from nltk.corpus                     import stopwords\n",
    "import itertools\n",
    "import re\n",
    "import httpx\n",
    "timeout = httpx.Timeout(1) # 1 second timeout"
   ]
  },
  {
   "cell_type": "code",
   "execution_count": 12,
   "metadata": {},
   "outputs": [],
   "source": [
    "def to_monolingual(df, dest):\n",
    "    monol = []\n",
    "    df_count = 0\n",
    "    for i in range(df.shape[0]):\n",
    "        temp_list = [df.iloc[i,0],df.iloc[i,1],df.iloc[i,2],df.iloc[i,3]]\n",
    "        sentence=temp_list[1]\n",
    "        temp_translate = \" \".join([translator.translate(x, dest=dest, timeout=timeout).text.lower() for x in sentence.split()])\n",
    "        temp_list.append(temp_translate)\n",
    "        monol.append(temp_list)\n",
    "        if i % 10 == 0:\n",
    "            temp_df = pd.DataFrame(monol, columns = ['ID', 'Text', 'Sub-task A', 'Sub-task B', 'monolingual'])\n",
    "            temp_df.to_excel(\"ben_mono.xlsx\",index = False)\n",
    "            print(\"Successfully saved: \",i,\" records.\")\n",
    "#         \" \".join(sentence.split().apply(lambda x : translator.translate(x, src=\"hi\", dest=\"hi\").text.lower()))\n",
    "#         monol.append(\" \".join([translator.translate(x, dest=dest, timeout=timeout).text.lower() for x in sentence.split()]))\n",
    "#     df[\"monolingual\"] = monol"
   ]
  },
  {
   "cell_type": "code",
   "execution_count": 13,
   "metadata": {},
   "outputs": [],
   "source": [
    "def barplot(df, x, y, title, label, ylabel, dim, orient = \"v\", ci = False, hue = None):\n",
    "    \n",
    "    plt.figure(figsize = dim, facecolor = \"white\")\n",
    "    sns.barplot(x = x, y = y, data = df, orient = orient, ci = ci, hue = hue)\n",
    "    plt.title(f\"{title}\", size = 18)\n",
    "    plt.xlabel(f\"{label}\", size = 16)\n",
    "    plt.ylabel(f\"{ylabel}\", size = 16)\n",
    "    plt.xticks(size = 14)\n",
    "    plt.yticks(size = 14)\n",
    "    plt.tight_layout();"
   ]
  },
  {
   "cell_type": "code",
   "execution_count": 14,
   "metadata": {},
   "outputs": [],
   "source": [
    "def fetch_stopwords(url):\n",
    "    stop = pd.read_csv(url, sep='\\n', header=0, names=['words'])\n",
    "    stop = stop['words'].values.tolist()\n",
    "    return stop"
   ]
  },
  {
   "cell_type": "code",
   "execution_count": 15,
   "metadata": {},
   "outputs": [],
   "source": [
    "# from stopwordsiso import stopwords\n",
    "# bangla_stopwords = stopwords('bn')\n",
    "\n",
    "hinglish_stopwords = fetch_stopwords('https://raw.githubusercontent.com/TrigonaMinima/HinglishNLP/master/data/assets/stop_hinglish')\n",
    "english_stopwords = set(stopwords.words('english') + hinglish_stopwords)\n",
    "hindi_stopwords = set(fetch_stopwords('https://raw.githubusercontent.com/TrigonaMinima/HinglishNLP/master/data/assets/stop_hindi'))\n",
    "bangla_stopwords = set(fetch_stopwords('https://raw.githubusercontent.com/rachitsaksena/Multilingual-Agression-Classification/master/Cache/Models/bangla%20stop.txt'))"
   ]
  },
  {
   "cell_type": "code",
   "execution_count": 16,
   "metadata": {},
   "outputs": [],
   "source": [
    "stop_dict = {'en': english_stopwords,\n",
    "             'hi': hindi_stopwords,\n",
    "             'bn': bangla_stopwords}"
   ]
  },
  {
   "cell_type": "code",
   "execution_count": 17,
   "metadata": {},
   "outputs": [],
   "source": [
    "def deEmojify(string):\n",
    "    emoji_pattern = re.compile(\"[\"\n",
    "                           u\"\\U0001F600-\\U0001F64F\"  # emoticons\n",
    "                           u\"\\U0001F300-\\U0001F5FF\"  # symbols & pictographs\n",
    "                           u\"\\U0001F680-\\U0001F6FF\"  # transport & map symbols\n",
    "                           u\"\\U0001F1E0-\\U0001F1FF\"  # flags (iOS)\n",
    "                           u\"\\U00002702-\\U000027B0\"\n",
    "                           u\"\\U000024C2-\\U0001F251\"\n",
    "                           u\"\\U0001F923\"\n",
    "                           \"]+\", flags=re.UNICODE)\n",
    "    return emoji_pattern.sub(r'', string)"
   ]
  },
  {
   "cell_type": "code",
   "execution_count": 18,
   "metadata": {},
   "outputs": [],
   "source": [
    "def clean_text(df, lang):\n",
    "    stop_words = stop_dict[lang]\n",
    "    df['monolingual'] = df[\"normalized lexicon\"]\n",
    "    for i in range(df.shape[0]):\n",
    "        sentence = df[\"normalized lexicon\"].iloc[i]\n",
    "        sentence = deEmojify(sentence)\n",
    "        sentence = re.sub(r\"([.!?|])\", r\"\", sentence)\n",
    "        sentence = re.sub(r'[/(){}\\[\\]\\|@,;:.]', r'', str(sentence))\n",
    "#         sentence = re.sub(r\"[^a-z]+\", r\" \", sentence)\n",
    "        sentence = ' '.join(word for word in sentence.split() if word not in stop_words and len(word)>2)\n",
    "        df['monolingual'].iloc[i] = sentence\n",
    "#     df['tokenized'] = [tokenizer.tokenize(text) for text in df['clean text']] #problem\n",
    "#     df['tokenized'] = [text.split() for text in df['clean text']]\n",
    "    return df"
   ]
  },
  {
   "cell_type": "markdown",
   "metadata": {},
   "source": [
    "## HINDI"
   ]
  },
  {
   "cell_type": "code",
   "execution_count": 19,
   "metadata": {
    "scrolled": true
   },
   "outputs": [
    {
     "data": {
      "text/html": [
       "<div>\n",
       "<style scoped>\n",
       "    .dataframe tbody tr th:only-of-type {\n",
       "        vertical-align: middle;\n",
       "    }\n",
       "\n",
       "    .dataframe tbody tr th {\n",
       "        vertical-align: top;\n",
       "    }\n",
       "\n",
       "    .dataframe thead th {\n",
       "        text-align: right;\n",
       "    }\n",
       "</style>\n",
       "<table border=\"1\" class=\"dataframe\">\n",
       "  <thead>\n",
       "    <tr style=\"text-align: right;\">\n",
       "      <th></th>\n",
       "      <th>ID</th>\n",
       "      <th>Text</th>\n",
       "      <th>Sub-task A</th>\n",
       "      <th>Sub-task B</th>\n",
       "    </tr>\n",
       "  </thead>\n",
       "  <tbody>\n",
       "    <tr>\n",
       "      <th>0</th>\n",
       "      <td>C4.131</td>\n",
       "      <td>Bollywood film dekhne ke samay logic ghar mein...</td>\n",
       "      <td>NAG</td>\n",
       "      <td>NGEN</td>\n",
       "    </tr>\n",
       "    <tr>\n",
       "      <th>1</th>\n",
       "      <td>C4.638</td>\n",
       "      <td>Chutiya movie...</td>\n",
       "      <td>NAG</td>\n",
       "      <td>NGEN</td>\n",
       "    </tr>\n",
       "    <tr>\n",
       "      <th>2</th>\n",
       "      <td>C38.598</td>\n",
       "      <td>Us jaat bnde ka khene ka matlab tha mar daluga...</td>\n",
       "      <td>OAG</td>\n",
       "      <td>NGEN</td>\n",
       "    </tr>\n",
       "    <tr>\n",
       "      <th>3</th>\n",
       "      <td>C4.2101.1</td>\n",
       "      <td>@Feminism Is CANCER *un feminist yeh sahi hai ...</td>\n",
       "      <td>OAG</td>\n",
       "      <td>NGEN</td>\n",
       "    </tr>\n",
       "    <tr>\n",
       "      <th>4</th>\n",
       "      <td>C29.14.2</td>\n",
       "      <td>Amrit Anand अब तो जुड़े ही है उनको बोलो जुड़ने</td>\n",
       "      <td>NAG</td>\n",
       "      <td>NGEN</td>\n",
       "    </tr>\n",
       "  </tbody>\n",
       "</table>\n",
       "</div>"
      ],
      "text/plain": [
       "          ID                                               Text Sub-task A  \\\n",
       "0     C4.131  Bollywood film dekhne ke samay logic ghar mein...        NAG   \n",
       "1     C4.638                                   Chutiya movie...        NAG   \n",
       "2    C38.598  Us jaat bnde ka khene ka matlab tha mar daluga...        OAG   \n",
       "3  C4.2101.1  @Feminism Is CANCER *un feminist yeh sahi hai ...        OAG   \n",
       "4   C29.14.2       Amrit Anand अब तो जुड़े ही है उनको बोलो जुड़ने        NAG   \n",
       "\n",
       "  Sub-task B  \n",
       "0       NGEN  \n",
       "1       NGEN  \n",
       "2       NGEN  \n",
       "3       NGEN  \n",
       "4       NGEN  "
      ]
     },
     "execution_count": 19,
     "metadata": {},
     "output_type": "execute_result"
    }
   ],
   "source": [
    "hin_train = pd.read_csv('Data/trac2_hin_train.csv')\n",
    "hin_test = pd.read_csv('Data/trac2_hin_dev.csv')\n",
    "hin = hin_train.append(hin_test)\n",
    "hin.head()"
   ]
  },
  {
   "cell_type": "code",
   "execution_count": 20,
   "metadata": {
    "scrolled": true
   },
   "outputs": [],
   "source": [
    "to_monolingual(hin, dest='hi')"
   ]
  },
  {
   "cell_type": "code",
   "execution_count": 21,
   "metadata": {},
   "outputs": [
    {
     "name": "stdout",
     "output_type": "stream",
     "text": [
      "HINDI\n",
      "NAG    2823\n",
      "OAG    1118\n",
      "CAG    1040\n",
      "Name: Sub-task A, dtype: int64\n"
     ]
    },
    {
     "data": {
      "image/png": "[encoded data removed]",
      "text/plain": [
       "<Figure size 1440x360 with 1 Axes>"
      ]
     },
     "metadata": {},
     "output_type": "display_data"
    }
   ],
   "source": [
    "taskA_df = (hin.set_index(['ID', 'Sub-task A']).count(level='Sub-task A'))\n",
    "\n",
    "barplot(df = taskA_df,\n",
    "        x = taskA_df.index,\n",
    "        y = \"Text\",\n",
    "        title = \"Distribution of Classes\",\n",
    "        label = \"Aggression Annotation\",\n",
    "        ylabel = \"Count\",\n",
    "        dim = (20, 5))\n",
    "\n",
    "print('HINDI')\n",
    "print(hin['Sub-task A'].value_counts())"
   ]
  },
  {
   "cell_type": "code",
   "execution_count": 23,
   "metadata": {
    "scrolled": true
   },
   "outputs": [
    {
     "data": {
      "text/html": [
       "<div>\n",
       "<style scoped>\n",
       "    .dataframe tbody tr th:only-of-type {\n",
       "        vertical-align: middle;\n",
       "    }\n",
       "\n",
       "    .dataframe tbody tr th {\n",
       "        vertical-align: top;\n",
       "    }\n",
       "\n",
       "    .dataframe thead th {\n",
       "        text-align: right;\n",
       "    }\n",
       "</style>\n",
       "<table border=\"1\" class=\"dataframe\">\n",
       "  <thead>\n",
       "    <tr style=\"text-align: right;\">\n",
       "      <th></th>\n",
       "      <th>ID</th>\n",
       "      <th>Text</th>\n",
       "      <th>Sub-task A</th>\n",
       "      <th>Sub-task B</th>\n",
       "      <th>normalized lexicon</th>\n",
       "      <th>monolingual</th>\n",
       "    </tr>\n",
       "  </thead>\n",
       "  <tbody>\n",
       "    <tr>\n",
       "      <th>0</th>\n",
       "      <td>C4.131</td>\n",
       "      <td>Bollywood film dekhne ke samay logic ghar mein...</td>\n",
       "      <td>NAG</td>\n",
       "      <td>NGEN</td>\n",
       "      <td>बॉलीवुड फ़िल्म देखने के समय तर्क घर में चोर मा...</td>\n",
       "      <td>बॉलीवुड फ़िल्म देखने समय तर्क में चोर मां झुंड...</td>\n",
       "    </tr>\n",
       "    <tr>\n",
       "      <th>1</th>\n",
       "      <td>C4.638</td>\n",
       "      <td>Chutiya movie...</td>\n",
       "      <td>NAG</td>\n",
       "      <td>NGEN</td>\n",
       "      <td>चुटिया चलचित्र...</td>\n",
       "      <td>चुटिया चलचित्र</td>\n",
       "    </tr>\n",
       "    <tr>\n",
       "      <th>2</th>\n",
       "      <td>C38.598</td>\n",
       "      <td>Us jaat bnde ka khene ka matlab tha mar daluga...</td>\n",
       "      <td>OAG</td>\n",
       "      <td>NGEN</td>\n",
       "      <td>हमें जाट बंदे का कहने का मतलब था समुद्र डालूगा...</td>\n",
       "      <td>हमें जाट बंदे कहने मतलब समुद्र डालूगा उपयोग पर...</td>\n",
       "    </tr>\n",
       "    <tr>\n",
       "      <th>3</th>\n",
       "      <td>C4.2101.1</td>\n",
       "      <td>@Feminism Is CANCER *un feminist yeh sahi hai ...</td>\n",
       "      <td>OAG</td>\n",
       "      <td>NGEN</td>\n",
       "      <td>@feminism है कैंसर *ए नारीवादी ये सही है परंतु...</td>\n",
       "      <td>feminism कैंसर नारीवादी सही परंतु मतलब थोड़ी सा...</td>\n",
       "    </tr>\n",
       "    <tr>\n",
       "      <th>4</th>\n",
       "      <td>C29.14.2</td>\n",
       "      <td>Amrit Anand अब तो जुड़े ही है उनको बोलो जुड़ने</td>\n",
       "      <td>NAG</td>\n",
       "      <td>NGEN</td>\n",
       "      <td>अमृत आनंद अब तो जुड़े ही है उनको बोलो जुड़ने</td>\n",
       "      <td>अमृत आनंद जुड़े बोलो जुड़ने</td>\n",
       "    </tr>\n",
       "    <tr>\n",
       "      <th>...</th>\n",
       "      <td>...</td>\n",
       "      <td>...</td>\n",
       "      <td>...</td>\n",
       "      <td>...</td>\n",
       "      <td>...</td>\n",
       "      <td>...</td>\n",
       "    </tr>\n",
       "    <tr>\n",
       "      <th>992</th>\n",
       "      <td>C29.18</td>\n",
       "      <td>Are bhai konsi duniya mai rehate ho😂😂</td>\n",
       "      <td>NAG</td>\n",
       "      <td>NGEN</td>\n",
       "      <td>कर रहे हैं भाई कोनसी दुनिया मई रहते ho😂😂</td>\n",
       "      <td>भाई कोनसी दुनिया रहते</td>\n",
       "    </tr>\n",
       "    <tr>\n",
       "      <th>993</th>\n",
       "      <td>C9.225</td>\n",
       "      <td>Sahi to bola</td>\n",
       "      <td>NAG</td>\n",
       "      <td>NGEN</td>\n",
       "      <td>सही सेवा वह थी</td>\n",
       "      <td>सही सेवा</td>\n",
       "    </tr>\n",
       "    <tr>\n",
       "      <th>994</th>\n",
       "      <td>C7.1685</td>\n",
       "      <td>Or tum Kay Kar raya ho?</td>\n",
       "      <td>NAG</td>\n",
       "      <td>NGEN</td>\n",
       "      <td>या तुम kay कर राया हो?</td>\n",
       "      <td>तुम kay राया</td>\n",
       "    </tr>\n",
       "    <tr>\n",
       "      <th>995</th>\n",
       "      <td>C36.692.1</td>\n",
       "      <td>Ye bhaat sahi hain par zyada dhin thine ga nah...</td>\n",
       "      <td>NAG</td>\n",
       "      <td>NGEN</td>\n",
       "      <td>हाँ चावल sahi हैं पर ज़्यादा मरना तेरा परंतु नह...</td>\n",
       "      <td>हाँ चावल sahi ज़्यादा मरना तेरा परंतु कहाँ खुदा...</td>\n",
       "    </tr>\n",
       "    <tr>\n",
       "      <th>996</th>\n",
       "      <td>C4.1202</td>\n",
       "      <td>Islye maine Kabaad singh nai dekha..</td>\n",
       "      <td>NAG</td>\n",
       "      <td>NGEN</td>\n",
       "      <td>इसलिए मैंने kabaad सिंह अनुपस्थित देखा..</td>\n",
       "      <td>इसलिए मैंने kabaad सिंह अनुपस्थित देखा</td>\n",
       "    </tr>\n",
       "  </tbody>\n",
       "</table>\n",
       "<p>4981 rows × 6 columns</p>\n",
       "</div>"
      ],
      "text/plain": [
       "            ID                                               Text Sub-task A  \\\n",
       "0       C4.131  Bollywood film dekhne ke samay logic ghar mein...        NAG   \n",
       "1       C4.638                                   Chutiya movie...        NAG   \n",
       "2      C38.598  Us jaat bnde ka khene ka matlab tha mar daluga...        OAG   \n",
       "3    C4.2101.1  @Feminism Is CANCER *un feminist yeh sahi hai ...        OAG   \n",
       "4     C29.14.2       Amrit Anand अब तो जुड़े ही है उनको बोलो जुड़ने        NAG   \n",
       "..         ...                                                ...        ...   \n",
       "992     C29.18              Are bhai konsi duniya mai rehate ho😂😂        NAG   \n",
       "993     C9.225                                       Sahi to bola        NAG   \n",
       "994    C7.1685                            Or tum Kay Kar raya ho?        NAG   \n",
       "995  C36.692.1  Ye bhaat sahi hain par zyada dhin thine ga nah...        NAG   \n",
       "996    C4.1202               Islye maine Kabaad singh nai dekha..        NAG   \n",
       "\n",
       "    Sub-task B                                 normalized lexicon  \\\n",
       "0         NGEN  बॉलीवुड फ़िल्म देखने के समय तर्क घर में चोर मा...   \n",
       "1         NGEN                                  चुटिया चलचित्र...   \n",
       "2         NGEN  हमें जाट बंदे का कहने का मतलब था समुद्र डालूगा...   \n",
       "3         NGEN  @feminism है कैंसर *ए नारीवादी ये सही है परंतु...   \n",
       "4         NGEN         अमृत आनंद अब तो जुड़े ही है उनको बोलो जुड़ने   \n",
       "..         ...                                                ...   \n",
       "992       NGEN           कर रहे हैं भाई कोनसी दुनिया मई रहते ho😂😂   \n",
       "993       NGEN                                     सही सेवा वह थी   \n",
       "994       NGEN                             या तुम kay कर राया हो?   \n",
       "995       NGEN  हाँ चावल sahi हैं पर ज़्यादा मरना तेरा परंतु नह...   \n",
       "996       NGEN           इसलिए मैंने kabaad सिंह अनुपस्थित देखा..   \n",
       "\n",
       "                                           monolingual  \n",
       "0    बॉलीवुड फ़िल्म देखने समय तर्क में चोर मां झुंड...  \n",
       "1                                       चुटिया चलचित्र  \n",
       "2    हमें जाट बंदे कहने मतलब समुद्र डालूगा उपयोग पर...  \n",
       "3    feminism कैंसर नारीवादी सही परंतु मतलब थोड़ी सा...  \n",
       "4                            अमृत आनंद जुड़े बोलो जुड़ने  \n",
       "..                                                 ...  \n",
       "992                              भाई कोनसी दुनिया रहते  \n",
       "993                                           सही सेवा  \n",
       "994                                       तुम kay राया  \n",
       "995  हाँ चावल sahi ज़्यादा मरना तेरा परंतु कहाँ खुदा...  \n",
       "996             इसलिए मैंने kabaad सिंह अनुपस्थित देखा  \n",
       "\n",
       "[4981 rows x 6 columns]"
      ]
     },
     "execution_count": 23,
     "metadata": {},
     "output_type": "execute_result"
    }
   ],
   "source": [
    "hin"
   ]
  },
  {
   "cell_type": "code",
   "execution_count": null,
   "metadata": {},
   "outputs": [],
   "source": [
    "clean_text(hin, 'hi')"
   ]
  },
  {
   "cell_type": "code",
   "execution_count": 26,
   "metadata": {},
   "outputs": [
    {
     "data": {
      "text/html": [
       "<div>\n",
       "<style scoped>\n",
       "    .dataframe tbody tr th:only-of-type {\n",
       "        vertical-align: middle;\n",
       "    }\n",
       "\n",
       "    .dataframe tbody tr th {\n",
       "        vertical-align: top;\n",
       "    }\n",
       "\n",
       "    .dataframe thead th {\n",
       "        text-align: right;\n",
       "    }\n",
       "</style>\n",
       "<table border=\"1\" class=\"dataframe\">\n",
       "  <thead>\n",
       "    <tr style=\"text-align: right;\">\n",
       "      <th></th>\n",
       "      <th>ID</th>\n",
       "      <th>Text</th>\n",
       "      <th>Sub-task A</th>\n",
       "      <th>Sub-task B</th>\n",
       "      <th>normalized lexicon</th>\n",
       "      <th>monolingual</th>\n",
       "    </tr>\n",
       "  </thead>\n",
       "  <tbody>\n",
       "    <tr>\n",
       "      <th>60</th>\n",
       "      <td>C4.635</td>\n",
       "      <td>badia thi</td>\n",
       "      <td>NAG</td>\n",
       "      <td>NGEN</td>\n",
       "      <td>badia thi</td>\n",
       "      <td>badia thi</td>\n",
       "    </tr>\n",
       "    <tr>\n",
       "      <th>898</th>\n",
       "      <td>C36.1146</td>\n",
       "      <td>Sahi BAAT hai posting pe bejo or Gand marvate ...</td>\n",
       "      <td>OAG</td>\n",
       "      <td>NGEN</td>\n",
       "      <td>सही बात है प्रविष्टि पर bejo या गांड marvate ह...</td>\n",
       "      <td>सही बात प्रविष्टि bejo गांड marvate दुश्मन मुझ...</td>\n",
       "    </tr>\n",
       "    <tr>\n",
       "      <th>2020</th>\n",
       "      <td>C36.504</td>\n",
       "      <td>Phle inko hawas se to santi mil jae...fr desh ...</td>\n",
       "      <td>CAG</td>\n",
       "      <td>NGEN</td>\n",
       "      <td>phle inko hawas se to santi mil jae...fr desh ...</td>\n",
       "      <td>phle inko hawas santi mil jaefr desh sochna</td>\n",
       "    </tr>\n",
       "    <tr>\n",
       "      <th>1280</th>\n",
       "      <td>C10.1301</td>\n",
       "      <td>Mullo ka Lund le le Kar iska dharm parivartan ...</td>\n",
       "      <td>OAG</td>\n",
       "      <td>GEN</td>\n",
       "      <td>मुल्लो का कुंज   कर इसका धर्म परिवर्तन हो गया....</td>\n",
       "      <td>मुल्लो कुंज धर्म परिवर्तन गयाइस रैंडी पकड़ बन्द...</td>\n",
       "    </tr>\n",
       "    <tr>\n",
       "      <th>3831</th>\n",
       "      <td>C4.750</td>\n",
       "      <td>Dislike krne wali wo ladki hi Jo ladko se pais...</td>\n",
       "      <td>CAG</td>\n",
       "      <td>NGEN</td>\n",
       "      <td>नापसन्द करने वाली कहाँ पे लड़की ही जो लड़को मुझे...</td>\n",
       "      <td>नापसन्द वाली कहाँ लड़की लड़को मुझे पता पैसा लूट ...</td>\n",
       "    </tr>\n",
       "  </tbody>\n",
       "</table>\n",
       "</div>"
      ],
      "text/plain": [
       "            ID                                               Text Sub-task A  \\\n",
       "60      C4.635                                          badia thi        NAG   \n",
       "898   C36.1146  Sahi BAAT hai posting pe bejo or Gand marvate ...        OAG   \n",
       "2020   C36.504  Phle inko hawas se to santi mil jae...fr desh ...        CAG   \n",
       "1280  C10.1301  Mullo ka Lund le le Kar iska dharm parivartan ...        OAG   \n",
       "3831    C4.750  Dislike krne wali wo ladki hi Jo ladko se pais...        CAG   \n",
       "\n",
       "     Sub-task B                                 normalized lexicon  \\\n",
       "60         NGEN                                          badia thi   \n",
       "898        NGEN  सही बात है प्रविष्टि पर bejo या गांड marvate ह...   \n",
       "2020       NGEN  phle inko hawas se to santi mil jae...fr desh ...   \n",
       "1280        GEN  मुल्लो का कुंज   कर इसका धर्म परिवर्तन हो गया....   \n",
       "3831       NGEN  नापसन्द करने वाली कहाँ पे लड़की ही जो लड़को मुझे...   \n",
       "\n",
       "                                            monolingual  \n",
       "60                                            badia thi  \n",
       "898   सही बात प्रविष्टि bejo गांड marvate दुश्मन मुझ...  \n",
       "2020        phle inko hawas santi mil jaefr desh sochna  \n",
       "1280  मुल्लो कुंज धर्म परिवर्तन गयाइस रैंडी पकड़ बन्द...  \n",
       "3831  नापसन्द वाली कहाँ लड़की लड़को मुझे पता पैसा लूट ...  "
      ]
     },
     "execution_count": 26,
     "metadata": {},
     "output_type": "execute_result"
    }
   ],
   "source": [
    "hin.sample(5)"
   ]
  },
  {
   "cell_type": "code",
   "execution_count": 25,
   "metadata": {},
   "outputs": [],
   "source": [
    "hin.to_csv('./Data/cleaned hindi.csv', index=False)"
   ]
  },
  {
   "cell_type": "markdown",
   "metadata": {},
   "source": [
    "## BANGLA"
   ]
  },
  {
   "cell_type": "code",
   "execution_count": null,
   "metadata": {},
   "outputs": [],
   "source": [
    "ben_train = pd.read_csv('Data/trac2_iben_train.csv')\n",
    "ben_test = pd.read_csv('Data/trac2_iben_dev.csv')\n",
    "ben = ben_train.append(ben_test)\n",
    "ben.head()"
   ]
  },
  {
   "cell_type": "code",
   "execution_count": null,
   "metadata": {},
   "outputs": [],
   "source": [
    "to_monolingual(ben, dest='bn')"
   ]
  },
  {
   "cell_type": "code",
   "execution_count": null,
   "metadata": {},
   "outputs": [],
   "source": [
    "taskA_df = (ben.set_index(['ID', 'Sub-task A']).count(level='Sub-task A'))\n",
    "\n",
    "barplot(df = taskA_df,\n",
    "        x = taskA_df.index,\n",
    "        y = \"Text\",\n",
    "        title = \"Distribution of Classes\",\n",
    "        label = \"Aggression Annotation\",\n",
    "        ylabel = \"Count\",\n",
    "        dim = (20, 5))\n",
    "\n",
    "print('BANGLA')\n",
    "print(ben['Sub-task A'].value_counts())"
   ]
  },
  {
   "cell_type": "code",
   "execution_count": null,
   "metadata": {},
   "outputs": [],
   "source": [
    "clean_text(ben, 'bn')"
   ]
  },
  {
   "cell_type": "code",
   "execution_count": null,
   "metadata": {},
   "outputs": [],
   "source": [
    "ben.sample(5)"
   ]
  },
  {
   "cell_type": "code",
   "execution_count": null,
   "metadata": {},
   "outputs": [],
   "source": [
    "ben.to_csv('./Data/cleaned bangla', index=False)"
   ]
  },
  {
   "cell_type": "code",
   "execution_count": null,
   "metadata": {},
   "outputs": [],
   "source": []
  }
 ],
 "metadata": {
  "kernelspec": {
   "display_name": "Python 3",
   "language": "python",
   "name": "python3"
  },
  "language_info": {
   "codemirror_mode": {
    "name": "ipython",
    "version": 3
   },
   "file_extension": ".py",
   "mimetype": "text/x-python",
   "name": "python",
   "nbconvert_exporter": "python",
   "pygments_lexer": "ipython3",
   "version": "3.7.6"
  }
 },
 "nbformat": 4,
 "nbformat_minor": 2
}
