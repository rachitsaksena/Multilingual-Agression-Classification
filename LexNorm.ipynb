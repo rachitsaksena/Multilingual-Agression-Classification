{
 "cells": [
  {
   "cell_type": "code",
   "execution_count": 2,
   "metadata": {},
   "outputs": [],
   "source": [
    "import requests\n",
    "import pandas                        as pd\n",
    "import numpy                         as np\n",
    "import math\n",
    "\n",
    "import import_ipynb\n",
    "import EDA\n",
    "\n",
    "import seaborn                       as sns\n",
    "import matplotlib.pyplot             as plt\n",
    "\n",
    "from googletrans                     import Translator\n",
    "translator = Translator()\n",
    "\n",
    "from collections                     import Counter\n",
    "import itertools\n",
    "import re\n",
    "\n",
    "import stanfordnlp"
   ]
  },
  {
   "cell_type": "code",
   "execution_count": 48,
   "metadata": {},
   "outputs": [],
   "source": [
    "def to_monolingual(df, dest):\n",
    "    monol = []\n",
    "    for i in range(df.shape[0]):\n",
    "        sentence=df.iloc[i, 1]\n",
    "#         \" \".join(sentence.split().apply(lambda x : translator.translate(x, src=\"hi\", dest=\"hi\").text.lower()))\n",
    "        monol.append(\" \".join([translator.translate(x, dest=dest).text.lower() for x in sentence.split()]))\n",
    "    df[\"monolingual\"] = monol"
   ]
  },
  {
   "cell_type": "code",
   "execution_count": 50,
   "metadata": {},
   "outputs": [],
   "source": [
    "def barplot(df, x, y, title, label, ylabel, dim, orient = \"v\", ci = False, hue = None):\n",
    "    \n",
    "    plt.figure(figsize = dim, facecolor = \"white\")\n",
    "    sns.barplot(x = x, y = y, data = df, orient = orient, ci = ci, hue = hue)\n",
    "    plt.title(f\"{title}\", size = 18)\n",
    "    plt.xlabel(f\"{label}\", size = 16)\n",
    "    plt.ylabel(f\"{ylabel}\", size = 16)\n",
    "    plt.xticks(size = 14)\n",
    "    plt.yticks(size = 14)\n",
    "    plt.tight_layout();"
   ]
  },
  {
   "cell_type": "markdown",
   "metadata": {},
   "source": [
    "## HINDI"
   ]
  },
  {
   "cell_type": "code",
   "execution_count": 21,
   "metadata": {
    "scrolled": true
   },
   "outputs": [
    {
     "data": {
      "text/html": [
       "<div>\n",
       "<style scoped>\n",
       "    .dataframe tbody tr th:only-of-type {\n",
       "        vertical-align: middle;\n",
       "    }\n",
       "\n",
       "    .dataframe tbody tr th {\n",
       "        vertical-align: top;\n",
       "    }\n",
       "\n",
       "    .dataframe thead th {\n",
       "        text-align: right;\n",
       "    }\n",
       "</style>\n",
       "<table border=\"1\" class=\"dataframe\">\n",
       "  <thead>\n",
       "    <tr style=\"text-align: right;\">\n",
       "      <th></th>\n",
       "      <th>ID</th>\n",
       "      <th>Text</th>\n",
       "      <th>Sub-task A</th>\n",
       "      <th>Sub-task B</th>\n",
       "    </tr>\n",
       "  </thead>\n",
       "  <tbody>\n",
       "    <tr>\n",
       "      <th>0</th>\n",
       "      <td>C4.131</td>\n",
       "      <td>Bollywood film dekhne ke samay logic ghar mein...</td>\n",
       "      <td>NAG</td>\n",
       "      <td>NGEN</td>\n",
       "    </tr>\n",
       "    <tr>\n",
       "      <th>1</th>\n",
       "      <td>C4.638</td>\n",
       "      <td>Chutiya movie...</td>\n",
       "      <td>NAG</td>\n",
       "      <td>NGEN</td>\n",
       "    </tr>\n",
       "    <tr>\n",
       "      <th>2</th>\n",
       "      <td>C38.598</td>\n",
       "      <td>Us jaat bnde ka khene ka matlab tha mar daluga...</td>\n",
       "      <td>OAG</td>\n",
       "      <td>NGEN</td>\n",
       "    </tr>\n",
       "    <tr>\n",
       "      <th>3</th>\n",
       "      <td>C4.2101.1</td>\n",
       "      <td>@Feminism Is CANCER *un feminist yeh sahi hai ...</td>\n",
       "      <td>OAG</td>\n",
       "      <td>NGEN</td>\n",
       "    </tr>\n",
       "    <tr>\n",
       "      <th>4</th>\n",
       "      <td>C29.14.2</td>\n",
       "      <td>Amrit Anand अब तो जुड़े ही है उनको बोलो जुड़ने</td>\n",
       "      <td>NAG</td>\n",
       "      <td>NGEN</td>\n",
       "    </tr>\n",
       "  </tbody>\n",
       "</table>\n",
       "</div>"
      ],
      "text/plain": [
       "          ID                                               Text Sub-task A  \\\n",
       "0     C4.131  Bollywood film dekhne ke samay logic ghar mein...        NAG   \n",
       "1     C4.638                                   Chutiya movie...        NAG   \n",
       "2    C38.598  Us jaat bnde ka khene ka matlab tha mar daluga...        OAG   \n",
       "3  C4.2101.1  @Feminism Is CANCER *un feminist yeh sahi hai ...        OAG   \n",
       "4   C29.14.2       Amrit Anand अब तो जुड़े ही है उनको बोलो जुड़ने        NAG   \n",
       "\n",
       "  Sub-task B  \n",
       "0       NGEN  \n",
       "1       NGEN  \n",
       "2       NGEN  \n",
       "3       NGEN  \n",
       "4       NGEN  "
      ]
     },
     "execution_count": 21,
     "metadata": {},
     "output_type": "execute_result"
    }
   ],
   "source": [
    "hin_train = pd.read_csv('Data/trac2_hin_train.csv')\n",
    "hin_test = pd.read_csv('Data/trac2_hin_dev.csv')\n",
    "hin = hin_train.append(hin_test)\n",
    "hin.head()"
   ]
  },
  {
   "cell_type": "code",
   "execution_count": 49,
   "metadata": {
    "scrolled": false
   },
   "outputs": [
    {
     "name": "stderr",
     "output_type": "stream",
     "text": [
      "/home/rachit/anaconda3/envs/ML/lib/python3.7/site-packages/ipykernel_launcher.py:7: SettingWithCopyWarning: \n",
      "A value is trying to be set on a copy of a slice from a DataFrame.\n",
      "Try using .loc[row_indexer,col_indexer] = value instead\n",
      "\n",
      "See the caveats in the documentation: http://pandas.pydata.org/pandas-docs/stable/indexing.html#indexing-view-versus-copy\n",
      "  import sys\n"
     ]
    },
    {
     "data": {
      "text/html": [
       "<div>\n",
       "<style scoped>\n",
       "    .dataframe tbody tr th:only-of-type {\n",
       "        vertical-align: middle;\n",
       "    }\n",
       "\n",
       "    .dataframe tbody tr th {\n",
       "        vertical-align: top;\n",
       "    }\n",
       "\n",
       "    .dataframe thead th {\n",
       "        text-align: right;\n",
       "    }\n",
       "</style>\n",
       "<table border=\"1\" class=\"dataframe\">\n",
       "  <thead>\n",
       "    <tr style=\"text-align: right;\">\n",
       "      <th></th>\n",
       "      <th>ID</th>\n",
       "      <th>Text</th>\n",
       "      <th>Sub-task A</th>\n",
       "      <th>Sub-task B</th>\n",
       "      <th>monolingual</th>\n",
       "    </tr>\n",
       "  </thead>\n",
       "  <tbody>\n",
       "    <tr>\n",
       "      <th>0</th>\n",
       "      <td>C4.131</td>\n",
       "      <td>Bollywood film dekhne ke samay logic ghar mein...</td>\n",
       "      <td>NAG</td>\n",
       "      <td>NGEN</td>\n",
       "      <td>बॉलीवुड फ़िल्म देखने के समय तर्क घर में चोर मा...</td>\n",
       "    </tr>\n",
       "    <tr>\n",
       "      <th>1</th>\n",
       "      <td>C4.638</td>\n",
       "      <td>Chutiya movie...</td>\n",
       "      <td>NAG</td>\n",
       "      <td>NGEN</td>\n",
       "      <td>चुटिया चलचित्र...</td>\n",
       "    </tr>\n",
       "    <tr>\n",
       "      <th>2</th>\n",
       "      <td>C38.598</td>\n",
       "      <td>Us jaat bnde ka khene ka matlab tha mar daluga...</td>\n",
       "      <td>OAG</td>\n",
       "      <td>NGEN</td>\n",
       "      <td>हमें जाट बंदे का कहने का मतलब था समुद्र डालूगा...</td>\n",
       "    </tr>\n",
       "    <tr>\n",
       "      <th>3</th>\n",
       "      <td>C4.2101.1</td>\n",
       "      <td>@Feminism Is CANCER *un feminist yeh sahi hai ...</td>\n",
       "      <td>OAG</td>\n",
       "      <td>NGEN</td>\n",
       "      <td>@feminism है कैंसर *ए नारीवादी ये सही है परंतु...</td>\n",
       "    </tr>\n",
       "    <tr>\n",
       "      <th>4</th>\n",
       "      <td>C29.14.2</td>\n",
       "      <td>Amrit Anand अब तो जुड़े ही है उनको बोलो जुड़ने</td>\n",
       "      <td>NAG</td>\n",
       "      <td>NGEN</td>\n",
       "      <td>अमृत आनंद अब तो जुड़े ही है उनको बोलो जुड़ने</td>\n",
       "    </tr>\n",
       "  </tbody>\n",
       "</table>\n",
       "</div>"
      ],
      "text/plain": [
       "          ID                                               Text Sub-task A  \\\n",
       "0     C4.131  Bollywood film dekhne ke samay logic ghar mein...        NAG   \n",
       "1     C4.638                                   Chutiya movie...        NAG   \n",
       "2    C38.598  Us jaat bnde ka khene ka matlab tha mar daluga...        OAG   \n",
       "3  C4.2101.1  @Feminism Is CANCER *un feminist yeh sahi hai ...        OAG   \n",
       "4   C29.14.2       Amrit Anand अब तो जुड़े ही है उनको बोलो जुड़ने        NAG   \n",
       "\n",
       "  Sub-task B                                        monolingual  \n",
       "0       NGEN  बॉलीवुड फ़िल्म देखने के समय तर्क घर में चोर मा...  \n",
       "1       NGEN                                  चुटिया चलचित्र...  \n",
       "2       NGEN  हमें जाट बंदे का कहने का मतलब था समुद्र डालूगा...  \n",
       "3       NGEN  @feminism है कैंसर *ए नारीवादी ये सही है परंतु...  \n",
       "4       NGEN         अमृत आनंद अब तो जुड़े ही है उनको बोलो जुड़ने  "
      ]
     },
     "execution_count": 49,
     "metadata": {},
     "output_type": "execute_result"
    }
   ],
   "source": [
    "to_monolingual(hin, dest='hi')"
   ]
  },
  {
   "cell_type": "code",
   "execution_count": null,
   "metadata": {},
   "outputs": [],
   "source": [
    "hin.sample(5)"
   ]
  },
  {
   "cell_type": "code",
   "execution_count": 51,
   "metadata": {},
   "outputs": [
    {
     "data": {
      "text/plain": [
       "NAG    2245\n",
       "OAG     910\n",
       "CAG     829\n",
       "Name: Sub-task A, dtype: int64"
      ]
     },
     "execution_count": 51,
     "metadata": {},
     "output_type": "execute_result"
    },
    {
     "data": {
      "image/png": "[encoded data removed]",
      "text/plain": [
       "<Figure size 1440x360 with 1 Axes>"
      ]
     },
     "metadata": {},
     "output_type": "display_data"
    }
   ],
   "source": [
    "taskA_df = (hin.set_index(['ID', 'Sub-task A']).count(level='Sub-task A'))\n",
    "\n",
    "barplot(df = taskA_df,\n",
    "        x = taskA_df.index,\n",
    "        y = \"Text\",\n",
    "        title = \"Distribution of Classes\",\n",
    "        label = \"Aggression Annotation\",\n",
    "        ylabel = \"Count\",\n",
    "        dim = (20, 5))\n",
    "\n",
    "print('HINDI')\n",
    "print(hin['Sub-task A'].value_counts())"
   ]
  },
  {
   "cell_type": "code",
   "execution_count": null,
   "metadata": {},
   "outputs": [],
   "source": [
    "clean_text(hin, 'hi')"
   ]
  },
  {
   "cell_type": "code",
   "execution_count": null,
   "metadata": {},
   "outputs": [],
   "source": [
    "hin.to_csv('./Data/cleaned hindi', index=False)"
   ]
  },
  {
   "cell_type": "markdown",
   "metadata": {},
   "source": [
    "## BANGLA"
   ]
  },
  {
   "cell_type": "code",
   "execution_count": null,
   "metadata": {},
   "outputs": [],
   "source": [
    "ben_train = pd.read_csv('Data/trac2_iben_train.csv')\n",
    "ben_test = pd.read_csv('Data/trac2_iben_dev.csv')\n",
    "ben = ben_train.append(ben_test)\n",
    "ben.head()"
   ]
  },
  {
   "cell_type": "code",
   "execution_count": null,
   "metadata": {},
   "outputs": [],
   "source": [
    "to_monolingual(ben, dest='bn')"
   ]
  },
  {
   "cell_type": "code",
   "execution_count": null,
   "metadata": {},
   "outputs": [],
   "source": [
    "ben.sample(5)"
   ]
  },
  {
   "cell_type": "code",
   "execution_count": null,
   "metadata": {},
   "outputs": [],
   "source": [
    "taskA_df = (ben.set_index(['ID', 'Sub-task A']).count(level='Sub-task A'))\n",
    "\n",
    "barplot(df = taskA_df,\n",
    "        x = taskA_df.index,\n",
    "        y = \"Text\",\n",
    "        title = \"Distribution of Classes\",\n",
    "        label = \"Aggression Annotation\",\n",
    "        ylabel = \"Count\",\n",
    "        dim = (20, 5))\n",
    "\n",
    "print('BANGLA')\n",
    "print(ben['Sub-task A'].value_counts())"
   ]
  },
  {
   "cell_type": "code",
   "execution_count": null,
   "metadata": {},
   "outputs": [],
   "source": [
    "clean_text(ben, 'bn')"
   ]
  },
  {
   "cell_type": "code",
   "execution_count": null,
   "metadata": {},
   "outputs": [],
   "source": [
    "ben.to_csv('./Data/cleaned bangla', index=False)"
   ]
  }
 ],
 "metadata": {
  "kernelspec": {
   "display_name": "Python 3",
   "language": "python",
   "name": "python3"
  },
  "language_info": {
   "codemirror_mode": {
    "name": "ipython",
    "version": 3
   },
   "file_extension": ".py",
   "mimetype": "text/x-python",
   "name": "python",
   "nbconvert_exporter": "python",
   "pygments_lexer": "ipython3",
   "version": "3.6.8"
  }
 },
 "nbformat": 4,
 "nbformat_minor": 2
}
