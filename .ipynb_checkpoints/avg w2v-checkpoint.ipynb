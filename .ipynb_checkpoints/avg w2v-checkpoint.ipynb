{
 "cells": [
  {
   "cell_type": "code",
   "execution_count": 1,
   "metadata": {},
   "outputs": [],
   "source": [
    "import pandas as pd\n",
    "import numpy as np\n",
    "from sklearn.model_selection import GridSearchCV, train_test_split\n",
    "from sklearn.naive_bayes import GaussianNB\n",
    "from sklearn.naive_bayes import MultinomialNB\n",
    "from sklearn.metrics import classification_report, confusion_matrix\n",
    "from sklearn.svm import SVC\n",
    "from sklearn.linear_model import LogisticRegression\n",
    "from sklearn.preprocessing import MinMaxScaler\n",
    "import scikitplot.metrics as skplt\n",
    "import joblib"
   ]
  },
  {
   "cell_type": "code",
   "execution_count": 2,
   "metadata": {},
   "outputs": [],
   "source": [
    "d = {'NAG':0, 'CAG':1, 'OAG':2}"
   ]
  },
  {
   "cell_type": "code",
   "execution_count": 3,
   "metadata": {},
   "outputs": [],
   "source": [
    "eng_train = pd.read_csv(\"avg_w2v.csv\")\n",
    "whole_data = pd.read_csv(\"Data/cleaned english.csv\")\n",
    "target = np.array([d[i] for i in whole_data[\"Sub-task A\"]])\n",
    "X = eng_train.values"
   ]
  },
  {
   "cell_type": "code",
   "execution_count": 4,
   "metadata": {},
   "outputs": [
    {
     "data": {
      "text/plain": [
       "Counter({0: 3375, 1: 453, 2: 435})"
      ]
     },
     "execution_count": 4,
     "metadata": {},
     "output_type": "execute_result"
    }
   ],
   "source": [
    "from collections import Counter\n",
    "Counter(target)"
   ]
  },
  {
   "cell_type": "code",
   "execution_count": 5,
   "metadata": {
    "scrolled": true
   },
   "outputs": [
    {
     "data": {
      "text/html": [
       "<div>\n",
       "<style scoped>\n",
       "    .dataframe tbody tr th:only-of-type {\n",
       "        vertical-align: middle;\n",
       "    }\n",
       "\n",
       "    .dataframe tbody tr th {\n",
       "        vertical-align: top;\n",
       "    }\n",
       "\n",
       "    .dataframe thead th {\n",
       "        text-align: right;\n",
       "    }\n",
       "</style>\n",
       "<table border=\"1\" class=\"dataframe\">\n",
       "  <thead>\n",
       "    <tr style=\"text-align: right;\">\n",
       "      <th></th>\n",
       "      <th>0</th>\n",
       "      <th>1</th>\n",
       "      <th>2</th>\n",
       "      <th>3</th>\n",
       "      <th>4</th>\n",
       "      <th>5</th>\n",
       "      <th>6</th>\n",
       "      <th>7</th>\n",
       "      <th>8</th>\n",
       "      <th>9</th>\n",
       "      <th>...</th>\n",
       "      <th>90</th>\n",
       "      <th>91</th>\n",
       "      <th>92</th>\n",
       "      <th>93</th>\n",
       "      <th>94</th>\n",
       "      <th>95</th>\n",
       "      <th>96</th>\n",
       "      <th>97</th>\n",
       "      <th>98</th>\n",
       "      <th>99</th>\n",
       "    </tr>\n",
       "  </thead>\n",
       "  <tbody>\n",
       "    <tr>\n",
       "      <th>0</th>\n",
       "      <td>-0.308229</td>\n",
       "      <td>0.137448</td>\n",
       "      <td>-0.383429</td>\n",
       "      <td>1.108662</td>\n",
       "      <td>-0.487403</td>\n",
       "      <td>0.064725</td>\n",
       "      <td>0.054127</td>\n",
       "      <td>-0.461661</td>\n",
       "      <td>0.403302</td>\n",
       "      <td>-0.976484</td>\n",
       "      <td>...</td>\n",
       "      <td>-0.583318</td>\n",
       "      <td>0.372087</td>\n",
       "      <td>0.072426</td>\n",
       "      <td>-0.886538</td>\n",
       "      <td>0.135271</td>\n",
       "      <td>-0.547774</td>\n",
       "      <td>-0.525308</td>\n",
       "      <td>-0.771159</td>\n",
       "      <td>-0.804952</td>\n",
       "      <td>0.433460</td>\n",
       "    </tr>\n",
       "    <tr>\n",
       "      <th>1</th>\n",
       "      <td>1.657045</td>\n",
       "      <td>1.877981</td>\n",
       "      <td>0.299716</td>\n",
       "      <td>1.053993</td>\n",
       "      <td>-0.911978</td>\n",
       "      <td>0.286543</td>\n",
       "      <td>-0.319962</td>\n",
       "      <td>0.470745</td>\n",
       "      <td>0.612225</td>\n",
       "      <td>0.475171</td>\n",
       "      <td>...</td>\n",
       "      <td>-2.226797</td>\n",
       "      <td>0.048763</td>\n",
       "      <td>0.946358</td>\n",
       "      <td>0.866691</td>\n",
       "      <td>0.244370</td>\n",
       "      <td>0.826148</td>\n",
       "      <td>-0.698376</td>\n",
       "      <td>-0.607971</td>\n",
       "      <td>0.040867</td>\n",
       "      <td>0.047291</td>\n",
       "    </tr>\n",
       "    <tr>\n",
       "      <th>2</th>\n",
       "      <td>0.889995</td>\n",
       "      <td>0.588163</td>\n",
       "      <td>-0.023749</td>\n",
       "      <td>0.541075</td>\n",
       "      <td>-0.195171</td>\n",
       "      <td>-0.447356</td>\n",
       "      <td>-0.145071</td>\n",
       "      <td>0.115094</td>\n",
       "      <td>0.737781</td>\n",
       "      <td>0.161509</td>\n",
       "      <td>...</td>\n",
       "      <td>-1.221993</td>\n",
       "      <td>-0.413602</td>\n",
       "      <td>0.396820</td>\n",
       "      <td>0.495462</td>\n",
       "      <td>0.373075</td>\n",
       "      <td>-0.437169</td>\n",
       "      <td>-0.563274</td>\n",
       "      <td>-0.392508</td>\n",
       "      <td>0.223408</td>\n",
       "      <td>-0.477670</td>\n",
       "    </tr>\n",
       "    <tr>\n",
       "      <th>3</th>\n",
       "      <td>0.652272</td>\n",
       "      <td>0.584910</td>\n",
       "      <td>0.153612</td>\n",
       "      <td>0.442625</td>\n",
       "      <td>-0.127940</td>\n",
       "      <td>-0.060965</td>\n",
       "      <td>0.183792</td>\n",
       "      <td>-0.022933</td>\n",
       "      <td>0.289168</td>\n",
       "      <td>0.122861</td>\n",
       "      <td>...</td>\n",
       "      <td>-0.594318</td>\n",
       "      <td>-0.056182</td>\n",
       "      <td>0.135019</td>\n",
       "      <td>0.168965</td>\n",
       "      <td>-0.030408</td>\n",
       "      <td>0.023605</td>\n",
       "      <td>-0.681473</td>\n",
       "      <td>-0.253423</td>\n",
       "      <td>0.090504</td>\n",
       "      <td>-0.061280</td>\n",
       "    </tr>\n",
       "    <tr>\n",
       "      <th>4</th>\n",
       "      <td>0.272393</td>\n",
       "      <td>0.619331</td>\n",
       "      <td>-0.230523</td>\n",
       "      <td>0.406385</td>\n",
       "      <td>0.006928</td>\n",
       "      <td>0.313233</td>\n",
       "      <td>-0.024158</td>\n",
       "      <td>0.062579</td>\n",
       "      <td>0.203198</td>\n",
       "      <td>-0.342883</td>\n",
       "      <td>...</td>\n",
       "      <td>-0.388450</td>\n",
       "      <td>-0.420803</td>\n",
       "      <td>0.277411</td>\n",
       "      <td>-0.158338</td>\n",
       "      <td>0.043058</td>\n",
       "      <td>-0.458436</td>\n",
       "      <td>-0.659672</td>\n",
       "      <td>-0.300689</td>\n",
       "      <td>0.078512</td>\n",
       "      <td>0.547494</td>\n",
       "    </tr>\n",
       "  </tbody>\n",
       "</table>\n",
       "<p>5 rows × 100 columns</p>\n",
       "</div>"
      ],
      "text/plain": [
       "          0         1         2         3         4         5         6  \\\n",
       "0 -0.308229  0.137448 -0.383429  1.108662 -0.487403  0.064725  0.054127   \n",
       "1  1.657045  1.877981  0.299716  1.053993 -0.911978  0.286543 -0.319962   \n",
       "2  0.889995  0.588163 -0.023749  0.541075 -0.195171 -0.447356 -0.145071   \n",
       "3  0.652272  0.584910  0.153612  0.442625 -0.127940 -0.060965  0.183792   \n",
       "4  0.272393  0.619331 -0.230523  0.406385  0.006928  0.313233 -0.024158   \n",
       "\n",
       "          7         8         9  ...        90        91        92        93  \\\n",
       "0 -0.461661  0.403302 -0.976484  ... -0.583318  0.372087  0.072426 -0.886538   \n",
       "1  0.470745  0.612225  0.475171  ... -2.226797  0.048763  0.946358  0.866691   \n",
       "2  0.115094  0.737781  0.161509  ... -1.221993 -0.413602  0.396820  0.495462   \n",
       "3 -0.022933  0.289168  0.122861  ... -0.594318 -0.056182  0.135019  0.168965   \n",
       "4  0.062579  0.203198 -0.342883  ... -0.388450 -0.420803  0.277411 -0.158338   \n",
       "\n",
       "         94        95        96        97        98        99  \n",
       "0  0.135271 -0.547774 -0.525308 -0.771159 -0.804952  0.433460  \n",
       "1  0.244370  0.826148 -0.698376 -0.607971  0.040867  0.047291  \n",
       "2  0.373075 -0.437169 -0.563274 -0.392508  0.223408 -0.477670  \n",
       "3 -0.030408  0.023605 -0.681473 -0.253423  0.090504 -0.061280  \n",
       "4  0.043058 -0.458436 -0.659672 -0.300689  0.078512  0.547494  \n",
       "\n",
       "[5 rows x 100 columns]"
      ]
     },
     "execution_count": 5,
     "metadata": {},
     "output_type": "execute_result"
    }
   ],
   "source": [
    "eng_train.head()"
   ]
  },
  {
   "cell_type": "code",
   "execution_count": 6,
   "metadata": {},
   "outputs": [],
   "source": [
    "# for i in range(0,X.shape[-1]):\n",
    "\n",
    "#     X[:,i] = makeLabelled(X[:,i])"
   ]
  },
  {
   "cell_type": "code",
   "execution_count": 7,
   "metadata": {},
   "outputs": [],
   "source": [
    "X_train,X_test,Y_train,Y_test = train_test_split(X, target,test_size=0.25,random_state=0)"
   ]
  },
  {
   "cell_type": "code",
   "execution_count": 8,
   "metadata": {},
   "outputs": [
    {
     "name": "stdout",
     "output_type": "stream",
     "text": [
      "              precision    recall  f1-score   support\n",
      "\n",
      "           0       1.00      0.00      0.00       852\n",
      "           1       0.00      0.00      0.00       118\n",
      "           2       0.09      1.00      0.17        96\n",
      "\n",
      "    accuracy                           0.09      1066\n",
      "   macro avg       0.36      0.33      0.06      1066\n",
      "weighted avg       0.81      0.09      0.02      1066\n",
      "\n",
      "[[  1   0 851]\n",
      " [  0   0 118]\n",
      " [  0   0  96]]\n"
     ]
    },
    {
     "name": "stderr",
     "output_type": "stream",
     "text": [
      "/home/rachit/anaconda3/lib/python3.7/site-packages/sklearn/metrics/classification.py:1437: UndefinedMetricWarning: Precision and F-score are ill-defined and being set to 0.0 in labels with no predicted samples.\n",
      "  'precision', 'predicted', average, warn_for)\n"
     ]
    }
   ],
   "source": [
    "clf = GaussianNB(var_smoothing=0.2)\n",
    "clf.fit(X_train, Y_train)\n",
    "Y_pred = clf.predict(X_test)\n",
    "print(classification_report(Y_test,Y_pred))\n",
    "print(confusion_matrix(Y_test,Y_pred))"
   ]
  },
  {
   "cell_type": "code",
   "execution_count": 9,
   "metadata": {
    "scrolled": true
   },
   "outputs": [
    {
     "name": "stdout",
     "output_type": "stream",
     "text": [
      "              precision    recall  f1-score   support\n",
      "\n",
      "           0       0.80      1.00      0.89       852\n",
      "           1       0.00      0.00      0.00       118\n",
      "           2       1.00      0.01      0.02        96\n",
      "\n",
      "    accuracy                           0.80      1066\n",
      "   macro avg       0.60      0.34      0.30      1066\n",
      "weighted avg       0.73      0.80      0.71      1066\n",
      "\n",
      "[[852   0   0]\n",
      " [118   0   0]\n",
      " [ 95   0   1]]\n"
     ]
    },
    {
     "name": "stderr",
     "output_type": "stream",
     "text": [
      "/home/rachit/anaconda3/lib/python3.7/site-packages/sklearn/metrics/classification.py:1437: UndefinedMetricWarning: Precision and F-score are ill-defined and being set to 0.0 in labels with no predicted samples.\n",
      "  'precision', 'predicted', average, warn_for)\n"
     ]
    }
   ],
   "source": [
    "clf = SVC(C=1, gamma='auto', kernel='rbf', probability=True)\n",
    "clf.fit(X_train, Y_train)\n",
    "Y_pred = clf.predict(X_test)\n",
    "print(classification_report(Y_test,Y_pred))\n",
    "print(confusion_matrix(Y_test,Y_pred))"
   ]
  },
  {
   "cell_type": "code",
   "execution_count": 10,
   "metadata": {
    "scrolled": true
   },
   "outputs": [
    {
     "name": "stdout",
     "output_type": "stream",
     "text": [
      "              precision    recall  f1-score   support\n",
      "\n",
      "           0       0.80      1.00      0.89       852\n",
      "           1       0.00      0.00      0.00       118\n",
      "           2       0.00      0.00      0.00        96\n",
      "\n",
      "    accuracy                           0.80      1066\n",
      "   macro avg       0.27      0.33      0.30      1066\n",
      "weighted avg       0.64      0.80      0.71      1066\n",
      "\n",
      "[[852   0   0]\n",
      " [118   0   0]\n",
      " [ 96   0   0]]\n"
     ]
    },
    {
     "name": "stderr",
     "output_type": "stream",
     "text": [
      "/home/rachit/anaconda3/lib/python3.7/site-packages/sklearn/linear_model/logistic.py:432: FutureWarning: Default solver will be changed to 'lbfgs' in 0.22. Specify a solver to silence this warning.\n",
      "  FutureWarning)\n",
      "/home/rachit/anaconda3/lib/python3.7/site-packages/sklearn/linear_model/logistic.py:469: FutureWarning: Default multi_class will be changed to 'auto' in 0.22. Specify the multi_class option to silence this warning.\n",
      "  \"this warning.\", FutureWarning)\n",
      "/home/rachit/anaconda3/lib/python3.7/site-packages/sklearn/metrics/classification.py:1437: UndefinedMetricWarning: Precision and F-score are ill-defined and being set to 0.0 in labels with no predicted samples.\n",
      "  'precision', 'predicted', average, warn_for)\n"
     ]
    }
   ],
   "source": [
    "clf = LogisticRegression()\n",
    "clf.fit(X_train, Y_train)\n",
    "Y_pred = clf.predict(X_test)\n",
    "print(classification_report(Y_test,Y_pred))\n",
    "print(confusion_matrix(Y_test,Y_pred))"
   ]
  },
  {
   "cell_type": "code",
   "execution_count": 11,
   "metadata": {
    "scrolled": true
   },
   "outputs": [
    {
     "name": "stdout",
     "output_type": "stream",
     "text": [
      "              precision    recall  f1-score   support\n",
      "\n",
      "           0       0.80      1.00      0.89       852\n",
      "           1       0.00      0.00      0.00       118\n",
      "           2       0.00      0.00      0.00        96\n",
      "\n",
      "    accuracy                           0.80      1066\n",
      "   macro avg       0.27      0.33      0.30      1066\n",
      "weighted avg       0.64      0.80      0.71      1066\n",
      "\n",
      "[[851   1   0]\n",
      " [118   0   0]\n",
      " [ 96   0   0]]\n"
     ]
    },
    {
     "name": "stderr",
     "output_type": "stream",
     "text": [
      "/home/rachit/anaconda3/lib/python3.7/site-packages/sklearn/metrics/classification.py:1437: UndefinedMetricWarning: Precision and F-score are ill-defined and being set to 0.0 in labels with no predicted samples.\n",
      "  'precision', 'predicted', average, warn_for)\n"
     ]
    }
   ],
   "source": [
    "clf = MultinomialNB()\n",
    "scaler = MinMaxScaler()\n",
    "X_transformed = scaler.fit_transform(X)\n",
    "X_train_tf,X_test_tf,Y_train_tf,Y_test_tf = train_test_split(X_transformed, target,test_size=0.25,random_state=0)\n",
    "clf.fit(X_train_tf, Y_train_tf)\n",
    "Y_pred = clf.predict(X_test_tf)\n",
    "print(classification_report(Y_test_tf,Y_pred))\n",
    "print(confusion_matrix(Y_test_tf,Y_pred))"
   ]
  },
  {
   "cell_type": "code",
   "execution_count": 12,
   "metadata": {},
   "outputs": [],
   "source": [
    "def run_the_mn_models(model, X_train, X_test, Y_tr, Y_te):\n",
    "    X_train_text_df, X_test_text_df, y_train, y_test = X_train, X_test, Y_tr, Y_te\n",
    "    \n",
    "    if model == 'mnb1':\n",
    "        \n",
    "        mn_params = {\n",
    "            'fit_prior': [True],\n",
    "            'alpha': [0, 0.5, 1]}\n",
    "        \n",
    "        M = GridSearchCV(MultinomialNB(),\n",
    "                        mn_params,\n",
    "                        cv = 5,\n",
    "                        verbose = 1,\n",
    "                        n_jobs = -1)\n",
    "        \n",
    "    elif model == 'mnb2':\n",
    "        \n",
    "         mn_params = {\n",
    "            'fit_prior': [False],\n",
    "            'alpha': [0, 0.5, 1]}\n",
    "        \n",
    "         M = GridSearchCV(MultinomialNB(),\n",
    "                        mn_params,\n",
    "                        cv = 5,\n",
    "                        verbose = 1,\n",
    "                        n_jobs = -1)\n",
    "        \n",
    "    else:\n",
    "        print('There is an error.')\n",
    "        \n",
    "    M.fit(X_train_text_df, y_train)\n",
    "     \n",
    "    print(f'Train score = {M.score(X_train_text_df, y_train)}')\n",
    "    print(f'Test score = {M.score(X_test_text_df, y_test)}')\n",
    "    \n",
    "    predictions = M.predict(X_test_text_df)\n",
    "    predictions_train = M.predict(X_train_text_df)\n",
    "    print('--------')\n",
    "    print(skplt.plot_confusion_matrix(y_test, predictions))\n",
    "    print(f'Best params = {M.best_params_}')\n",
    "    print('----F1 Score, Recall, Precision----')\n",
    "    # print precision, recall, F1-score per each class/tag\n",
    "    print(classification_report(y_test, predictions))"
   ]
  },
  {
   "cell_type": "code",
   "execution_count": 13,
   "metadata": {},
   "outputs": [
    {
     "name": "stdout",
     "output_type": "stream",
     "text": [
      "Fitting 5 folds for each of 3 candidates, totalling 15 fits\n"
     ]
    },
    {
     "name": "stderr",
     "output_type": "stream",
     "text": [
      "[Parallel(n_jobs=-1)]: Using backend LokyBackend with 12 concurrent workers.\n",
      "[Parallel(n_jobs=-1)]: Done   8 out of  15 | elapsed:    2.8s remaining:    2.5s\n",
      "[Parallel(n_jobs=-1)]: Done  15 out of  15 | elapsed:    3.1s finished\n",
      "/home/rachit/anaconda3/lib/python3.7/site-packages/sklearn/naive_bayes.py:485: UserWarning: alpha too small will result in numeric errors, setting alpha = 1.0e-10\n",
      "  'setting alpha = %.1e' % _ALPHA_MIN)\n",
      "/home/rachit/anaconda3/lib/python3.7/site-packages/sklearn/metrics/classification.py:1437: UndefinedMetricWarning: Precision and F-score are ill-defined and being set to 0.0 in labels with no predicted samples.\n",
      "  'precision', 'predicted', average, warn_for)\n"
     ]
    },
    {
     "name": "stdout",
     "output_type": "stream",
     "text": [
      "Train score = 0.7891773537691585\n",
      "Test score = 0.799249530956848\n",
      "--------\n",
      "AxesSubplot(0.125,0.125;0.62x0.755)\n",
      "Best params = {'alpha': 0, 'fit_prior': True}\n",
      "----F1 Score, Recall, Precision----\n",
      "              precision    recall  f1-score   support\n",
      "\n",
      "           0       0.80      1.00      0.89       852\n",
      "           1       0.00      0.00      0.00       118\n",
      "           2       0.00      0.00      0.00        96\n",
      "\n",
      "    accuracy                           0.80      1066\n",
      "   macro avg       0.27      0.33      0.30      1066\n",
      "weighted avg       0.64      0.80      0.71      1066\n",
      "\n"
     ]
    },
    {
     "data": {
      "image/png": "[encoded data removed]",
      "text/plain": [
       "<Figure size 432x288 with 2 Axes>"
      ]
     },
     "metadata": {
      "needs_background": "light"
     },
     "output_type": "display_data"
    }
   ],
   "source": [
    "run_the_mn_models(\"mnb1\", X_train_tf, X_test_tf, Y_train_tf, Y_test_tf)"
   ]
  },
  {
   "cell_type": "code",
   "execution_count": 14,
   "metadata": {},
   "outputs": [],
   "source": [
    "\n",
    "def run_the_lr_models(model, X_train, X_test, Y_tr, Y_te):\n",
    "    X_train_text_df, X_test_text_df, y_train, y_test = X_train, X_test, Y_tr, Y_te\n",
    "    \n",
    "    \n",
    "    if model == 'lr1':\n",
    "        \n",
    "        lr_1_params = {\n",
    "            'penalty': ['l1'],\n",
    "            'C': [1, 1.5, 2, 2.5],\n",
    "            'class_weight': ['balanced'],\n",
    "            'warm_start': [True, False],\n",
    "            'random_state': [42],\n",
    "            'solver': ['liblinear']}\n",
    "        \n",
    "        M = GridSearchCV(LogisticRegression(),\n",
    "                        lr_1_params,\n",
    "                        cv = 5,\n",
    "                        verbose = 1,\n",
    "                        n_jobs = -1)\n",
    "        \n",
    "    elif model == 'lr2':\n",
    "        \n",
    "        lr_2_params = {\n",
    "            'penalty': ['l2'],\n",
    "            'C': [1, 1.5, 2, 2.5],\n",
    "            'class_weight': ['balanced'],\n",
    "            'warm_start': [True, False],            \n",
    "            'random_state': [42],\n",
    "            'solver': ['lbfgs', 'liblinear']}\n",
    "        \n",
    "        M = GridSearchCV(LogisticRegression(),\n",
    "                        lr_2_params,\n",
    "                        cv = 5,\n",
    "                        verbose = 1,\n",
    "                        n_jobs = -1)\n",
    "\n",
    "    else:\n",
    "        print('There is an error.')\n",
    "        \n",
    "    M.fit(X_train_text_df, y_train)\n",
    "     \n",
    "    print(f'Train score = {M.score(X_train_text_df, y_train)}')\n",
    "    print(f'Test score = {M.score(X_test_text_df, y_test)}')\n",
    "    \n",
    "    predictions = M.predict(X_test_text_df)\n",
    "    predictions_train = M.predict(X_train_text_df)\n",
    "    print('--------')\n",
    "    print(skplt.plot_confusion_matrix(y_test, predictions))\n",
    "    print(f'Best params = {M.best_params_}')\n",
    "    print('----F1 Score, Recall, Precision----')\n",
    "    # print precision, recall, F1-score per each class/tag\n",
    "    print(classification_report(y_test, predictions))"
   ]
  },
  {
   "cell_type": "code",
   "execution_count": 15,
   "metadata": {},
   "outputs": [
    {
     "name": "stdout",
     "output_type": "stream",
     "text": [
      "Fitting 5 folds for each of 16 candidates, totalling 80 fits\n"
     ]
    },
    {
     "name": "stderr",
     "output_type": "stream",
     "text": [
      "[Parallel(n_jobs=-1)]: Using backend LokyBackend with 12 concurrent workers.\n",
      "[Parallel(n_jobs=-1)]: Done  26 tasks      | elapsed:    1.0s\n",
      "[Parallel(n_jobs=-1)]: Done  80 out of  80 | elapsed:    2.8s finished\n",
      "/home/rachit/anaconda3/lib/python3.7/site-packages/sklearn/linear_model/logistic.py:469: FutureWarning: Default multi_class will be changed to 'auto' in 0.22. Specify the multi_class option to silence this warning.\n",
      "  \"this warning.\", FutureWarning)\n",
      "/home/rachit/anaconda3/lib/python3.7/site-packages/sklearn/metrics/classification.py:1437: UndefinedMetricWarning: Precision and F-score are ill-defined and being set to 0.0 in labels with no predicted samples.\n",
      "  'precision', 'predicted', average, warn_for)\n"
     ]
    },
    {
     "name": "stdout",
     "output_type": "stream",
     "text": [
      "Train score = 0.7891773537691585\n",
      "Test score = 0.799249530956848\n",
      "--------\n",
      "AxesSubplot(0.125,0.125;0.62x0.755)\n",
      "Best params = {'C': 1, 'class_weight': 'balanced', 'penalty': 'l2', 'random_state': 42, 'solver': 'lbfgs', 'warm_start': True}\n",
      "----F1 Score, Recall, Precision----\n",
      "              precision    recall  f1-score   support\n",
      "\n",
      "           0       0.80      1.00      0.89       852\n",
      "           1       0.00      0.00      0.00       118\n",
      "           2       0.00      0.00      0.00        96\n",
      "\n",
      "    accuracy                           0.80      1066\n",
      "   macro avg       0.27      0.33      0.30      1066\n",
      "weighted avg       0.64      0.80      0.71      1066\n",
      "\n"
     ]
    },
    {
     "data": {
      "image/png": "[encoded data removed]",
      "text/plain": [
       "<Figure size 432x288 with 2 Axes>"
      ]
     },
     "metadata": {
      "needs_background": "light"
     },
     "output_type": "display_data"
    }
   ],
   "source": [
    "run_the_lr_models(\"lr2\", X_train, X_test, Y_train, Y_test)"
   ]
  },
  {
   "cell_type": "code",
   "execution_count": 16,
   "metadata": {},
   "outputs": [],
   "source": [
    "\n",
    "def run_the_sv_models(model, X_train, X_test, Y_tr, Y_te):   \n",
    "    X_train_text_df, X_test_text_df, y_train, y_test = X_train, X_test, Y_tr, Y_te\n",
    "    \n",
    "    if model == 'sv1':\n",
    "        \n",
    "        sv_params = {\n",
    "            'kernel': ['rbf'], \n",
    "            'gamma': [1e-3, 1e-4],\n",
    "            'C': [1, 10, 100, 1000] }\n",
    "        \n",
    "        M = GridSearchCV(SVC(probability=True),\n",
    "                        sv_params,\n",
    "                        cv = 5,\n",
    "                        verbose = 1,\n",
    "                        n_jobs = -1)\n",
    "        \n",
    "    elif model == 'sv2':\n",
    "        \n",
    "        \n",
    "        sv_params = {\n",
    "            'kernel': ['rbf'], \n",
    "            'gamma': [0.01, 1, 10, 100],\n",
    "            'C': [1, 10, 100, 1000] }\n",
    "\n",
    "        M = GridSearchCV(SVC(probability=True),\n",
    "                        sv_params,\n",
    "                        cv = 5,\n",
    "                        verbose = 1,\n",
    "                        n_jobs = -1)\n",
    "        \n",
    "    M.fit(X_train_text_df, y_train)\n",
    "      \n",
    "    #save in picle file\n",
    "    joblib.dump(M, \"SVM_TFIDF.pkl\")\n",
    "     \n",
    "    print(f'Train score = {M.score(X_train_text_df, y_train)}')\n",
    "    print(f'Test score = {M.score(X_test_text_df, y_test)}')\n",
    "    \n",
    "    predictions = M.predict(X_test_text_df)\n",
    "    predictions_train = M.predict(X_train_text_df)\n",
    "    \n",
    "    print('--------')\n",
    "    print(skplt.plot_confusion_matrix(y_test, predictions))\n",
    "    print(f'Best params = {M.best_params_}')\n",
    "    print('----F1 Score, Recall, Precision----')\n",
    "    # print precision, recall, F1-score per each class/tag\n",
    "    print(classification_report(y_test, predictions))\n",
    "#     print('----ROC AUC CURVE SCORE----')\n",
    "#     print(\"ROC AUC CURVE SCORE FOR TEST: \",roc_auc_score(y_test, predictions))\n",
    "#     print(\"ROC AUC CURVE SCORE FOR TRAIN: \",roc_auc_score(y_train, predictions_train))"
   ]
  },
  {
   "cell_type": "code",
   "execution_count": 17,
   "metadata": {},
   "outputs": [
    {
     "name": "stdout",
     "output_type": "stream",
     "text": [
      "Fitting 5 folds for each of 8 candidates, totalling 40 fits\n"
     ]
    },
    {
     "name": "stderr",
     "output_type": "stream",
     "text": [
      "[Parallel(n_jobs=-1)]: Using backend LokyBackend with 12 concurrent workers.\n",
      "[Parallel(n_jobs=-1)]: Done  40 out of  40 | elapsed:  1.1min finished\n"
     ]
    },
    {
     "name": "stdout",
     "output_type": "stream",
     "text": [
      "Train score = 0.8786362214576166\n",
      "Test score = 0.7908067542213884\n",
      "--------\n",
      "AxesSubplot(0.125,0.125;0.62x0.755)\n",
      "Best params = {'C': 100, 'gamma': 0.001, 'kernel': 'rbf'}\n",
      "----F1 Score, Recall, Precision----\n",
      "              precision    recall  f1-score   support\n",
      "\n",
      "           0       0.80      0.98      0.88       852\n",
      "           1       0.00      0.00      0.00       118\n",
      "           2       0.29      0.06      0.10        96\n",
      "\n",
      "    accuracy                           0.79      1066\n",
      "   macro avg       0.36      0.35      0.33      1066\n",
      "weighted avg       0.67      0.79      0.72      1066\n",
      "\n"
     ]
    },
    {
     "data": {
      "image/png": "[encoded data removed]",
      "text/plain": [
       "<Figure size 432x288 with 2 Axes>"
      ]
     },
     "metadata": {
      "needs_background": "light"
     },
     "output_type": "display_data"
    }
   ],
   "source": [
    "run_the_sv_models(\"sv1\", X_train, X_test, Y_train, Y_test)"
   ]
  }
 ],
 "metadata": {
  "kernelspec": {
   "display_name": "Python 3",
   "language": "python",
   "name": "python3"
  },
  "language_info": {
   "codemirror_mode": {
    "name": "ipython",
    "version": 3
   },
   "file_extension": ".py",
   "mimetype": "text/x-python",
   "name": "python",
   "nbconvert_exporter": "python",
   "pygments_lexer": "ipython3",
   "version": "3.7.3"
  }
 },
 "nbformat": 4,
 "nbformat_minor": 2
}
