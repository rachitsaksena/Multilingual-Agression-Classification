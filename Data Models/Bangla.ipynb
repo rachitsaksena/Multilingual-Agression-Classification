{
 "cells": [
  {
   "cell_type": "code",
   "execution_count": 1,
   "metadata": {},
   "outputs": [],
   "source": [
    "import pandas as pd\n",
    "import numpy as np\n",
    "from sklearn.model_selection import GridSearchCV, train_test_split\n",
    "from sklearn.naive_bayes import GaussianNB\n",
    "from sklearn.naive_bayes import MultinomialNB\n",
    "from sklearn.metrics import classification_report, confusion_matrix\n",
    "from sklearn.svm import SVC\n",
    "from sklearn.linear_model import LogisticRegression\n",
    "from sklearn.preprocessing import MinMaxScaler, LabelEncoder\n",
    "import scikitplot.metrics as skplt\n",
    "import joblib"
   ]
  },
  {
   "cell_type": "markdown",
   "metadata": {},
   "source": [
    "## TF-IDF w2v"
   ]
  },
  {
   "cell_type": "code",
   "execution_count": 2,
   "metadata": {},
   "outputs": [
    {
     "data": {
      "text/html": [
       "<div>\n",
       "<style scoped>\n",
       "    .dataframe tbody tr th:only-of-type {\n",
       "        vertical-align: middle;\n",
       "    }\n",
       "\n",
       "    .dataframe tbody tr th {\n",
       "        vertical-align: top;\n",
       "    }\n",
       "\n",
       "    .dataframe thead th {\n",
       "        text-align: right;\n",
       "    }\n",
       "</style>\n",
       "<table border=\"1\" class=\"dataframe\">\n",
       "  <thead>\n",
       "    <tr style=\"text-align: right;\">\n",
       "      <th></th>\n",
       "      <th>0</th>\n",
       "      <th>1</th>\n",
       "      <th>2</th>\n",
       "      <th>3</th>\n",
       "      <th>4</th>\n",
       "      <th>5</th>\n",
       "      <th>6</th>\n",
       "      <th>7</th>\n",
       "      <th>8</th>\n",
       "      <th>9</th>\n",
       "      <th>...</th>\n",
       "      <th>91</th>\n",
       "      <th>92</th>\n",
       "      <th>93</th>\n",
       "      <th>94</th>\n",
       "      <th>95</th>\n",
       "      <th>96</th>\n",
       "      <th>97</th>\n",
       "      <th>98</th>\n",
       "      <th>99</th>\n",
       "      <th>Sub-task B</th>\n",
       "    </tr>\n",
       "  </thead>\n",
       "  <tbody>\n",
       "    <tr>\n",
       "      <th>0</th>\n",
       "      <td>0.000000</td>\n",
       "      <td>0.000000</td>\n",
       "      <td>0.000000</td>\n",
       "      <td>0.00000</td>\n",
       "      <td>0.000000</td>\n",
       "      <td>0.000000</td>\n",
       "      <td>0.000000</td>\n",
       "      <td>0.000000</td>\n",
       "      <td>0.000000</td>\n",
       "      <td>0.00000</td>\n",
       "      <td>...</td>\n",
       "      <td>0.00000</td>\n",
       "      <td>0.000000</td>\n",
       "      <td>0.000000</td>\n",
       "      <td>0.000000</td>\n",
       "      <td>0.000000</td>\n",
       "      <td>0.000000</td>\n",
       "      <td>0.000000</td>\n",
       "      <td>0.000000</td>\n",
       "      <td>0.000000</td>\n",
       "      <td>0</td>\n",
       "    </tr>\n",
       "    <tr>\n",
       "      <th>1</th>\n",
       "      <td>0.000000</td>\n",
       "      <td>0.000000</td>\n",
       "      <td>0.000000</td>\n",
       "      <td>0.00000</td>\n",
       "      <td>0.000000</td>\n",
       "      <td>0.000000</td>\n",
       "      <td>0.000000</td>\n",
       "      <td>0.000000</td>\n",
       "      <td>0.000000</td>\n",
       "      <td>0.00000</td>\n",
       "      <td>...</td>\n",
       "      <td>0.00000</td>\n",
       "      <td>0.000000</td>\n",
       "      <td>0.000000</td>\n",
       "      <td>0.000000</td>\n",
       "      <td>0.000000</td>\n",
       "      <td>0.000000</td>\n",
       "      <td>0.000000</td>\n",
       "      <td>0.000000</td>\n",
       "      <td>0.000000</td>\n",
       "      <td>1</td>\n",
       "    </tr>\n",
       "    <tr>\n",
       "      <th>2</th>\n",
       "      <td>0.000000</td>\n",
       "      <td>0.000000</td>\n",
       "      <td>0.000000</td>\n",
       "      <td>0.00000</td>\n",
       "      <td>0.000000</td>\n",
       "      <td>0.000000</td>\n",
       "      <td>0.000000</td>\n",
       "      <td>0.000000</td>\n",
       "      <td>0.000000</td>\n",
       "      <td>0.00000</td>\n",
       "      <td>...</td>\n",
       "      <td>0.00000</td>\n",
       "      <td>0.000000</td>\n",
       "      <td>0.000000</td>\n",
       "      <td>0.000000</td>\n",
       "      <td>0.000000</td>\n",
       "      <td>0.000000</td>\n",
       "      <td>0.000000</td>\n",
       "      <td>0.000000</td>\n",
       "      <td>0.000000</td>\n",
       "      <td>1</td>\n",
       "    </tr>\n",
       "    <tr>\n",
       "      <th>3</th>\n",
       "      <td>2.140244</td>\n",
       "      <td>-0.122599</td>\n",
       "      <td>-0.264342</td>\n",
       "      <td>0.98814</td>\n",
       "      <td>0.437342</td>\n",
       "      <td>0.939277</td>\n",
       "      <td>-1.002987</td>\n",
       "      <td>-1.093818</td>\n",
       "      <td>0.295302</td>\n",
       "      <td>0.10284</td>\n",
       "      <td>...</td>\n",
       "      <td>-0.72733</td>\n",
       "      <td>0.411525</td>\n",
       "      <td>0.569082</td>\n",
       "      <td>0.617238</td>\n",
       "      <td>-0.299642</td>\n",
       "      <td>2.860027</td>\n",
       "      <td>-0.388723</td>\n",
       "      <td>-0.156896</td>\n",
       "      <td>-0.615013</td>\n",
       "      <td>1</td>\n",
       "    </tr>\n",
       "    <tr>\n",
       "      <th>4</th>\n",
       "      <td>0.000000</td>\n",
       "      <td>0.000000</td>\n",
       "      <td>0.000000</td>\n",
       "      <td>0.00000</td>\n",
       "      <td>0.000000</td>\n",
       "      <td>0.000000</td>\n",
       "      <td>0.000000</td>\n",
       "      <td>0.000000</td>\n",
       "      <td>0.000000</td>\n",
       "      <td>0.00000</td>\n",
       "      <td>...</td>\n",
       "      <td>0.00000</td>\n",
       "      <td>0.000000</td>\n",
       "      <td>0.000000</td>\n",
       "      <td>0.000000</td>\n",
       "      <td>0.000000</td>\n",
       "      <td>0.000000</td>\n",
       "      <td>0.000000</td>\n",
       "      <td>0.000000</td>\n",
       "      <td>0.000000</td>\n",
       "      <td>0</td>\n",
       "    </tr>\n",
       "  </tbody>\n",
       "</table>\n",
       "<p>5 rows × 101 columns</p>\n",
       "</div>"
      ],
      "text/plain": [
       "          0         1         2        3         4         5         6  \\\n",
       "0  0.000000  0.000000  0.000000  0.00000  0.000000  0.000000  0.000000   \n",
       "1  0.000000  0.000000  0.000000  0.00000  0.000000  0.000000  0.000000   \n",
       "2  0.000000  0.000000  0.000000  0.00000  0.000000  0.000000  0.000000   \n",
       "3  2.140244 -0.122599 -0.264342  0.98814  0.437342  0.939277 -1.002987   \n",
       "4  0.000000  0.000000  0.000000  0.00000  0.000000  0.000000  0.000000   \n",
       "\n",
       "          7         8        9  ...       91        92        93        94  \\\n",
       "0  0.000000  0.000000  0.00000  ...  0.00000  0.000000  0.000000  0.000000   \n",
       "1  0.000000  0.000000  0.00000  ...  0.00000  0.000000  0.000000  0.000000   \n",
       "2  0.000000  0.000000  0.00000  ...  0.00000  0.000000  0.000000  0.000000   \n",
       "3 -1.093818  0.295302  0.10284  ... -0.72733  0.411525  0.569082  0.617238   \n",
       "4  0.000000  0.000000  0.00000  ...  0.00000  0.000000  0.000000  0.000000   \n",
       "\n",
       "         95        96        97        98        99  Sub-task B  \n",
       "0  0.000000  0.000000  0.000000  0.000000  0.000000           0  \n",
       "1  0.000000  0.000000  0.000000  0.000000  0.000000           1  \n",
       "2  0.000000  0.000000  0.000000  0.000000  0.000000           1  \n",
       "3 -0.299642  2.860027 -0.388723 -0.156896 -0.615013           1  \n",
       "4  0.000000  0.000000  0.000000  0.000000  0.000000           0  \n",
       "\n",
       "[5 rows x 101 columns]"
      ]
     },
     "execution_count": 2,
     "metadata": {},
     "output_type": "execute_result"
    }
   ],
   "source": [
    "train_df = pd.read_csv(\"../Data/ben_train_tfidf_w2v.csv\")\n",
    "test_df = pd.read_csv(\"../Data/ben_test_tfidf_w2v.csv\")\n",
    "X_train = train_df.drop(columns=[\"Y\"])\n",
    "Y_train = train_df[\"Y\"]\n",
    "X_test = test_df.drop(columns=[\"Y\"])\n",
    "Y_test = test_df[\"Y\"]\n",
    "X_train.head()"
   ]
  },
  {
   "cell_type": "code",
   "execution_count": 3,
   "metadata": {},
   "outputs": [],
   "source": [
    "scaler = MinMaxScaler()\n",
    "scaler.fit(X_train)\n",
    "scaler.partial_fit(X_test)\n",
    "X_train_tf = scaler.transform(X_train)\n",
    "X_test_tf = scaler.transform(X_test)"
   ]
  },
  {
   "cell_type": "code",
   "execution_count": 4,
   "metadata": {},
   "outputs": [],
   "source": [
    "def run_the_mn_models(model, X_train, X_test, Y_tr, Y_te):\n",
    "    X_train_text_df, X_test_text_df, y_train, y_test = X_train, X_test, Y_tr, Y_te\n",
    "    \n",
    "    if model == 'mnb1':\n",
    "        \n",
    "        mn_params = {\n",
    "            'fit_prior': [True],\n",
    "            'alpha': [0, 0.5, 1]}\n",
    "        \n",
    "        M = GridSearchCV(MultinomialNB(),\n",
    "                        mn_params,\n",
    "                        cv = 5,\n",
    "                        verbose = 1,\n",
    "                        n_jobs = -1)\n",
    "        \n",
    "    elif model == 'mnb2':\n",
    "        \n",
    "         mn_params = {\n",
    "            'fit_prior': [False],\n",
    "            'alpha': [0, 0.5, 1]}\n",
    "        \n",
    "         M = GridSearchCV(MultinomialNB(),\n",
    "                        mn_params,\n",
    "                        cv = 5,\n",
    "                        verbose = 1,\n",
    "                        n_jobs = -1)\n",
    "        \n",
    "    else:\n",
    "        print('There is an error.')\n",
    "        \n",
    "    M.fit(X_train_text_df, y_train)\n",
    "     \n",
    "    print(f'Train score = {M.score(X_train_text_df, y_train)}')\n",
    "    print(f'Test score = {M.score(X_test_text_df, y_test)}')\n",
    "    \n",
    "    predictions = M.predict(X_test_text_df)\n",
    "    predictions_train = M.predict(X_train_text_df)\n",
    "    print('--------')\n",
    "    print(skplt.plot_confusion_matrix(y_test, predictions))\n",
    "    print(f'Best params = {M.best_params_}')\n",
    "    print('----F1 Score, Recall, Precision----')\n",
    "    # print precision, recall, F1-score per each class/tag\n",
    "    print(classification_report(y_test, predictions))\n",
    "    \n",
    "#     #skplt.plot_roc_curve(predictions,y_test)\n",
    "#     print('----ROC AUC CURVE SCORE----')\n",
    "#     print(\"ROC AUC CURVE SCORE FOR TEST: \",roc_auc_score(y_test, predictions))\n",
    "#     print(\"ROC AUC CURVE SCORE FOR TRAIN: \",roc_auc_score(y_train, predictions_train))"
   ]
  },
  {
   "cell_type": "code",
   "execution_count": 75,
   "metadata": {},
   "outputs": [
    {
     "name": "stdout",
     "output_type": "stream",
     "text": [
      "Fitting 5 folds for each of 3 candidates, totalling 15 fits\n",
      "Train score = 0.5092575618698442\n",
      "Test score = 0.49380076955964086\n",
      "--------\n"
     ]
    },
    {
     "name": "stderr",
     "output_type": "stream",
     "text": [
      "[Parallel(n_jobs=-1)]: Using backend LokyBackend with 8 concurrent workers.\n",
      "[Parallel(n_jobs=-1)]: Done  15 out of  15 | elapsed:    0.1s finished\n"
     ]
    },
    {
     "name": "stdout",
     "output_type": "stream",
     "text": [
      "AxesSubplot(0.125,0.125;0.62x0.755)\n",
      "Best params = {'alpha': 1, 'fit_prior': True}\n",
      "----F1 Score, Recall, Precision----\n",
      "              precision    recall  f1-score   support\n",
      "\n",
      "           0       0.55      0.33      0.42       803\n",
      "           1       0.44      0.82      0.58       759\n",
      "           2       0.59      0.33      0.43       777\n",
      "\n",
      "    accuracy                           0.49      2339\n",
      "   macro avg       0.53      0.50      0.47      2339\n",
      "weighted avg       0.53      0.49      0.47      2339\n",
      "\n"
     ]
    },
    {
     "data": {
      "image/png": "[encoded data removed]",
      "text/plain": [
       "<Figure size 432x288 with 2 Axes>"
      ]
     },
     "metadata": {
      "needs_background": "light"
     },
     "output_type": "display_data"
    }
   ],
   "source": [
    "run_the_mn_models(\"mnb1\", X_train_tf, X_test_tf, Y_train, Y_test)"
   ]
  },
  {
   "cell_type": "code",
   "execution_count": 76,
   "metadata": {},
   "outputs": [
    {
     "name": "stdout",
     "output_type": "stream",
     "text": [
      "Fitting 5 folds for each of 3 candidates, totalling 15 fits\n",
      "Train score = 0.5217231897341889\n",
      "Test score = 0.4997862334330911\n",
      "--------\n"
     ]
    },
    {
     "name": "stderr",
     "output_type": "stream",
     "text": [
      "[Parallel(n_jobs=-1)]: Using backend LokyBackend with 8 concurrent workers.\n",
      "[Parallel(n_jobs=-1)]: Done  15 out of  15 | elapsed:    0.1s finished\n"
     ]
    },
    {
     "name": "stdout",
     "output_type": "stream",
     "text": [
      "AxesSubplot(0.125,0.125;0.62x0.755)\n",
      "Best params = {'alpha': 0.5, 'fit_prior': False}\n",
      "----F1 Score, Recall, Precision----\n",
      "              precision    recall  f1-score   support\n",
      "\n",
      "           0       0.43      0.39      0.41       803\n",
      "           1       0.51      0.79      0.62       759\n",
      "           2       0.60      0.33      0.42       777\n",
      "\n",
      "    accuracy                           0.50      2339\n",
      "   macro avg       0.51      0.50      0.48      2339\n",
      "weighted avg       0.51      0.50      0.48      2339\n",
      "\n"
     ]
    },
    {
     "data": {
      "image/png": "[encoded data removed]",
      "text/plain": [
       "<Figure size 432x288 with 2 Axes>"
      ]
     },
     "metadata": {
      "needs_background": "light"
     },
     "output_type": "display_data"
    }
   ],
   "source": [
    "run_the_mn_models(\"mnb2\", X_train_tf, X_test_tf, Y_train, Y_test)"
   ]
  },
  {
   "cell_type": "code",
   "execution_count": 7,
   "metadata": {},
   "outputs": [],
   "source": [
    "def run_the_lr_models(model, X_train, X_test, Y_tr, Y_te):\n",
    "    X_train_text_df, X_test_text_df, y_train, y_test = X_train, X_test, Y_tr, Y_te\n",
    "    \n",
    "    \n",
    "    if model == 'lr1':\n",
    "        \n",
    "        lr_1_params = {\n",
    "            'penalty': ['l1'],\n",
    "            'C': [1, 1.5, 2, 2.5],\n",
    "            'class_weight': ['balanced'],\n",
    "            'warm_start': [True, False],\n",
    "            'random_state': [42],\n",
    "            'solver': ['liblinear']}\n",
    "        \n",
    "        M = GridSearchCV(LogisticRegression(),\n",
    "                        lr_1_params,\n",
    "                        cv = 5,\n",
    "                        verbose = 1,\n",
    "                        n_jobs = -1)\n",
    "        \n",
    "    elif model == 'lr2':\n",
    "        \n",
    "        lr_2_params = {\n",
    "            'penalty': ['l2'],\n",
    "            'C': [1, 1.5, 2, 2.5],\n",
    "            'class_weight': ['balanced'],\n",
    "            'warm_start': [True, False],            \n",
    "            'random_state': [42],\n",
    "            'solver': ['lbfgs', 'liblinear']}\n",
    "        \n",
    "        M = GridSearchCV(LogisticRegression(),\n",
    "                        lr_2_params,\n",
    "                        cv = 5,\n",
    "                        verbose = 1,\n",
    "                        n_jobs = -1)\n",
    "\n",
    "    else:\n",
    "        print('There is an error.')\n",
    "        \n",
    "    M.fit(X_train_text_df.values, y_train)\n",
    "     \n",
    "    print(f'Train score = {M.score(X_train_text_df.values, y_train)}')\n",
    "    print(f'Test score = {M.score(X_test_text_df.values, y_test)}')\n",
    "    \n",
    "    predictions = M.predict(X_test_text_df.values)\n",
    "    predictions_train = M.predict(X_train_text_df.values)\n",
    "    print('--------')\n",
    "    print(skplt.plot_confusion_matrix(y_test, predictions))\n",
    "    print(f'Best params = {M.best_params_}')\n",
    "    print('----F1 Score, Recall, Precision----')\n",
    "    # print precision, recall, F1-score per each class/tag\n",
    "    print(classification_report(y_test, predictions))\n",
    "    \n",
    "#     print('----ROC AUC CURVE SCORE----')\n",
    "#     print(\"ROC AUC CURVE SCORE FOR TEST: \",roc_auc_score(y_test, predictions))\n",
    "#     print(\"ROC AUC CURVE SCORE FOR TRAIN: \",roc_auc_score(y_train, predictions_train))\n",
    "    \n",
    "#     print('----ROC AUC CURVE SCORE----')\n",
    "#     print(\"ROC AUC CURVE SCORE FOR TEST: \",roc_auc_score(y_test, predictions))\n",
    "#     print(\"ROC AUC CURVE SCORE FOR TRAIN: \",roc_auc_score(y_train, predictions_train))"
   ]
  },
  {
   "cell_type": "code",
   "execution_count": 65,
   "metadata": {
    "scrolled": false
   },
   "outputs": [
    {
     "name": "stdout",
     "output_type": "stream",
     "text": [
      "Fitting 5 folds for each of 8 candidates, totalling 40 fits\n"
     ]
    },
    {
     "name": "stderr",
     "output_type": "stream",
     "text": [
      "[Parallel(n_jobs=-1)]: Using backend LokyBackend with 8 concurrent workers.\n",
      "[Parallel(n_jobs=-1)]: Done  40 out of  40 | elapsed:    0.4s finished\n"
     ]
    },
    {
     "name": "stdout",
     "output_type": "stream",
     "text": [
      "Train score = 0.6012832263978002\n",
      "Test score = 0.582727661393758\n",
      "--------\n",
      "AxesSubplot(0.125,0.125;0.62x0.755)\n",
      "Best params = {'C': 2.5, 'class_weight': 'balanced', 'penalty': 'l1', 'random_state': 42, 'solver': 'liblinear', 'warm_start': True}\n",
      "----F1 Score, Recall, Precision----\n",
      "              precision    recall  f1-score   support\n",
      "\n",
      "           0       0.59      0.42      0.49       803\n",
      "           1       0.51      0.78      0.61       759\n",
      "           2       0.73      0.56      0.63       777\n",
      "\n",
      "    accuracy                           0.58      2339\n",
      "   macro avg       0.61      0.59      0.58      2339\n",
      "weighted avg       0.61      0.58      0.58      2339\n",
      "\n"
     ]
    },
    {
     "data": {
      "image/png": "[encoded data removed]",
      "text/plain": [
       "<Figure size 432x288 with 2 Axes>"
      ]
     },
     "metadata": {
      "needs_background": "light"
     },
     "output_type": "display_data"
    }
   ],
   "source": [
    "run_the_lr_models(\"lr1\", X_train, X_test, Y_train, Y_test)"
   ]
  },
  {
   "cell_type": "code",
   "execution_count": 66,
   "metadata": {},
   "outputs": [
    {
     "name": "stdout",
     "output_type": "stream",
     "text": [
      "Fitting 5 folds for each of 16 candidates, totalling 80 fits\n"
     ]
    },
    {
     "name": "stderr",
     "output_type": "stream",
     "text": [
      "[Parallel(n_jobs=-1)]: Using backend LokyBackend with 8 concurrent workers.\n",
      "[Parallel(n_jobs=-1)]: Done  34 tasks      | elapsed:    1.1s\n",
      "[Parallel(n_jobs=-1)]: Done  80 out of  80 | elapsed:    2.5s finished\n"
     ]
    },
    {
     "name": "stdout",
     "output_type": "stream",
     "text": [
      "Train score = 0.6018331805682859\n",
      "Test score = 0.582727661393758\n",
      "--------\n",
      "AxesSubplot(0.125,0.125;0.62x0.755)\n",
      "Best params = {'C': 1.5, 'class_weight': 'balanced', 'penalty': 'l2', 'random_state': 42, 'solver': 'liblinear', 'warm_start': True}\n",
      "----F1 Score, Recall, Precision----\n",
      "              precision    recall  f1-score   support\n",
      "\n",
      "           0       0.59      0.42      0.49       803\n",
      "           1       0.51      0.78      0.61       759\n",
      "           2       0.73      0.56      0.63       777\n",
      "\n",
      "    accuracy                           0.58      2339\n",
      "   macro avg       0.61      0.59      0.58      2339\n",
      "weighted avg       0.61      0.58      0.58      2339\n",
      "\n"
     ]
    },
    {
     "data": {
      "image/png": "[encoded data removed]",
      "text/plain": [
       "<Figure size 432x288 with 2 Axes>"
      ]
     },
     "metadata": {
      "needs_background": "light"
     },
     "output_type": "display_data"
    }
   ],
   "source": [
    "run_the_lr_models(\"lr2\", X_train, X_test, Y_train, Y_test)"
   ]
  },
  {
   "cell_type": "code",
   "execution_count": 10,
   "metadata": {},
   "outputs": [],
   "source": [
    "def run_the_sv_models(model, X_train, X_test, Y_tr, Y_te):   \n",
    "    X_train_text_df, X_test_text_df, y_train, y_test = X_train, X_test, Y_tr, Y_te\n",
    "    \n",
    "    if model == 'sv1':\n",
    "        \n",
    "        sv_params = {\n",
    "            'kernel': ['rbf'], \n",
    "            'gamma': [1e-3, 1e-4],\n",
    "            'C': [1, 10, 100, 1000] }\n",
    "        \n",
    "        M = GridSearchCV(SVC(probability=True),\n",
    "                        sv_params,\n",
    "                        cv = 5,\n",
    "                        verbose = 1,\n",
    "                        n_jobs = -1)\n",
    "        \n",
    "    elif model == 'sv2':\n",
    "        \n",
    "        \n",
    "        sv_params = {\n",
    "            'kernel': ['rbf'], \n",
    "            'gamma': [0.01, 1, 10, 100],\n",
    "            'C': [1, 10, 100, 1000] }\n",
    "\n",
    "        M = GridSearchCV(SVC(probability=True),\n",
    "                        sv_params,\n",
    "                        cv = 5,\n",
    "                        verbose = 1,\n",
    "                        n_jobs = -1)\n",
    "        \n",
    "    else:\n",
    "        print(\"Invalid Model!\")\n",
    "        \n",
    "    M.fit(X_train_text_df.values, y_train)\n",
    "      \n",
    "    #save in pickle file\n",
    "    joblib.dump(M, \"SVM_TFIDF.pkl\")\n",
    "     \n",
    "    print(f'Train score = {M.score(X_train_text_df.values, y_train)}')\n",
    "    print(f'Test score = {M.score(X_test_text_df.values, y_test)}')\n",
    "    \n",
    "    predictions = M.predict(X_test_text_df.values)\n",
    "    predictions_train = M.predict(X_train_text_df.values)\n",
    "    \n",
    "    print('--------')\n",
    "    print(skplt.plot_confusion_matrix(y_test, predictions))\n",
    "    print(f'Best params = {M.best_params_}')\n",
    "    print('----F1 Score, Recall, Precision----')\n",
    "    # print precision, recall, F1-score per each class/tag\n",
    "    print(classification_report(y_test, predictions))\n",
    "#     print('----ROC AUC CURVE SCORE----')\n",
    "#     print(\"ROC AUC CURVE SCORE FOR TEST: \",roc_auc_score(y_test, predictions))\n",
    "#     print(\"ROC AUC CURVE SCORE FOR TRAIN: \",roc_auc_score(y_train, predictions_train))"
   ]
  },
  {
   "cell_type": "code",
   "execution_count": 67,
   "metadata": {},
   "outputs": [
    {
     "name": "stdout",
     "output_type": "stream",
     "text": [
      "Fitting 5 folds for each of 8 candidates, totalling 40 fits\n"
     ]
    },
    {
     "name": "stderr",
     "output_type": "stream",
     "text": [
      "[Parallel(n_jobs=-1)]: Using backend LokyBackend with 8 concurrent workers.\n",
      "[Parallel(n_jobs=-1)]: Done  40 out of  40 | elapsed:  1.4min finished\n"
     ]
    },
    {
     "name": "stdout",
     "output_type": "stream",
     "text": [
      "Train score = 0.6042163153070578\n",
      "Test score = 0.5865754595981189\n",
      "--------\n",
      "AxesSubplot(0.125,0.125;0.62x0.755)\n",
      "Best params = {'C': 1000, 'gamma': 0.001, 'kernel': 'rbf'}\n",
      "----F1 Score, Recall, Precision----\n",
      "              precision    recall  f1-score   support\n",
      "\n",
      "           0       0.60      0.41      0.49       803\n",
      "           1       0.51      0.81      0.62       759\n",
      "           2       0.74      0.55      0.63       777\n",
      "\n",
      "    accuracy                           0.59      2339\n",
      "   macro avg       0.62      0.59      0.58      2339\n",
      "weighted avg       0.62      0.59      0.58      2339\n",
      "\n"
     ]
    },
    {
     "data": {
      "image/png": "[encoded data removed]",
      "text/plain": [
       "<Figure size 432x288 with 2 Axes>"
      ]
     },
     "metadata": {
      "needs_background": "light"
     },
     "output_type": "display_data"
    }
   ],
   "source": [
    "run_the_sv_models(\"sv1\", X_train, X_test, Y_train, Y_test)"
   ]
  },
  {
   "cell_type": "code",
   "execution_count": 68,
   "metadata": {},
   "outputs": [
    {
     "name": "stdout",
     "output_type": "stream",
     "text": [
      "Fitting 5 folds for each of 16 candidates, totalling 80 fits\n"
     ]
    },
    {
     "name": "stderr",
     "output_type": "stream",
     "text": [
      "[Parallel(n_jobs=-1)]: Using backend LokyBackend with 8 concurrent workers.\n",
      "[Parallel(n_jobs=-1)]: Done  34 tasks      | elapsed:  1.2min\n",
      "[Parallel(n_jobs=-1)]: Done  80 out of  80 | elapsed:  2.6min finished\n"
     ]
    },
    {
     "name": "stdout",
     "output_type": "stream",
     "text": [
      "Train score = 0.7527039413382218\n",
      "Test score = 0.6648140230867893\n",
      "--------\n",
      "AxesSubplot(0.125,0.125;0.62x0.755)\n",
      "Best params = {'C': 10, 'gamma': 1, 'kernel': 'rbf'}\n",
      "----F1 Score, Recall, Precision----\n",
      "              precision    recall  f1-score   support\n",
      "\n",
      "           0       0.71      0.56      0.63       803\n",
      "           1       0.56      0.75      0.64       759\n",
      "           2       0.78      0.68      0.73       777\n",
      "\n",
      "    accuracy                           0.66      2339\n",
      "   macro avg       0.68      0.67      0.67      2339\n",
      "weighted avg       0.68      0.66      0.67      2339\n",
      "\n"
     ]
    },
    {
     "data": {
      "image/png": "[encoded data removed]",
      "text/plain": [
       "<Figure size 432x288 with 2 Axes>"
      ]
     },
     "metadata": {
      "needs_background": "light"
     },
     "output_type": "display_data"
    }
   ],
   "source": [
    "run_the_sv_models(\"sv2\", X_train, X_test, Y_train, Y_test)"
   ]
  },
  {
   "cell_type": "markdown",
   "metadata": {},
   "source": [
    "## TF-IDF"
   ]
  },
  {
   "cell_type": "code",
   "execution_count": 13,
   "metadata": {},
   "outputs": [
    {
     "data": {
      "text/html": [
       "<div>\n",
       "<style scoped>\n",
       "    .dataframe tbody tr th:only-of-type {\n",
       "        vertical-align: middle;\n",
       "    }\n",
       "\n",
       "    .dataframe tbody tr th {\n",
       "        vertical-align: top;\n",
       "    }\n",
       "\n",
       "    .dataframe thead th {\n",
       "        text-align: right;\n",
       "    }\n",
       "</style>\n",
       "<table border=\"1\" class=\"dataframe\">\n",
       "  <thead>\n",
       "    <tr style=\"text-align: right;\">\n",
       "      <th></th>\n",
       "      <th>na</th>\n",
       "      <th>ranu</th>\n",
       "      <th>ta</th>\n",
       "      <th>অন</th>\n",
       "      <th>আগ</th>\n",
       "      <th>আছ</th>\n",
       "      <th>আপন</th>\n",
       "      <th>আব</th>\n",
       "      <th>আম</th>\n",
       "      <th>আমর</th>\n",
       "      <th>...</th>\n",
       "      <th>যদ</th>\n",
       "      <th>রণ</th>\n",
       "      <th>রত</th>\n",
       "      <th>লত</th>\n",
       "      <th>সত</th>\n",
       "      <th>সব</th>\n",
       "      <th>সম</th>\n",
       "      <th>হব</th>\n",
       "      <th>হল</th>\n",
       "      <th>হয়</th>\n",
       "    </tr>\n",
       "  </thead>\n",
       "  <tbody>\n",
       "    <tr>\n",
       "      <th>0</th>\n",
       "      <td>0.0</td>\n",
       "      <td>0.0</td>\n",
       "      <td>0.0</td>\n",
       "      <td>0.000000</td>\n",
       "      <td>0.0</td>\n",
       "      <td>0.0</td>\n",
       "      <td>0.0</td>\n",
       "      <td>0.0</td>\n",
       "      <td>0.0</td>\n",
       "      <td>0.0</td>\n",
       "      <td>...</td>\n",
       "      <td>0.0</td>\n",
       "      <td>0.0</td>\n",
       "      <td>0.000000</td>\n",
       "      <td>0.0</td>\n",
       "      <td>0.0</td>\n",
       "      <td>0.0</td>\n",
       "      <td>0.0</td>\n",
       "      <td>0.0</td>\n",
       "      <td>0.0</td>\n",
       "      <td>0.0</td>\n",
       "    </tr>\n",
       "    <tr>\n",
       "      <th>1</th>\n",
       "      <td>0.0</td>\n",
       "      <td>0.0</td>\n",
       "      <td>0.0</td>\n",
       "      <td>0.747415</td>\n",
       "      <td>0.0</td>\n",
       "      <td>0.0</td>\n",
       "      <td>0.0</td>\n",
       "      <td>0.0</td>\n",
       "      <td>0.0</td>\n",
       "      <td>0.0</td>\n",
       "      <td>...</td>\n",
       "      <td>0.0</td>\n",
       "      <td>0.0</td>\n",
       "      <td>0.664358</td>\n",
       "      <td>0.0</td>\n",
       "      <td>0.0</td>\n",
       "      <td>0.0</td>\n",
       "      <td>0.0</td>\n",
       "      <td>0.0</td>\n",
       "      <td>0.0</td>\n",
       "      <td>0.0</td>\n",
       "    </tr>\n",
       "    <tr>\n",
       "      <th>2</th>\n",
       "      <td>0.0</td>\n",
       "      <td>0.0</td>\n",
       "      <td>0.0</td>\n",
       "      <td>0.000000</td>\n",
       "      <td>0.0</td>\n",
       "      <td>0.0</td>\n",
       "      <td>0.0</td>\n",
       "      <td>0.0</td>\n",
       "      <td>0.0</td>\n",
       "      <td>0.0</td>\n",
       "      <td>...</td>\n",
       "      <td>0.0</td>\n",
       "      <td>0.0</td>\n",
       "      <td>0.000000</td>\n",
       "      <td>0.0</td>\n",
       "      <td>0.0</td>\n",
       "      <td>0.0</td>\n",
       "      <td>0.0</td>\n",
       "      <td>0.0</td>\n",
       "      <td>0.0</td>\n",
       "      <td>0.0</td>\n",
       "    </tr>\n",
       "    <tr>\n",
       "      <th>3</th>\n",
       "      <td>0.0</td>\n",
       "      <td>0.0</td>\n",
       "      <td>0.0</td>\n",
       "      <td>1.000000</td>\n",
       "      <td>0.0</td>\n",
       "      <td>0.0</td>\n",
       "      <td>0.0</td>\n",
       "      <td>0.0</td>\n",
       "      <td>0.0</td>\n",
       "      <td>0.0</td>\n",
       "      <td>...</td>\n",
       "      <td>0.0</td>\n",
       "      <td>0.0</td>\n",
       "      <td>0.000000</td>\n",
       "      <td>0.0</td>\n",
       "      <td>0.0</td>\n",
       "      <td>0.0</td>\n",
       "      <td>0.0</td>\n",
       "      <td>0.0</td>\n",
       "      <td>0.0</td>\n",
       "      <td>0.0</td>\n",
       "    </tr>\n",
       "    <tr>\n",
       "      <th>4</th>\n",
       "      <td>0.0</td>\n",
       "      <td>0.0</td>\n",
       "      <td>0.0</td>\n",
       "      <td>0.000000</td>\n",
       "      <td>0.0</td>\n",
       "      <td>0.0</td>\n",
       "      <td>0.0</td>\n",
       "      <td>0.0</td>\n",
       "      <td>0.0</td>\n",
       "      <td>0.0</td>\n",
       "      <td>...</td>\n",
       "      <td>0.0</td>\n",
       "      <td>0.0</td>\n",
       "      <td>0.000000</td>\n",
       "      <td>0.0</td>\n",
       "      <td>0.0</td>\n",
       "      <td>0.0</td>\n",
       "      <td>0.0</td>\n",
       "      <td>0.0</td>\n",
       "      <td>0.0</td>\n",
       "      <td>0.0</td>\n",
       "    </tr>\n",
       "  </tbody>\n",
       "</table>\n",
       "<p>5 rows × 48 columns</p>\n",
       "</div>"
      ],
      "text/plain": [
       "    na  ranu   ta        অন   আগ   আছ  আপন   আব   আম  আমর  ...   যদ   রণ  \\\n",
       "0  0.0   0.0  0.0  0.000000  0.0  0.0  0.0  0.0  0.0  0.0  ...  0.0  0.0   \n",
       "1  0.0   0.0  0.0  0.747415  0.0  0.0  0.0  0.0  0.0  0.0  ...  0.0  0.0   \n",
       "2  0.0   0.0  0.0  0.000000  0.0  0.0  0.0  0.0  0.0  0.0  ...  0.0  0.0   \n",
       "3  0.0   0.0  0.0  1.000000  0.0  0.0  0.0  0.0  0.0  0.0  ...  0.0  0.0   \n",
       "4  0.0   0.0  0.0  0.000000  0.0  0.0  0.0  0.0  0.0  0.0  ...  0.0  0.0   \n",
       "\n",
       "         রত   লত   সত   সব   সম   হব   হল   হয়  \n",
       "0  0.000000  0.0  0.0  0.0  0.0  0.0  0.0  0.0  \n",
       "1  0.664358  0.0  0.0  0.0  0.0  0.0  0.0  0.0  \n",
       "2  0.000000  0.0  0.0  0.0  0.0  0.0  0.0  0.0  \n",
       "3  0.000000  0.0  0.0  0.0  0.0  0.0  0.0  0.0  \n",
       "4  0.000000  0.0  0.0  0.0  0.0  0.0  0.0  0.0  \n",
       "\n",
       "[5 rows x 48 columns]"
      ]
     },
     "execution_count": 13,
     "metadata": {},
     "output_type": "execute_result"
    }
   ],
   "source": [
    "train_df = pd.read_csv(\"../Data/ben_train_tfidf.csv\")\n",
    "test_df = pd.read_csv(\"../Data/ben_test_tfidf.csv\")\n",
    "X_train = train_df.drop(columns=[\"Y\"])\n",
    "Y_train = train_df[\"Y\"]\n",
    "X_test = test_df.drop(columns=[\"Y\"])\n",
    "Y_test = test_df[\"Y\"]\n",
    "X_train.head()"
   ]
  },
  {
   "cell_type": "code",
   "execution_count": 14,
   "metadata": {},
   "outputs": [],
   "source": [
    "def run_the_mn_models(model, X_train, X_test, Y_tr, Y_te):\n",
    "    X_train_text_df, X_test_text_df, y_train, y_test = X_train, X_test, Y_tr, Y_te\n",
    "    \n",
    "    if model == 'mnb1':\n",
    "        \n",
    "        mn_params = {\n",
    "            'fit_prior': [True],\n",
    "            'alpha': [0, 0.5, 1]}\n",
    "        \n",
    "        M = GridSearchCV(MultinomialNB(),\n",
    "                        mn_params,\n",
    "                        cv = 5,\n",
    "                        verbose = 1,\n",
    "                        n_jobs = -1)\n",
    "        \n",
    "    elif model == 'mnb2':\n",
    "        \n",
    "         mn_params = {\n",
    "            'fit_prior': [False],\n",
    "            'alpha': [0, 0.5, 1]}\n",
    "        \n",
    "         M = GridSearchCV(MultinomialNB(),\n",
    "                        mn_params,\n",
    "                        cv = 5,\n",
    "                        verbose = 1,\n",
    "                        n_jobs = -1)\n",
    "        \n",
    "    else:\n",
    "        print('There is an error.')\n",
    "        \n",
    "    M.fit(X_train_text_df.values, y_train)\n",
    "     \n",
    "    print(f'Train score = {M.score(X_train_text_df.values, y_train)}')\n",
    "    print(f'Test score = {M.score(X_test_text_df.values, y_test)}')\n",
    "    \n",
    "    predictions = M.predict(X_test_text_df.values)\n",
    "    predictions_train = M.predict(X_train_text_df.values)\n",
    "    print('--------')\n",
    "    print(skplt.plot_confusion_matrix(y_test, predictions))\n",
    "    print(f'Best params = {M.best_params_}')\n",
    "    print('----F1 Score, Recall, Precision----')\n",
    "    # print precision, recall, F1-score per each class/tag\n",
    "    print(classification_report(y_test, predictions))\n",
    "    \n",
    "#     #skplt.plot_roc_curve(predictions,y_test)\n",
    "#     print('----ROC AUC CURVE SCORE----')\n",
    "#     print(\"ROC AUC CURVE SCORE FOR TEST: \",roc_auc_score(y_test, predictions))\n",
    "#     print(\"ROC AUC CURVE SCORE FOR TRAIN: \",roc_auc_score(y_train, predictions_train))"
   ]
  },
  {
   "cell_type": "code",
   "execution_count": 77,
   "metadata": {},
   "outputs": [
    {
     "name": "stdout",
     "output_type": "stream",
     "text": [
      "Fitting 5 folds for each of 3 candidates, totalling 15 fits\n"
     ]
    },
    {
     "name": "stderr",
     "output_type": "stream",
     "text": [
      "[Parallel(n_jobs=-1)]: Using backend LokyBackend with 8 concurrent workers.\n",
      "[Parallel(n_jobs=-1)]: Done  15 out of  15 | elapsed:    0.2s finished\n",
      "/opt/conda/lib/python3.7/site-packages/sklearn/naive_bayes.py:512: UserWarning: alpha too small will result in numeric errors, setting alpha = 1.0e-10\n",
      "  'setting alpha = %.1e' % _ALPHA_MIN)\n"
     ]
    },
    {
     "name": "stdout",
     "output_type": "stream",
     "text": [
      "Train score = 0.5072410632447296\n",
      "Test score = 0.4946558358272766\n",
      "--------\n",
      "AxesSubplot(0.125,0.125;0.62x0.755)\n",
      "Best params = {'alpha': 0, 'fit_prior': True}\n",
      "----F1 Score, Recall, Precision----\n",
      "              precision    recall  f1-score   support\n",
      "\n",
      "           0       0.57      0.31      0.40       803\n",
      "           1       0.44      0.81      0.57       759\n",
      "           2       0.58      0.38      0.46       777\n",
      "\n",
      "    accuracy                           0.49      2339\n",
      "   macro avg       0.53      0.50      0.48      2339\n",
      "weighted avg       0.53      0.49      0.48      2339\n",
      "\n"
     ]
    },
    {
     "data": {
      "image/png": "[encoded data removed]",
      "text/plain": [
       "<Figure size 432x288 with 2 Axes>"
      ]
     },
     "metadata": {
      "needs_background": "light"
     },
     "output_type": "display_data"
    }
   ],
   "source": [
    "run_the_mn_models(\"mnb1\", X_train, X_test, Y_train, Y_test)"
   ]
  },
  {
   "cell_type": "code",
   "execution_count": 78,
   "metadata": {},
   "outputs": [
    {
     "name": "stdout",
     "output_type": "stream",
     "text": [
      "Fitting 5 folds for each of 3 candidates, totalling 15 fits\n",
      "Train score = 0.5198900091659029\n"
     ]
    },
    {
     "name": "stderr",
     "output_type": "stream",
     "text": [
      "[Parallel(n_jobs=-1)]: Using backend LokyBackend with 8 concurrent workers.\n",
      "[Parallel(n_jobs=-1)]: Done  15 out of  15 | elapsed:    0.1s finished\n"
     ]
    },
    {
     "name": "stdout",
     "output_type": "stream",
     "text": [
      "Test score = 0.5057716973065413\n",
      "--------\n",
      "AxesSubplot(0.125,0.125;0.62x0.755)\n",
      "Best params = {'alpha': 0.5, 'fit_prior': False}\n",
      "----F1 Score, Recall, Precision----\n",
      "              precision    recall  f1-score   support\n",
      "\n",
      "           0       0.45      0.37      0.41       803\n",
      "           1       0.50      0.77      0.61       759\n",
      "           2       0.58      0.38      0.46       777\n",
      "\n",
      "    accuracy                           0.51      2339\n",
      "   macro avg       0.51      0.51      0.49      2339\n",
      "weighted avg       0.51      0.51      0.49      2339\n",
      "\n"
     ]
    },
    {
     "data": {
      "image/png": "[encoded data removed]",
      "text/plain": [
       "<Figure size 432x288 with 2 Axes>"
      ]
     },
     "metadata": {
      "needs_background": "light"
     },
     "output_type": "display_data"
    }
   ],
   "source": [
    "run_the_mn_models(\"mnb2\", X_train, X_test, Y_train, Y_test)"
   ]
  },
  {
   "cell_type": "code",
   "execution_count": 17,
   "metadata": {},
   "outputs": [],
   "source": [
    "def run_the_lr_models(model, X_train, X_test, Y_tr, Y_te):\n",
    "    X_train_text_df, X_test_text_df, y_train, y_test = X_train, X_test, Y_tr, Y_te\n",
    "    \n",
    "    \n",
    "    if model == 'lr1':\n",
    "        \n",
    "        lr_1_params = {\n",
    "            'penalty': ['l1'],\n",
    "            'C': [1, 1.5, 2, 2.5],\n",
    "            'class_weight': ['balanced'],\n",
    "            'warm_start': [True, False],\n",
    "            'random_state': [42],\n",
    "            'solver': ['liblinear']}\n",
    "        \n",
    "        M = GridSearchCV(LogisticRegression(),\n",
    "                        lr_1_params,\n",
    "                        cv = 5,\n",
    "                        verbose = 1,\n",
    "                        n_jobs = -1)\n",
    "        \n",
    "    elif model == 'lr2':\n",
    "        \n",
    "        lr_2_params = {\n",
    "            'penalty': ['l2'],\n",
    "            'C': [1, 1.5, 2, 2.5],\n",
    "            'class_weight': ['balanced'],\n",
    "            'warm_start': [True, False],            \n",
    "            'random_state': [42],\n",
    "            'solver': ['lbfgs', 'liblinear']}\n",
    "        \n",
    "        M = GridSearchCV(LogisticRegression(),\n",
    "                        lr_2_params,\n",
    "                        cv = 5,\n",
    "                        verbose = 1,\n",
    "                        n_jobs = -1)\n",
    "\n",
    "    else:\n",
    "        print('There is an error.')\n",
    "        \n",
    "    M.fit(X_train_text_df.values, y_train)\n",
    "     \n",
    "    print(f'Train score = {M.score(X_train_text_df.values, y_train)}')\n",
    "    print(f'Test score = {M.score(X_test_text_df.values, y_test)}')\n",
    "    \n",
    "    predictions = M.predict(X_test_text_df.values)\n",
    "    predictions_train = M.predict(X_train_text_df.values)\n",
    "    print('--------')\n",
    "    print(skplt.plot_confusion_matrix(y_test, predictions))\n",
    "    print(f'Best params = {M.best_params_}')\n",
    "    print('----F1 Score, Recall, Precision----')\n",
    "    # print precision, recall, F1-score per each class/tag\n",
    "    print(classification_report(y_test, predictions))\n",
    "    \n",
    "#     print('----ROC AUC CURVE SCORE----')\n",
    "#     print(\"ROC AUC CURVE SCORE FOR TEST: \",roc_auc_score(y_test, predictions))\n",
    "#     print(\"ROC AUC CURVE SCORE FOR TRAIN: \",roc_auc_score(y_train, predictions_train))\n",
    "    \n",
    "#     print('----ROC AUC CURVE SCORE----')\n",
    "#     print(\"ROC AUC CURVE SCORE FOR TEST: \",roc_auc_score(y_test, predictions))\n",
    "#     print(\"ROC AUC CURVE SCORE FOR TRAIN: \",roc_auc_score(y_train, predictions_train))"
   ]
  },
  {
   "cell_type": "code",
   "execution_count": 71,
   "metadata": {},
   "outputs": [
    {
     "name": "stdout",
     "output_type": "stream",
     "text": [
      "Fitting 5 folds for each of 8 candidates, totalling 40 fits\n"
     ]
    },
    {
     "name": "stderr",
     "output_type": "stream",
     "text": [
      "[Parallel(n_jobs=-1)]: Using backend LokyBackend with 8 concurrent workers.\n",
      "[Parallel(n_jobs=-1)]: Done  40 out of  40 | elapsed:    0.4s finished\n"
     ]
    },
    {
     "name": "stdout",
     "output_type": "stream",
     "text": [
      "Train score = 0.6012832263978002\n",
      "Test score = 0.582727661393758\n",
      "--------\n",
      "AxesSubplot(0.125,0.125;0.62x0.755)\n",
      "Best params = {'C': 2.5, 'class_weight': 'balanced', 'penalty': 'l1', 'random_state': 42, 'solver': 'liblinear', 'warm_start': True}\n",
      "----F1 Score, Recall, Precision----\n",
      "              precision    recall  f1-score   support\n",
      "\n",
      "           0       0.59      0.42      0.49       803\n",
      "           1       0.51      0.78      0.61       759\n",
      "           2       0.73      0.56      0.63       777\n",
      "\n",
      "    accuracy                           0.58      2339\n",
      "   macro avg       0.61      0.59      0.58      2339\n",
      "weighted avg       0.61      0.58      0.58      2339\n",
      "\n"
     ]
    },
    {
     "data": {
      "image/png": "[encoded data removed]",
      "text/plain": [
       "<Figure size 432x288 with 2 Axes>"
      ]
     },
     "metadata": {
      "needs_background": "light"
     },
     "output_type": "display_data"
    }
   ],
   "source": [
    "run_the_lr_models(\"lr1\", X_train, X_test, Y_train, Y_test)"
   ]
  },
  {
   "cell_type": "code",
   "execution_count": 72,
   "metadata": {},
   "outputs": [
    {
     "name": "stdout",
     "output_type": "stream",
     "text": [
      "Fitting 5 folds for each of 16 candidates, totalling 80 fits\n"
     ]
    },
    {
     "name": "stderr",
     "output_type": "stream",
     "text": [
      "[Parallel(n_jobs=-1)]: Using backend LokyBackend with 8 concurrent workers.\n",
      "[Parallel(n_jobs=-1)]: Done  34 tasks      | elapsed:    1.0s\n",
      "[Parallel(n_jobs=-1)]: Done  80 out of  80 | elapsed:    2.3s finished\n"
     ]
    },
    {
     "name": "stdout",
     "output_type": "stream",
     "text": [
      "Train score = 0.6018331805682859\n",
      "Test score = 0.582727661393758\n",
      "--------\n",
      "AxesSubplot(0.125,0.125;0.62x0.755)\n",
      "Best params = {'C': 1.5, 'class_weight': 'balanced', 'penalty': 'l2', 'random_state': 42, 'solver': 'liblinear', 'warm_start': True}\n",
      "----F1 Score, Recall, Precision----\n",
      "              precision    recall  f1-score   support\n",
      "\n",
      "           0       0.59      0.42      0.49       803\n",
      "           1       0.51      0.78      0.61       759\n",
      "           2       0.73      0.56      0.63       777\n",
      "\n",
      "    accuracy                           0.58      2339\n",
      "   macro avg       0.61      0.59      0.58      2339\n",
      "weighted avg       0.61      0.58      0.58      2339\n",
      "\n"
     ]
    },
    {
     "data": {
      "image/png": "[encoded data removed]",
      "text/plain": [
       "<Figure size 432x288 with 2 Axes>"
      ]
     },
     "metadata": {
      "needs_background": "light"
     },
     "output_type": "display_data"
    }
   ],
   "source": [
    "run_the_lr_models(\"lr2\", X_train, X_test, Y_train, Y_test)"
   ]
  },
  {
   "cell_type": "code",
   "execution_count": 20,
   "metadata": {},
   "outputs": [],
   "source": [
    "def run_the_sv_models(model, X_train, X_test, Y_tr, Y_te):   \n",
    "    X_train_text_df, X_test_text_df, y_train, y_test = X_train, X_test, Y_tr, Y_te\n",
    "    \n",
    "    if model == 'sv1':\n",
    "        \n",
    "        sv_params = {\n",
    "            'kernel': ['rbf'], \n",
    "            'gamma': [1e-3, 1e-4],\n",
    "            'C': [1, 10, 100, 1000] }\n",
    "        \n",
    "        M = GridSearchCV(SVC(probability=True),\n",
    "                        sv_params,\n",
    "                        cv = 5,\n",
    "                        verbose = 1,\n",
    "                        n_jobs = -1)\n",
    "        \n",
    "    elif model == 'sv2':\n",
    "        \n",
    "        \n",
    "        sv_params = {\n",
    "            'kernel': ['rbf'], \n",
    "            'gamma': [0.01, 1, 10, 100],\n",
    "            'C': [1, 10, 100, 1000] }\n",
    "\n",
    "        M = GridSearchCV(SVC(probability=True),\n",
    "                        sv_params,\n",
    "                        cv = 5,\n",
    "                        verbose = 1,\n",
    "                        n_jobs = -1)\n",
    "        \n",
    "    else:\n",
    "        print(\"Invalid Model!\")\n",
    "        \n",
    "    M.fit(X_train_text_df.values, y_train)\n",
    "      \n",
    "    #save in pickle file\n",
    "    joblib.dump(M, \"SVM_TFIDF.pkl\")\n",
    "     \n",
    "    print(f'Train score = {M.score(X_train_text_df.values, y_train)}')\n",
    "    print(f'Test score = {M.score(X_test_text_df.values, y_test)}')\n",
    "    \n",
    "    predictions = M.predict(X_test_text_df.values)\n",
    "    predictions_train = M.predict(X_train_text_df.values)\n",
    "    \n",
    "    print('--------')\n",
    "    print(skplt.plot_confusion_matrix(y_test, predictions))\n",
    "    print(f'Best params = {M.best_params_}')\n",
    "    print('----F1 Score, Recall, Precision----')\n",
    "    # print precision, recall, F1-score per each class/tag\n",
    "    print(classification_report(y_test, predictions))\n",
    "#     print('----ROC AUC CURVE SCORE----')\n",
    "#     print(\"ROC AUC CURVE SCORE FOR TEST: \",roc_auc_score(y_test, predictions))\n",
    "#     print(\"ROC AUC CURVE SCORE FOR TRAIN: \",roc_auc_score(y_train, predictions_train))"
   ]
  },
  {
   "cell_type": "code",
   "execution_count": 73,
   "metadata": {},
   "outputs": [
    {
     "name": "stdout",
     "output_type": "stream",
     "text": [
      "Fitting 5 folds for each of 8 candidates, totalling 40 fits\n"
     ]
    },
    {
     "name": "stderr",
     "output_type": "stream",
     "text": [
      "[Parallel(n_jobs=-1)]: Using backend LokyBackend with 8 concurrent workers.\n",
      "[Parallel(n_jobs=-1)]: Done  40 out of  40 | elapsed:  1.4min finished\n"
     ]
    },
    {
     "name": "stdout",
     "output_type": "stream",
     "text": [
      "Train score = 0.6042163153070578\n",
      "Test score = 0.5865754595981189\n",
      "--------\n",
      "AxesSubplot(0.125,0.125;0.62x0.755)\n",
      "Best params = {'C': 1000, 'gamma': 0.001, 'kernel': 'rbf'}\n",
      "----F1 Score, Recall, Precision----\n",
      "              precision    recall  f1-score   support\n",
      "\n",
      "           0       0.60      0.41      0.49       803\n",
      "           1       0.51      0.81      0.62       759\n",
      "           2       0.74      0.55      0.63       777\n",
      "\n",
      "    accuracy                           0.59      2339\n",
      "   macro avg       0.62      0.59      0.58      2339\n",
      "weighted avg       0.62      0.59      0.58      2339\n",
      "\n"
     ]
    },
    {
     "data": {
      "image/png": "[encoded data removed]",
      "text/plain": [
       "<Figure size 432x288 with 2 Axes>"
      ]
     },
     "metadata": {
      "needs_background": "light"
     },
     "output_type": "display_data"
    }
   ],
   "source": [
    "run_the_sv_models(\"sv1\", X_train, X_test, Y_train, Y_test)"
   ]
  },
  {
   "cell_type": "code",
   "execution_count": 74,
   "metadata": {},
   "outputs": [
    {
     "name": "stdout",
     "output_type": "stream",
     "text": [
      "Fitting 5 folds for each of 16 candidates, totalling 80 fits\n"
     ]
    },
    {
     "name": "stderr",
     "output_type": "stream",
     "text": [
      "[Parallel(n_jobs=-1)]: Using backend LokyBackend with 8 concurrent workers.\n",
      "[Parallel(n_jobs=-1)]: Done  34 tasks      | elapsed:  1.2min\n",
      "[Parallel(n_jobs=-1)]: Done  80 out of  80 | elapsed:  2.7min finished\n"
     ]
    },
    {
     "name": "stdout",
     "output_type": "stream",
     "text": [
      "Train score = 0.7527039413382218\n",
      "Test score = 0.6648140230867893\n",
      "--------\n",
      "AxesSubplot(0.125,0.125;0.62x0.755)\n",
      "Best params = {'C': 10, 'gamma': 1, 'kernel': 'rbf'}\n",
      "----F1 Score, Recall, Precision----\n",
      "              precision    recall  f1-score   support\n",
      "\n",
      "           0       0.71      0.56      0.63       803\n",
      "           1       0.56      0.75      0.64       759\n",
      "           2       0.78      0.68      0.73       777\n",
      "\n",
      "    accuracy                           0.66      2339\n",
      "   macro avg       0.68      0.67      0.67      2339\n",
      "weighted avg       0.68      0.66      0.67      2339\n",
      "\n"
     ]
    },
    {
     "data": {
      "image/png": "[encoded data removed]",
      "text/plain": [
       "<Figure size 432x288 with 2 Axes>"
      ]
     },
     "metadata": {
      "needs_background": "light"
     },
     "output_type": "display_data"
    }
   ],
   "source": [
    "run_the_sv_models(\"sv2\", X_train, X_test, Y_train, Y_test)"
   ]
  },
  {
   "cell_type": "markdown",
   "metadata": {},
   "source": [
    "## LDA Based Vectors"
   ]
  },
  {
   "cell_type": "code",
   "execution_count": 23,
   "metadata": {},
   "outputs": [
    {
     "data": {
      "text/plain": [
       "(3346, 29)"
      ]
     },
     "execution_count": 23,
     "metadata": {},
     "output_type": "execute_result"
    }
   ],
   "source": [
    "train_df = pd.read_csv(\"../Data/ben_train_lda.csv\")\n",
    "test_df = pd.read_csv(\"../Data/ben_test_lda.csv\")\n",
    "X_train = train_df.drop(columns=[\"Y\"])\n",
    "Y_train = train_df[\"Y\"]\n",
    "X_test = test_df.drop(columns=[\"Y\"])\n",
    "Y_test = test_df[\"Y\"]\n",
    "X_train.shape"
   ]
  },
  {
   "cell_type": "code",
   "execution_count": 24,
   "metadata": {},
   "outputs": [
    {
     "data": {
      "text/plain": [
       "(3346, 29)"
      ]
     },
     "execution_count": 24,
     "metadata": {},
     "output_type": "execute_result"
    }
   ],
   "source": [
    "scaler = MinMaxScaler()\n",
    "X_train = pd.DataFrame(scaler.fit_transform(X_train))\n",
    "X_test = pd.DataFrame(scaler.fit_transform(X_test))\n",
    "X_train.shape"
   ]
  },
  {
   "cell_type": "code",
   "execution_count": 25,
   "metadata": {},
   "outputs": [],
   "source": [
    "def run_the_mn_models(model, X_train, X_test, Y_tr, Y_te):\n",
    "    X_train_text_df, X_test_text_df, y_train, y_test = X_train, X_test, Y_tr, Y_te\n",
    "    \n",
    "    if model == 'mnb1':\n",
    "        \n",
    "        mn_params = {\n",
    "            'fit_prior': [True],\n",
    "            'alpha': [0, 0.5, 1]}\n",
    "        \n",
    "        M = GridSearchCV(MultinomialNB(),\n",
    "                        mn_params,\n",
    "                        cv = 5,\n",
    "                        verbose = 1,\n",
    "                        n_jobs = -1)\n",
    "        \n",
    "    elif model == 'mnb2':\n",
    "        \n",
    "         mn_params = {\n",
    "            'fit_prior': [False],\n",
    "            'alpha': [0, 0.5, 1]}\n",
    "        \n",
    "         M = GridSearchCV(MultinomialNB(),\n",
    "                        mn_params,\n",
    "                        cv = 5,\n",
    "                        verbose = 1,\n",
    "                        n_jobs = -1)\n",
    "        \n",
    "    else:\n",
    "        print('There is an error.')\n",
    "        \n",
    "    M.fit(X_train_text_df.values, y_train)\n",
    "     \n",
    "    print(f'Train score = {M.score(X_train_text_df.values, y_train)}')\n",
    "    print(f'Test score = {M.score(X_test_text_df.values, y_test)}')\n",
    "    \n",
    "    predictions = M.predict(X_test_text_df.values)\n",
    "    predictions_train = M.predict(X_train_text_df.values)\n",
    "    print('--------')\n",
    "    print(skplt.plot_confusion_matrix(y_test, predictions))\n",
    "    print(f'Best params = {M.best_params_}')\n",
    "    print('----F1 Score, Recall, Precision----')\n",
    "    # print precision, recall, F1-score per each class/tag\n",
    "    print(classification_report(y_test, predictions))\n",
    "    \n",
    "#     #skplt.plot_roc_curve(predictions,y_test)\n",
    "#     print('----ROC AUC CURVE SCORE----')\n",
    "#     print(\"ROC AUC CURVE SCORE FOR TEST: \",roc_auc_score(y_test, predictions))\n",
    "#     print(\"ROC AUC CURVE SCORE FOR TRAIN: \",roc_auc_score(y_train, predictions_train))"
   ]
  },
  {
   "cell_type": "code",
   "execution_count": 61,
   "metadata": {
    "scrolled": false
   },
   "outputs": [
    {
     "name": "stdout",
     "output_type": "stream",
     "text": [
      "Fitting 5 folds for each of 3 candidates, totalling 15 fits\n",
      "Train score = 0.5072410632447296\n"
     ]
    },
    {
     "name": "stderr",
     "output_type": "stream",
     "text": [
      "[Parallel(n_jobs=-1)]: Using backend LokyBackend with 8 concurrent workers.\n",
      "[Parallel(n_jobs=-1)]: Done  15 out of  15 | elapsed:    0.1s finished\n",
      "/opt/conda/lib/python3.7/site-packages/sklearn/naive_bayes.py:512: UserWarning: alpha too small will result in numeric errors, setting alpha = 1.0e-10\n",
      "  'setting alpha = %.1e' % _ALPHA_MIN)\n"
     ]
    },
    {
     "name": "stdout",
     "output_type": "stream",
     "text": [
      "Test score = 0.4946558358272766\n",
      "--------\n",
      "AxesSubplot(0.125,0.125;0.62x0.755)\n",
      "Best params = {'alpha': 0, 'fit_prior': True}\n",
      "----F1 Score, Recall, Precision----\n",
      "              precision    recall  f1-score   support\n",
      "\n",
      "           0       0.57      0.31      0.40       803\n",
      "           1       0.44      0.81      0.57       759\n",
      "           2       0.58      0.38      0.46       777\n",
      "\n",
      "    accuracy                           0.49      2339\n",
      "   macro avg       0.53      0.50      0.48      2339\n",
      "weighted avg       0.53      0.49      0.48      2339\n",
      "\n"
     ]
    },
    {
     "data": {
      "image/png": "[encoded data removed]",
      "text/plain": [
       "<Figure size 432x288 with 2 Axes>"
      ]
     },
     "metadata": {
      "needs_background": "light"
     },
     "output_type": "display_data"
    }
   ],
   "source": [
    "run_the_mn_models(\"mnb1\", X_train, X_test, Y_train, Y_test)"
   ]
  },
  {
   "cell_type": "code",
   "execution_count": 27,
   "metadata": {},
   "outputs": [
    {
     "name": "stdout",
     "output_type": "stream",
     "text": [
      "Fitting 5 folds for each of 3 candidates, totalling 15 fits\n",
      "Train score = 0.6075911536162583\n",
      "Test score = 0.5923344947735192\n"
     ]
    },
    {
     "name": "stderr",
     "output_type": "stream",
     "text": [
      "[Parallel(n_jobs=-1)]: Using backend LokyBackend with 8 concurrent workers.\n",
      "[Parallel(n_jobs=-1)]: Done  15 out of  15 | elapsed:    0.2s finished\n"
     ]
    },
    {
     "name": "stdout",
     "output_type": "stream",
     "text": [
      "--------\n",
      "AxesSubplot(0.125,0.125;0.62x0.755)\n",
      "Best params = {'alpha': 1, 'fit_prior': False}\n",
      "----F1 Score, Recall, Precision----\n",
      "              precision    recall  f1-score   support\n",
      "\n",
      "           0       0.37      0.49      0.42       337\n",
      "           1       0.75      0.63      0.69       770\n",
      "           2       0.59      0.60      0.60       328\n",
      "\n",
      "    accuracy                           0.59      1435\n",
      "   macro avg       0.57      0.57      0.57      1435\n",
      "weighted avg       0.62      0.59      0.60      1435\n",
      "\n"
     ]
    },
    {
     "data": {
      "image/png": "[encoded data removed]",
      "text/plain": [
       "<Figure size 432x288 with 2 Axes>"
      ]
     },
     "metadata": {
      "needs_background": "light"
     },
     "output_type": "display_data"
    }
   ],
   "source": [
    "run_the_mn_models(\"mnb2\", X_train, X_test, Y_train, Y_test)"
   ]
  },
  {
   "cell_type": "code",
   "execution_count": 28,
   "metadata": {},
   "outputs": [],
   "source": [
    "def run_the_lr_models(model, X_train, X_test, Y_tr, Y_te):\n",
    "    X_train_text_df, X_test_text_df, y_train, y_test = X_train, X_test, Y_tr, Y_te\n",
    "    \n",
    "    \n",
    "    if model == 'lr1':\n",
    "        \n",
    "        lr_1_params = {\n",
    "            'penalty': ['l1'],\n",
    "            'C': [1, 1.5, 2, 2.5],\n",
    "            'class_weight': ['balanced'],\n",
    "            'warm_start': [True, False],\n",
    "            'random_state': [42],\n",
    "            'solver': ['liblinear']}\n",
    "        \n",
    "        M = GridSearchCV(LogisticRegression(),\n",
    "                        lr_1_params,\n",
    "                        cv = 5,\n",
    "                        verbose = 1,\n",
    "                        n_jobs = -1)\n",
    "        \n",
    "    elif model == 'lr2':\n",
    "        \n",
    "        lr_2_params = {\n",
    "            'penalty': ['l2'],\n",
    "            'C': [1, 1.5, 2, 2.5],\n",
    "            'class_weight': ['balanced'],\n",
    "            'warm_start': [True, False],            \n",
    "            'random_state': [42],\n",
    "            'solver': ['lbfgs', 'liblinear']}\n",
    "        \n",
    "        M = GridSearchCV(LogisticRegression(),\n",
    "                        lr_2_params,\n",
    "                        cv = 5,\n",
    "                        verbose = 1,\n",
    "                        n_jobs = -1)\n",
    "\n",
    "    else:\n",
    "        print('There is an error.')\n",
    "        \n",
    "    M.fit(X_train_text_df.values, y_train)\n",
    "     \n",
    "    print(f'Train score = {M.score(X_train_text_df.values, y_train)}')\n",
    "    print(f'Test score = {M.score(X_test_text_df.values, y_test)}')\n",
    "    \n",
    "    predictions = M.predict(X_test_text_df.values)\n",
    "    predictions_train = M.predict(X_train_text_df.values)\n",
    "    print('--------')\n",
    "    print(skplt.plot_confusion_matrix(y_test, predictions))\n",
    "    print(f'Best params = {M.best_params_}')\n",
    "    print('----F1 Score, Recall, Precision----')\n",
    "    # print precision, recall, F1-score per each class/tag\n",
    "    print(classification_report(y_test, predictions))\n",
    "    \n",
    "#     print('----ROC AUC CURVE SCORE----')\n",
    "#     print(\"ROC AUC CURVE SCORE FOR TEST: \",roc_auc_score(y_test, predictions))\n",
    "#     print(\"ROC AUC CURVE SCORE FOR TRAIN: \",roc_auc_score(y_train, predictions_train))\n",
    "    \n",
    "#     print('----ROC AUC CURVE SCORE----')\n",
    "#     print(\"ROC AUC CURVE SCORE FOR TEST: \",roc_auc_score(y_test, predictions))\n",
    "#     print(\"ROC AUC CURVE SCORE FOR TRAIN: \",roc_auc_score(y_train, predictions_train))"
   ]
  },
  {
   "cell_type": "code",
   "execution_count": 29,
   "metadata": {
    "scrolled": false
   },
   "outputs": [
    {
     "name": "stdout",
     "output_type": "stream",
     "text": [
      "Fitting 5 folds for each of 8 candidates, totalling 40 fits\n"
     ]
    },
    {
     "name": "stderr",
     "output_type": "stream",
     "text": [
      "[Parallel(n_jobs=-1)]: Using backend LokyBackend with 8 concurrent workers.\n",
      "[Parallel(n_jobs=-1)]: Done  40 out of  40 | elapsed:    4.6s finished\n"
     ]
    },
    {
     "name": "stdout",
     "output_type": "stream",
     "text": [
      "Train score = 0.6482367005379558\n",
      "Test score = 0.627177700348432\n",
      "--------\n",
      "AxesSubplot(0.125,0.125;0.62x0.755)\n",
      "Best params = {'C': 2.5, 'class_weight': 'balanced', 'penalty': 'l1', 'random_state': 42, 'solver': 'liblinear', 'warm_start': True}\n",
      "----F1 Score, Recall, Precision----\n",
      "              precision    recall  f1-score   support\n",
      "\n",
      "           0       0.41      0.29      0.34       337\n",
      "           1       0.69      0.80      0.74       770\n",
      "           2       0.61      0.57      0.59       328\n",
      "\n",
      "    accuracy                           0.63      1435\n",
      "   macro avg       0.57      0.55      0.56      1435\n",
      "weighted avg       0.61      0.63      0.61      1435\n",
      "\n"
     ]
    },
    {
     "data": {
      "image/png": "[encoded data removed]",
      "text/plain": [
       "<Figure size 432x288 with 2 Axes>"
      ]
     },
     "metadata": {
      "needs_background": "light"
     },
     "output_type": "display_data"
    }
   ],
   "source": [
    "run_the_lr_models(\"lr1\", X_train, X_test, Y_train, Y_test)"
   ]
  },
  {
   "cell_type": "code",
   "execution_count": 30,
   "metadata": {},
   "outputs": [
    {
     "name": "stdout",
     "output_type": "stream",
     "text": [
      "Fitting 5 folds for each of 16 candidates, totalling 80 fits\n"
     ]
    },
    {
     "name": "stderr",
     "output_type": "stream",
     "text": [
      "[Parallel(n_jobs=-1)]: Using backend LokyBackend with 8 concurrent workers.\n",
      "[Parallel(n_jobs=-1)]: Done  34 tasks      | elapsed:    1.3s\n",
      "[Parallel(n_jobs=-1)]: Done  80 out of  80 | elapsed:    2.9s finished\n"
     ]
    },
    {
     "name": "stdout",
     "output_type": "stream",
     "text": [
      "Train score = 0.6482367005379558\n",
      "Test score = 0.6285714285714286\n",
      "--------\n",
      "AxesSubplot(0.125,0.125;0.62x0.755)\n",
      "Best params = {'C': 1, 'class_weight': 'balanced', 'penalty': 'l2', 'random_state': 42, 'solver': 'liblinear', 'warm_start': True}\n",
      "----F1 Score, Recall, Precision----\n",
      "              precision    recall  f1-score   support\n",
      "\n",
      "           0       0.41      0.28      0.33       337\n",
      "           1       0.69      0.81      0.74       770\n",
      "           2       0.63      0.57      0.60       328\n",
      "\n",
      "    accuracy                           0.63      1435\n",
      "   macro avg       0.57      0.55      0.56      1435\n",
      "weighted avg       0.61      0.63      0.61      1435\n",
      "\n"
     ]
    },
    {
     "data": {
      "image/png": "[encoded data removed]",
      "text/plain": [
       "<Figure size 432x288 with 2 Axes>"
      ]
     },
     "metadata": {
      "needs_background": "light"
     },
     "output_type": "display_data"
    }
   ],
   "source": [
    "run_the_lr_models(\"lr2\", X_train, X_test, Y_train, Y_test)"
   ]
  },
  {
   "cell_type": "code",
   "execution_count": 31,
   "metadata": {},
   "outputs": [],
   "source": [
    "def run_the_sv_models(model, X_train, X_test, Y_tr, Y_te):   \n",
    "    X_train_text_df, X_test_text_df, y_train, y_test = X_train, X_test, Y_tr, Y_te\n",
    "    \n",
    "    if model == 'sv1':\n",
    "        \n",
    "        sv_params = {\n",
    "            'kernel': ['rbf'], \n",
    "            'gamma': [1e-3, 1e-4],\n",
    "            'C': [1, 10, 100, 1000] }\n",
    "        \n",
    "        M = GridSearchCV(SVC(probability=True),\n",
    "                        sv_params,\n",
    "                        cv = 5,\n",
    "                        verbose = 1,\n",
    "                        n_jobs = -1)\n",
    "        \n",
    "    elif model == 'sv2':\n",
    "        \n",
    "        \n",
    "        sv_params = {\n",
    "            'kernel': ['rbf'], \n",
    "            'gamma': [0.01, 1, 10, 100],\n",
    "            'C': [1, 10, 100, 1000] }\n",
    "\n",
    "        M = GridSearchCV(SVC(probability=True),\n",
    "                        sv_params,\n",
    "                        cv = 5,\n",
    "                        verbose = 1,\n",
    "                        n_jobs = -1)\n",
    "        \n",
    "    else:\n",
    "        print(\"Invalid Model!\")\n",
    "        \n",
    "    M.fit(X_train_text_df.values, y_train)\n",
    "      \n",
    "    #save in pickle file\n",
    "    joblib.dump(M, \"SVM_TFIDF.pkl\")\n",
    "     \n",
    "    print(f'Train score = {M.score(X_train_text_df.values, y_train)}')\n",
    "    print(f'Test score = {M.score(X_test_text_df.values, y_test)}')\n",
    "    \n",
    "    predictions = M.predict(X_test_text_df.values)\n",
    "    predictions_train = M.predict(X_train_text_df.values)\n",
    "    \n",
    "    print('--------')\n",
    "    print(skplt.plot_confusion_matrix(y_test, predictions))\n",
    "    print(f'Best params = {M.best_params_}')\n",
    "    print('----F1 Score, Recall, Precision----')\n",
    "    # print precision, recall, F1-score per each class/tag\n",
    "    print(classification_report(y_test, predictions))\n",
    "#     print('----ROC AUC CURVE SCORE----')\n",
    "#     print(\"ROC AUC CURVE SCORE FOR TEST: \",roc_auc_score(y_test, predictions))\n",
    "#     print(\"ROC AUC CURVE SCORE FOR TRAIN: \",roc_auc_score(y_train, predictions_train))"
   ]
  },
  {
   "cell_type": "code",
   "execution_count": 32,
   "metadata": {},
   "outputs": [
    {
     "name": "stdout",
     "output_type": "stream",
     "text": [
      "Fitting 5 folds for each of 8 candidates, totalling 40 fits\n"
     ]
    },
    {
     "name": "stderr",
     "output_type": "stream",
     "text": [
      "[Parallel(n_jobs=-1)]: Using backend LokyBackend with 8 concurrent workers.\n",
      "[Parallel(n_jobs=-1)]: Done  40 out of  40 | elapsed:   41.3s finished\n"
     ]
    },
    {
     "name": "stdout",
     "output_type": "stream",
     "text": [
      "Train score = 0.6398684997011357\n",
      "Test score = 0.6327526132404181\n",
      "--------\n",
      "AxesSubplot(0.125,0.125;0.62x0.755)\n",
      "Best params = {'C': 1000, 'gamma': 0.001, 'kernel': 'rbf'}\n",
      "----F1 Score, Recall, Precision----\n",
      "              precision    recall  f1-score   support\n",
      "\n",
      "           0       0.46      0.11      0.18       337\n",
      "           1       0.64      0.90      0.75       770\n",
      "           2       0.66      0.53      0.59       328\n",
      "\n",
      "    accuracy                           0.63      1435\n",
      "   macro avg       0.58      0.52      0.51      1435\n",
      "weighted avg       0.60      0.63      0.58      1435\n",
      "\n"
     ]
    },
    {
     "data": {
      "image/png": "[encoded data removed]",
      "text/plain": [
       "<Figure size 432x288 with 2 Axes>"
      ]
     },
     "metadata": {
      "needs_background": "light"
     },
     "output_type": "display_data"
    }
   ],
   "source": [
    "run_the_sv_models(\"sv1\", X_train, X_test, Y_train, Y_test)"
   ]
  },
  {
   "cell_type": "code",
   "execution_count": 33,
   "metadata": {},
   "outputs": [
    {
     "name": "stdout",
     "output_type": "stream",
     "text": [
      "Fitting 5 folds for each of 16 candidates, totalling 80 fits\n"
     ]
    },
    {
     "name": "stderr",
     "output_type": "stream",
     "text": [
      "[Parallel(n_jobs=-1)]: Using backend LokyBackend with 8 concurrent workers.\n",
      "[Parallel(n_jobs=-1)]: Done  34 tasks      | elapsed:   45.5s\n",
      "[Parallel(n_jobs=-1)]: Done  80 out of  80 | elapsed:  2.8min finished\n"
     ]
    },
    {
     "name": "stdout",
     "output_type": "stream",
     "text": [
      "Train score = 0.6601912731619844\n",
      "Test score = 0.6390243902439025\n",
      "--------\n",
      "AxesSubplot(0.125,0.125;0.62x0.755)\n",
      "Best params = {'C': 1, 'gamma': 1, 'kernel': 'rbf'}\n",
      "----F1 Score, Recall, Precision----\n",
      "              precision    recall  f1-score   support\n",
      "\n",
      "           0       0.47      0.17      0.25       337\n",
      "           1       0.65      0.90      0.75       770\n",
      "           2       0.69      0.51      0.58       328\n",
      "\n",
      "    accuracy                           0.64      1435\n",
      "   macro avg       0.60      0.53      0.53      1435\n",
      "weighted avg       0.62      0.64      0.60      1435\n",
      "\n"
     ]
    },
    {
     "data": {
      "image/png": "[encoded data removed]",
      "text/plain": [
       "<Figure size 432x288 with 2 Axes>"
      ]
     },
     "metadata": {
      "needs_background": "light"
     },
     "output_type": "display_data"
    }
   ],
   "source": [
    "run_the_sv_models(\"sv2\", X_train, X_test, Y_train, Y_test)"
   ]
  },
  {
   "cell_type": "markdown",
   "metadata": {},
   "source": [
    "## Average w2v"
   ]
  },
  {
   "cell_type": "code",
   "execution_count": 34,
   "metadata": {},
   "outputs": [
    {
     "data": {
      "text/html": [
       "<div>\n",
       "<style scoped>\n",
       "    .dataframe tbody tr th:only-of-type {\n",
       "        vertical-align: middle;\n",
       "    }\n",
       "\n",
       "    .dataframe tbody tr th {\n",
       "        vertical-align: top;\n",
       "    }\n",
       "\n",
       "    .dataframe thead th {\n",
       "        text-align: right;\n",
       "    }\n",
       "</style>\n",
       "<table border=\"1\" class=\"dataframe\">\n",
       "  <thead>\n",
       "    <tr style=\"text-align: right;\">\n",
       "      <th></th>\n",
       "      <th>0</th>\n",
       "      <th>1</th>\n",
       "      <th>2</th>\n",
       "      <th>3</th>\n",
       "      <th>4</th>\n",
       "      <th>5</th>\n",
       "      <th>6</th>\n",
       "      <th>7</th>\n",
       "      <th>8</th>\n",
       "      <th>9</th>\n",
       "      <th>...</th>\n",
       "      <th>91</th>\n",
       "      <th>92</th>\n",
       "      <th>93</th>\n",
       "      <th>94</th>\n",
       "      <th>95</th>\n",
       "      <th>96</th>\n",
       "      <th>97</th>\n",
       "      <th>98</th>\n",
       "      <th>99</th>\n",
       "      <th>Sub-task B</th>\n",
       "    </tr>\n",
       "  </thead>\n",
       "  <tbody>\n",
       "    <tr>\n",
       "      <th>0</th>\n",
       "      <td>7.848180e-01</td>\n",
       "      <td>-3.444930e-01</td>\n",
       "      <td>-5.707929e-01</td>\n",
       "      <td>1.210850e-01</td>\n",
       "      <td>-5.372170e-01</td>\n",
       "      <td>-2.780787e-01</td>\n",
       "      <td>-9.935668e-02</td>\n",
       "      <td>5.370223e-01</td>\n",
       "      <td>3.032898e-01</td>\n",
       "      <td>7.822035e-01</td>\n",
       "      <td>...</td>\n",
       "      <td>-7.461725e-01</td>\n",
       "      <td>5.004490e-01</td>\n",
       "      <td>-2.325466e-02</td>\n",
       "      <td>-8.031860e-01</td>\n",
       "      <td>3.144660e-02</td>\n",
       "      <td>-1.143080e-01</td>\n",
       "      <td>3.141910e-01</td>\n",
       "      <td>7.000862e-01</td>\n",
       "      <td>-7.799566e-01</td>\n",
       "      <td>1</td>\n",
       "    </tr>\n",
       "    <tr>\n",
       "      <th>1</th>\n",
       "      <td>9.581153e-02</td>\n",
       "      <td>-5.825031e-01</td>\n",
       "      <td>6.808935e-02</td>\n",
       "      <td>-1.683809e-01</td>\n",
       "      <td>-3.754892e-01</td>\n",
       "      <td>2.467435e-01</td>\n",
       "      <td>-2.298646e-01</td>\n",
       "      <td>-2.665692e-01</td>\n",
       "      <td>3.012735e-01</td>\n",
       "      <td>7.918393e-02</td>\n",
       "      <td>...</td>\n",
       "      <td>-4.658860e-01</td>\n",
       "      <td>4.369069e-01</td>\n",
       "      <td>6.142002e-01</td>\n",
       "      <td>3.838026e-02</td>\n",
       "      <td>2.004837e-01</td>\n",
       "      <td>3.530698e-01</td>\n",
       "      <td>-1.604120e-01</td>\n",
       "      <td>4.871700e-03</td>\n",
       "      <td>-1.069372e+00</td>\n",
       "      <td>1</td>\n",
       "    </tr>\n",
       "    <tr>\n",
       "      <th>2</th>\n",
       "      <td>-1.091181e+08</td>\n",
       "      <td>-1.905036e+08</td>\n",
       "      <td>-3.034531e+08</td>\n",
       "      <td>1.050654e+08</td>\n",
       "      <td>-5.903975e+07</td>\n",
       "      <td>1.970995e+08</td>\n",
       "      <td>-1.785423e+08</td>\n",
       "      <td>-1.731313e+08</td>\n",
       "      <td>-1.045265e+08</td>\n",
       "      <td>1.402991e+08</td>\n",
       "      <td>...</td>\n",
       "      <td>-1.519406e+08</td>\n",
       "      <td>3.556956e+08</td>\n",
       "      <td>8.763659e+07</td>\n",
       "      <td>3.865333e+07</td>\n",
       "      <td>4.271486e+07</td>\n",
       "      <td>3.095787e+08</td>\n",
       "      <td>-5.015800e+06</td>\n",
       "      <td>-4.440314e+07</td>\n",
       "      <td>-3.504505e+08</td>\n",
       "      <td>1</td>\n",
       "    </tr>\n",
       "    <tr>\n",
       "      <th>3</th>\n",
       "      <td>1.466341e-01</td>\n",
       "      <td>-8.815482e-01</td>\n",
       "      <td>-7.447177e-01</td>\n",
       "      <td>-2.743069e-01</td>\n",
       "      <td>2.399700e-01</td>\n",
       "      <td>5.289561e-01</td>\n",
       "      <td>-1.118433e+00</td>\n",
       "      <td>-4.378771e-02</td>\n",
       "      <td>-4.614308e-01</td>\n",
       "      <td>7.397382e-01</td>\n",
       "      <td>...</td>\n",
       "      <td>-8.782956e-01</td>\n",
       "      <td>4.705104e-01</td>\n",
       "      <td>7.545687e-01</td>\n",
       "      <td>4.751206e-01</td>\n",
       "      <td>-1.472222e-01</td>\n",
       "      <td>8.496573e-01</td>\n",
       "      <td>4.614123e-01</td>\n",
       "      <td>1.751383e-01</td>\n",
       "      <td>-6.698952e-01</td>\n",
       "      <td>0</td>\n",
       "    </tr>\n",
       "    <tr>\n",
       "      <th>4</th>\n",
       "      <td>-3.273008e-02</td>\n",
       "      <td>-7.582019e-01</td>\n",
       "      <td>-2.961928e-01</td>\n",
       "      <td>1.466867e-01</td>\n",
       "      <td>1.142536e+00</td>\n",
       "      <td>4.792697e-01</td>\n",
       "      <td>-1.263252e+00</td>\n",
       "      <td>-6.344965e-01</td>\n",
       "      <td>4.669824e-01</td>\n",
       "      <td>5.609433e-01</td>\n",
       "      <td>...</td>\n",
       "      <td>-5.395635e-01</td>\n",
       "      <td>8.391700e-01</td>\n",
       "      <td>1.031326e+00</td>\n",
       "      <td>-1.684052e+00</td>\n",
       "      <td>1.006702e+00</td>\n",
       "      <td>1.994984e+00</td>\n",
       "      <td>3.190465e-01</td>\n",
       "      <td>-8.954187e-03</td>\n",
       "      <td>-5.886744e-01</td>\n",
       "      <td>1</td>\n",
       "    </tr>\n",
       "  </tbody>\n",
       "</table>\n",
       "<p>5 rows × 101 columns</p>\n",
       "</div>"
      ],
      "text/plain": [
       "              0             1             2             3             4  \\\n",
       "0  7.848180e-01 -3.444930e-01 -5.707929e-01  1.210850e-01 -5.372170e-01   \n",
       "1  9.581153e-02 -5.825031e-01  6.808935e-02 -1.683809e-01 -3.754892e-01   \n",
       "2 -1.091181e+08 -1.905036e+08 -3.034531e+08  1.050654e+08 -5.903975e+07   \n",
       "3  1.466341e-01 -8.815482e-01 -7.447177e-01 -2.743069e-01  2.399700e-01   \n",
       "4 -3.273008e-02 -7.582019e-01 -2.961928e-01  1.466867e-01  1.142536e+00   \n",
       "\n",
       "              5             6             7             8             9  ...  \\\n",
       "0 -2.780787e-01 -9.935668e-02  5.370223e-01  3.032898e-01  7.822035e-01  ...   \n",
       "1  2.467435e-01 -2.298646e-01 -2.665692e-01  3.012735e-01  7.918393e-02  ...   \n",
       "2  1.970995e+08 -1.785423e+08 -1.731313e+08 -1.045265e+08  1.402991e+08  ...   \n",
       "3  5.289561e-01 -1.118433e+00 -4.378771e-02 -4.614308e-01  7.397382e-01  ...   \n",
       "4  4.792697e-01 -1.263252e+00 -6.344965e-01  4.669824e-01  5.609433e-01  ...   \n",
       "\n",
       "             91            92            93            94            95  \\\n",
       "0 -7.461725e-01  5.004490e-01 -2.325466e-02 -8.031860e-01  3.144660e-02   \n",
       "1 -4.658860e-01  4.369069e-01  6.142002e-01  3.838026e-02  2.004837e-01   \n",
       "2 -1.519406e+08  3.556956e+08  8.763659e+07  3.865333e+07  4.271486e+07   \n",
       "3 -8.782956e-01  4.705104e-01  7.545687e-01  4.751206e-01 -1.472222e-01   \n",
       "4 -5.395635e-01  8.391700e-01  1.031326e+00 -1.684052e+00  1.006702e+00   \n",
       "\n",
       "             96            97            98            99  Sub-task B  \n",
       "0 -1.143080e-01  3.141910e-01  7.000862e-01 -7.799566e-01           1  \n",
       "1  3.530698e-01 -1.604120e-01  4.871700e-03 -1.069372e+00           1  \n",
       "2  3.095787e+08 -5.015800e+06 -4.440314e+07 -3.504505e+08           1  \n",
       "3  8.496573e-01  4.614123e-01  1.751383e-01 -6.698952e-01           0  \n",
       "4  1.994984e+00  3.190465e-01 -8.954187e-03 -5.886744e-01           1  \n",
       "\n",
       "[5 rows x 101 columns]"
      ]
     },
     "execution_count": 34,
     "metadata": {},
     "output_type": "execute_result"
    }
   ],
   "source": [
    "train_df = pd.read_csv(\"../Data/ben_train_avg_w2v.csv\")\n",
    "test_df = pd.read_csv(\"../Data/ben_test_avg_w2v.csv\")\n",
    "X_train = train_df.drop(columns=[\"Y\"])\n",
    "Y_train = train_df[\"Y\"]\n",
    "X_test = test_df.drop(columns=[\"Y\"])\n",
    "Y_test = test_df[\"Y\"]\n",
    "X_train.head()"
   ]
  },
  {
   "cell_type": "code",
   "execution_count": 35,
   "metadata": {},
   "outputs": [],
   "source": [
    "scaler = MinMaxScaler()\n",
    "scaler.fit(X_train)\n",
    "scaler.partial_fit(X_test)\n",
    "X_train_tf = scaler.transform(X_train)\n",
    "X_test_tf = scaler.transform(X_test)"
   ]
  },
  {
   "cell_type": "code",
   "execution_count": 36,
   "metadata": {},
   "outputs": [],
   "source": [
    "def run_the_mn_models(model, X_train, X_test, Y_tr, Y_te):\n",
    "    X_train_text_df, X_test_text_df, y_train, y_test = X_train, X_test, Y_tr, Y_te\n",
    "    \n",
    "    if model == 'mnb1':\n",
    "        \n",
    "        mn_params = {\n",
    "            'fit_prior': [True],\n",
    "            'alpha': [0, 0.5, 1]}\n",
    "        \n",
    "        M = GridSearchCV(MultinomialNB(),\n",
    "                        mn_params,\n",
    "                        cv = 5,\n",
    "                        verbose = 1,\n",
    "                        n_jobs = -1)\n",
    "        \n",
    "    elif model == 'mnb2':\n",
    "        \n",
    "         mn_params = {\n",
    "            'fit_prior': [False],\n",
    "            'alpha': [0, 0.5, 1]}\n",
    "        \n",
    "         M = GridSearchCV(MultinomialNB(),\n",
    "                        mn_params,\n",
    "                        cv = 5,\n",
    "                        verbose = 1,\n",
    "                        n_jobs = -1)\n",
    "        \n",
    "    else:\n",
    "        print('There is an error.')\n",
    "        \n",
    "    M.fit(X_train_text_df, y_train)\n",
    "     \n",
    "    print(f'Train score = {M.score(X_train_text_df, y_train)}')\n",
    "    print(f'Test score = {M.score(X_test_text_df, y_test)}')\n",
    "    \n",
    "    predictions = M.predict(X_test_text_df)\n",
    "    predictions_train = M.predict(X_train_text_df)\n",
    "    print('--------')\n",
    "    print(skplt.plot_confusion_matrix(y_test, predictions))\n",
    "    print(f'Best params = {M.best_params_}')\n",
    "    print('----F1 Score, Recall, Precision----')\n",
    "    # print precision, recall, F1-score per each class/tag\n",
    "    print(classification_report(y_test, predictions))\n",
    "    \n",
    "#     #skplt.plot_roc_curve(predictions,y_test)\n",
    "#     print('----ROC AUC CURVE SCORE----')\n",
    "#     print(\"ROC AUC CURVE SCORE FOR TEST: \",roc_auc_score(y_test, predictions))\n",
    "#     print(\"ROC AUC CURVE SCORE FOR TRAIN: \",roc_auc_score(y_train, predictions_train))"
   ]
  },
  {
   "cell_type": "code",
   "execution_count": 58,
   "metadata": {},
   "outputs": [
    {
     "name": "stdout",
     "output_type": "stream",
     "text": [
      "Fitting 5 folds for each of 3 candidates, totalling 15 fits\n",
      "Train score = 0.5092575618698442\n",
      "Test score = 0.49380076955964086\n",
      "--------\n"
     ]
    },
    {
     "name": "stderr",
     "output_type": "stream",
     "text": [
      "[Parallel(n_jobs=-1)]: Using backend LokyBackend with 8 concurrent workers.\n",
      "[Parallel(n_jobs=-1)]: Done  15 out of  15 | elapsed:    0.1s finished\n"
     ]
    },
    {
     "name": "stdout",
     "output_type": "stream",
     "text": [
      "AxesSubplot(0.125,0.125;0.62x0.755)\n",
      "Best params = {'alpha': 1, 'fit_prior': True}\n",
      "----F1 Score, Recall, Precision----\n",
      "              precision    recall  f1-score   support\n",
      "\n",
      "           0       0.55      0.33      0.42       803\n",
      "           1       0.44      0.82      0.58       759\n",
      "           2       0.59      0.33      0.43       777\n",
      "\n",
      "    accuracy                           0.49      2339\n",
      "   macro avg       0.53      0.50      0.47      2339\n",
      "weighted avg       0.53      0.49      0.47      2339\n",
      "\n"
     ]
    },
    {
     "data": {
      "image/png": "[encoded data removed]",
      "text/plain": [
       "<Figure size 432x288 with 2 Axes>"
      ]
     },
     "metadata": {
      "needs_background": "light"
     },
     "output_type": "display_data"
    }
   ],
   "source": [
    "run_the_mn_models(\"mnb1\", X_train_tf, X_test_tf, Y_train, Y_test)"
   ]
  },
  {
   "cell_type": "code",
   "execution_count": 59,
   "metadata": {},
   "outputs": [
    {
     "name": "stdout",
     "output_type": "stream",
     "text": [
      "Fitting 5 folds for each of 3 candidates, totalling 15 fits\n",
      "Train score = 0.5217231897341889\n",
      "Test score = 0.4997862334330911\n",
      "--------\n"
     ]
    },
    {
     "name": "stderr",
     "output_type": "stream",
     "text": [
      "[Parallel(n_jobs=-1)]: Using backend LokyBackend with 8 concurrent workers.\n",
      "[Parallel(n_jobs=-1)]: Done  15 out of  15 | elapsed:    0.1s finished\n"
     ]
    },
    {
     "name": "stdout",
     "output_type": "stream",
     "text": [
      "AxesSubplot(0.125,0.125;0.62x0.755)\n",
      "Best params = {'alpha': 0.5, 'fit_prior': False}\n",
      "----F1 Score, Recall, Precision----\n",
      "              precision    recall  f1-score   support\n",
      "\n",
      "           0       0.43      0.39      0.41       803\n",
      "           1       0.51      0.79      0.62       759\n",
      "           2       0.60      0.33      0.42       777\n",
      "\n",
      "    accuracy                           0.50      2339\n",
      "   macro avg       0.51      0.50      0.48      2339\n",
      "weighted avg       0.51      0.50      0.48      2339\n",
      "\n"
     ]
    },
    {
     "data": {
      "image/png": "[encoded data removed]",
      "text/plain": [
       "<Figure size 432x288 with 2 Axes>"
      ]
     },
     "metadata": {
      "needs_background": "light"
     },
     "output_type": "display_data"
    }
   ],
   "source": [
    "run_the_mn_models(\"mnb2\", X_train_tf, X_test_tf, Y_train, Y_test)"
   ]
  },
  {
   "cell_type": "code",
   "execution_count": 39,
   "metadata": {},
   "outputs": [],
   "source": [
    "def run_the_lr_models(model, X_train, X_test, Y_tr, Y_te):\n",
    "    X_train_text_df, X_test_text_df, y_train, y_test = X_train, X_test, Y_tr, Y_te\n",
    "    \n",
    "    \n",
    "    if model == 'lr1':\n",
    "        \n",
    "        lr_1_params = {\n",
    "            'penalty': ['l1'],\n",
    "            'C': [1, 1.5, 2, 2.5],\n",
    "            'class_weight': ['balanced'],\n",
    "            'warm_start': [True, False],\n",
    "            'random_state': [42],\n",
    "            'solver': ['liblinear']}\n",
    "        \n",
    "        M = GridSearchCV(LogisticRegression(),\n",
    "                        lr_1_params,\n",
    "                        cv = 5,\n",
    "                        verbose = 1,\n",
    "                        n_jobs = -1)\n",
    "        \n",
    "    elif model == 'lr2':\n",
    "        \n",
    "        lr_2_params = {\n",
    "            'penalty': ['l2'],\n",
    "            'C': [1, 1.5, 2, 2.5],\n",
    "            'class_weight': ['balanced'],\n",
    "            'warm_start': [True, False],            \n",
    "            'random_state': [42],\n",
    "            'solver': ['lbfgs', 'liblinear']}\n",
    "        \n",
    "        M = GridSearchCV(LogisticRegression(),\n",
    "                        lr_2_params,\n",
    "                        cv = 5,\n",
    "                        verbose = 1,\n",
    "                        n_jobs = -1)\n",
    "\n",
    "    else:\n",
    "        print('There is an error.')\n",
    "        \n",
    "    M.fit(X_train_text_df.values, y_train)\n",
    "     \n",
    "    print(f'Train score = {M.score(X_train_text_df.values, y_train)}')\n",
    "    print(f'Test score = {M.score(X_test_text_df.values, y_test)}')\n",
    "    \n",
    "    predictions = M.predict(X_test_text_df.values)\n",
    "    predictions_train = M.predict(X_train_text_df.values)\n",
    "    print('--------')\n",
    "    print(skplt.plot_confusion_matrix(y_test, predictions))\n",
    "    print(f'Best params = {M.best_params_}')\n",
    "    print('----F1 Score, Recall, Precision----')\n",
    "    # print precision, recall, F1-score per each class/tag\n",
    "    print(classification_report(y_test, predictions))\n",
    "    \n",
    "#     print('----ROC AUC CURVE SCORE----')\n",
    "#     print(\"ROC AUC CURVE SCORE FOR TEST: \",roc_auc_score(y_test, predictions))\n",
    "#     print(\"ROC AUC CURVE SCORE FOR TRAIN: \",roc_auc_score(y_train, predictions_train))\n",
    "    \n",
    "#     print('----ROC AUC CURVE SCORE----')\n",
    "#     print(\"ROC AUC CURVE SCORE FOR TEST: \",roc_auc_score(y_test, predictions))\n",
    "#     print(\"ROC AUC CURVE SCORE FOR TRAIN: \",roc_auc_score(y_train, predictions_train))"
   ]
  },
  {
   "cell_type": "code",
   "execution_count": 57,
   "metadata": {},
   "outputs": [
    {
     "name": "stdout",
     "output_type": "stream",
     "text": [
      "Fitting 5 folds for each of 8 candidates, totalling 40 fits\n"
     ]
    },
    {
     "name": "stderr",
     "output_type": "stream",
     "text": [
      "[Parallel(n_jobs=-1)]: Using backend LokyBackend with 8 concurrent workers.\n",
      "[Parallel(n_jobs=-1)]: Done  40 out of  40 | elapsed:    0.4s finished\n"
     ]
    },
    {
     "name": "stdout",
     "output_type": "stream",
     "text": [
      "Train score = 0.6012832263978002\n",
      "Test score = 0.582727661393758\n",
      "--------\n",
      "AxesSubplot(0.125,0.125;0.62x0.755)\n",
      "Best params = {'C': 2.5, 'class_weight': 'balanced', 'penalty': 'l1', 'random_state': 42, 'solver': 'liblinear', 'warm_start': True}\n",
      "----F1 Score, Recall, Precision----\n",
      "              precision    recall  f1-score   support\n",
      "\n",
      "           0       0.59      0.42      0.49       803\n",
      "           1       0.51      0.78      0.61       759\n",
      "           2       0.73      0.56      0.63       777\n",
      "\n",
      "    accuracy                           0.58      2339\n",
      "   macro avg       0.61      0.59      0.58      2339\n",
      "weighted avg       0.61      0.58      0.58      2339\n",
      "\n"
     ]
    },
    {
     "data": {
      "image/png": "[encoded data removed]",
      "text/plain": [
       "<Figure size 432x288 with 2 Axes>"
      ]
     },
     "metadata": {
      "needs_background": "light"
     },
     "output_type": "display_data"
    }
   ],
   "source": [
    "run_the_lr_models(\"lr1\", X_train, X_test, Y_train, Y_test)"
   ]
  },
  {
   "cell_type": "code",
   "execution_count": 56,
   "metadata": {},
   "outputs": [
    {
     "name": "stdout",
     "output_type": "stream",
     "text": [
      "Fitting 5 folds for each of 16 candidates, totalling 80 fits\n"
     ]
    },
    {
     "name": "stderr",
     "output_type": "stream",
     "text": [
      "[Parallel(n_jobs=-1)]: Using backend LokyBackend with 8 concurrent workers.\n",
      "[Parallel(n_jobs=-1)]: Done  34 tasks      | elapsed:    2.3s\n",
      "[Parallel(n_jobs=-1)]: Done  80 out of  80 | elapsed:    3.6s finished\n"
     ]
    },
    {
     "name": "stdout",
     "output_type": "stream",
     "text": [
      "Train score = 0.6018331805682859\n",
      "Test score = 0.582727661393758\n",
      "--------\n",
      "AxesSubplot(0.125,0.125;0.62x0.755)\n",
      "Best params = {'C': 1.5, 'class_weight': 'balanced', 'penalty': 'l2', 'random_state': 42, 'solver': 'liblinear', 'warm_start': True}\n",
      "----F1 Score, Recall, Precision----\n",
      "              precision    recall  f1-score   support\n",
      "\n",
      "           0       0.59      0.42      0.49       803\n",
      "           1       0.51      0.78      0.61       759\n",
      "           2       0.73      0.56      0.63       777\n",
      "\n",
      "    accuracy                           0.58      2339\n",
      "   macro avg       0.61      0.59      0.58      2339\n",
      "weighted avg       0.61      0.58      0.58      2339\n",
      "\n"
     ]
    },
    {
     "data": {
      "image/png": "[encoded data removed]",
      "text/plain": [
       "<Figure size 432x288 with 2 Axes>"
      ]
     },
     "metadata": {
      "needs_background": "light"
     },
     "output_type": "display_data"
    }
   ],
   "source": [
    "run_the_lr_models(\"lr2\", X_train, X_test, Y_train, Y_test)"
   ]
  },
  {
   "cell_type": "code",
   "execution_count": 42,
   "metadata": {},
   "outputs": [],
   "source": [
    "def run_the_sv_models(model, X_train, X_test, Y_tr, Y_te):   \n",
    "    X_train_text_df, X_test_text_df, y_train, y_test = X_train, X_test, Y_tr, Y_te\n",
    "    \n",
    "    if model == 'sv1':\n",
    "        \n",
    "        sv_params = {\n",
    "            'kernel': ['rbf'], \n",
    "            'gamma': [1e-3, 1e-4],\n",
    "            'C': [1, 10, 100, 1000] }\n",
    "        \n",
    "        M = GridSearchCV(SVC(probability=True),\n",
    "                        sv_params,\n",
    "                        cv = 5,\n",
    "                        verbose = 1,\n",
    "                        n_jobs = -1)\n",
    "        \n",
    "    elif model == 'sv2':\n",
    "        \n",
    "        \n",
    "        sv_params = {\n",
    "            'kernel': ['rbf'], \n",
    "            'gamma': [0.01, 1, 10, 100],\n",
    "            'C': [1, 10, 100, 1000] }\n",
    "\n",
    "        M = GridSearchCV(SVC(probability=True),\n",
    "                        sv_params,\n",
    "                        cv = 5,\n",
    "                        verbose = 1,\n",
    "                        n_jobs = -1)\n",
    "        \n",
    "    else:\n",
    "        print(\"Invalid Model!\")\n",
    "        \n",
    "    M.fit(X_train_text_df.values, y_train)\n",
    "      \n",
    "    #save in pickle file\n",
    "    joblib.dump(M, \"SVM_TFIDF.pkl\")\n",
    "     \n",
    "    print(f'Train score = {M.score(X_train_text_df.values, y_train)}')\n",
    "    print(f'Test score = {M.score(X_test_text_df.values, y_test)}')\n",
    "    \n",
    "    predictions = M.predict(X_test_text_df.values)\n",
    "    predictions_train = M.predict(X_train_text_df.values)\n",
    "    \n",
    "    print('--------')\n",
    "    print(skplt.plot_confusion_matrix(y_test, predictions))\n",
    "    print(f'Best params = {M.best_params_}')\n",
    "    print('----F1 Score, Recall, Precision----')\n",
    "    # print precision, recall, F1-score per each class/tag\n",
    "    print(classification_report(y_test, predictions))\n",
    "#     print('----ROC AUC CURVE SCORE----')\n",
    "#     print(\"ROC AUC CURVE SCORE FOR TEST: \",roc_auc_score(y_test, predictions))\n",
    "#     print(\"ROC AUC CURVE SCORE FOR TRAIN: \",roc_auc_score(y_train, predictions_train))"
   ]
  },
  {
   "cell_type": "code",
   "execution_count": 54,
   "metadata": {
    "scrolled": false
   },
   "outputs": [
    {
     "name": "stdout",
     "output_type": "stream",
     "text": [
      "Fitting 5 folds for each of 8 candidates, totalling 40 fits\n"
     ]
    },
    {
     "name": "stderr",
     "output_type": "stream",
     "text": [
      "[Parallel(n_jobs=-1)]: Using backend LokyBackend with 8 concurrent workers.\n",
      "[Parallel(n_jobs=-1)]: Done  40 out of  40 | elapsed:  1.4min finished\n"
     ]
    },
    {
     "name": "stdout",
     "output_type": "stream",
     "text": [
      "Train score = 0.6042163153070578\n",
      "Test score = 0.5865754595981189\n",
      "--------\n",
      "AxesSubplot(0.125,0.125;0.62x0.755)\n",
      "Best params = {'C': 1000, 'gamma': 0.001, 'kernel': 'rbf'}\n",
      "----F1 Score, Recall, Precision----\n",
      "              precision    recall  f1-score   support\n",
      "\n",
      "           0       0.60      0.41      0.49       803\n",
      "           1       0.51      0.81      0.62       759\n",
      "           2       0.74      0.55      0.63       777\n",
      "\n",
      "    accuracy                           0.59      2339\n",
      "   macro avg       0.62      0.59      0.58      2339\n",
      "weighted avg       0.62      0.59      0.58      2339\n",
      "\n"
     ]
    },
    {
     "data": {
      "image/png": "[encoded data removed]",
      "text/plain": [
       "<Figure size 432x288 with 2 Axes>"
      ]
     },
     "metadata": {
      "needs_background": "light"
     },
     "output_type": "display_data"
    }
   ],
   "source": [
    "run_the_sv_models(\"sv1\", X_train, X_test, Y_train, Y_test)"
   ]
  },
  {
   "cell_type": "code",
   "execution_count": 55,
   "metadata": {
    "scrolled": false
   },
   "outputs": [
    {
     "name": "stdout",
     "output_type": "stream",
     "text": [
      "Fitting 5 folds for each of 16 candidates, totalling 80 fits\n"
     ]
    },
    {
     "name": "stderr",
     "output_type": "stream",
     "text": [
      "[Parallel(n_jobs=-1)]: Using backend LokyBackend with 8 concurrent workers.\n",
      "[Parallel(n_jobs=-1)]: Done  34 tasks      | elapsed:  1.2min\n",
      "[Parallel(n_jobs=-1)]: Done  80 out of  80 | elapsed:  2.7min finished\n"
     ]
    },
    {
     "name": "stdout",
     "output_type": "stream",
     "text": [
      "Train score = 0.7527039413382218\n",
      "Test score = 0.6648140230867893\n",
      "--------\n",
      "AxesSubplot(0.125,0.125;0.62x0.755)\n",
      "Best params = {'C': 10, 'gamma': 1, 'kernel': 'rbf'}\n",
      "----F1 Score, Recall, Precision----\n",
      "              precision    recall  f1-score   support\n",
      "\n",
      "           0       0.71      0.56      0.63       803\n",
      "           1       0.56      0.75      0.64       759\n",
      "           2       0.78      0.68      0.73       777\n",
      "\n",
      "    accuracy                           0.66      2339\n",
      "   macro avg       0.68      0.67      0.67      2339\n",
      "weighted avg       0.68      0.66      0.67      2339\n",
      "\n"
     ]
    },
    {
     "data": {
      "image/png": "[encoded data removed]",
      "text/plain": [
       "<Figure size 432x288 with 2 Axes>"
      ]
     },
     "metadata": {
      "needs_background": "light"
     },
     "output_type": "display_data"
    }
   ],
   "source": [
    "run_the_sv_models(\"sv2\", X_train, X_test, Y_train, Y_test)"
   ]
  },
  {
   "cell_type": "markdown",
   "metadata": {},
   "source": [
    "## Bag of Words"
   ]
  },
  {
   "cell_type": "code",
   "execution_count": 43,
   "metadata": {},
   "outputs": [
    {
     "data": {
      "text/html": [
       "<div>\n",
       "<style scoped>\n",
       "    .dataframe tbody tr th:only-of-type {\n",
       "        vertical-align: middle;\n",
       "    }\n",
       "\n",
       "    .dataframe tbody tr th {\n",
       "        vertical-align: top;\n",
       "    }\n",
       "\n",
       "    .dataframe thead th {\n",
       "        text-align: right;\n",
       "    }\n",
       "</style>\n",
       "<table border=\"1\" class=\"dataframe\">\n",
       "  <thead>\n",
       "    <tr style=\"text-align: right;\">\n",
       "      <th></th>\n",
       "      <th>na</th>\n",
       "      <th>ranu</th>\n",
       "      <th>ta</th>\n",
       "      <th>অন</th>\n",
       "      <th>আগ</th>\n",
       "      <th>আছ</th>\n",
       "      <th>আপন</th>\n",
       "      <th>আব</th>\n",
       "      <th>আম</th>\n",
       "      <th>আমর</th>\n",
       "      <th>...</th>\n",
       "      <th>রণ</th>\n",
       "      <th>রত</th>\n",
       "      <th>লত</th>\n",
       "      <th>সত</th>\n",
       "      <th>সব</th>\n",
       "      <th>সম</th>\n",
       "      <th>হব</th>\n",
       "      <th>হল</th>\n",
       "      <th>হয়</th>\n",
       "      <th>Sub-task B</th>\n",
       "    </tr>\n",
       "  </thead>\n",
       "  <tbody>\n",
       "    <tr>\n",
       "      <th>0</th>\n",
       "      <td>0</td>\n",
       "      <td>0</td>\n",
       "      <td>0</td>\n",
       "      <td>0</td>\n",
       "      <td>0</td>\n",
       "      <td>0</td>\n",
       "      <td>0</td>\n",
       "      <td>0</td>\n",
       "      <td>0</td>\n",
       "      <td>0</td>\n",
       "      <td>...</td>\n",
       "      <td>0</td>\n",
       "      <td>0</td>\n",
       "      <td>0</td>\n",
       "      <td>0</td>\n",
       "      <td>0</td>\n",
       "      <td>0</td>\n",
       "      <td>0</td>\n",
       "      <td>0</td>\n",
       "      <td>0</td>\n",
       "      <td>1</td>\n",
       "    </tr>\n",
       "    <tr>\n",
       "      <th>1</th>\n",
       "      <td>0</td>\n",
       "      <td>0</td>\n",
       "      <td>0</td>\n",
       "      <td>0</td>\n",
       "      <td>0</td>\n",
       "      <td>0</td>\n",
       "      <td>0</td>\n",
       "      <td>0</td>\n",
       "      <td>0</td>\n",
       "      <td>1</td>\n",
       "      <td>...</td>\n",
       "      <td>0</td>\n",
       "      <td>0</td>\n",
       "      <td>0</td>\n",
       "      <td>0</td>\n",
       "      <td>0</td>\n",
       "      <td>0</td>\n",
       "      <td>0</td>\n",
       "      <td>1</td>\n",
       "      <td>0</td>\n",
       "      <td>1</td>\n",
       "    </tr>\n",
       "    <tr>\n",
       "      <th>2</th>\n",
       "      <td>0</td>\n",
       "      <td>0</td>\n",
       "      <td>0</td>\n",
       "      <td>0</td>\n",
       "      <td>0</td>\n",
       "      <td>0</td>\n",
       "      <td>0</td>\n",
       "      <td>0</td>\n",
       "      <td>0</td>\n",
       "      <td>0</td>\n",
       "      <td>...</td>\n",
       "      <td>0</td>\n",
       "      <td>0</td>\n",
       "      <td>0</td>\n",
       "      <td>0</td>\n",
       "      <td>0</td>\n",
       "      <td>0</td>\n",
       "      <td>0</td>\n",
       "      <td>0</td>\n",
       "      <td>0</td>\n",
       "      <td>1</td>\n",
       "    </tr>\n",
       "    <tr>\n",
       "      <th>3</th>\n",
       "      <td>0</td>\n",
       "      <td>0</td>\n",
       "      <td>0</td>\n",
       "      <td>0</td>\n",
       "      <td>0</td>\n",
       "      <td>0</td>\n",
       "      <td>0</td>\n",
       "      <td>0</td>\n",
       "      <td>0</td>\n",
       "      <td>0</td>\n",
       "      <td>...</td>\n",
       "      <td>0</td>\n",
       "      <td>0</td>\n",
       "      <td>0</td>\n",
       "      <td>0</td>\n",
       "      <td>0</td>\n",
       "      <td>0</td>\n",
       "      <td>0</td>\n",
       "      <td>0</td>\n",
       "      <td>0</td>\n",
       "      <td>0</td>\n",
       "    </tr>\n",
       "    <tr>\n",
       "      <th>4</th>\n",
       "      <td>0</td>\n",
       "      <td>0</td>\n",
       "      <td>0</td>\n",
       "      <td>0</td>\n",
       "      <td>0</td>\n",
       "      <td>0</td>\n",
       "      <td>0</td>\n",
       "      <td>0</td>\n",
       "      <td>0</td>\n",
       "      <td>0</td>\n",
       "      <td>...</td>\n",
       "      <td>0</td>\n",
       "      <td>0</td>\n",
       "      <td>0</td>\n",
       "      <td>0</td>\n",
       "      <td>0</td>\n",
       "      <td>0</td>\n",
       "      <td>0</td>\n",
       "      <td>0</td>\n",
       "      <td>0</td>\n",
       "      <td>1</td>\n",
       "    </tr>\n",
       "  </tbody>\n",
       "</table>\n",
       "<p>5 rows × 49 columns</p>\n",
       "</div>"
      ],
      "text/plain": [
       "   na  ranu  ta  অন  আগ  আছ  আপন  আব  আম  আমর  ...  রণ  রত  লত  সত  সব  সম  \\\n",
       "0   0     0   0   0   0   0    0   0   0    0  ...   0   0   0   0   0   0   \n",
       "1   0     0   0   0   0   0    0   0   0    1  ...   0   0   0   0   0   0   \n",
       "2   0     0   0   0   0   0    0   0   0    0  ...   0   0   0   0   0   0   \n",
       "3   0     0   0   0   0   0    0   0   0    0  ...   0   0   0   0   0   0   \n",
       "4   0     0   0   0   0   0    0   0   0    0  ...   0   0   0   0   0   0   \n",
       "\n",
       "   হব  হল  হয়  Sub-task B  \n",
       "0   0   0   0           1  \n",
       "1   0   1   0           1  \n",
       "2   0   0   0           1  \n",
       "3   0   0   0           0  \n",
       "4   0   0   0           1  \n",
       "\n",
       "[5 rows x 49 columns]"
      ]
     },
     "execution_count": 43,
     "metadata": {},
     "output_type": "execute_result"
    }
   ],
   "source": [
    "train_df = pd.read_csv(\"../Data/ben_train_bow.csv\")\n",
    "test_df = pd.read_csv(\"../Data/ben_test_bow.csv\")\n",
    "X_train = train_df.drop(columns=[\"Y\"])\n",
    "Y_train = train_df[\"Y\"]\n",
    "X_test = test_df.drop(columns=[\"Y\"])\n",
    "Y_test = test_df[\"Y\"]\n",
    "X_train.head()"
   ]
  },
  {
   "cell_type": "code",
   "execution_count": 44,
   "metadata": {},
   "outputs": [],
   "source": [
    "scaler = MinMaxScaler()\n",
    "scaler.fit(X_train)\n",
    "scaler.partial_fit(X_test)\n",
    "X_train_tf = scaler.transform(X_train)\n",
    "X_test_tf = scaler.transform(X_test)"
   ]
  },
  {
   "cell_type": "code",
   "execution_count": 45,
   "metadata": {},
   "outputs": [],
   "source": [
    "def run_the_mn_models(model, X_train, X_test, Y_tr, Y_te):\n",
    "    X_train_text_df, X_test_text_df, y_train, y_test = X_train, X_test, Y_tr, Y_te\n",
    "    \n",
    "    if model == 'mnb1':\n",
    "        \n",
    "        mn_params = {\n",
    "            'fit_prior': [True],\n",
    "            'alpha': [0, 0.5, 1]}\n",
    "        \n",
    "        M = GridSearchCV(MultinomialNB(),\n",
    "                        mn_params,\n",
    "                        cv = 5,\n",
    "                        verbose = 1,\n",
    "                        n_jobs = -1)\n",
    "        \n",
    "    elif model == 'mnb2':\n",
    "        \n",
    "         mn_params = {\n",
    "            'fit_prior': [False],\n",
    "            'alpha': [0, 0.5, 1]}\n",
    "        \n",
    "         M = GridSearchCV(MultinomialNB(),\n",
    "                        mn_params,\n",
    "                        cv = 5,\n",
    "                        verbose = 1,\n",
    "                        n_jobs = -1)\n",
    "        \n",
    "    else:\n",
    "        print('There is an error.')\n",
    "        \n",
    "    M.fit(X_train_text_df, y_train)\n",
    "     \n",
    "    print(f'Train score = {M.score(X_train_text_df, y_train)}')\n",
    "    print(f'Test score = {M.score(X_test_text_df, y_test)}')\n",
    "    \n",
    "    predictions = M.predict(X_test_text_df)\n",
    "    predictions_train = M.predict(X_train_text_df)\n",
    "    print('--------')\n",
    "    print(skplt.plot_confusion_matrix(y_test, predictions))\n",
    "    print(f'Best params = {M.best_params_}')\n",
    "    print('----F1 Score, Recall, Precision----')\n",
    "    # print precision, recall, F1-score per each class/tag\n",
    "    print(classification_report(y_test, predictions))\n",
    "    \n",
    "#     #skplt.plot_roc_curve(predictions,y_test)\n",
    "#     print('----ROC AUC CURVE SCORE----')\n",
    "#     print(\"ROC AUC CURVE SCORE FOR TEST: \",roc_auc_score(y_test, predictions))\n",
    "#     print(\"ROC AUC CURVE SCORE FOR TRAIN: \",roc_auc_score(y_train, predictions_train))"
   ]
  },
  {
   "cell_type": "code",
   "execution_count": 46,
   "metadata": {},
   "outputs": [
    {
     "name": "stdout",
     "output_type": "stream",
     "text": [
      "Fitting 5 folds for each of 3 candidates, totalling 15 fits\n"
     ]
    },
    {
     "name": "stderr",
     "output_type": "stream",
     "text": [
      "[Parallel(n_jobs=-1)]: Using backend LokyBackend with 8 concurrent workers.\n",
      "[Parallel(n_jobs=-1)]: Done  15 out of  15 | elapsed:    1.7s finished\n"
     ]
    },
    {
     "name": "stdout",
     "output_type": "stream",
     "text": [
      "Train score = 0.5092575618698442\n",
      "Test score = 0.49380076955964086\n",
      "--------\n",
      "AxesSubplot(0.125,0.125;0.62x0.755)\n",
      "Best params = {'alpha': 1, 'fit_prior': True}\n",
      "----F1 Score, Recall, Precision----\n",
      "              precision    recall  f1-score   support\n",
      "\n",
      "           0       0.55      0.33      0.42       803\n",
      "           1       0.44      0.82      0.58       759\n",
      "           2       0.59      0.33      0.43       777\n",
      "\n",
      "    accuracy                           0.49      2339\n",
      "   macro avg       0.53      0.50      0.47      2339\n",
      "weighted avg       0.53      0.49      0.47      2339\n",
      "\n"
     ]
    },
    {
     "data": {
      "image/png": "[encoded data removed]",
      "text/plain": [
       "<Figure size 432x288 with 2 Axes>"
      ]
     },
     "metadata": {
      "needs_background": "light"
     },
     "output_type": "display_data"
    }
   ],
   "source": [
    "run_the_mn_models(\"mnb1\", X_train_tf, X_test_tf, Y_train, Y_test)"
   ]
  },
  {
   "cell_type": "code",
   "execution_count": 47,
   "metadata": {},
   "outputs": [
    {
     "name": "stdout",
     "output_type": "stream",
     "text": [
      "Fitting 5 folds for each of 3 candidates, totalling 15 fits\n",
      "Train score = 0.5217231897341889\n",
      "Test score = 0.4997862334330911\n",
      "--------\n"
     ]
    },
    {
     "name": "stderr",
     "output_type": "stream",
     "text": [
      "[Parallel(n_jobs=-1)]: Using backend LokyBackend with 8 concurrent workers.\n",
      "[Parallel(n_jobs=-1)]: Done  15 out of  15 | elapsed:    0.1s finished\n"
     ]
    },
    {
     "name": "stdout",
     "output_type": "stream",
     "text": [
      "AxesSubplot(0.125,0.125;0.62x0.755)\n",
      "Best params = {'alpha': 0.5, 'fit_prior': False}\n",
      "----F1 Score, Recall, Precision----\n",
      "              precision    recall  f1-score   support\n",
      "\n",
      "           0       0.43      0.39      0.41       803\n",
      "           1       0.51      0.79      0.62       759\n",
      "           2       0.60      0.33      0.42       777\n",
      "\n",
      "    accuracy                           0.50      2339\n",
      "   macro avg       0.51      0.50      0.48      2339\n",
      "weighted avg       0.51      0.50      0.48      2339\n",
      "\n"
     ]
    },
    {
     "data": {
      "image/png": "[encoded data removed]",
      "text/plain": [
       "<Figure size 432x288 with 2 Axes>"
      ]
     },
     "metadata": {
      "needs_background": "light"
     },
     "output_type": "display_data"
    }
   ],
   "source": [
    "run_the_mn_models(\"mnb2\", X_train_tf, X_test_tf, Y_train, Y_test)"
   ]
  },
  {
   "cell_type": "code",
   "execution_count": 48,
   "metadata": {},
   "outputs": [],
   "source": [
    "def run_the_lr_models(model, X_train, X_test, Y_tr, Y_te):\n",
    "    X_train_text_df, X_test_text_df, y_train, y_test = X_train, X_test, Y_tr, Y_te\n",
    "    \n",
    "    \n",
    "    if model == 'lr1':\n",
    "        \n",
    "        lr_1_params = {\n",
    "            'penalty': ['l1'],\n",
    "            'C': [1, 1.5, 2, 2.5],\n",
    "            'class_weight': ['balanced'],\n",
    "            'warm_start': [True, False],\n",
    "            'random_state': [42],\n",
    "            'solver': ['liblinear']}\n",
    "        \n",
    "        M = GridSearchCV(LogisticRegression(),\n",
    "                        lr_1_params,\n",
    "                        cv = 5,\n",
    "                        verbose = 1,\n",
    "                        n_jobs = -1)\n",
    "        \n",
    "    elif model == 'lr2':\n",
    "        \n",
    "        lr_2_params = {\n",
    "            'penalty': ['l2'],\n",
    "            'C': [1, 1.5, 2, 2.5],\n",
    "            'class_weight': ['balanced'],\n",
    "            'warm_start': [True, False],            \n",
    "            'random_state': [42],\n",
    "            'solver': ['lbfgs', 'liblinear']}\n",
    "        \n",
    "        M = GridSearchCV(LogisticRegression(),\n",
    "                        lr_2_params,\n",
    "                        cv = 5,\n",
    "                        verbose = 1,\n",
    "                        n_jobs = -1)\n",
    "\n",
    "    else:\n",
    "        print('There is an error.')\n",
    "        \n",
    "    M.fit(X_train_text_df.values, y_train)\n",
    "     \n",
    "    print(f'Train score = {M.score(X_train_text_df.values, y_train)}')\n",
    "    print(f'Test score = {M.score(X_test_text_df.values, y_test)}')\n",
    "    \n",
    "    predictions = M.predict(X_test_text_df.values)\n",
    "    predictions_train = M.predict(X_train_text_df.values)\n",
    "    print('--------')\n",
    "    print(skplt.plot_confusion_matrix(y_test, predictions))\n",
    "    print(f'Best params = {M.best_params_}')\n",
    "    print('----F1 Score, Recall, Precision----')\n",
    "    # print precision, recall, F1-score per each class/tag\n",
    "    print(classification_report(y_test, predictions))\n",
    "    \n",
    "#     print('----ROC AUC CURVE SCORE----')\n",
    "#     print(\"ROC AUC CURVE SCORE FOR TEST: \",roc_auc_score(y_test, predictions))\n",
    "#     print(\"ROC AUC CURVE SCORE FOR TRAIN: \",roc_auc_score(y_train, predictions_train))\n",
    "    \n",
    "#     print('----ROC AUC CURVE SCORE----')\n",
    "#     print(\"ROC AUC CURVE SCORE FOR TEST: \",roc_auc_score(y_test, predictions))\n",
    "#     print(\"ROC AUC CURVE SCORE FOR TRAIN: \",roc_auc_score(y_train, predictions_train))"
   ]
  },
  {
   "cell_type": "code",
   "execution_count": 49,
   "metadata": {},
   "outputs": [
    {
     "name": "stdout",
     "output_type": "stream",
     "text": [
      "Fitting 5 folds for each of 8 candidates, totalling 40 fits\n"
     ]
    },
    {
     "name": "stderr",
     "output_type": "stream",
     "text": [
      "[Parallel(n_jobs=-1)]: Using backend LokyBackend with 8 concurrent workers.\n",
      "[Parallel(n_jobs=-1)]: Done  40 out of  40 | elapsed:    0.5s finished\n"
     ]
    },
    {
     "name": "stdout",
     "output_type": "stream",
     "text": [
      "Train score = 0.6012832263978002\n",
      "Test score = 0.582727661393758\n",
      "--------\n",
      "AxesSubplot(0.125,0.125;0.62x0.755)\n",
      "Best params = {'C': 2.5, 'class_weight': 'balanced', 'penalty': 'l1', 'random_state': 42, 'solver': 'liblinear', 'warm_start': True}\n",
      "----F1 Score, Recall, Precision----\n",
      "              precision    recall  f1-score   support\n",
      "\n",
      "           0       0.59      0.42      0.49       803\n",
      "           1       0.51      0.78      0.61       759\n",
      "           2       0.73      0.56      0.63       777\n",
      "\n",
      "    accuracy                           0.58      2339\n",
      "   macro avg       0.61      0.59      0.58      2339\n",
      "weighted avg       0.61      0.58      0.58      2339\n",
      "\n"
     ]
    },
    {
     "data": {
      "image/png": "[encoded data removed]",
      "text/plain": [
       "<Figure size 432x288 with 2 Axes>"
      ]
     },
     "metadata": {
      "needs_background": "light"
     },
     "output_type": "display_data"
    }
   ],
   "source": [
    "run_the_lr_models(\"lr1\", X_train, X_test, Y_train, Y_test)"
   ]
  },
  {
   "cell_type": "code",
   "execution_count": 50,
   "metadata": {},
   "outputs": [
    {
     "name": "stdout",
     "output_type": "stream",
     "text": [
      "Fitting 5 folds for each of 16 candidates, totalling 80 fits\n"
     ]
    },
    {
     "name": "stderr",
     "output_type": "stream",
     "text": [
      "[Parallel(n_jobs=-1)]: Using backend LokyBackend with 8 concurrent workers.\n",
      "[Parallel(n_jobs=-1)]: Done  34 tasks      | elapsed:    1.0s\n",
      "[Parallel(n_jobs=-1)]: Done  80 out of  80 | elapsed:    2.3s finished\n"
     ]
    },
    {
     "name": "stdout",
     "output_type": "stream",
     "text": [
      "Train score = 0.6018331805682859\n",
      "Test score = 0.582727661393758\n",
      "--------\n",
      "AxesSubplot(0.125,0.125;0.62x0.755)\n",
      "Best params = {'C': 1.5, 'class_weight': 'balanced', 'penalty': 'l2', 'random_state': 42, 'solver': 'liblinear', 'warm_start': True}\n",
      "----F1 Score, Recall, Precision----\n",
      "              precision    recall  f1-score   support\n",
      "\n",
      "           0       0.59      0.42      0.49       803\n",
      "           1       0.51      0.78      0.61       759\n",
      "           2       0.73      0.56      0.63       777\n",
      "\n",
      "    accuracy                           0.58      2339\n",
      "   macro avg       0.61      0.59      0.58      2339\n",
      "weighted avg       0.61      0.58      0.58      2339\n",
      "\n"
     ]
    },
    {
     "data": {
      "image/png": "[encoded data removed]",
      "text/plain": [
       "<Figure size 432x288 with 2 Axes>"
      ]
     },
     "metadata": {
      "needs_background": "light"
     },
     "output_type": "display_data"
    }
   ],
   "source": [
    "run_the_lr_models(\"lr2\", X_train, X_test, Y_train, Y_test)"
   ]
  },
  {
   "cell_type": "code",
   "execution_count": 51,
   "metadata": {},
   "outputs": [],
   "source": [
    "def run_the_sv_models(model, X_train, X_test, Y_tr, Y_te):   \n",
    "    X_train_text_df, X_test_text_df, y_train, y_test = X_train, X_test, Y_tr, Y_te\n",
    "    \n",
    "    if model == 'sv1':\n",
    "        \n",
    "        sv_params = {\n",
    "            'kernel': ['rbf'], \n",
    "            'gamma': [1e-3, 1e-4],\n",
    "            'C': [1, 10, 100, 1000] }\n",
    "        \n",
    "        M = GridSearchCV(SVC(probability=True),\n",
    "                        sv_params,\n",
    "                        cv = 5,\n",
    "                        verbose = 1,\n",
    "                        n_jobs = -1)\n",
    "        \n",
    "    elif model == 'sv2':\n",
    "        \n",
    "        \n",
    "        sv_params = {\n",
    "            'kernel': ['rbf'], \n",
    "            'gamma': [0.01, 1, 10, 100],\n",
    "            'C': [1, 10, 100, 1000] }\n",
    "\n",
    "        M = GridSearchCV(SVC(probability=True),\n",
    "                        sv_params,\n",
    "                        cv = 5,\n",
    "                        verbose = 1,\n",
    "                        n_jobs = -1)\n",
    "        \n",
    "    else:\n",
    "        print(\"Invalid Model!\")\n",
    "        \n",
    "    M.fit(X_train_text_df.values, y_train)\n",
    "      \n",
    "    #save in pickle file\n",
    "    joblib.dump(M, \"SVM_TFIDF.pkl\")\n",
    "     \n",
    "    print(f'Train score = {M.score(X_train_text_df.values, y_train)}')\n",
    "    print(f'Test score = {M.score(X_test_text_df.values, y_test)}')\n",
    "    \n",
    "    predictions = M.predict(X_test_text_df.values)\n",
    "    predictions_train = M.predict(X_train_text_df.values)\n",
    "    \n",
    "    print('--------')\n",
    "    print(skplt.plot_confusion_matrix(y_test, predictions))\n",
    "    print(f'Best params = {M.best_params_}')\n",
    "    print('----F1 Score, Recall, Precision----')\n",
    "    # print precision, recall, F1-score per each class/tag\n",
    "    print(classification_report(y_test, predictions))\n",
    "#     print('----ROC AUC CURVE SCORE----')\n",
    "#     print(\"ROC AUC CURVE SCORE FOR TEST: \",roc_auc_score(y_test, predictions))\n",
    "#     print(\"ROC AUC CURVE SCORE FOR TRAIN: \",roc_auc_score(y_train, predictions_train))"
   ]
  },
  {
   "cell_type": "code",
   "execution_count": 52,
   "metadata": {},
   "outputs": [
    {
     "name": "stdout",
     "output_type": "stream",
     "text": [
      "Fitting 5 folds for each of 8 candidates, totalling 40 fits\n"
     ]
    },
    {
     "name": "stderr",
     "output_type": "stream",
     "text": [
      "[Parallel(n_jobs=-1)]: Using backend LokyBackend with 8 concurrent workers.\n",
      "[Parallel(n_jobs=-1)]: Done  40 out of  40 | elapsed:  1.4min finished\n"
     ]
    },
    {
     "name": "stdout",
     "output_type": "stream",
     "text": [
      "Train score = 0.6042163153070578\n",
      "Test score = 0.5865754595981189\n",
      "--------\n",
      "AxesSubplot(0.125,0.125;0.62x0.755)\n",
      "Best params = {'C': 1000, 'gamma': 0.001, 'kernel': 'rbf'}\n",
      "----F1 Score, Recall, Precision----\n",
      "              precision    recall  f1-score   support\n",
      "\n",
      "           0       0.60      0.41      0.49       803\n",
      "           1       0.51      0.81      0.62       759\n",
      "           2       0.74      0.55      0.63       777\n",
      "\n",
      "    accuracy                           0.59      2339\n",
      "   macro avg       0.62      0.59      0.58      2339\n",
      "weighted avg       0.62      0.59      0.58      2339\n",
      "\n"
     ]
    },
    {
     "data": {
      "image/png": "[encoded data removed]",
      "text/plain": [
       "<Figure size 432x288 with 2 Axes>"
      ]
     },
     "metadata": {
      "needs_background": "light"
     },
     "output_type": "display_data"
    }
   ],
   "source": [
    "run_the_sv_models(\"sv1\", X_train, X_test, Y_train, Y_test)"
   ]
  },
  {
   "cell_type": "code",
   "execution_count": 53,
   "metadata": {},
   "outputs": [
    {
     "name": "stdout",
     "output_type": "stream",
     "text": [
      "Fitting 5 folds for each of 16 candidates, totalling 80 fits\n"
     ]
    },
    {
     "name": "stderr",
     "output_type": "stream",
     "text": [
      "[Parallel(n_jobs=-1)]: Using backend LokyBackend with 8 concurrent workers.\n",
      "[Parallel(n_jobs=-1)]: Done  34 tasks      | elapsed:  1.2min\n",
      "[Parallel(n_jobs=-1)]: Done  80 out of  80 | elapsed:  2.7min finished\n"
     ]
    },
    {
     "name": "stdout",
     "output_type": "stream",
     "text": [
      "Train score = 0.7527039413382218\n",
      "Test score = 0.6648140230867893\n",
      "--------\n",
      "AxesSubplot(0.125,0.125;0.62x0.755)\n",
      "Best params = {'C': 10, 'gamma': 1, 'kernel': 'rbf'}\n",
      "----F1 Score, Recall, Precision----\n",
      "              precision    recall  f1-score   support\n",
      "\n",
      "           0       0.71      0.56      0.63       803\n",
      "           1       0.56      0.75      0.64       759\n",
      "           2       0.78      0.68      0.73       777\n",
      "\n",
      "    accuracy                           0.66      2339\n",
      "   macro avg       0.68      0.67      0.67      2339\n",
      "weighted avg       0.68      0.66      0.67      2339\n",
      "\n"
     ]
    },
    {
     "data": {
      "image/png": "[encoded data removed]",
      "text/plain": [
       "<Figure size 432x288 with 2 Axes>"
      ]
     },
     "metadata": {
      "needs_background": "light"
     },
     "output_type": "display_data"
    }
   ],
   "source": [
    "run_the_sv_models(\"sv2\", X_train, X_test, Y_train, Y_test)"
   ]
  }
 ],
 "metadata": {
  "kernelspec": {
   "display_name": "Python 3",
   "language": "python",
   "name": "python3"
  },
  "language_info": {
   "codemirror_mode": {
    "name": "ipython",
    "version": 3
   },
   "file_extension": ".py",
   "mimetype": "text/x-python",
   "name": "python",
   "nbconvert_exporter": "python",
   "pygments_lexer": "ipython3",
   "version": "3.7.6"
  }
 },
 "nbformat": 4,
 "nbformat_minor": 2
}
