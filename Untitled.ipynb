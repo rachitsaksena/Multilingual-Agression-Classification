{
 "cells": [
  {
   "cell_type": "code",
   "execution_count": 1,
   "metadata": {},
   "outputs": [],
   "source": [
    "import pandas                        as pd\n",
    "import numpy                         as np\n",
    "from wordcloud                       import WordCloud, STOPWORDS \n",
    "import seaborn                       as sns\n",
    "import matplotlib.pyplot             as plt\n",
    "from nltk.corpus                     import stopwords\n",
    "from sklearn.feature_extraction.text import TfidfVectorizer, CountVectorizer\n",
    "cvec = CountVectorizer()\n",
    "from collections import Counter "
   ]
  },
  {
   "cell_type": "code",
   "execution_count": 2,
   "metadata": {},
   "outputs": [],
   "source": [
    "import warnings \n",
    "warnings.simplefilter('ignore')"
   ]
  },
  {
   "cell_type": "code",
   "execution_count": 3,
   "metadata": {},
   "outputs": [],
   "source": [
    "hin = pd.read_csv('Data/cleaned hindi.csv')\n",
    "ben = pd.read_excel('Data/cleaned bangla.xlsx')"
   ]
  },
  {
   "cell_type": "code",
   "execution_count": 5,
   "metadata": {},
   "outputs": [],
   "source": [
    "classes = ['NAG', 'CAG', 'OAG']"
   ]
  },
  {
   "cell_type": "code",
   "execution_count": 6,
   "metadata": {},
   "outputs": [],
   "source": [
    "def fetch_stopwords(url):\n",
    "    stop = pd.read_csv(url, sep='\\n', header=0, names=['words'])\n",
    "    stop = stop['words'].values.tolist()\n",
    "    return stop"
   ]
  },
  {
   "cell_type": "code",
   "execution_count": 7,
   "metadata": {},
   "outputs": [],
   "source": [
    "hinglish_stopwords = fetch_stopwords('https://raw.githubusercontent.com/TrigonaMinima/HinglishNLP/master/data/assets/stop_hinglish')\n",
    "english_stopwords = set(stopwords.words('english') + hinglish_stopwords)\n",
    "hindi_stopwords = set(fetch_stopwords('https://raw.githubusercontent.com/TrigonaMinima/HinglishNLP/master/data/assets/stop_hindi'))\n",
    "bangla_stopwords = set(fetch_stopwords('https://raw.githubusercontent.com/rachitsaksena/Multilingual-Agression-Classification/master/Cache/Models/bangla%20stop.txt'))"
   ]
  },
  {
   "cell_type": "code",
   "execution_count": 8,
   "metadata": {},
   "outputs": [],
   "source": [
    "def N_most_freq_words(df, n):\n",
    "    lis = []\n",
    "    for agg in classes:\n",
    "        print(agg)\n",
    "        subset = df[df[\"Sub-task A\"] == agg]\n",
    "        c = Counter();\n",
    "        for i in range(subset.shape[0]):\n",
    "            c += Counter(subset[\"tokenized\"].iloc[i])\n",
    "        temp = c.most_common(n)\n",
    "        words=[]\n",
    "        for i in range(len(temp)):\n",
    "            print(temp[i][0], \":\", temp[i][1])\n",
    "            words.append(temp[i][0])\n",
    "        print()\n",
    "        lis.append(list(words))\n",
    "    return lis"
   ]
  },
  {
   "cell_type": "code",
   "execution_count": 9,
   "metadata": {},
   "outputs": [],
   "source": [
    "def intersection(list1, list2):\n",
    "    return [word for word in list1 if word in list2]"
   ]
  },
  {
   "cell_type": "code",
   "execution_count": 10,
   "metadata": {},
   "outputs": [],
   "source": [
    "# REMOVING UTIL\n",
    "def remove_common_frequent(df, common):\n",
    "    sentences = []\n",
    "    for i in range(df.shape[0]):\n",
    "        sent = \" \".join([token for token in df['tokenized'].iloc[i] if token not in common])\n",
    "        sentences.append(sent)\n",
    "    df['monolingual'] = sentences"
   ]
  },
  {
   "cell_type": "code",
   "execution_count": 11,
   "metadata": {},
   "outputs": [
    {
     "data": {
      "text/plain": [
       "True"
      ]
     },
     "execution_count": 11,
     "metadata": {},
     "output_type": "execute_result"
    }
   ],
   "source": [
    "np.array([type(i)==float for i in hin['monolingual']]).any()"
   ]
  },
  {
   "cell_type": "code",
   "execution_count": 12,
   "metadata": {},
   "outputs": [
    {
     "data": {
      "text/html": [
       "<div>\n",
       "<style scoped>\n",
       "    .dataframe tbody tr th:only-of-type {\n",
       "        vertical-align: middle;\n",
       "    }\n",
       "\n",
       "    .dataframe tbody tr th {\n",
       "        vertical-align: top;\n",
       "    }\n",
       "\n",
       "    .dataframe thead th {\n",
       "        text-align: right;\n",
       "    }\n",
       "</style>\n",
       "<table border=\"1\" class=\"dataframe\">\n",
       "  <thead>\n",
       "    <tr style=\"text-align: right;\">\n",
       "      <th></th>\n",
       "      <th>ID</th>\n",
       "      <th>Text</th>\n",
       "      <th>Sub-task A</th>\n",
       "      <th>Sub-task B</th>\n",
       "      <th>normalized lexicon</th>\n",
       "      <th>monolingual</th>\n",
       "      <th>tokenized</th>\n",
       "    </tr>\n",
       "  </thead>\n",
       "  <tbody>\n",
       "    <tr>\n",
       "      <th>0</th>\n",
       "      <td>C4.131</td>\n",
       "      <td>Bollywood film dekhne ke samay logic ghar mein...</td>\n",
       "      <td>NAG</td>\n",
       "      <td>NGEN</td>\n",
       "      <td>बॉलीवुड फ़िल्म देखने के समय तर्क घर में चोर मा...</td>\n",
       "      <td>बॉलीवुड फ़िल्म देखने समय तर्क में चोर मां झुंड...</td>\n",
       "      <td>[बॉलीवुड, फ़िल्म, देखने, समय, तर्क, में, चोर, ...</td>\n",
       "    </tr>\n",
       "    <tr>\n",
       "      <th>1</th>\n",
       "      <td>C4.638</td>\n",
       "      <td>Chutiya movie...</td>\n",
       "      <td>NAG</td>\n",
       "      <td>NGEN</td>\n",
       "      <td>चुटिया चलचित्र...</td>\n",
       "      <td>चुटिया चलचित्र</td>\n",
       "      <td>[चुटिया, चलचित्र]</td>\n",
       "    </tr>\n",
       "    <tr>\n",
       "      <th>2</th>\n",
       "      <td>C38.598</td>\n",
       "      <td>Us jaat bnde ka khene ka matlab tha mar daluga...</td>\n",
       "      <td>OAG</td>\n",
       "      <td>NGEN</td>\n",
       "      <td>हमें जाट बंदे का कहने का मतलब था समुद्र डालूगा...</td>\n",
       "      <td>हमें जाट बंदे कहने मतलब समुद्र डालूगा उपयोग पर...</td>\n",
       "      <td>[हमें, जाट, बंदे, कहने, मतलब, समुद्र, डालूगा, ...</td>\n",
       "    </tr>\n",
       "    <tr>\n",
       "      <th>3</th>\n",
       "      <td>C4.2101.1</td>\n",
       "      <td>@Feminism Is CANCER *un feminist yeh sahi hai ...</td>\n",
       "      <td>OAG</td>\n",
       "      <td>NGEN</td>\n",
       "      <td>@feminism है कैंसर *ए नारीवादी ये सही है परंतु...</td>\n",
       "      <td>feminism कैंसर नारीवादी सही परंतु मतलब थोड़ी सा...</td>\n",
       "      <td>[feminism, कैंसर, नारीवादी, सही, परंतु, मतलब, ...</td>\n",
       "    </tr>\n",
       "    <tr>\n",
       "      <th>4</th>\n",
       "      <td>C29.14.2</td>\n",
       "      <td>Amrit Anand अब तो जुड़े ही है उनको बोलो जुड़ने</td>\n",
       "      <td>NAG</td>\n",
       "      <td>NGEN</td>\n",
       "      <td>अमृत आनंद अब तो जुड़े ही है उनको बोलो जुड़ने</td>\n",
       "      <td>अमृत आनंद जुड़े बोलो जुड़ने</td>\n",
       "      <td>[अमृत, आनंद, जुड़े, बोलो, जुड़ने]</td>\n",
       "    </tr>\n",
       "  </tbody>\n",
       "</table>\n",
       "</div>"
      ],
      "text/plain": [
       "          ID                                               Text Sub-task A  \\\n",
       "0     C4.131  Bollywood film dekhne ke samay logic ghar mein...        NAG   \n",
       "1     C4.638                                   Chutiya movie...        NAG   \n",
       "2    C38.598  Us jaat bnde ka khene ka matlab tha mar daluga...        OAG   \n",
       "3  C4.2101.1  @Feminism Is CANCER *un feminist yeh sahi hai ...        OAG   \n",
       "4   C29.14.2       Amrit Anand अब तो जुड़े ही है उनको बोलो जुड़ने        NAG   \n",
       "\n",
       "  Sub-task B                                 normalized lexicon  \\\n",
       "0       NGEN  बॉलीवुड फ़िल्म देखने के समय तर्क घर में चोर मा...   \n",
       "1       NGEN                                  चुटिया चलचित्र...   \n",
       "2       NGEN  हमें जाट बंदे का कहने का मतलब था समुद्र डालूगा...   \n",
       "3       NGEN  @feminism है कैंसर *ए नारीवादी ये सही है परंतु...   \n",
       "4       NGEN         अमृत आनंद अब तो जुड़े ही है उनको बोलो जुड़ने   \n",
       "\n",
       "                                         monolingual  \\\n",
       "0  बॉलीवुड फ़िल्म देखने समय तर्क में चोर मां झुंड...   \n",
       "1                                     चुटिया चलचित्र   \n",
       "2  हमें जाट बंदे कहने मतलब समुद्र डालूगा उपयोग पर...   \n",
       "3  feminism कैंसर नारीवादी सही परंतु मतलब थोड़ी सा...   \n",
       "4                          अमृत आनंद जुड़े बोलो जुड़ने   \n",
       "\n",
       "                                           tokenized  \n",
       "0  [बॉलीवुड, फ़िल्म, देखने, समय, तर्क, में, चोर, ...  \n",
       "1                                  [चुटिया, चलचित्र]  \n",
       "2  [हमें, जाट, बंदे, कहने, मतलब, समुद्र, डालूगा, ...  \n",
       "3  [feminism, कैंसर, नारीवादी, सही, परंतु, मतलब, ...  \n",
       "4                    [अमृत, आनंद, जुड़े, बोलो, जुड़ने]  "
      ]
     },
     "execution_count": 12,
     "metadata": {},
     "output_type": "execute_result"
    }
   ],
   "source": [
    "hin['tokenized'] = [str(i).split() for i in hin['monolingual']]\n",
    "hin.head()"
   ]
  },
  {
   "cell_type": "code",
   "execution_count": 13,
   "metadata": {
    "scrolled": false
   },
   "outputs": [
    {
     "name": "stdout",
     "output_type": "stream",
     "text": [
      "NAG\n",
      "भाई : 485\n",
      "में : 411\n",
      "सेवा : 383\n",
      "चलचित्र : 308\n",
      "पता : 232\n",
      "सही : 180\n",
      "क्या : 163\n",
      "समीक्षा : 158\n",
      "वीडियो : 141\n",
      "बात : 129\n",
      "बड़े : 111\n",
      "हाँ : 106\n",
      "सिंह : 102\n",
      "महोदय : 96\n",
      "चाहिए : 80\n",
      "अच्छा : 79\n",
      "कहाँ : 79\n",
      "sahi : 78\n",
      "फ़िल्म : 74\n",
      "तोह : 74\n",
      "\n",
      "CAG\n",
      "में : 318\n",
      "सेवा : 285\n",
      "पता : 201\n",
      "क्या : 122\n",
      "भाई : 122\n",
      "लोग : 109\n",
      "चलचित्र : 107\n",
      "हाँ : 90\n",
      "बात : 88\n",
      "समीक्षा : 81\n",
      "देश : 73\n",
      "सही : 68\n",
      "चाहिए : 62\n",
      "भारत : 54\n",
      "तोह : 53\n",
      "तुम : 51\n",
      "कहाँ : 51\n",
      "काम : 49\n",
      "सेना : 47\n",
      "है। : 45\n",
      "\n",
      "OAG\n",
      "में : 249\n",
      "सेवा : 204\n",
      "पता : 135\n",
      "क्या : 121\n",
      "चलचित्र : 74\n",
      "भाई : 65\n",
      "हाँ : 63\n",
      "गांड : 57\n",
      "चुटिया : 55\n",
      "लोग : 54\n",
      "देश : 53\n",
      "chutiye : 52\n",
      "बात : 50\n",
      "सही : 46\n",
      "समलैंगिक : 45\n",
      "तुम : 45\n",
      "kar : 44\n",
      "सिंह : 44\n",
      "समीक्षा : 43\n",
      "बड़े : 42\n",
      "\n"
     ]
    }
   ],
   "source": [
    "hin_frequent = N_most_freq_words(hin, 20)"
   ]
  },
  {
   "cell_type": "code",
   "execution_count": 14,
   "metadata": {
    "scrolled": true
   },
   "outputs": [
    {
     "name": "stdout",
     "output_type": "stream",
     "text": [
      "\n",
      "\n",
      "\n",
      "NAG\n",
      "['भाई', 'में', 'सेवा', 'चलचित्र', 'पता', 'सही', 'क्या', 'समीक्षा', 'वीडियो', 'बात', 'बड़े', 'हाँ', 'सिंह', 'महोदय', 'चाहिए', 'अच्छा', 'कहाँ', 'sahi', 'फ़िल्म', 'तोह']\n",
      "\n",
      "\n",
      "\n",
      "CAG\n",
      "['में', 'सेवा', 'पता', 'क्या', 'भाई', 'लोग', 'चलचित्र', 'हाँ', 'बात', 'समीक्षा', 'देश', 'सही', 'चाहिए', 'भारत', 'तोह', 'तुम', 'कहाँ', 'काम', 'सेना', 'है।']\n",
      "\n",
      "\n",
      "\n",
      "OAG\n",
      "['में', 'सेवा', 'पता', 'क्या', 'चलचित्र', 'भाई', 'हाँ', 'गांड', 'चुटिया', 'लोग', 'देश', 'chutiye', 'बात', 'सही', 'समलैंगिक', 'तुम', 'kar', 'सिंह', 'समीक्षा', 'बड़े']\n"
     ]
    }
   ],
   "source": [
    "for i in range(3):\n",
    "    print('\\n\\n')\n",
    "    print(classes[i])\n",
    "    print(hin_frequent[i])"
   ]
  },
  {
   "cell_type": "code",
   "execution_count": 15,
   "metadata": {
    "scrolled": true
   },
   "outputs": [
    {
     "data": {
      "text/plain": [
       "['भाई',\n",
       " 'में',\n",
       " 'सेवा',\n",
       " 'चलचित्र',\n",
       " 'पता',\n",
       " 'सही',\n",
       " 'क्या',\n",
       " 'समीक्षा',\n",
       " 'बात',\n",
       " 'हाँ']"
      ]
     },
     "execution_count": 15,
     "metadata": {},
     "output_type": "execute_result"
    }
   ],
   "source": [
    "intersection(intersection(hin_frequent[0], hin_frequent[1]), hin_frequent[2])"
   ]
  },
  {
   "cell_type": "code",
   "execution_count": 16,
   "metadata": {},
   "outputs": [],
   "source": [
    "common_hin = intersection(intersection(hin_frequent[0], hin_frequent[1]), hin_frequent[2])"
   ]
  },
  {
   "cell_type": "code",
   "execution_count": 17,
   "metadata": {
    "scrolled": true
   },
   "outputs": [],
   "source": [
    "remove_common_frequent(hin, common_hin)"
   ]
  },
  {
   "cell_type": "code",
   "execution_count": 18,
   "metadata": {},
   "outputs": [
    {
     "data": {
      "text/html": [
       "<div>\n",
       "<style scoped>\n",
       "    .dataframe tbody tr th:only-of-type {\n",
       "        vertical-align: middle;\n",
       "    }\n",
       "\n",
       "    .dataframe tbody tr th {\n",
       "        vertical-align: top;\n",
       "    }\n",
       "\n",
       "    .dataframe thead th {\n",
       "        text-align: right;\n",
       "    }\n",
       "</style>\n",
       "<table border=\"1\" class=\"dataframe\">\n",
       "  <thead>\n",
       "    <tr style=\"text-align: right;\">\n",
       "      <th></th>\n",
       "      <th>ID</th>\n",
       "      <th>Text</th>\n",
       "      <th>Sub-task A</th>\n",
       "      <th>Sub-task B</th>\n",
       "      <th>normalized lexicon</th>\n",
       "      <th>monolingual</th>\n",
       "      <th>tokenized</th>\n",
       "    </tr>\n",
       "  </thead>\n",
       "  <tbody>\n",
       "    <tr>\n",
       "      <th>0</th>\n",
       "      <td>C4.131</td>\n",
       "      <td>Bollywood film dekhne ke samay logic ghar mein...</td>\n",
       "      <td>NAG</td>\n",
       "      <td>NGEN</td>\n",
       "      <td>बॉलीवुड फ़िल्म देखने के समय तर्क घर में चोर मा...</td>\n",
       "      <td>बॉलीवुड फ़िल्म देखने समय तर्क चोर मां झुंड कृप...</td>\n",
       "      <td>[बॉलीवुड, फ़िल्म, देखने, समय, तर्क, में, चोर, ...</td>\n",
       "    </tr>\n",
       "    <tr>\n",
       "      <th>1</th>\n",
       "      <td>C4.638</td>\n",
       "      <td>Chutiya movie...</td>\n",
       "      <td>NAG</td>\n",
       "      <td>NGEN</td>\n",
       "      <td>चुटिया चलचित्र...</td>\n",
       "      <td>चुटिया</td>\n",
       "      <td>[चुटिया, चलचित्र]</td>\n",
       "    </tr>\n",
       "    <tr>\n",
       "      <th>2</th>\n",
       "      <td>C38.598</td>\n",
       "      <td>Us jaat bnde ka khene ka matlab tha mar daluga...</td>\n",
       "      <td>OAG</td>\n",
       "      <td>NGEN</td>\n",
       "      <td>हमें जाट बंदे का कहने का मतलब था समुद्र डालूगा...</td>\n",
       "      <td>हमें जाट बंदे कहने मतलब समुद्र डालूगा उपयोग पर...</td>\n",
       "      <td>[हमें, जाट, बंदे, कहने, मतलब, समुद्र, डालूगा, ...</td>\n",
       "    </tr>\n",
       "    <tr>\n",
       "      <th>3</th>\n",
       "      <td>C4.2101.1</td>\n",
       "      <td>@Feminism Is CANCER *un feminist yeh sahi hai ...</td>\n",
       "      <td>OAG</td>\n",
       "      <td>NGEN</td>\n",
       "      <td>@feminism है कैंसर *ए नारीवादी ये सही है परंतु...</td>\n",
       "      <td>feminism कैंसर नारीवादी परंतु मतलब थोड़ी सारे म...</td>\n",
       "      <td>[feminism, कैंसर, नारीवादी, सही, परंतु, मतलब, ...</td>\n",
       "    </tr>\n",
       "    <tr>\n",
       "      <th>4</th>\n",
       "      <td>C29.14.2</td>\n",
       "      <td>Amrit Anand अब तो जुड़े ही है उनको बोलो जुड़ने</td>\n",
       "      <td>NAG</td>\n",
       "      <td>NGEN</td>\n",
       "      <td>अमृत आनंद अब तो जुड़े ही है उनको बोलो जुड़ने</td>\n",
       "      <td>अमृत आनंद जुड़े बोलो जुड़ने</td>\n",
       "      <td>[अमृत, आनंद, जुड़े, बोलो, जुड़ने]</td>\n",
       "    </tr>\n",
       "  </tbody>\n",
       "</table>\n",
       "</div>"
      ],
      "text/plain": [
       "          ID                                               Text Sub-task A  \\\n",
       "0     C4.131  Bollywood film dekhne ke samay logic ghar mein...        NAG   \n",
       "1     C4.638                                   Chutiya movie...        NAG   \n",
       "2    C38.598  Us jaat bnde ka khene ka matlab tha mar daluga...        OAG   \n",
       "3  C4.2101.1  @Feminism Is CANCER *un feminist yeh sahi hai ...        OAG   \n",
       "4   C29.14.2       Amrit Anand अब तो जुड़े ही है उनको बोलो जुड़ने        NAG   \n",
       "\n",
       "  Sub-task B                                 normalized lexicon  \\\n",
       "0       NGEN  बॉलीवुड फ़िल्म देखने के समय तर्क घर में चोर मा...   \n",
       "1       NGEN                                  चुटिया चलचित्र...   \n",
       "2       NGEN  हमें जाट बंदे का कहने का मतलब था समुद्र डालूगा...   \n",
       "3       NGEN  @feminism है कैंसर *ए नारीवादी ये सही है परंतु...   \n",
       "4       NGEN         अमृत आनंद अब तो जुड़े ही है उनको बोलो जुड़ने   \n",
       "\n",
       "                                         monolingual  \\\n",
       "0  बॉलीवुड फ़िल्म देखने समय तर्क चोर मां झुंड कृप...   \n",
       "1                                             चुटिया   \n",
       "2  हमें जाट बंदे कहने मतलब समुद्र डालूगा उपयोग पर...   \n",
       "3  feminism कैंसर नारीवादी परंतु मतलब थोड़ी सारे म...   \n",
       "4                          अमृत आनंद जुड़े बोलो जुड़ने   \n",
       "\n",
       "                                           tokenized  \n",
       "0  [बॉलीवुड, फ़िल्म, देखने, समय, तर्क, में, चोर, ...  \n",
       "1                                  [चुटिया, चलचित्र]  \n",
       "2  [हमें, जाट, बंदे, कहने, मतलब, समुद्र, डालूगा, ...  \n",
       "3  [feminism, कैंसर, नारीवादी, सही, परंतु, मतलब, ...  \n",
       "4                    [अमृत, आनंद, जुड़े, बोलो, जुड़ने]  "
      ]
     },
     "execution_count": 18,
     "metadata": {},
     "output_type": "execute_result"
    }
   ],
   "source": [
    "hin.head()"
   ]
  },
  {
   "cell_type": "code",
   "execution_count": 19,
   "metadata": {},
   "outputs": [
    {
     "data": {
      "text/html": [
       "<div>\n",
       "<style scoped>\n",
       "    .dataframe tbody tr th:only-of-type {\n",
       "        vertical-align: middle;\n",
       "    }\n",
       "\n",
       "    .dataframe tbody tr th {\n",
       "        vertical-align: top;\n",
       "    }\n",
       "\n",
       "    .dataframe thead th {\n",
       "        text-align: right;\n",
       "    }\n",
       "</style>\n",
       "<table border=\"1\" class=\"dataframe\">\n",
       "  <thead>\n",
       "    <tr style=\"text-align: right;\">\n",
       "      <th></th>\n",
       "      <th>ID</th>\n",
       "      <th>Text</th>\n",
       "      <th>Sub-task A</th>\n",
       "      <th>Sub-task B</th>\n",
       "      <th>normalized lexicon</th>\n",
       "      <th>monolingual</th>\n",
       "      <th>tokenized</th>\n",
       "    </tr>\n",
       "  </thead>\n",
       "  <tbody>\n",
       "    <tr>\n",
       "      <th>0</th>\n",
       "      <td>C4.131</td>\n",
       "      <td>Bollywood film dekhne ke samay logic ghar mein...</td>\n",
       "      <td>NAG</td>\n",
       "      <td>NGEN</td>\n",
       "      <td>बॉलीवुड फ़िल्म देखने के समय तर्क घर में चोर मा...</td>\n",
       "      <td>बॉलीवुड फ़िल्म देखने समय तर्क चोर मां झुंड कृप...</td>\n",
       "      <td>[बॉलीवुड, फ़िल्म, देखने, समय, तर्क, चोर, मां, ...</td>\n",
       "    </tr>\n",
       "    <tr>\n",
       "      <th>1</th>\n",
       "      <td>C4.638</td>\n",
       "      <td>Chutiya movie...</td>\n",
       "      <td>NAG</td>\n",
       "      <td>NGEN</td>\n",
       "      <td>चुटिया चलचित्र...</td>\n",
       "      <td>चुटिया</td>\n",
       "      <td>[चुटिया]</td>\n",
       "    </tr>\n",
       "    <tr>\n",
       "      <th>2</th>\n",
       "      <td>C38.598</td>\n",
       "      <td>Us jaat bnde ka khene ka matlab tha mar daluga...</td>\n",
       "      <td>OAG</td>\n",
       "      <td>NGEN</td>\n",
       "      <td>हमें जाट बंदे का कहने का मतलब था समुद्र डालूगा...</td>\n",
       "      <td>हमें जाट बंदे कहने मतलब समुद्र डालूगा उपयोग पर...</td>\n",
       "      <td>[हमें, जाट, बंदे, कहने, मतलब, समुद्र, डालूगा, ...</td>\n",
       "    </tr>\n",
       "    <tr>\n",
       "      <th>3</th>\n",
       "      <td>C4.2101.1</td>\n",
       "      <td>@Feminism Is CANCER *un feminist yeh sahi hai ...</td>\n",
       "      <td>OAG</td>\n",
       "      <td>NGEN</td>\n",
       "      <td>@feminism है कैंसर *ए नारीवादी ये सही है परंतु...</td>\n",
       "      <td>feminism कैंसर नारीवादी परंतु मतलब थोड़ी सारे म...</td>\n",
       "      <td>[feminism, कैंसर, नारीवादी, परंतु, मतलब, थोड़ी,...</td>\n",
       "    </tr>\n",
       "    <tr>\n",
       "      <th>4</th>\n",
       "      <td>C29.14.2</td>\n",
       "      <td>Amrit Anand अब तो जुड़े ही है उनको बोलो जुड़ने</td>\n",
       "      <td>NAG</td>\n",
       "      <td>NGEN</td>\n",
       "      <td>अमृत आनंद अब तो जुड़े ही है उनको बोलो जुड़ने</td>\n",
       "      <td>अमृत आनंद जुड़े बोलो जुड़ने</td>\n",
       "      <td>[अमृत, आनंद, जुड़े, बोलो, जुड़ने]</td>\n",
       "    </tr>\n",
       "  </tbody>\n",
       "</table>\n",
       "</div>"
      ],
      "text/plain": [
       "          ID                                               Text Sub-task A  \\\n",
       "0     C4.131  Bollywood film dekhne ke samay logic ghar mein...        NAG   \n",
       "1     C4.638                                   Chutiya movie...        NAG   \n",
       "2    C38.598  Us jaat bnde ka khene ka matlab tha mar daluga...        OAG   \n",
       "3  C4.2101.1  @Feminism Is CANCER *un feminist yeh sahi hai ...        OAG   \n",
       "4   C29.14.2       Amrit Anand अब तो जुड़े ही है उनको बोलो जुड़ने        NAG   \n",
       "\n",
       "  Sub-task B                                 normalized lexicon  \\\n",
       "0       NGEN  बॉलीवुड फ़िल्म देखने के समय तर्क घर में चोर मा...   \n",
       "1       NGEN                                  चुटिया चलचित्र...   \n",
       "2       NGEN  हमें जाट बंदे का कहने का मतलब था समुद्र डालूगा...   \n",
       "3       NGEN  @feminism है कैंसर *ए नारीवादी ये सही है परंतु...   \n",
       "4       NGEN         अमृत आनंद अब तो जुड़े ही है उनको बोलो जुड़ने   \n",
       "\n",
       "                                         monolingual  \\\n",
       "0  बॉलीवुड फ़िल्म देखने समय तर्क चोर मां झुंड कृप...   \n",
       "1                                             चुटिया   \n",
       "2  हमें जाट बंदे कहने मतलब समुद्र डालूगा उपयोग पर...   \n",
       "3  feminism कैंसर नारीवादी परंतु मतलब थोड़ी सारे म...   \n",
       "4                          अमृत आनंद जुड़े बोलो जुड़ने   \n",
       "\n",
       "                                           tokenized  \n",
       "0  [बॉलीवुड, फ़िल्म, देखने, समय, तर्क, चोर, मां, ...  \n",
       "1                                           [चुटिया]  \n",
       "2  [हमें, जाट, बंदे, कहने, मतलब, समुद्र, डालूगा, ...  \n",
       "3  [feminism, कैंसर, नारीवादी, परंतु, मतलब, थोड़ी,...  \n",
       "4                    [अमृत, आनंद, जुड़े, बोलो, जुड़ने]  "
      ]
     },
     "execution_count": 19,
     "metadata": {},
     "output_type": "execute_result"
    }
   ],
   "source": [
    "hin['tokenized'] = [str(i).split() for i in hin['monolingual']]\n",
    "hin.head()"
   ]
  },
  {
   "cell_type": "code",
   "execution_count": 20,
   "metadata": {},
   "outputs": [
    {
     "name": "stdout",
     "output_type": "stream",
     "text": [
      "NAG\n",
      "वीडियो : 141\n",
      "बड़े : 111\n",
      "सिंह : 102\n",
      "महोदय : 96\n",
      "चाहिए : 80\n",
      "अच्छा : 79\n",
      "कहाँ : 79\n",
      "sahi : 78\n",
      "फ़िल्म : 74\n",
      "तोह : 74\n",
      "देख : 70\n",
      "nhi : 69\n",
      "sir : 68\n",
      "kya : 67\n",
      "video : 63\n",
      "लोग : 62\n",
      "करो : 58\n",
      "aap : 57\n",
      "मेरे : 57\n",
      "koi : 54\n",
      "\n",
      "CAG\n",
      "लोग : 109\n",
      "देश : 73\n",
      "चाहिए : 62\n",
      "भारत : 54\n",
      "तोह : 53\n",
      "तुम : 51\n",
      "कहाँ : 51\n",
      "काम : 49\n",
      "सेना : 47\n",
      "है। : 45\n",
      "तथा : 44\n",
      "kar : 44\n",
      "करो : 42\n",
      "kya : 42\n",
      "इसलिए : 42\n",
      "लड़की : 41\n",
      "वीडियो : 41\n",
      "hain : 40\n",
      "log : 40\n",
      "सिर्फ : 40\n",
      "\n",
      "OAG\n",
      "गांड : 57\n",
      "चुटिया : 55\n",
      "लोग : 54\n",
      "देश : 53\n",
      "chutiye : 52\n",
      "समलैंगिक : 45\n",
      "तुम : 45\n",
      "kar : 44\n",
      "सिंह : 44\n",
      "बड़े : 42\n",
      "kya : 41\n",
      "चाहिए : 39\n",
      "मेरे : 39\n",
      "भूमि : 36\n",
      "नारीवादी : 35\n",
      "तोह : 35\n",
      "सेना : 33\n",
      "भारत : 33\n",
      "chutiya : 32\n",
      "कहाँ : 32\n",
      "\n"
     ]
    }
   ],
   "source": [
    "hin_frequent = N_most_freq_words(hin, 20)"
   ]
  },
  {
   "cell_type": "code",
   "execution_count": 21,
   "metadata": {},
   "outputs": [
    {
     "data": {
      "text/plain": [
       "['चाहिए', 'कहाँ', 'तोह', 'kya', 'लोग']"
      ]
     },
     "execution_count": 21,
     "metadata": {},
     "output_type": "execute_result"
    }
   ],
   "source": [
    "intersection(intersection(hin_frequent[0], hin_frequent[1]), hin_frequent[2])"
   ]
  }
 ],
 "metadata": {
  "kernelspec": {
   "display_name": "ML",
   "language": "python",
   "name": "ml"
  },
  "language_info": {
   "codemirror_mode": {
    "name": "ipython",
    "version": 3
   },
   "file_extension": ".py",
   "mimetype": "text/x-python",
   "name": "python",
   "nbconvert_exporter": "python",
   "pygments_lexer": "ipython3",
   "version": "3.7.3"
  }
 },
 "nbformat": 4,
 "nbformat_minor": 2
}
