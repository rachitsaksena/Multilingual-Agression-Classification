{
 "cells": [
  {
   "cell_type": "code",
   "execution_count": 1,
   "metadata": {},
   "outputs": [],
   "source": [
    "import pandas as pd\n",
    "import numpy as np\n",
    "from sklearn.model_selection import GridSearchCV, train_test_split\n",
    "from sklearn.naive_bayes import GaussianNB\n",
    "from sklearn.naive_bayes import MultinomialNB\n",
    "from sklearn.metrics import classification_report, confusion_matrix\n",
    "from sklearn.svm import SVC\n",
    "from sklearn.linear_model import LogisticRegression\n",
    "from sklearn.preprocessing import MinMaxScaler, LabelEncoder\n",
    "import scikitplot.metrics as skplt\n",
    "import joblib"
   ]
  },
  {
   "cell_type": "code",
   "execution_count": 2,
   "metadata": {},
   "outputs": [
    {
     "data": {
      "text/plain": [
       "(3346, 29)"
      ]
     },
     "execution_count": 2,
     "metadata": {},
     "output_type": "execute_result"
    }
   ],
   "source": [
    "train_df = pd.read_csv(\"../Data/ben_train_lda.csv\")\n",
    "test_df = pd.read_csv(\"../Data/ben_test_lda.csv\")\n",
    "X_train = train_df.drop(columns=[\"Y\"])\n",
    "Y_train = train_df[\"Y\"]\n",
    "X_test = test_df.drop(columns=[\"Y\"])\n",
    "Y_test = test_df[\"Y\"]\n",
    "X_train.shape"
   ]
  },
  {
   "cell_type": "code",
   "execution_count": 3,
   "metadata": {},
   "outputs": [
    {
     "data": {
      "text/plain": [
       "(3346, 29)"
      ]
     },
     "execution_count": 3,
     "metadata": {},
     "output_type": "execute_result"
    }
   ],
   "source": [
    "scaler = MinMaxScaler()\n",
    "X_train = pd.DataFrame(scaler.fit_transform(X_train))\n",
    "X_test = pd.DataFrame(scaler.fit_transform(X_test))\n",
    "X_train.shape"
   ]
  },
  {
   "cell_type": "code",
   "execution_count": 4,
   "metadata": {},
   "outputs": [],
   "source": [
    "def run_the_mn_models(model, X_train, X_test, Y_tr, Y_te):\n",
    "    X_train_text_df, X_test_text_df, y_train, y_test = X_train, X_test, Y_tr, Y_te\n",
    "    \n",
    "    if model == 'mnb1':\n",
    "        \n",
    "        mn_params = {\n",
    "            'fit_prior': [True],\n",
    "            'alpha': [0, 0.5, 1]}\n",
    "        \n",
    "        M = GridSearchCV(MultinomialNB(),\n",
    "                        mn_params,\n",
    "                        cv = 5,\n",
    "                        verbose = 1,\n",
    "                        n_jobs = -1)\n",
    "        \n",
    "    elif model == 'mnb2':\n",
    "        \n",
    "         mn_params = {\n",
    "            'fit_prior': [False],\n",
    "            'alpha': [0, 0.5, 1]}\n",
    "        \n",
    "         M = GridSearchCV(MultinomialNB(),\n",
    "                        mn_params,\n",
    "                        cv = 5,\n",
    "                        verbose = 1,\n",
    "                        n_jobs = -1)\n",
    "        \n",
    "    else:\n",
    "        print('There is an error.')\n",
    "        \n",
    "    M.fit(X_train_text_df.values, y_train)\n",
    "     \n",
    "    print(f'Train score = {M.score(X_train_text_df.values, y_train)}')\n",
    "    print(f'Test score = {M.score(X_test_text_df.values, y_test)}')\n",
    "    \n",
    "    predictions = M.predict(X_test_text_df.values)\n",
    "    predictions_train = M.predict(X_train_text_df.values)\n",
    "    print('--------')\n",
    "    print(skplt.plot_confusion_matrix(y_test, predictions))\n",
    "    print(f'Best params = {M.best_params_}')\n",
    "    print('----F1 Score, Recall, Precision----')\n",
    "    # print precision, recall, F1-score per each class/tag\n",
    "    print(classification_report(y_test, predictions))\n",
    "    \n",
    "#     #skplt.plot_roc_curve(predictions,y_test)\n",
    "#     print('----ROC AUC CURVE SCORE----')\n",
    "#     print(\"ROC AUC CURVE SCORE FOR TEST: \",roc_auc_score(y_test, predictions))\n",
    "#     print(\"ROC AUC CURVE SCORE FOR TRAIN: \",roc_auc_score(y_train, predictions_train))"
   ]
  },
  {
   "cell_type": "code",
   "execution_count": 5,
   "metadata": {},
   "outputs": [
    {
     "name": "stdout",
     "output_type": "stream",
     "text": [
      "Fitting 5 folds for each of 3 candidates, totalling 15 fits\n"
     ]
    },
    {
     "name": "stderr",
     "output_type": "stream",
     "text": [
      "[Parallel(n_jobs=-1)]: Using backend LokyBackend with 8 concurrent workers.\n",
      "[Parallel(n_jobs=-1)]: Done  15 out of  15 | elapsed:    3.9s finished\n",
      "/opt/conda/lib/python3.7/site-packages/sklearn/naive_bayes.py:512: UserWarning: alpha too small will result in numeric errors, setting alpha = 1.0e-10\n",
      "  'setting alpha = %.1e' % _ALPHA_MIN)\n"
     ]
    },
    {
     "name": "stdout",
     "output_type": "stream",
     "text": [
      "Train score = 0.5543933054393305\n",
      "Test score = 0.5533101045296167\n",
      "--------\n",
      "AxesSubplot(0.125,0.125;0.62x0.755)\n",
      "Best params = {'alpha': 0, 'fit_prior': True}\n",
      "----F1 Score, Recall, Precision----\n",
      "              precision    recall  f1-score   support\n",
      "\n",
      "           0       0.40      0.01      0.01       337\n",
      "           1       0.55      1.00      0.71       770\n",
      "           2       0.89      0.08      0.14       328\n",
      "\n",
      "    accuracy                           0.55      1435\n",
      "   macro avg       0.61      0.36      0.29      1435\n",
      "weighted avg       0.59      0.55      0.41      1435\n",
      "\n"
     ]
    },
    {
     "data": {
      "image/png": "[encoded data removed]",
      "text/plain": [
       "<Figure size 432x288 with 2 Axes>"
      ]
     },
     "metadata": {
      "needs_background": "light"
     },
     "output_type": "display_data"
    }
   ],
   "source": [
    "run_the_mn_models(\"mnb1\", X_train, X_test, Y_train, Y_test)"
   ]
  },
  {
   "cell_type": "code",
   "execution_count": 6,
   "metadata": {},
   "outputs": [],
   "source": [
    "def run_the_lr_models(model, X_train, X_test, Y_tr, Y_te):\n",
    "    X_train_text_df, X_test_text_df, y_train, y_test = X_train, X_test, Y_tr, Y_te\n",
    "    \n",
    "    \n",
    "    if model == 'lr1':\n",
    "        \n",
    "        lr_1_params = {\n",
    "            'penalty': ['l1'],\n",
    "            'C': [1, 1.5, 2, 2.5],\n",
    "            'class_weight': ['balanced'],\n",
    "            'warm_start': [True, False],\n",
    "            'random_state': [42],\n",
    "            'solver': ['liblinear']}\n",
    "        \n",
    "        M = GridSearchCV(LogisticRegression(),\n",
    "                        lr_1_params,\n",
    "                        cv = 5,\n",
    "                        verbose = 1,\n",
    "                        n_jobs = -1)\n",
    "        \n",
    "    elif model == 'lr2':\n",
    "        \n",
    "        lr_2_params = {\n",
    "            'penalty': ['l2'],\n",
    "            'C': [1, 1.5, 2, 2.5],\n",
    "            'class_weight': ['balanced'],\n",
    "            'warm_start': [True, False],            \n",
    "            'random_state': [42],\n",
    "            'solver': ['lbfgs', 'liblinear']}\n",
    "        \n",
    "        M = GridSearchCV(LogisticRegression(),\n",
    "                        lr_2_params,\n",
    "                        cv = 5,\n",
    "                        verbose = 1,\n",
    "                        n_jobs = -1)\n",
    "\n",
    "    else:\n",
    "        print('There is an error.')\n",
    "        \n",
    "    M.fit(X_train_text_df.values, y_train)\n",
    "     \n",
    "    print(f'Train score = {M.score(X_train_text_df.values, y_train)}')\n",
    "    print(f'Test score = {M.score(X_test_text_df.values, y_test)}')\n",
    "    \n",
    "    predictions = M.predict(X_test_text_df.values)\n",
    "    predictions_train = M.predict(X_train_text_df.values)\n",
    "    print('--------')\n",
    "    print(skplt.plot_confusion_matrix(y_test, predictions))\n",
    "    print(f'Best params = {M.best_params_}')\n",
    "    print('----F1 Score, Recall, Precision----')\n",
    "    # print precision, recall, F1-score per each class/tag\n",
    "    print(classification_report(y_test, predictions))\n",
    "    \n",
    "#     print('----ROC AUC CURVE SCORE----')\n",
    "#     print(\"ROC AUC CURVE SCORE FOR TEST: \",roc_auc_score(y_test, predictions))\n",
    "#     print(\"ROC AUC CURVE SCORE FOR TRAIN: \",roc_auc_score(y_train, predictions_train))\n",
    "    \n",
    "#     print('----ROC AUC CURVE SCORE----')\n",
    "#     print(\"ROC AUC CURVE SCORE FOR TEST: \",roc_auc_score(y_test, predictions))\n",
    "#     print(\"ROC AUC CURVE SCORE FOR TRAIN: \",roc_auc_score(y_train, predictions_train))"
   ]
  },
  {
   "cell_type": "code",
   "execution_count": 7,
   "metadata": {},
   "outputs": [
    {
     "name": "stdout",
     "output_type": "stream",
     "text": [
      "Fitting 5 folds for each of 16 candidates, totalling 80 fits\n"
     ]
    },
    {
     "name": "stderr",
     "output_type": "stream",
     "text": [
      "[Parallel(n_jobs=-1)]: Using backend LokyBackend with 8 concurrent workers.\n",
      "[Parallel(n_jobs=-1)]: Done  34 tasks      | elapsed:    2.7s\n",
      "[Parallel(n_jobs=-1)]: Done  80 out of  80 | elapsed:    6.0s finished\n"
     ]
    },
    {
     "name": "stdout",
     "output_type": "stream",
     "text": [
      "Train score = 0.6482367005379558\n",
      "Test score = 0.6285714285714286\n",
      "--------\n",
      "AxesSubplot(0.125,0.125;0.62x0.755)\n",
      "Best params = {'C': 1, 'class_weight': 'balanced', 'penalty': 'l2', 'random_state': 42, 'solver': 'liblinear', 'warm_start': True}\n",
      "----F1 Score, Recall, Precision----\n",
      "              precision    recall  f1-score   support\n",
      "\n",
      "           0       0.41      0.28      0.33       337\n",
      "           1       0.69      0.81      0.74       770\n",
      "           2       0.63      0.57      0.60       328\n",
      "\n",
      "    accuracy                           0.63      1435\n",
      "   macro avg       0.57      0.55      0.56      1435\n",
      "weighted avg       0.61      0.63      0.61      1435\n",
      "\n"
     ]
    },
    {
     "data": {
      "image/png": "[encoded data removed]",
      "text/plain": [
       "<Figure size 432x288 with 2 Axes>"
      ]
     },
     "metadata": {
      "needs_background": "light"
     },
     "output_type": "display_data"
    }
   ],
   "source": [
    "run_the_lr_models(\"lr2\", X_train, X_test, Y_train, Y_test)"
   ]
  },
  {
   "cell_type": "code",
   "execution_count": 9,
   "metadata": {},
   "outputs": [],
   "source": [
    "def run_the_sv_models(model, X_train, X_test, Y_tr, Y_te):   \n",
    "    X_train_text_df, X_test_text_df, y_train, y_test = X_train, X_test, Y_tr, Y_te\n",
    "    \n",
    "    if model == 'sv1':\n",
    "        \n",
    "        sv_params = {\n",
    "            'kernel': ['rbf'], \n",
    "            'gamma': [1e-3, 1e-4],\n",
    "            'C': [1, 10, 100, 1000] }\n",
    "        \n",
    "        M = GridSearchCV(SVC(probability=True),\n",
    "                        sv_params,\n",
    "                        cv = 5,\n",
    "                        verbose = 1,\n",
    "                        n_jobs = -1)\n",
    "        \n",
    "    elif model == 'sv2':\n",
    "        \n",
    "        \n",
    "        sv_params = {\n",
    "            'kernel': ['rbf'], \n",
    "            'gamma': [0.01, 1, 10, 100],\n",
    "            'C': [1, 10, 100, 1000] }\n",
    "\n",
    "        M = GridSearchCV(SVC(probability=True),\n",
    "                        sv_params,\n",
    "                        cv = 5,\n",
    "                        verbose = 1,\n",
    "                        n_jobs = -1)\n",
    "        \n",
    "    else:\n",
    "        print(\"Invalid Model!\")\n",
    "        \n",
    "    M.fit(X_train_text_df.values, y_train)\n",
    "      \n",
    "    #save in pickle file\n",
    "    joblib.dump(M, \"SVM_TFIDF.pkl\")\n",
    "     \n",
    "    print(f'Train score = {M.score(X_train_text_df.values, y_train)}')\n",
    "    print(f'Test score = {M.score(X_test_text_df.values, y_test)}')\n",
    "    \n",
    "    predictions = M.predict(X_test_text_df.values)\n",
    "    predictions_train = M.predict(X_train_text_df.values)\n",
    "    \n",
    "    print('--------')\n",
    "    print(skplt.plot_confusion_matrix(y_test, predictions))\n",
    "    print(f'Best params = {M.best_params_}')\n",
    "    print('----F1 Score, Recall, Precision----')\n",
    "    # print precision, recall, F1-score per each class/tag\n",
    "    print(classification_report(y_test, predictions))\n",
    "#     print('----ROC AUC CURVE SCORE----')\n",
    "#     print(\"ROC AUC CURVE SCORE FOR TEST: \",roc_auc_score(y_test, predictions))\n",
    "#     print(\"ROC AUC CURVE SCORE FOR TRAIN: \",roc_auc_score(y_train, predictions_train))"
   ]
  },
  {
   "cell_type": "code",
   "execution_count": 10,
   "metadata": {},
   "outputs": [
    {
     "name": "stdout",
     "output_type": "stream",
     "text": [
      "Fitting 5 folds for each of 16 candidates, totalling 80 fits\n"
     ]
    },
    {
     "name": "stderr",
     "output_type": "stream",
     "text": [
      "[Parallel(n_jobs=-1)]: Using backend LokyBackend with 8 concurrent workers.\n",
      "[Parallel(n_jobs=-1)]: Done  34 tasks      | elapsed:   50.5s\n",
      "[Parallel(n_jobs=-1)]: Done  80 out of  80 | elapsed:  2.8min finished\n"
     ]
    },
    {
     "name": "stdout",
     "output_type": "stream",
     "text": [
      "Train score = 0.6601912731619844\n",
      "Test score = 0.6390243902439025\n",
      "--------\n",
      "AxesSubplot(0.125,0.125;0.62x0.755)\n",
      "Best params = {'C': 1, 'gamma': 1, 'kernel': 'rbf'}\n",
      "----F1 Score, Recall, Precision----\n",
      "              precision    recall  f1-score   support\n",
      "\n",
      "           0       0.47      0.17      0.25       337\n",
      "           1       0.65      0.90      0.75       770\n",
      "           2       0.69      0.51      0.58       328\n",
      "\n",
      "    accuracy                           0.64      1435\n",
      "   macro avg       0.60      0.53      0.53      1435\n",
      "weighted avg       0.62      0.64      0.60      1435\n",
      "\n"
     ]
    },
    {
     "data": {
      "image/png": "[encoded data removed]",
      "text/plain": [
       "<Figure size 432x288 with 2 Axes>"
      ]
     },
     "metadata": {
      "needs_background": "light"
     },
     "output_type": "display_data"
    }
   ],
   "source": [
    "run_the_sv_models(\"sv2\", X_train, X_test, Y_train, Y_test)"
   ]
  },
  {
   "cell_type": "code",
   "execution_count": null,
   "metadata": {},
   "outputs": [],
   "source": []
  }
 ],
 "metadata": {
  "kernelspec": {
   "display_name": "Python 3",
   "language": "python",
   "name": "python3"
  },
  "language_info": {
   "codemirror_mode": {
    "name": "ipython",
    "version": 3
   },
   "file_extension": ".py",
   "mimetype": "text/x-python",
   "name": "python",
   "nbconvert_exporter": "python",
   "pygments_lexer": "ipython3",
   "version": "3.7.6"
  }
 },
 "nbformat": 4,
 "nbformat_minor": 2
}
