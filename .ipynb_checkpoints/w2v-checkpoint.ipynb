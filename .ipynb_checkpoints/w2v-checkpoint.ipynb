{
 "cells": [
  {
   "cell_type": "code",
   "execution_count": 1,
   "metadata": {},
   "outputs": [],
   "source": [
    "import pandas as pd\n",
    "import numpy as np\n",
    "from sklearn.model_selection import GridSearchCV, train_test_split\n",
    "from sklearn.naive_bayes import GaussianNB\n",
    "from sklearn.naive_bayes import MultinomialNB\n",
    "from sklearn.metrics import classification_report, confusion_matrix\n",
    "from sklearn.svm import SVC\n",
    "from sklearn.linear_model import LogisticRegression\n",
    "from sklearn.preprocessing import MinMaxScaler\n",
    "import scikitplot.metrics as skplt\n",
    "import joblib"
   ]
  },
  {
   "cell_type": "code",
   "execution_count": 2,
   "metadata": {},
   "outputs": [],
   "source": [
    "d = {'NAG':0, 'CAG':1, 'OAG':2}"
   ]
  },
  {
   "cell_type": "code",
   "execution_count": 3,
   "metadata": {},
   "outputs": [],
   "source": [
    "eng_train = pd.read_csv(\"w2v.csv\")\n",
    "whole_data = pd.read_csv(\"Data/cleaned english.csv\")\n",
    "target = np.array([d[i] for i in whole_data[\"Sub-task A\"]])\n",
    "X = eng_train.values"
   ]
  },
  {
   "cell_type": "code",
   "execution_count": 4,
   "metadata": {},
   "outputs": [
    {
     "data": {
      "text/plain": [
       "Counter({0: 3375, 1: 453, 2: 435})"
      ]
     },
     "execution_count": 4,
     "metadata": {},
     "output_type": "execute_result"
    }
   ],
   "source": [
    "from collections import Counter\n",
    "Counter(target)"
   ]
  },
  {
   "cell_type": "code",
   "execution_count": 5,
   "metadata": {
    "scrolled": true
   },
   "outputs": [
    {
     "data": {
      "text/html": [
       "<div>\n",
       "<style scoped>\n",
       "    .dataframe tbody tr th:only-of-type {\n",
       "        vertical-align: middle;\n",
       "    }\n",
       "\n",
       "    .dataframe tbody tr th {\n",
       "        vertical-align: top;\n",
       "    }\n",
       "\n",
       "    .dataframe thead th {\n",
       "        text-align: right;\n",
       "    }\n",
       "</style>\n",
       "<table border=\"1\" class=\"dataframe\">\n",
       "  <thead>\n",
       "    <tr style=\"text-align: right;\">\n",
       "      <th></th>\n",
       "      <th>0</th>\n",
       "      <th>1</th>\n",
       "      <th>2</th>\n",
       "      <th>3</th>\n",
       "      <th>4</th>\n",
       "      <th>5</th>\n",
       "      <th>6</th>\n",
       "      <th>7</th>\n",
       "      <th>8</th>\n",
       "      <th>9</th>\n",
       "      <th>...</th>\n",
       "      <th>90</th>\n",
       "      <th>91</th>\n",
       "      <th>92</th>\n",
       "      <th>93</th>\n",
       "      <th>94</th>\n",
       "      <th>95</th>\n",
       "      <th>96</th>\n",
       "      <th>97</th>\n",
       "      <th>98</th>\n",
       "      <th>99</th>\n",
       "    </tr>\n",
       "  </thead>\n",
       "  <tbody>\n",
       "    <tr>\n",
       "      <th>0</th>\n",
       "      <td>-0.081080</td>\n",
       "      <td>0.365903</td>\n",
       "      <td>-0.299612</td>\n",
       "      <td>1.173412</td>\n",
       "      <td>-0.711228</td>\n",
       "      <td>-0.142153</td>\n",
       "      <td>0.009829</td>\n",
       "      <td>-0.236417</td>\n",
       "      <td>0.183678</td>\n",
       "      <td>-1.199728</td>\n",
       "      <td>...</td>\n",
       "      <td>-0.288497</td>\n",
       "      <td>0.258620</td>\n",
       "      <td>0.057061</td>\n",
       "      <td>-0.406869</td>\n",
       "      <td>-0.176718</td>\n",
       "      <td>-0.586362</td>\n",
       "      <td>-0.573308</td>\n",
       "      <td>-0.081299</td>\n",
       "      <td>-0.889993</td>\n",
       "      <td>0.338896</td>\n",
       "    </tr>\n",
       "    <tr>\n",
       "      <th>1</th>\n",
       "      <td>1.540728</td>\n",
       "      <td>1.626980</td>\n",
       "      <td>-0.023216</td>\n",
       "      <td>1.005176</td>\n",
       "      <td>-0.842973</td>\n",
       "      <td>0.151272</td>\n",
       "      <td>-0.001732</td>\n",
       "      <td>0.670715</td>\n",
       "      <td>0.687438</td>\n",
       "      <td>0.481626</td>\n",
       "      <td>...</td>\n",
       "      <td>-1.866225</td>\n",
       "      <td>0.083955</td>\n",
       "      <td>0.838965</td>\n",
       "      <td>0.616431</td>\n",
       "      <td>0.054609</td>\n",
       "      <td>0.216968</td>\n",
       "      <td>-0.648024</td>\n",
       "      <td>-0.288967</td>\n",
       "      <td>0.074838</td>\n",
       "      <td>-0.167191</td>\n",
       "    </tr>\n",
       "    <tr>\n",
       "      <th>2</th>\n",
       "      <td>0.922886</td>\n",
       "      <td>0.582775</td>\n",
       "      <td>0.059020</td>\n",
       "      <td>0.500537</td>\n",
       "      <td>-0.597282</td>\n",
       "      <td>-0.331037</td>\n",
       "      <td>-0.225238</td>\n",
       "      <td>0.387862</td>\n",
       "      <td>0.589431</td>\n",
       "      <td>0.061582</td>\n",
       "      <td>...</td>\n",
       "      <td>-0.983615</td>\n",
       "      <td>-0.304804</td>\n",
       "      <td>0.507863</td>\n",
       "      <td>0.260028</td>\n",
       "      <td>0.342769</td>\n",
       "      <td>-0.240524</td>\n",
       "      <td>-0.803167</td>\n",
       "      <td>-0.172731</td>\n",
       "      <td>0.025166</td>\n",
       "      <td>-0.355677</td>\n",
       "    </tr>\n",
       "    <tr>\n",
       "      <th>3</th>\n",
       "      <td>0.691571</td>\n",
       "      <td>0.476886</td>\n",
       "      <td>0.300844</td>\n",
       "      <td>0.676512</td>\n",
       "      <td>-0.156422</td>\n",
       "      <td>-0.030080</td>\n",
       "      <td>0.147664</td>\n",
       "      <td>0.095083</td>\n",
       "      <td>0.304328</td>\n",
       "      <td>0.135044</td>\n",
       "      <td>...</td>\n",
       "      <td>-0.526718</td>\n",
       "      <td>-0.079644</td>\n",
       "      <td>0.077360</td>\n",
       "      <td>0.073579</td>\n",
       "      <td>-0.142882</td>\n",
       "      <td>0.054870</td>\n",
       "      <td>-0.597230</td>\n",
       "      <td>-0.252319</td>\n",
       "      <td>0.076593</td>\n",
       "      <td>-0.155770</td>\n",
       "    </tr>\n",
       "    <tr>\n",
       "      <th>4</th>\n",
       "      <td>0.219516</td>\n",
       "      <td>0.449992</td>\n",
       "      <td>0.015560</td>\n",
       "      <td>0.266686</td>\n",
       "      <td>0.452361</td>\n",
       "      <td>0.417615</td>\n",
       "      <td>0.158187</td>\n",
       "      <td>0.150685</td>\n",
       "      <td>0.262756</td>\n",
       "      <td>-0.294568</td>\n",
       "      <td>...</td>\n",
       "      <td>-0.271039</td>\n",
       "      <td>-0.214350</td>\n",
       "      <td>0.079396</td>\n",
       "      <td>-0.144142</td>\n",
       "      <td>0.036031</td>\n",
       "      <td>-0.424498</td>\n",
       "      <td>-0.572004</td>\n",
       "      <td>-0.304649</td>\n",
       "      <td>0.141541</td>\n",
       "      <td>0.530157</td>\n",
       "    </tr>\n",
       "  </tbody>\n",
       "</table>\n",
       "<p>5 rows × 100 columns</p>\n",
       "</div>"
      ],
      "text/plain": [
       "          0         1         2         3         4         5         6  \\\n",
       "0 -0.081080  0.365903 -0.299612  1.173412 -0.711228 -0.142153  0.009829   \n",
       "1  1.540728  1.626980 -0.023216  1.005176 -0.842973  0.151272 -0.001732   \n",
       "2  0.922886  0.582775  0.059020  0.500537 -0.597282 -0.331037 -0.225238   \n",
       "3  0.691571  0.476886  0.300844  0.676512 -0.156422 -0.030080  0.147664   \n",
       "4  0.219516  0.449992  0.015560  0.266686  0.452361  0.417615  0.158187   \n",
       "\n",
       "          7         8         9  ...        90        91        92        93  \\\n",
       "0 -0.236417  0.183678 -1.199728  ... -0.288497  0.258620  0.057061 -0.406869   \n",
       "1  0.670715  0.687438  0.481626  ... -1.866225  0.083955  0.838965  0.616431   \n",
       "2  0.387862  0.589431  0.061582  ... -0.983615 -0.304804  0.507863  0.260028   \n",
       "3  0.095083  0.304328  0.135044  ... -0.526718 -0.079644  0.077360  0.073579   \n",
       "4  0.150685  0.262756 -0.294568  ... -0.271039 -0.214350  0.079396 -0.144142   \n",
       "\n",
       "         94        95        96        97        98        99  \n",
       "0 -0.176718 -0.586362 -0.573308 -0.081299 -0.889993  0.338896  \n",
       "1  0.054609  0.216968 -0.648024 -0.288967  0.074838 -0.167191  \n",
       "2  0.342769 -0.240524 -0.803167 -0.172731  0.025166 -0.355677  \n",
       "3 -0.142882  0.054870 -0.597230 -0.252319  0.076593 -0.155770  \n",
       "4  0.036031 -0.424498 -0.572004 -0.304649  0.141541  0.530157  \n",
       "\n",
       "[5 rows x 100 columns]"
      ]
     },
     "execution_count": 5,
     "metadata": {},
     "output_type": "execute_result"
    }
   ],
   "source": [
    "eng_train.head()"
   ]
  },
  {
   "cell_type": "code",
   "execution_count": 6,
   "metadata": {},
   "outputs": [],
   "source": [
    "# for i in range(0,X.shape[-1]):\n",
    "\n",
    "#     X[:,i] = makeLabelled(X[:,i])"
   ]
  },
  {
   "cell_type": "code",
   "execution_count": 7,
   "metadata": {},
   "outputs": [],
   "source": [
    "X_train,X_test,Y_train,Y_test = train_test_split(X, target,test_size=0.25,random_state=0)"
   ]
  },
  {
   "cell_type": "code",
   "execution_count": 8,
   "metadata": {},
   "outputs": [
    {
     "name": "stdout",
     "output_type": "stream",
     "text": [
      "              precision    recall  f1-score   support\n",
      "\n",
      "           0       1.00      0.00      0.00       852\n",
      "           1       0.00      0.00      0.00       118\n",
      "           2       0.09      1.00      0.17        96\n",
      "\n",
      "    accuracy                           0.09      1066\n",
      "   macro avg       0.36      0.33      0.06      1066\n",
      "weighted avg       0.81      0.09      0.02      1066\n",
      "\n",
      "[[  1   0 851]\n",
      " [  0   0 118]\n",
      " [  0   0  96]]\n"
     ]
    },
    {
     "name": "stderr",
     "output_type": "stream",
     "text": [
      "/home/rachit/anaconda3/lib/python3.7/site-packages/sklearn/metrics/classification.py:1437: UndefinedMetricWarning: Precision and F-score are ill-defined and being set to 0.0 in labels with no predicted samples.\n",
      "  'precision', 'predicted', average, warn_for)\n"
     ]
    }
   ],
   "source": [
    "clf = GaussianNB(var_smoothing=0.2)\n",
    "clf.fit(X_train, Y_train)\n",
    "Y_pred = clf.predict(X_test)\n",
    "print(classification_report(Y_test,Y_pred))\n",
    "print(confusion_matrix(Y_test,Y_pred))"
   ]
  },
  {
   "cell_type": "code",
   "execution_count": 9,
   "metadata": {
    "scrolled": true
   },
   "outputs": [
    {
     "name": "stdout",
     "output_type": "stream",
     "text": [
      "              precision    recall  f1-score   support\n",
      "\n",
      "           0       0.80      1.00      0.89       852\n",
      "           1       0.00      0.00      0.00       118\n",
      "           2       1.00      0.01      0.02        96\n",
      "\n",
      "    accuracy                           0.80      1066\n",
      "   macro avg       0.60      0.34      0.30      1066\n",
      "weighted avg       0.73      0.80      0.71      1066\n",
      "\n",
      "[[852   0   0]\n",
      " [118   0   0]\n",
      " [ 95   0   1]]\n"
     ]
    },
    {
     "name": "stderr",
     "output_type": "stream",
     "text": [
      "/home/rachit/anaconda3/lib/python3.7/site-packages/sklearn/metrics/classification.py:1437: UndefinedMetricWarning: Precision and F-score are ill-defined and being set to 0.0 in labels with no predicted samples.\n",
      "  'precision', 'predicted', average, warn_for)\n"
     ]
    }
   ],
   "source": [
    "clf = SVC(C=1, gamma='auto', kernel='rbf', probability=True)\n",
    "clf.fit(X_train, Y_train)\n",
    "Y_pred = clf.predict(X_test)\n",
    "print(classification_report(Y_test,Y_pred))\n",
    "print(confusion_matrix(Y_test,Y_pred))"
   ]
  },
  {
   "cell_type": "code",
   "execution_count": 10,
   "metadata": {
    "scrolled": true
   },
   "outputs": [
    {
     "name": "stdout",
     "output_type": "stream",
     "text": [
      "              precision    recall  f1-score   support\n",
      "\n",
      "           0       0.80      1.00      0.89       852\n",
      "           1       0.00      0.00      0.00       118\n",
      "           2       0.00      0.00      0.00        96\n",
      "\n",
      "    accuracy                           0.80      1066\n",
      "   macro avg       0.27      0.33      0.30      1066\n",
      "weighted avg       0.64      0.80      0.71      1066\n",
      "\n",
      "[[852   0   0]\n",
      " [118   0   0]\n",
      " [ 96   0   0]]\n"
     ]
    },
    {
     "name": "stderr",
     "output_type": "stream",
     "text": [
      "/home/rachit/anaconda3/lib/python3.7/site-packages/sklearn/linear_model/logistic.py:432: FutureWarning: Default solver will be changed to 'lbfgs' in 0.22. Specify a solver to silence this warning.\n",
      "  FutureWarning)\n",
      "/home/rachit/anaconda3/lib/python3.7/site-packages/sklearn/linear_model/logistic.py:469: FutureWarning: Default multi_class will be changed to 'auto' in 0.22. Specify the multi_class option to silence this warning.\n",
      "  \"this warning.\", FutureWarning)\n",
      "/home/rachit/anaconda3/lib/python3.7/site-packages/sklearn/metrics/classification.py:1437: UndefinedMetricWarning: Precision and F-score are ill-defined and being set to 0.0 in labels with no predicted samples.\n",
      "  'precision', 'predicted', average, warn_for)\n"
     ]
    }
   ],
   "source": [
    "clf = LogisticRegression()\n",
    "clf.fit(X_train, Y_train)\n",
    "Y_pred = clf.predict(X_test)\n",
    "print(classification_report(Y_test,Y_pred))\n",
    "print(confusion_matrix(Y_test,Y_pred))"
   ]
  },
  {
   "cell_type": "code",
   "execution_count": 13,
   "metadata": {
    "scrolled": true
   },
   "outputs": [
    {
     "name": "stdout",
     "output_type": "stream",
     "text": [
      "              precision    recall  f1-score   support\n",
      "\n",
      "           0       0.80      1.00      0.89       852\n",
      "           1       0.00      0.00      0.00       118\n",
      "           2       0.00      0.00      0.00        96\n",
      "\n",
      "    accuracy                           0.80      1066\n",
      "   macro avg       0.27      0.33      0.30      1066\n",
      "weighted avg       0.64      0.80      0.71      1066\n",
      "\n",
      "[[851   1   0]\n",
      " [118   0   0]\n",
      " [ 96   0   0]]\n"
     ]
    },
    {
     "name": "stderr",
     "output_type": "stream",
     "text": [
      "/home/rachit/anaconda3/lib/python3.7/site-packages/sklearn/metrics/classification.py:1437: UndefinedMetricWarning: Precision and F-score are ill-defined and being set to 0.0 in labels with no predicted samples.\n",
      "  'precision', 'predicted', average, warn_for)\n"
     ]
    }
   ],
   "source": [
    "clf = MultinomialNB()\n",
    "scaler = MinMaxScaler()\n",
    "X_transformed = scaler.fit_transform(X)\n",
    "X_train_tf,X_test_tf,Y_train_tf,Y_test_tf = train_test_split(X_transformed, target,test_size=0.25,random_state=0)\n",
    "clf.fit(X_train_tf, Y_train_tf)\n",
    "Y_pred = clf.predict(X_test_tf)\n",
    "print(classification_report(Y_test_tf,Y_pred))\n",
    "print(confusion_matrix(Y_test_tf,Y_pred))"
   ]
  },
  {
   "cell_type": "code",
   "execution_count": 14,
   "metadata": {},
   "outputs": [],
   "source": [
    "def run_the_mn_models(model, X_train, X_test, Y_tr, Y_te):\n",
    "    X_train_text_df, X_test_text_df, y_train, y_test = X_train, X_test, Y_tr, Y_te\n",
    "    \n",
    "    if model == 'mnb1':\n",
    "        \n",
    "        mn_params = {\n",
    "            'fit_prior': [True],\n",
    "            'alpha': [0, 0.5, 1]}\n",
    "        \n",
    "        M = GridSearchCV(MultinomialNB(),\n",
    "                        mn_params,\n",
    "                        cv = 5,\n",
    "                        verbose = 1,\n",
    "                        n_jobs = -1)\n",
    "        \n",
    "    elif model == 'mnb2':\n",
    "        \n",
    "         mn_params = {\n",
    "            'fit_prior': [False],\n",
    "            'alpha': [0, 0.5, 1]}\n",
    "        \n",
    "         M = GridSearchCV(MultinomialNB(),\n",
    "                        mn_params,\n",
    "                        cv = 5,\n",
    "                        verbose = 1,\n",
    "                        n_jobs = -1)\n",
    "        \n",
    "    else:\n",
    "        print('There is an error.')\n",
    "        \n",
    "    M.fit(X_train_text_df, y_train)\n",
    "     \n",
    "    print(f'Train score = {M.score(X_train_text_df, y_train)}')\n",
    "    print(f'Test score = {M.score(X_test_text_df, y_test)}')\n",
    "    \n",
    "    predictions = M.predict(X_test_text_df)\n",
    "    predictions_train = M.predict(X_train_text_df)\n",
    "    print('--------')\n",
    "    print(skplt.plot_confusion_matrix(y_test, predictions))\n",
    "    print(f'Best params = {M.best_params_}')\n",
    "    print('----F1 Score, Recall, Precision----')\n",
    "    # print precision, recall, F1-score per each class/tag\n",
    "    print(classification_report(y_test, predictions))"
   ]
  },
  {
   "cell_type": "code",
   "execution_count": 16,
   "metadata": {},
   "outputs": [
    {
     "name": "stdout",
     "output_type": "stream",
     "text": [
      "Fitting 5 folds for each of 3 candidates, totalling 15 fits\n"
     ]
    },
    {
     "name": "stderr",
     "output_type": "stream",
     "text": [
      "[Parallel(n_jobs=-1)]: Using backend LokyBackend with 12 concurrent workers.\n",
      "[Parallel(n_jobs=-1)]: Done   8 out of  15 | elapsed:    2.6s remaining:    2.3s\n",
      "[Parallel(n_jobs=-1)]: Done  15 out of  15 | elapsed:    2.8s finished\n"
     ]
    },
    {
     "name": "stdout",
     "output_type": "stream",
     "text": [
      "Train score = 0.7891773537691585\n",
      "Test score = 0.799249530956848\n",
      "--------\n",
      "AxesSubplot(0.125,0.125;0.62x0.755)\n",
      "Best params = {'alpha': 0, 'fit_prior': True}\n",
      "----F1 Score, Recall, Precision----\n",
      "              precision    recall  f1-score   support\n",
      "\n",
      "           0       0.80      1.00      0.89       852\n",
      "           1       0.00      0.00      0.00       118\n",
      "           2       0.00      0.00      0.00        96\n",
      "\n",
      "    accuracy                           0.80      1066\n",
      "   macro avg       0.27      0.33      0.30      1066\n",
      "weighted avg       0.64      0.80      0.71      1066\n",
      "\n"
     ]
    },
    {
     "name": "stderr",
     "output_type": "stream",
     "text": [
      "/home/rachit/anaconda3/lib/python3.7/site-packages/sklearn/naive_bayes.py:485: UserWarning: alpha too small will result in numeric errors, setting alpha = 1.0e-10\n",
      "  'setting alpha = %.1e' % _ALPHA_MIN)\n",
      "/home/rachit/anaconda3/lib/python3.7/site-packages/sklearn/metrics/classification.py:1437: UndefinedMetricWarning: Precision and F-score are ill-defined and being set to 0.0 in labels with no predicted samples.\n",
      "  'precision', 'predicted', average, warn_for)\n"
     ]
    },
    {
     "data": {
      "image/png": "[encoded data removed]",
      "text/plain": [
       "<Figure size 432x288 with 2 Axes>"
      ]
     },
     "metadata": {
      "needs_background": "light"
     },
     "output_type": "display_data"
    }
   ],
   "source": [
    "run_the_mn_models(\"mnb1\", X_train_tf, X_test_tf, Y_train_tf, Y_test_tf)"
   ]
  },
  {
   "cell_type": "code",
   "execution_count": 17,
   "metadata": {},
   "outputs": [],
   "source": [
    "\n",
    "def run_the_lr_models(model, X_train, X_test, Y_tr, Y_te):\n",
    "    X_train_text_df, X_test_text_df, y_train, y_test = X_train, X_test, Y_tr, Y_te\n",
    "    \n",
    "    \n",
    "    if model == 'lr1':\n",
    "        \n",
    "        lr_1_params = {\n",
    "            'penalty': ['l1'],\n",
    "            'C': [1, 1.5, 2, 2.5],\n",
    "            'class_weight': ['balanced'],\n",
    "            'warm_start': [True, False],\n",
    "            'random_state': [42],\n",
    "            'solver': ['liblinear']}\n",
    "        \n",
    "        M = GridSearchCV(LogisticRegression(),\n",
    "                        lr_1_params,\n",
    "                        cv = 5,\n",
    "                        verbose = 1,\n",
    "                        n_jobs = -1)\n",
    "        \n",
    "    elif model == 'lr2':\n",
    "        \n",
    "        lr_2_params = {\n",
    "            'penalty': ['l2'],\n",
    "            'C': [1, 1.5, 2, 2.5],\n",
    "            'class_weight': ['balanced'],\n",
    "            'warm_start': [True, False],            \n",
    "            'random_state': [42],\n",
    "            'solver': ['lbfgs', 'liblinear']}\n",
    "        \n",
    "        M = GridSearchCV(LogisticRegression(),\n",
    "                        lr_2_params,\n",
    "                        cv = 5,\n",
    "                        verbose = 1,\n",
    "                        n_jobs = -1)\n",
    "\n",
    "    else:\n",
    "        print('There is an error.')\n",
    "        \n",
    "    M.fit(X_train_text_df, y_train)\n",
    "     \n",
    "    print(f'Train score = {M.score(X_train_text_df, y_train)}')\n",
    "    print(f'Test score = {M.score(X_test_text_df, y_test)}')\n",
    "    \n",
    "    predictions = M.predict(X_test_text_df)\n",
    "    predictions_train = M.predict(X_train_text_df)\n",
    "    print('--------')\n",
    "    print(skplt.plot_confusion_matrix(y_test, predictions))\n",
    "    print(f'Best params = {M.best_params_}')\n",
    "    print('----F1 Score, Recall, Precision----')\n",
    "    # print precision, recall, F1-score per each class/tag\n",
    "    print(classification_report(y_test, predictions))"
   ]
  },
  {
   "cell_type": "code",
   "execution_count": 18,
   "metadata": {},
   "outputs": [
    {
     "name": "stdout",
     "output_type": "stream",
     "text": [
      "Fitting 5 folds for each of 16 candidates, totalling 80 fits\n"
     ]
    },
    {
     "name": "stderr",
     "output_type": "stream",
     "text": [
      "[Parallel(n_jobs=-1)]: Using backend LokyBackend with 12 concurrent workers.\n",
      "[Parallel(n_jobs=-1)]: Done  26 tasks      | elapsed:    0.9s\n",
      "[Parallel(n_jobs=-1)]: Done  80 out of  80 | elapsed:    2.7s finished\n",
      "/home/rachit/anaconda3/lib/python3.7/site-packages/sklearn/linear_model/logistic.py:469: FutureWarning: Default multi_class will be changed to 'auto' in 0.22. Specify the multi_class option to silence this warning.\n",
      "  \"this warning.\", FutureWarning)\n",
      "/home/rachit/anaconda3/lib/python3.7/site-packages/sklearn/metrics/classification.py:1437: UndefinedMetricWarning: Precision and F-score are ill-defined and being set to 0.0 in labels with no predicted samples.\n",
      "  'precision', 'predicted', average, warn_for)\n"
     ]
    },
    {
     "name": "stdout",
     "output_type": "stream",
     "text": [
      "Train score = 0.7891773537691585\n",
      "Test score = 0.799249530956848\n",
      "--------\n",
      "AxesSubplot(0.125,0.125;0.62x0.755)\n",
      "Best params = {'C': 1, 'class_weight': 'balanced', 'penalty': 'l2', 'random_state': 42, 'solver': 'lbfgs', 'warm_start': True}\n",
      "----F1 Score, Recall, Precision----\n",
      "              precision    recall  f1-score   support\n",
      "\n",
      "           0       0.80      1.00      0.89       852\n",
      "           1       0.00      0.00      0.00       118\n",
      "           2       0.00      0.00      0.00        96\n",
      "\n",
      "    accuracy                           0.80      1066\n",
      "   macro avg       0.27      0.33      0.30      1066\n",
      "weighted avg       0.64      0.80      0.71      1066\n",
      "\n"
     ]
    },
    {
     "data": {
      "image/png": "[encoded data removed]",
      "text/plain": [
       "<Figure size 432x288 with 2 Axes>"
      ]
     },
     "metadata": {
      "needs_background": "light"
     },
     "output_type": "display_data"
    }
   ],
   "source": [
    "run_the_lr_models(\"lr2\", X_train, X_test, Y_train, Y_test)"
   ]
  },
  {
   "cell_type": "code",
   "execution_count": 19,
   "metadata": {},
   "outputs": [],
   "source": [
    "\n",
    "def run_the_sv_models(model, X_train, X_test, Y_tr, Y_te):   \n",
    "    X_train_text_df, X_test_text_df, y_train, y_test = X_train, X_test, Y_tr, Y_te\n",
    "    \n",
    "    if model == 'sv1':\n",
    "        \n",
    "        sv_params = {\n",
    "            'kernel': ['rbf'], \n",
    "            'gamma': [1e-3, 1e-4],\n",
    "            'C': [1, 10, 100, 1000] }\n",
    "        \n",
    "        M = GridSearchCV(SVC(probability=True),\n",
    "                        sv_params,\n",
    "                        cv = 5,\n",
    "                        verbose = 1,\n",
    "                        n_jobs = -1)\n",
    "        \n",
    "    elif model == 'sv2':\n",
    "        \n",
    "        \n",
    "        sv_params = {\n",
    "            'kernel': ['rbf'], \n",
    "            'gamma': [0.01, 1, 10, 100],\n",
    "            'C': [1, 10, 100, 1000] }\n",
    "\n",
    "        M = GridSearchCV(SVC(probability=True),\n",
    "                        sv_params,\n",
    "                        cv = 5,\n",
    "                        verbose = 1,\n",
    "                        n_jobs = -1)\n",
    "        \n",
    "    M.fit(X_train_text_df, y_train)\n",
    "      \n",
    "    #save in picle file\n",
    "    joblib.dump(M, \"SVM_TFIDF.pkl\")\n",
    "     \n",
    "    print(f'Train score = {M.score(X_train_text_df, y_train)}')\n",
    "    print(f'Test score = {M.score(X_test_text_df, y_test)}')\n",
    "    \n",
    "    predictions = M.predict(X_test_text_df)\n",
    "    predictions_train = M.predict(X_train_text_df)\n",
    "    \n",
    "    print('--------')\n",
    "    print(skplt.plot_confusion_matrix(y_test, predictions))\n",
    "    print(f'Best params = {M.best_params_}')\n",
    "    print('----F1 Score, Recall, Precision----')\n",
    "    # print precision, recall, F1-score per each class/tag\n",
    "    print(classification_report(y_test, predictions))\n",
    "#     print('----ROC AUC CURVE SCORE----')\n",
    "#     print(\"ROC AUC CURVE SCORE FOR TEST: \",roc_auc_score(y_test, predictions))\n",
    "#     print(\"ROC AUC CURVE SCORE FOR TRAIN: \",roc_auc_score(y_train, predictions_train))"
   ]
  },
  {
   "cell_type": "code",
   "execution_count": 20,
   "metadata": {},
   "outputs": [
    {
     "name": "stdout",
     "output_type": "stream",
     "text": [
      "Fitting 5 folds for each of 8 candidates, totalling 40 fits\n"
     ]
    },
    {
     "name": "stderr",
     "output_type": "stream",
     "text": [
      "[Parallel(n_jobs=-1)]: Using backend LokyBackend with 12 concurrent workers.\n",
      "[Parallel(n_jobs=-1)]: Done  40 out of  40 | elapsed:  1.2min finished\n"
     ]
    },
    {
     "name": "stdout",
     "output_type": "stream",
     "text": [
      "Train score = 0.8808257741632781\n",
      "Test score = 0.7936210131332082\n",
      "--------\n",
      "AxesSubplot(0.125,0.125;0.62x0.755)\n",
      "Best params = {'C': 100, 'gamma': 0.001, 'kernel': 'rbf'}\n",
      "----F1 Score, Recall, Precision----\n",
      "              precision    recall  f1-score   support\n",
      "\n",
      "           0       0.81      0.99      0.89       852\n",
      "           1       0.00      0.00      0.00       118\n",
      "           2       0.30      0.06      0.10        96\n",
      "\n",
      "    accuracy                           0.79      1066\n",
      "   macro avg       0.37      0.35      0.33      1066\n",
      "weighted avg       0.67      0.79      0.72      1066\n",
      "\n"
     ]
    },
    {
     "data": {
      "image/png": "[encoded data removed]",
      "text/plain": [
       "<Figure size 432x288 with 2 Axes>"
      ]
     },
     "metadata": {
      "needs_background": "light"
     },
     "output_type": "display_data"
    }
   ],
   "source": [
    "run_the_sv_models(\"sv1\", X_train, X_test, Y_train, Y_test)"
   ]
  }
 ],
 "metadata": {
  "kernelspec": {
   "display_name": "Python 3",
   "language": "python",
   "name": "python3"
  },
  "language_info": {
   "codemirror_mode": {
    "name": "ipython",
    "version": 3
   },
   "file_extension": ".py",
   "mimetype": "text/x-python",
   "name": "python",
   "nbconvert_exporter": "python",
   "pygments_lexer": "ipython3",
   "version": "3.7.3"
  }
 },
 "nbformat": 4,
 "nbformat_minor": 2
}
