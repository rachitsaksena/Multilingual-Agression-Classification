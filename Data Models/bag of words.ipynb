{
 "cells": [
  {
   "cell_type": "code",
   "execution_count": 7,
   "metadata": {},
   "outputs": [],
   "source": [
    "import pandas as pd\n",
    "import numpy as np\n",
    "from sklearn.model_selection import GridSearchCV, train_test_split\n",
    "from sklearn.naive_bayes import GaussianNB\n",
    "from sklearn.naive_bayes import MultinomialNB\n",
    "from sklearn.metrics import classification_report, confusion_matrix\n",
    "from sklearn.svm import SVC\n",
    "from sklearn.linear_model import LogisticRegression\n",
    "from sklearn.preprocessing import MinMaxScaler, LabelEncoder\n",
    "import scikitplot.metrics as skplt\n",
    "import joblib"
   ]
  },
  {
   "cell_type": "code",
   "execution_count": 8,
   "metadata": {},
   "outputs": [
    {
     "data": {
      "text/html": [
       "<div>\n",
       "<style scoped>\n",
       "    .dataframe tbody tr th:only-of-type {\n",
       "        vertical-align: middle;\n",
       "    }\n",
       "\n",
       "    .dataframe tbody tr th {\n",
       "        vertical-align: top;\n",
       "    }\n",
       "\n",
       "    .dataframe thead th {\n",
       "        text-align: right;\n",
       "    }\n",
       "</style>\n",
       "<table border=\"1\" class=\"dataframe\">\n",
       "  <thead>\n",
       "    <tr style=\"text-align: right;\">\n",
       "      <th></th>\n",
       "      <th>na</th>\n",
       "      <th>ranu</th>\n",
       "      <th>ta</th>\n",
       "      <th>অন</th>\n",
       "      <th>আগ</th>\n",
       "      <th>আছ</th>\n",
       "      <th>আপন</th>\n",
       "      <th>আব</th>\n",
       "      <th>আম</th>\n",
       "      <th>আমর</th>\n",
       "      <th>...</th>\n",
       "      <th>রণ</th>\n",
       "      <th>রত</th>\n",
       "      <th>লত</th>\n",
       "      <th>সত</th>\n",
       "      <th>সব</th>\n",
       "      <th>সম</th>\n",
       "      <th>হব</th>\n",
       "      <th>হল</th>\n",
       "      <th>হয়</th>\n",
       "      <th>Sub-task B</th>\n",
       "    </tr>\n",
       "  </thead>\n",
       "  <tbody>\n",
       "    <tr>\n",
       "      <th>0</th>\n",
       "      <td>0</td>\n",
       "      <td>0</td>\n",
       "      <td>0</td>\n",
       "      <td>0</td>\n",
       "      <td>0</td>\n",
       "      <td>0</td>\n",
       "      <td>0</td>\n",
       "      <td>0</td>\n",
       "      <td>0</td>\n",
       "      <td>0</td>\n",
       "      <td>...</td>\n",
       "      <td>0</td>\n",
       "      <td>0</td>\n",
       "      <td>0</td>\n",
       "      <td>0</td>\n",
       "      <td>0</td>\n",
       "      <td>0</td>\n",
       "      <td>0</td>\n",
       "      <td>0</td>\n",
       "      <td>0</td>\n",
       "      <td>1</td>\n",
       "    </tr>\n",
       "    <tr>\n",
       "      <th>1</th>\n",
       "      <td>0</td>\n",
       "      <td>0</td>\n",
       "      <td>0</td>\n",
       "      <td>0</td>\n",
       "      <td>0</td>\n",
       "      <td>0</td>\n",
       "      <td>0</td>\n",
       "      <td>0</td>\n",
       "      <td>0</td>\n",
       "      <td>1</td>\n",
       "      <td>...</td>\n",
       "      <td>0</td>\n",
       "      <td>0</td>\n",
       "      <td>0</td>\n",
       "      <td>0</td>\n",
       "      <td>0</td>\n",
       "      <td>0</td>\n",
       "      <td>0</td>\n",
       "      <td>1</td>\n",
       "      <td>0</td>\n",
       "      <td>1</td>\n",
       "    </tr>\n",
       "    <tr>\n",
       "      <th>2</th>\n",
       "      <td>0</td>\n",
       "      <td>0</td>\n",
       "      <td>0</td>\n",
       "      <td>0</td>\n",
       "      <td>0</td>\n",
       "      <td>0</td>\n",
       "      <td>0</td>\n",
       "      <td>0</td>\n",
       "      <td>0</td>\n",
       "      <td>0</td>\n",
       "      <td>...</td>\n",
       "      <td>0</td>\n",
       "      <td>0</td>\n",
       "      <td>0</td>\n",
       "      <td>0</td>\n",
       "      <td>0</td>\n",
       "      <td>0</td>\n",
       "      <td>0</td>\n",
       "      <td>0</td>\n",
       "      <td>0</td>\n",
       "      <td>1</td>\n",
       "    </tr>\n",
       "    <tr>\n",
       "      <th>3</th>\n",
       "      <td>0</td>\n",
       "      <td>0</td>\n",
       "      <td>0</td>\n",
       "      <td>0</td>\n",
       "      <td>0</td>\n",
       "      <td>0</td>\n",
       "      <td>0</td>\n",
       "      <td>0</td>\n",
       "      <td>0</td>\n",
       "      <td>0</td>\n",
       "      <td>...</td>\n",
       "      <td>0</td>\n",
       "      <td>0</td>\n",
       "      <td>0</td>\n",
       "      <td>0</td>\n",
       "      <td>0</td>\n",
       "      <td>0</td>\n",
       "      <td>0</td>\n",
       "      <td>0</td>\n",
       "      <td>0</td>\n",
       "      <td>0</td>\n",
       "    </tr>\n",
       "    <tr>\n",
       "      <th>4</th>\n",
       "      <td>0</td>\n",
       "      <td>0</td>\n",
       "      <td>0</td>\n",
       "      <td>0</td>\n",
       "      <td>0</td>\n",
       "      <td>0</td>\n",
       "      <td>0</td>\n",
       "      <td>0</td>\n",
       "      <td>0</td>\n",
       "      <td>0</td>\n",
       "      <td>...</td>\n",
       "      <td>0</td>\n",
       "      <td>0</td>\n",
       "      <td>0</td>\n",
       "      <td>0</td>\n",
       "      <td>0</td>\n",
       "      <td>0</td>\n",
       "      <td>0</td>\n",
       "      <td>0</td>\n",
       "      <td>0</td>\n",
       "      <td>1</td>\n",
       "    </tr>\n",
       "  </tbody>\n",
       "</table>\n",
       "<p>5 rows × 49 columns</p>\n",
       "</div>"
      ],
      "text/plain": [
       "   na  ranu  ta  অন  আগ  আছ  আপন  আব  আম  আমর  ...  রণ  রত  লত  সত  সব  সম  \\\n",
       "0   0     0   0   0   0   0    0   0   0    0  ...   0   0   0   0   0   0   \n",
       "1   0     0   0   0   0   0    0   0   0    1  ...   0   0   0   0   0   0   \n",
       "2   0     0   0   0   0   0    0   0   0    0  ...   0   0   0   0   0   0   \n",
       "3   0     0   0   0   0   0    0   0   0    0  ...   0   0   0   0   0   0   \n",
       "4   0     0   0   0   0   0    0   0   0    0  ...   0   0   0   0   0   0   \n",
       "\n",
       "   হব  হল  হয়  Sub-task B  \n",
       "0   0   0   0           1  \n",
       "1   0   1   0           1  \n",
       "2   0   0   0           1  \n",
       "3   0   0   0           0  \n",
       "4   0   0   0           1  \n",
       "\n",
       "[5 rows x 49 columns]"
      ]
     },
     "execution_count": 8,
     "metadata": {},
     "output_type": "execute_result"
    }
   ],
   "source": [
    "train_df = pd.read_csv(\"../Data/ben_train_bow.csv\")\n",
    "test_df = pd.read_csv(\"../Data/ben_test_bow.csv\")\n",
    "X_train = train_df.drop(columns=[\"Y\"])\n",
    "Y_train = train_df[\"Y\"]\n",
    "X_test = test_df.drop(columns=[\"Y\"])\n",
    "Y_test = test_df[\"Y\"]\n",
    "X_train.head()"
   ]
  },
  {
   "cell_type": "code",
   "execution_count": 9,
   "metadata": {},
   "outputs": [],
   "source": [
    "scaler = MinMaxScaler()\n",
    "scaler.fit(X_train)\n",
    "scaler.partial_fit(X_test)\n",
    "X_train_tf = scaler.transform(X_train)\n",
    "X_test_tf = scaler.transform(X_test)"
   ]
  },
  {
   "cell_type": "code",
   "execution_count": 10,
   "metadata": {},
   "outputs": [],
   "source": [
    "def run_the_mn_models(model, X_train, X_test, Y_tr, Y_te):\n",
    "    X_train_text_df, X_test_text_df, y_train, y_test = X_train, X_test, Y_tr, Y_te\n",
    "    \n",
    "    if model == 'mnb1':\n",
    "        \n",
    "        mn_params = {\n",
    "            'fit_prior': [True],\n",
    "            'alpha': [0, 0.5, 1]}\n",
    "        \n",
    "        M = GridSearchCV(MultinomialNB(),\n",
    "                        mn_params,\n",
    "                        cv = 5,\n",
    "                        verbose = 1,\n",
    "                        n_jobs = -1)\n",
    "        \n",
    "    elif model == 'mnb2':\n",
    "        \n",
    "         mn_params = {\n",
    "            'fit_prior': [False],\n",
    "            'alpha': [0, 0.5, 1]}\n",
    "        \n",
    "         M = GridSearchCV(MultinomialNB(),\n",
    "                        mn_params,\n",
    "                        cv = 5,\n",
    "                        verbose = 1,\n",
    "                        n_jobs = -1)\n",
    "        \n",
    "    else:\n",
    "        print('There is an error.')\n",
    "        \n",
    "    M.fit(X_train_text_df, y_train)\n",
    "     \n",
    "    print(f'Train score = {M.score(X_train_text_df, y_train)}')\n",
    "    print(f'Test score = {M.score(X_test_text_df, y_test)}')\n",
    "    \n",
    "    predictions = M.predict(X_test_text_df)\n",
    "    predictions_train = M.predict(X_train_text_df)\n",
    "    print('--------')\n",
    "    print(skplt.plot_confusion_matrix(y_test, predictions))\n",
    "    print(f'Best params = {M.best_params_}')\n",
    "    print('----F1 Score, Recall, Precision----')\n",
    "    # print precision, recall, F1-score per each class/tag\n",
    "    print(classification_report(y_test, predictions))\n",
    "    \n",
    "#     #skplt.plot_roc_curve(predictions,y_test)\n",
    "#     print('----ROC AUC CURVE SCORE----')\n",
    "#     print(\"ROC AUC CURVE SCORE FOR TEST: \",roc_auc_score(y_test, predictions))\n",
    "#     print(\"ROC AUC CURVE SCORE FOR TRAIN: \",roc_auc_score(y_train, predictions_train))"
   ]
  },
  {
   "cell_type": "code",
   "execution_count": 11,
   "metadata": {},
   "outputs": [
    {
     "name": "stdout",
     "output_type": "stream",
     "text": [
      "Fitting 5 folds for each of 3 candidates, totalling 15 fits\n"
     ]
    },
    {
     "name": "stderr",
     "output_type": "stream",
     "text": [
      "[Parallel(n_jobs=-1)]: Using backend LokyBackend with 8 concurrent workers.\n",
      "[Parallel(n_jobs=-1)]: Done  15 out of  15 | elapsed:    0.2s finished\n"
     ]
    },
    {
     "name": "stdout",
     "output_type": "stream",
     "text": [
      "Train score = 0.5092575618698442\n",
      "Test score = 0.49380076955964086\n",
      "--------\n",
      "AxesSubplot(0.125,0.125;0.62x0.755)\n",
      "Best params = {'alpha': 1, 'fit_prior': True}\n",
      "----F1 Score, Recall, Precision----\n",
      "              precision    recall  f1-score   support\n",
      "\n",
      "           0       0.55      0.33      0.42       803\n",
      "           1       0.44      0.82      0.58       759\n",
      "           2       0.59      0.33      0.43       777\n",
      "\n",
      "    accuracy                           0.49      2339\n",
      "   macro avg       0.53      0.50      0.47      2339\n",
      "weighted avg       0.53      0.49      0.47      2339\n",
      "\n"
     ]
    },
    {
     "data": {
      "image/png": "[encoded data removed]",
      "text/plain": [
       "<Figure size 432x288 with 2 Axes>"
      ]
     },
     "metadata": {
      "needs_background": "light"
     },
     "output_type": "display_data"
    }
   ],
   "source": [
    "run_the_mn_models(\"mnb1\", X_train_tf, X_test_tf, Y_train, Y_test)"
   ]
  },
  {
   "cell_type": "code",
   "execution_count": 12,
   "metadata": {},
   "outputs": [],
   "source": [
    "def run_the_lr_models(model, X_train, X_test, Y_tr, Y_te):\n",
    "    X_train_text_df, X_test_text_df, y_train, y_test = X_train, X_test, Y_tr, Y_te\n",
    "    \n",
    "    \n",
    "    if model == 'lr1':\n",
    "        \n",
    "        lr_1_params = {\n",
    "            'penalty': ['l1'],\n",
    "            'C': [1, 1.5, 2, 2.5],\n",
    "            'class_weight': ['balanced'],\n",
    "            'warm_start': [True, False],\n",
    "            'random_state': [42],\n",
    "            'solver': ['liblinear']}\n",
    "        \n",
    "        M = GridSearchCV(LogisticRegression(),\n",
    "                        lr_1_params,\n",
    "                        cv = 5,\n",
    "                        verbose = 1,\n",
    "                        n_jobs = -1)\n",
    "        \n",
    "    elif model == 'lr2':\n",
    "        \n",
    "        lr_2_params = {\n",
    "            'penalty': ['l2'],\n",
    "            'C': [1, 1.5, 2, 2.5],\n",
    "            'class_weight': ['balanced'],\n",
    "            'warm_start': [True, False],            \n",
    "            'random_state': [42],\n",
    "            'solver': ['lbfgs', 'liblinear']}\n",
    "        \n",
    "        M = GridSearchCV(LogisticRegression(),\n",
    "                        lr_2_params,\n",
    "                        cv = 5,\n",
    "                        verbose = 1,\n",
    "                        n_jobs = -1)\n",
    "\n",
    "    else:\n",
    "        print('There is an error.')\n",
    "        \n",
    "    M.fit(X_train_text_df.values, y_train)\n",
    "     \n",
    "    print(f'Train score = {M.score(X_train_text_df.values, y_train)}')\n",
    "    print(f'Test score = {M.score(X_test_text_df.values, y_test)}')\n",
    "    \n",
    "    predictions = M.predict(X_test_text_df.values)\n",
    "    predictions_train = M.predict(X_train_text_df.values)\n",
    "    print('--------')\n",
    "    print(skplt.plot_confusion_matrix(y_test, predictions))\n",
    "    print(f'Best params = {M.best_params_}')\n",
    "    print('----F1 Score, Recall, Precision----')\n",
    "    # print precision, recall, F1-score per each class/tag\n",
    "    print(classification_report(y_test, predictions))\n",
    "    \n",
    "#     print('----ROC AUC CURVE SCORE----')\n",
    "#     print(\"ROC AUC CURVE SCORE FOR TEST: \",roc_auc_score(y_test, predictions))\n",
    "#     print(\"ROC AUC CURVE SCORE FOR TRAIN: \",roc_auc_score(y_train, predictions_train))\n",
    "    \n",
    "#     print('----ROC AUC CURVE SCORE----')\n",
    "#     print(\"ROC AUC CURVE SCORE FOR TEST: \",roc_auc_score(y_test, predictions))\n",
    "#     print(\"ROC AUC CURVE SCORE FOR TRAIN: \",roc_auc_score(y_train, predictions_train))"
   ]
  },
  {
   "cell_type": "code",
   "execution_count": 13,
   "metadata": {},
   "outputs": [
    {
     "name": "stdout",
     "output_type": "stream",
     "text": [
      "Fitting 5 folds for each of 16 candidates, totalling 80 fits\n"
     ]
    },
    {
     "name": "stderr",
     "output_type": "stream",
     "text": [
      "[Parallel(n_jobs=-1)]: Using backend LokyBackend with 8 concurrent workers.\n",
      "[Parallel(n_jobs=-1)]: Done  34 tasks      | elapsed:    2.2s\n",
      "[Parallel(n_jobs=-1)]: Done  80 out of  80 | elapsed:    4.8s finished\n"
     ]
    },
    {
     "name": "stdout",
     "output_type": "stream",
     "text": [
      "Train score = 0.6018331805682859\n",
      "Test score = 0.582727661393758\n",
      "--------\n",
      "AxesSubplot(0.125,0.125;0.62x0.755)\n",
      "Best params = {'C': 1.5, 'class_weight': 'balanced', 'penalty': 'l2', 'random_state': 42, 'solver': 'liblinear', 'warm_start': True}\n",
      "----F1 Score, Recall, Precision----\n",
      "              precision    recall  f1-score   support\n",
      "\n",
      "           0       0.59      0.42      0.49       803\n",
      "           1       0.51      0.78      0.61       759\n",
      "           2       0.73      0.56      0.63       777\n",
      "\n",
      "    accuracy                           0.58      2339\n",
      "   macro avg       0.61      0.59      0.58      2339\n",
      "weighted avg       0.61      0.58      0.58      2339\n",
      "\n"
     ]
    },
    {
     "data": {
      "image/png": "[encoded data removed]",
      "text/plain": [
       "<Figure size 432x288 with 2 Axes>"
      ]
     },
     "metadata": {
      "needs_background": "light"
     },
     "output_type": "display_data"
    }
   ],
   "source": [
    "run_the_lr_models(\"lr2\", X_train, X_test, Y_train, Y_test)"
   ]
  },
  {
   "cell_type": "code",
   "execution_count": 14,
   "metadata": {},
   "outputs": [],
   "source": [
    "def run_the_sv_models(model, X_train, X_test, Y_tr, Y_te):   \n",
    "    X_train_text_df, X_test_text_df, y_train, y_test = X_train, X_test, Y_tr, Y_te\n",
    "    \n",
    "    if model == 'sv1':\n",
    "        \n",
    "        sv_params = {\n",
    "            'kernel': ['rbf'], \n",
    "            'gamma': [1e-3, 1e-4],\n",
    "            'C': [1, 10, 100, 1000] }\n",
    "        \n",
    "        M = GridSearchCV(SVC(probability=True),\n",
    "                        sv_params,\n",
    "                        cv = 5,\n",
    "                        verbose = 1,\n",
    "                        n_jobs = -1)\n",
    "        \n",
    "    elif model == 'sv2':\n",
    "        \n",
    "        \n",
    "        sv_params = {\n",
    "            'kernel': ['rbf'], \n",
    "            'gamma': [0.01, 1, 10, 100],\n",
    "            'C': [1, 10, 100, 1000] }\n",
    "\n",
    "        M = GridSearchCV(SVC(probability=True),\n",
    "                        sv_params,\n",
    "                        cv = 5,\n",
    "                        verbose = 1,\n",
    "                        n_jobs = -1)\n",
    "        \n",
    "    else:\n",
    "        print(\"Invalid Model!\")\n",
    "        \n",
    "    M.fit(X_train_text_df.values, y_train)\n",
    "      \n",
    "    #save in pickle file\n",
    "    joblib.dump(M, \"SVM_TFIDF.pkl\")\n",
    "     \n",
    "    print(f'Train score = {M.score(X_train_text_df.values, y_train)}')\n",
    "    print(f'Test score = {M.score(X_test_text_df.values, y_test)}')\n",
    "    \n",
    "    predictions = M.predict(X_test_text_df.values)\n",
    "    predictions_train = M.predict(X_train_text_df.values)\n",
    "    \n",
    "    print('--------')\n",
    "    print(skplt.plot_confusion_matrix(y_test, predictions))\n",
    "    print(f'Best params = {M.best_params_}')\n",
    "    print('----F1 Score, Recall, Precision----')\n",
    "    # print precision, recall, F1-score per each class/tag\n",
    "    print(classification_report(y_test, predictions))\n",
    "#     print('----ROC AUC CURVE SCORE----')\n",
    "#     print(\"ROC AUC CURVE SCORE FOR TEST: \",roc_auc_score(y_test, predictions))\n",
    "#     print(\"ROC AUC CURVE SCORE FOR TRAIN: \",roc_auc_score(y_train, predictions_train))"
   ]
  },
  {
   "cell_type": "code",
   "execution_count": 15,
   "metadata": {},
   "outputs": [
    {
     "name": "stdout",
     "output_type": "stream",
     "text": [
      "Fitting 5 folds for each of 16 candidates, totalling 80 fits\n"
     ]
    },
    {
     "name": "stderr",
     "output_type": "stream",
     "text": [
      "[Parallel(n_jobs=-1)]: Using backend LokyBackend with 8 concurrent workers.\n",
      "[Parallel(n_jobs=-1)]: Done  34 tasks      | elapsed:  2.4min\n",
      "[Parallel(n_jobs=-1)]: Done  80 out of  80 | elapsed:  6.4min finished\n"
     ]
    },
    {
     "name": "stdout",
     "output_type": "stream",
     "text": [
      "Train score = 0.7527039413382218\n",
      "Test score = 0.6648140230867893\n",
      "--------\n",
      "AxesSubplot(0.125,0.125;0.62x0.755)\n",
      "Best params = {'C': 10, 'gamma': 1, 'kernel': 'rbf'}\n",
      "----F1 Score, Recall, Precision----\n",
      "              precision    recall  f1-score   support\n",
      "\n",
      "           0       0.71      0.56      0.63       803\n",
      "           1       0.56      0.75      0.64       759\n",
      "           2       0.78      0.68      0.73       777\n",
      "\n",
      "    accuracy                           0.66      2339\n",
      "   macro avg       0.68      0.67      0.67      2339\n",
      "weighted avg       0.68      0.66      0.67      2339\n",
      "\n"
     ]
    },
    {
     "data": {
      "image/png": "[encoded data removed]",
      "text/plain": [
       "<Figure size 432x288 with 2 Axes>"
      ]
     },
     "metadata": {
      "needs_background": "light"
     },
     "output_type": "display_data"
    }
   ],
   "source": [
    "run_the_sv_models(\"sv2\", X_train, X_test, Y_train, Y_test)"
   ]
  },
  {
   "cell_type": "code",
   "execution_count": null,
   "metadata": {},
   "outputs": [],
   "source": []
  }
 ],
 "metadata": {
  "kernelspec": {
   "display_name": "Python 3",
   "language": "python",
   "name": "python3"
  },
  "language_info": {
   "codemirror_mode": {
    "name": "ipython",
    "version": 3
   },
   "file_extension": ".py",
   "mimetype": "text/x-python",
   "name": "python",
   "nbconvert_exporter": "python",
   "pygments_lexer": "ipython3",
   "version": "3.7.6"
  }
 },
 "nbformat": 4,
 "nbformat_minor": 2
}
