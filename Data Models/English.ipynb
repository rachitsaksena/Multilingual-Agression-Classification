{
 "cells": [
  {
   "cell_type": "code",
   "execution_count": 2,
   "metadata": {},
   "outputs": [],
   "source": [
    "import pandas as pd\n",
    "import numpy as np\n",
    "from sklearn.model_selection import GridSearchCV, train_test_split\n",
    "from sklearn.naive_bayes import GaussianNB\n",
    "from sklearn.naive_bayes import MultinomialNB\n",
    "from sklearn.metrics import classification_report, confusion_matrix\n",
    "from sklearn.svm import SVC\n",
    "from sklearn.linear_model import LogisticRegression\n",
    "from sklearn.preprocessing import MinMaxScaler, LabelEncoder\n",
    "import scikitplot.metrics as skplt\n",
    "import joblib"
   ]
  },
  {
   "cell_type": "markdown",
   "metadata": {},
   "source": [
    "## TF-IDF w2v"
   ]
  },
  {
   "cell_type": "code",
   "execution_count": 3,
   "metadata": {},
   "outputs": [
    {
     "data": {
      "text/html": [
       "<div>\n",
       "<style scoped>\n",
       "    .dataframe tbody tr th:only-of-type {\n",
       "        vertical-align: middle;\n",
       "    }\n",
       "\n",
       "    .dataframe tbody tr th {\n",
       "        vertical-align: top;\n",
       "    }\n",
       "\n",
       "    .dataframe thead th {\n",
       "        text-align: right;\n",
       "    }\n",
       "</style>\n",
       "<table border=\"1\" class=\"dataframe\">\n",
       "  <thead>\n",
       "    <tr style=\"text-align: right;\">\n",
       "      <th></th>\n",
       "      <th>0</th>\n",
       "      <th>1</th>\n",
       "      <th>2</th>\n",
       "      <th>3</th>\n",
       "      <th>4</th>\n",
       "      <th>5</th>\n",
       "      <th>6</th>\n",
       "      <th>7</th>\n",
       "      <th>8</th>\n",
       "      <th>9</th>\n",
       "      <th>...</th>\n",
       "      <th>91</th>\n",
       "      <th>92</th>\n",
       "      <th>93</th>\n",
       "      <th>94</th>\n",
       "      <th>95</th>\n",
       "      <th>96</th>\n",
       "      <th>97</th>\n",
       "      <th>98</th>\n",
       "      <th>99</th>\n",
       "      <th>Sub-task B</th>\n",
       "    </tr>\n",
       "  </thead>\n",
       "  <tbody>\n",
       "    <tr>\n",
       "      <th>0</th>\n",
       "      <td>-0.464405</td>\n",
       "      <td>0.085329</td>\n",
       "      <td>0.173662</td>\n",
       "      <td>0.860080</td>\n",
       "      <td>0.162921</td>\n",
       "      <td>-0.741914</td>\n",
       "      <td>0.315726</td>\n",
       "      <td>-1.246204</td>\n",
       "      <td>-0.937708</td>\n",
       "      <td>0.418124</td>\n",
       "      <td>...</td>\n",
       "      <td>-0.912053</td>\n",
       "      <td>0.099934</td>\n",
       "      <td>-0.105449</td>\n",
       "      <td>0.455918</td>\n",
       "      <td>-0.377562</td>\n",
       "      <td>-0.310955</td>\n",
       "      <td>-0.398106</td>\n",
       "      <td>0.410669</td>\n",
       "      <td>0.241518</td>\n",
       "      <td>1</td>\n",
       "    </tr>\n",
       "    <tr>\n",
       "      <th>1</th>\n",
       "      <td>0.000000</td>\n",
       "      <td>0.000000</td>\n",
       "      <td>0.000000</td>\n",
       "      <td>0.000000</td>\n",
       "      <td>0.000000</td>\n",
       "      <td>0.000000</td>\n",
       "      <td>0.000000</td>\n",
       "      <td>0.000000</td>\n",
       "      <td>0.000000</td>\n",
       "      <td>0.000000</td>\n",
       "      <td>...</td>\n",
       "      <td>0.000000</td>\n",
       "      <td>0.000000</td>\n",
       "      <td>0.000000</td>\n",
       "      <td>0.000000</td>\n",
       "      <td>0.000000</td>\n",
       "      <td>0.000000</td>\n",
       "      <td>0.000000</td>\n",
       "      <td>0.000000</td>\n",
       "      <td>0.000000</td>\n",
       "      <td>1</td>\n",
       "    </tr>\n",
       "    <tr>\n",
       "      <th>2</th>\n",
       "      <td>-0.398924</td>\n",
       "      <td>0.354351</td>\n",
       "      <td>-1.023667</td>\n",
       "      <td>1.141956</td>\n",
       "      <td>-0.187783</td>\n",
       "      <td>-0.626702</td>\n",
       "      <td>0.544659</td>\n",
       "      <td>-0.073548</td>\n",
       "      <td>-0.048320</td>\n",
       "      <td>0.490205</td>\n",
       "      <td>...</td>\n",
       "      <td>-0.299538</td>\n",
       "      <td>-0.334773</td>\n",
       "      <td>0.159419</td>\n",
       "      <td>-0.183133</td>\n",
       "      <td>0.007446</td>\n",
       "      <td>0.210824</td>\n",
       "      <td>-1.105538</td>\n",
       "      <td>0.216379</td>\n",
       "      <td>0.053901</td>\n",
       "      <td>1</td>\n",
       "    </tr>\n",
       "    <tr>\n",
       "      <th>3</th>\n",
       "      <td>0.762408</td>\n",
       "      <td>-0.334276</td>\n",
       "      <td>0.130950</td>\n",
       "      <td>0.725829</td>\n",
       "      <td>0.094326</td>\n",
       "      <td>-0.257330</td>\n",
       "      <td>0.098190</td>\n",
       "      <td>-0.804500</td>\n",
       "      <td>0.341497</td>\n",
       "      <td>-0.263209</td>\n",
       "      <td>...</td>\n",
       "      <td>0.410567</td>\n",
       "      <td>0.434546</td>\n",
       "      <td>-0.284038</td>\n",
       "      <td>-0.232772</td>\n",
       "      <td>-0.507335</td>\n",
       "      <td>0.400088</td>\n",
       "      <td>0.589962</td>\n",
       "      <td>0.354255</td>\n",
       "      <td>-0.205002</td>\n",
       "      <td>1</td>\n",
       "    </tr>\n",
       "    <tr>\n",
       "      <th>4</th>\n",
       "      <td>0.161286</td>\n",
       "      <td>-0.124431</td>\n",
       "      <td>-0.671367</td>\n",
       "      <td>0.730329</td>\n",
       "      <td>0.847249</td>\n",
       "      <td>-0.320956</td>\n",
       "      <td>0.256534</td>\n",
       "      <td>-0.360477</td>\n",
       "      <td>0.125937</td>\n",
       "      <td>-0.067365</td>\n",
       "      <td>...</td>\n",
       "      <td>0.047039</td>\n",
       "      <td>0.287160</td>\n",
       "      <td>-0.483786</td>\n",
       "      <td>-0.508252</td>\n",
       "      <td>0.371955</td>\n",
       "      <td>-0.570179</td>\n",
       "      <td>0.065750</td>\n",
       "      <td>-0.065757</td>\n",
       "      <td>-0.693040</td>\n",
       "      <td>1</td>\n",
       "    </tr>\n",
       "  </tbody>\n",
       "</table>\n",
       "<p>5 rows × 101 columns</p>\n",
       "</div>"
      ],
      "text/plain": [
       "          0         1         2         3         4         5         6  \\\n",
       "0 -0.464405  0.085329  0.173662  0.860080  0.162921 -0.741914  0.315726   \n",
       "1  0.000000  0.000000  0.000000  0.000000  0.000000  0.000000  0.000000   \n",
       "2 -0.398924  0.354351 -1.023667  1.141956 -0.187783 -0.626702  0.544659   \n",
       "3  0.762408 -0.334276  0.130950  0.725829  0.094326 -0.257330  0.098190   \n",
       "4  0.161286 -0.124431 -0.671367  0.730329  0.847249 -0.320956  0.256534   \n",
       "\n",
       "          7         8         9  ...        91        92        93        94  \\\n",
       "0 -1.246204 -0.937708  0.418124  ... -0.912053  0.099934 -0.105449  0.455918   \n",
       "1  0.000000  0.000000  0.000000  ...  0.000000  0.000000  0.000000  0.000000   \n",
       "2 -0.073548 -0.048320  0.490205  ... -0.299538 -0.334773  0.159419 -0.183133   \n",
       "3 -0.804500  0.341497 -0.263209  ...  0.410567  0.434546 -0.284038 -0.232772   \n",
       "4 -0.360477  0.125937 -0.067365  ...  0.047039  0.287160 -0.483786 -0.508252   \n",
       "\n",
       "         95        96        97        98        99  Sub-task B  \n",
       "0 -0.377562 -0.310955 -0.398106  0.410669  0.241518           1  \n",
       "1  0.000000  0.000000  0.000000  0.000000  0.000000           1  \n",
       "2  0.007446  0.210824 -1.105538  0.216379  0.053901           1  \n",
       "3 -0.507335  0.400088  0.589962  0.354255 -0.205002           1  \n",
       "4  0.371955 -0.570179  0.065750 -0.065757 -0.693040           1  \n",
       "\n",
       "[5 rows x 101 columns]"
      ]
     },
     "execution_count": 3,
     "metadata": {},
     "output_type": "execute_result"
    }
   ],
   "source": [
    "train_df = pd.read_csv(\"../Data/eng_train_tfidf_w2v.csv\")\n",
    "test_df = pd.read_csv(\"../Data/eng_test_tfidf_w2v.csv\")\n",
    "X_train = train_df.drop(columns=[\"Y\"])\n",
    "Y_train = train_df[\"Y\"]\n",
    "X_test = test_df.drop(columns=[\"Y\"])\n",
    "Y_test = test_df[\"Y\"]\n",
    "X_train.head()"
   ]
  },
  {
   "cell_type": "code",
   "execution_count": 4,
   "metadata": {},
   "outputs": [],
   "source": [
    "scaler = MinMaxScaler()\n",
    "scaler.fit(X_train)\n",
    "scaler.partial_fit(X_test)\n",
    "X_train_tf = scaler.transform(X_train)\n",
    "X_test_tf = scaler.transform(X_test)"
   ]
  },
  {
   "cell_type": "code",
   "execution_count": 5,
   "metadata": {},
   "outputs": [],
   "source": [
    "def run_the_mn_models(model, X_train, X_test, Y_tr, Y_te):\n",
    "    X_train_text_df, X_test_text_df, y_train, y_test = X_train, X_test, Y_tr, Y_te\n",
    "    \n",
    "    if model == 'mnb1':\n",
    "        \n",
    "        mn_params = {\n",
    "            'fit_prior': [True],\n",
    "            'alpha': [0, 0.5, 1]}\n",
    "        \n",
    "        M = GridSearchCV(MultinomialNB(),\n",
    "                        mn_params,\n",
    "                        cv = 5,\n",
    "                        verbose = 1,\n",
    "                        n_jobs = -1)\n",
    "        \n",
    "    elif model == 'mnb2':\n",
    "        \n",
    "         mn_params = {\n",
    "            'fit_prior': [False],\n",
    "            'alpha': [0, 0.5, 1]}\n",
    "        \n",
    "         M = GridSearchCV(MultinomialNB(),\n",
    "                        mn_params,\n",
    "                        cv = 5,\n",
    "                        verbose = 1,\n",
    "                        n_jobs = -1)\n",
    "        \n",
    "    else:\n",
    "        print('There is an error.')\n",
    "        \n",
    "    M.fit(X_train_text_df, y_train)\n",
    "     \n",
    "    print(f'Train score = {M.score(X_train_text_df, y_train)}')\n",
    "    print(f'Test score = {M.score(X_test_text_df, y_test)}')\n",
    "    \n",
    "    predictions = M.predict(X_test_text_df)\n",
    "    predictions_train = M.predict(X_train_text_df)\n",
    "    print('--------')\n",
    "    print(skplt.plot_confusion_matrix(y_test, predictions))\n",
    "    print(f'Best params = {M.best_params_}')\n",
    "    print('----F1 Score, Recall, Precision----')\n",
    "    # print precision, recall, F1-score per each class/tag\n",
    "    print(classification_report(y_test, predictions))\n",
    "    \n",
    "#     #skplt.plot_roc_curve(predictions,y_test)\n",
    "#     print('----ROC AUC CURVE SCORE----')\n",
    "#     print(\"ROC AUC CURVE SCORE FOR TEST: \",roc_auc_score(y_test, predictions))\n",
    "#     print(\"ROC AUC CURVE SCORE FOR TRAIN: \",roc_auc_score(y_train, predictions_train))"
   ]
  },
  {
   "cell_type": "code",
   "execution_count": 6,
   "metadata": {},
   "outputs": [
    {
     "name": "stdout",
     "output_type": "stream",
     "text": [
      "Fitting 5 folds for each of 3 candidates, totalling 15 fits\n"
     ]
    },
    {
     "name": "stderr",
     "output_type": "stream",
     "text": [
      "[Parallel(n_jobs=-1)]: Using backend LokyBackend with 8 concurrent workers.\n",
      "[Parallel(n_jobs=-1)]: Done  15 out of  15 | elapsed:    1.6s finished\n",
      "/opt/conda/lib/python3.7/site-packages/sklearn/naive_bayes.py:512: UserWarning: alpha too small will result in numeric errors, setting alpha = 1.0e-10\n",
      "  'setting alpha = %.1e' % _ALPHA_MIN)\n"
     ]
    },
    {
     "name": "stdout",
     "output_type": "stream",
     "text": [
      "Train score = 0.5710731652154246\n",
      "Test score = 0.5620052770448549\n",
      "--------\n",
      "AxesSubplot(0.125,0.125;0.62x0.755)\n",
      "Best params = {'alpha': 0, 'fit_prior': True}\n",
      "----F1 Score, Recall, Precision----\n",
      "              precision    recall  f1-score   support\n",
      "\n",
      "         CAG       0.48      0.69      0.57      1239\n",
      "         NAG       0.61      0.53      0.57      1283\n",
      "         OAG       0.67      0.47      0.55      1268\n",
      "\n",
      "    accuracy                           0.56      3790\n",
      "   macro avg       0.59      0.56      0.56      3790\n",
      "weighted avg       0.59      0.56      0.56      3790\n",
      "\n"
     ]
    },
    {
     "data": {
      "image/png": "[encoded data removed]",
      "text/plain": [
       "<Figure size 432x288 with 2 Axes>"
      ]
     },
     "metadata": {
      "needs_background": "light"
     },
     "output_type": "display_data"
    }
   ],
   "source": [
    "run_the_mn_models(\"mnb1\", X_train_tf, X_test_tf, Y_train, Y_test)"
   ]
  },
  {
   "cell_type": "code",
   "execution_count": 7,
   "metadata": {},
   "outputs": [
    {
     "name": "stdout",
     "output_type": "stream",
     "text": [
      "Fitting 5 folds for each of 3 candidates, totalling 15 fits\n"
     ]
    },
    {
     "name": "stderr",
     "output_type": "stream",
     "text": [
      "[Parallel(n_jobs=-1)]: Using backend LokyBackend with 8 concurrent workers.\n",
      "[Parallel(n_jobs=-1)]: Done  15 out of  15 | elapsed:    0.2s finished\n"
     ]
    },
    {
     "name": "stdout",
     "output_type": "stream",
     "text": [
      "Train score = 0.5786497794865996\n",
      "Test score = 0.5704485488126649\n",
      "--------\n",
      "AxesSubplot(0.125,0.125;0.62x0.755)\n",
      "Best params = {'alpha': 0.5, 'fit_prior': False}\n",
      "----F1 Score, Recall, Precision----\n",
      "              precision    recall  f1-score   support\n",
      "\n",
      "         CAG       0.49      0.68      0.57      1239\n",
      "         NAG       0.60      0.54      0.57      1283\n",
      "         OAG       0.67      0.50      0.57      1268\n",
      "\n",
      "    accuracy                           0.57      3790\n",
      "   macro avg       0.59      0.57      0.57      3790\n",
      "weighted avg       0.59      0.57      0.57      3790\n",
      "\n"
     ]
    },
    {
     "data": {
      "image/png": "[encoded data removed]",
      "text/plain": [
       "<Figure size 432x288 with 2 Axes>"
      ]
     },
     "metadata": {
      "needs_background": "light"
     },
     "output_type": "display_data"
    }
   ],
   "source": [
    "run_the_mn_models(\"mnb2\", X_train_tf, X_test_tf, Y_train, Y_test)"
   ]
  },
  {
   "cell_type": "code",
   "execution_count": 8,
   "metadata": {},
   "outputs": [],
   "source": [
    "def run_the_lr_models(model, X_train, X_test, Y_tr, Y_te):\n",
    "    X_train_text_df, X_test_text_df, y_train, y_test = X_train, X_test, Y_tr, Y_te\n",
    "    \n",
    "    \n",
    "    if model == 'lr1':\n",
    "        \n",
    "        lr_1_params = {\n",
    "            'penalty': ['l1'],\n",
    "            'C': [1, 1.5, 2, 2.5],\n",
    "            'class_weight': ['balanced'],\n",
    "            'warm_start': [True, False],\n",
    "            'random_state': [42],\n",
    "            'solver': ['liblinear']}\n",
    "        \n",
    "        M = GridSearchCV(LogisticRegression(),\n",
    "                        lr_1_params,\n",
    "                        cv = 5,\n",
    "                        verbose = 1,\n",
    "                        n_jobs = -1)\n",
    "        \n",
    "    elif model == 'lr2':\n",
    "        \n",
    "        lr_2_params = {\n",
    "            'penalty': ['l2'],\n",
    "            'C': [1, 1.5, 2, 2.5],\n",
    "            'class_weight': ['balanced'],\n",
    "            'warm_start': [True, False],            \n",
    "            'random_state': [42],\n",
    "            'solver': ['lbfgs', 'liblinear']}\n",
    "        \n",
    "        M = GridSearchCV(LogisticRegression(),\n",
    "                        lr_2_params,\n",
    "                        cv = 5,\n",
    "                        verbose = 1,\n",
    "                        n_jobs = -1)\n",
    "\n",
    "    else:\n",
    "        print('There is an error.')\n",
    "        \n",
    "    M.fit(X_train_text_df.values, y_train)\n",
    "     \n",
    "    print(f'Train score = {M.score(X_train_text_df.values, y_train)}')\n",
    "    print(f'Test score = {M.score(X_test_text_df.values, y_test)}')\n",
    "    \n",
    "    predictions = M.predict(X_test_text_df.values)\n",
    "    predictions_train = M.predict(X_train_text_df.values)\n",
    "    print('--------')\n",
    "    print(skplt.plot_confusion_matrix(y_test, predictions))\n",
    "    print(f'Best params = {M.best_params_}')\n",
    "    print('----F1 Score, Recall, Precision----')\n",
    "    # print precision, recall, F1-score per each class/tag\n",
    "    print(classification_report(y_test, predictions))\n",
    "    \n",
    "#     print('----ROC AUC CURVE SCORE----')\n",
    "#     print(\"ROC AUC CURVE SCORE FOR TEST: \",roc_auc_score(y_test, predictions))\n",
    "#     print(\"ROC AUC CURVE SCORE FOR TRAIN: \",roc_auc_score(y_train, predictions_train))\n",
    "    \n",
    "#     print('----ROC AUC CURVE SCORE----')\n",
    "#     print(\"ROC AUC CURVE SCORE FOR TEST: \",roc_auc_score(y_test, predictions))\n",
    "#     print(\"ROC AUC CURVE SCORE FOR TRAIN: \",roc_auc_score(y_train, predictions_train))"
   ]
  },
  {
   "cell_type": "code",
   "execution_count": 9,
   "metadata": {
    "scrolled": false
   },
   "outputs": [
    {
     "name": "stdout",
     "output_type": "stream",
     "text": [
      "Fitting 5 folds for each of 8 candidates, totalling 40 fits\n"
     ]
    },
    {
     "name": "stderr",
     "output_type": "stream",
     "text": [
      "[Parallel(n_jobs=-1)]: Using backend LokyBackend with 8 concurrent workers.\n",
      "[Parallel(n_jobs=-1)]: Done  40 out of  40 | elapsed:   36.8s finished\n"
     ]
    },
    {
     "name": "stdout",
     "output_type": "stream",
     "text": [
      "Train score = 0.6385841908854462\n",
      "Test score = 0.632981530343008\n",
      "--------\n",
      "AxesSubplot(0.125,0.125;0.62x0.755)\n",
      "Best params = {'C': 1, 'class_weight': 'balanced', 'penalty': 'l1', 'random_state': 42, 'solver': 'liblinear', 'warm_start': True}\n",
      "----F1 Score, Recall, Precision----\n",
      "              precision    recall  f1-score   support\n",
      "\n",
      "         CAG       0.60      0.56      0.58      1239\n",
      "         NAG       0.63      0.69      0.66      1283\n",
      "         OAG       0.67      0.65      0.65      1268\n",
      "\n",
      "    accuracy                           0.63      3790\n",
      "   macro avg       0.63      0.63      0.63      3790\n",
      "weighted avg       0.63      0.63      0.63      3790\n",
      "\n"
     ]
    },
    {
     "data": {
      "image/png": "[encoded data removed]",
      "text/plain": [
       "<Figure size 432x288 with 2 Axes>"
      ]
     },
     "metadata": {
      "needs_background": "light"
     },
     "output_type": "display_data"
    }
   ],
   "source": [
    "run_the_lr_models(\"lr1\", X_train, X_test, Y_train, Y_test)"
   ]
  },
  {
   "cell_type": "code",
   "execution_count": 10,
   "metadata": {},
   "outputs": [
    {
     "name": "stdout",
     "output_type": "stream",
     "text": [
      "Fitting 5 folds for each of 16 candidates, totalling 80 fits\n"
     ]
    },
    {
     "name": "stderr",
     "output_type": "stream",
     "text": [
      "[Parallel(n_jobs=-1)]: Using backend LokyBackend with 8 concurrent workers.\n",
      "[Parallel(n_jobs=-1)]: Done  34 tasks      | elapsed:   11.8s\n",
      "[Parallel(n_jobs=-1)]: Done  80 out of  80 | elapsed:   26.4s finished\n",
      "/opt/conda/lib/python3.7/site-packages/sklearn/linear_model/_logistic.py:764: ConvergenceWarning: lbfgs failed to converge (status=1):\n",
      "STOP: TOTAL NO. of ITERATIONS REACHED LIMIT.\n",
      "\n",
      "Increase the number of iterations (max_iter) or scale the data as shown in:\n",
      "    https://scikit-learn.org/stable/modules/preprocessing.html\n",
      "Please also refer to the documentation for alternative solver options:\n",
      "    https://scikit-learn.org/stable/modules/linear_model.html#logistic-regression\n",
      "  extra_warning_msg=_LOGISTIC_SOLVER_CONVERGENCE_MSG)\n"
     ]
    },
    {
     "name": "stdout",
     "output_type": "stream",
     "text": [
      "Train score = 0.6425421237136718\n",
      "Test score = 0.6313984168865435\n",
      "--------\n",
      "AxesSubplot(0.125,0.125;0.62x0.755)\n",
      "Best params = {'C': 1.5, 'class_weight': 'balanced', 'penalty': 'l2', 'random_state': 42, 'solver': 'lbfgs', 'warm_start': True}\n",
      "----F1 Score, Recall, Precision----\n",
      "              precision    recall  f1-score   support\n",
      "\n",
      "         CAG       0.60      0.56      0.58      1239\n",
      "         NAG       0.63      0.70      0.66      1283\n",
      "         OAG       0.67      0.64      0.65      1268\n",
      "\n",
      "    accuracy                           0.63      3790\n",
      "   macro avg       0.63      0.63      0.63      3790\n",
      "weighted avg       0.63      0.63      0.63      3790\n",
      "\n"
     ]
    },
    {
     "data": {
      "image/png": "[encoded data removed]",
      "text/plain": [
       "<Figure size 432x288 with 2 Axes>"
      ]
     },
     "metadata": {
      "needs_background": "light"
     },
     "output_type": "display_data"
    }
   ],
   "source": [
    "run_the_lr_models(\"lr2\", X_train, X_test, Y_train, Y_test)"
   ]
  },
  {
   "cell_type": "code",
   "execution_count": 11,
   "metadata": {},
   "outputs": [],
   "source": [
    "def run_the_sv_models(model, X_train, X_test, Y_tr, Y_te):   \n",
    "    X_train_text_df, X_test_text_df, y_train, y_test = X_train, X_test, Y_tr, Y_te\n",
    "    \n",
    "    if model == 'sv1':\n",
    "        \n",
    "        sv_params = {\n",
    "            'kernel': ['rbf'], \n",
    "            'gamma': [1e-3, 1e-4],\n",
    "            'C': [1, 10, 100, 1000] }\n",
    "        \n",
    "        M = GridSearchCV(SVC(probability=True),\n",
    "                        sv_params,\n",
    "                        cv = 5,\n",
    "                        verbose = 1,\n",
    "                        n_jobs = -1)\n",
    "        \n",
    "    elif model == 'sv2':\n",
    "        \n",
    "        \n",
    "        sv_params = {\n",
    "            'kernel': ['rbf'], \n",
    "            'gamma': [0.01, 1, 10, 100],\n",
    "            'C': [1, 10, 100, 1000] }\n",
    "\n",
    "        M = GridSearchCV(SVC(probability=True),\n",
    "                        sv_params,\n",
    "                        cv = 5,\n",
    "                        verbose = 1,\n",
    "                        n_jobs = -1)\n",
    "        \n",
    "    else:\n",
    "        print(\"Invalid Model!\")\n",
    "        \n",
    "    M.fit(X_train_text_df.values, y_train)\n",
    "      \n",
    "    #save in pickle file\n",
    "    joblib.dump(M, \"SVM_TFIDF.pkl\")\n",
    "     \n",
    "    print(f'Train score = {M.score(X_train_text_df.values, y_train)}')\n",
    "    print(f'Test score = {M.score(X_test_text_df.values, y_test)}')\n",
    "    \n",
    "    predictions = M.predict(X_test_text_df.values)\n",
    "    predictions_train = M.predict(X_train_text_df.values)\n",
    "    \n",
    "    print('--------')\n",
    "    print(skplt.plot_confusion_matrix(y_test, predictions))\n",
    "    print(f'Best params = {M.best_params_}')\n",
    "    print('----F1 Score, Recall, Precision----')\n",
    "    # print precision, recall, F1-score per each class/tag\n",
    "    print(classification_report(y_test, predictions))\n",
    "#     print('----ROC AUC CURVE SCORE----')\n",
    "#     print(\"ROC AUC CURVE SCORE FOR TEST: \",roc_auc_score(y_test, predictions))\n",
    "#     print(\"ROC AUC CURVE SCORE FOR TRAIN: \",roc_auc_score(y_train, predictions_train))"
   ]
  },
  {
   "cell_type": "code",
   "execution_count": 12,
   "metadata": {},
   "outputs": [
    {
     "name": "stdout",
     "output_type": "stream",
     "text": [
      "Fitting 5 folds for each of 8 candidates, totalling 40 fits\n"
     ]
    },
    {
     "name": "stderr",
     "output_type": "stream",
     "text": [
      "[Parallel(n_jobs=-1)]: Using backend LokyBackend with 8 concurrent workers.\n",
      "[Parallel(n_jobs=-1)]: Done  40 out of  40 | elapsed: 11.9min finished\n"
     ]
    },
    {
     "name": "stdout",
     "output_type": "stream",
     "text": [
      "Train score = 0.7295035621395454\n",
      "Test score = 0.7184696569920844\n",
      "--------\n",
      "AxesSubplot(0.125,0.125;0.62x0.755)\n",
      "Best params = {'C': 1000, 'gamma': 0.001, 'kernel': 'rbf'}\n",
      "----F1 Score, Recall, Precision----\n",
      "              precision    recall  f1-score   support\n",
      "\n",
      "         CAG       0.70      0.70      0.70      1239\n",
      "         NAG       0.68      0.72      0.70      1283\n",
      "         OAG       0.78      0.74      0.76      1268\n",
      "\n",
      "    accuracy                           0.72      3790\n",
      "   macro avg       0.72      0.72      0.72      3790\n",
      "weighted avg       0.72      0.72      0.72      3790\n",
      "\n"
     ]
    },
    {
     "data": {
      "image/png": "[encoded data removed]",
      "text/plain": [
       "<Figure size 432x288 with 2 Axes>"
      ]
     },
     "metadata": {
      "needs_background": "light"
     },
     "output_type": "display_data"
    }
   ],
   "source": [
    "run_the_sv_models(\"sv1\", X_train, X_test, Y_train, Y_test)"
   ]
  },
  {
   "cell_type": "code",
   "execution_count": 13,
   "metadata": {},
   "outputs": [
    {
     "name": "stdout",
     "output_type": "stream",
     "text": [
      "Fitting 5 folds for each of 16 candidates, totalling 80 fits\n"
     ]
    },
    {
     "name": "stderr",
     "output_type": "stream",
     "text": [
      "[Parallel(n_jobs=-1)]: Using backend LokyBackend with 8 concurrent workers.\n",
      "[Parallel(n_jobs=-1)]: Done  34 tasks      | elapsed:  7.5min\n",
      "[Parallel(n_jobs=-1)]: Done  80 out of  80 | elapsed: 18.7min finished\n"
     ]
    },
    {
     "name": "stdout",
     "output_type": "stream",
     "text": [
      "Train score = 0.8234761958611331\n",
      "Test score = 0.8150395778364116\n",
      "--------\n",
      "AxesSubplot(0.125,0.125;0.62x0.755)\n",
      "Best params = {'C': 1, 'gamma': 10, 'kernel': 'rbf'}\n",
      "----F1 Score, Recall, Precision----\n",
      "              precision    recall  f1-score   support\n",
      "\n",
      "         CAG       0.88      0.75      0.81      1239\n",
      "         NAG       0.72      0.88      0.79      1283\n",
      "         OAG       0.88      0.82      0.85      1268\n",
      "\n",
      "    accuracy                           0.82      3790\n",
      "   macro avg       0.83      0.81      0.82      3790\n",
      "weighted avg       0.83      0.82      0.82      3790\n",
      "\n"
     ]
    },
    {
     "data": {
      "image/png": "[encoded data removed]",
      "text/plain": [
       "<Figure size 432x288 with 2 Axes>"
      ]
     },
     "metadata": {
      "needs_background": "light"
     },
     "output_type": "display_data"
    }
   ],
   "source": [
    "run_the_sv_models(\"sv2\", X_train, X_test, Y_train, Y_test)"
   ]
  },
  {
   "cell_type": "markdown",
   "metadata": {},
   "source": [
    "## TF-IDF"
   ]
  },
  {
   "cell_type": "code",
   "execution_count": 14,
   "metadata": {},
   "outputs": [
    {
     "data": {
      "text/html": [
       "<div>\n",
       "<style scoped>\n",
       "    .dataframe tbody tr th:only-of-type {\n",
       "        vertical-align: middle;\n",
       "    }\n",
       "\n",
       "    .dataframe tbody tr th {\n",
       "        vertical-align: top;\n",
       "    }\n",
       "\n",
       "    .dataframe thead th {\n",
       "        text-align: right;\n",
       "    }\n",
       "</style>\n",
       "<table border=\"1\" class=\"dataframe\">\n",
       "  <thead>\n",
       "    <tr style=\"text-align: right;\">\n",
       "      <th></th>\n",
       "      <th>agree</th>\n",
       "      <th>arundhati</th>\n",
       "      <th>arundhati roy</th>\n",
       "      <th>bitch</th>\n",
       "      <th>bollywood</th>\n",
       "      <th>brother</th>\n",
       "      <th>but</th>\n",
       "      <th>called</th>\n",
       "      <th>country</th>\n",
       "      <th>don</th>\n",
       "      <th>...</th>\n",
       "      <th>totally</th>\n",
       "      <th>toxic</th>\n",
       "      <th>understand</th>\n",
       "      <th>video</th>\n",
       "      <th>watch</th>\n",
       "      <th>watching</th>\n",
       "      <th>what</th>\n",
       "      <th>why</th>\n",
       "      <th>woman</th>\n",
       "      <th>women</th>\n",
       "    </tr>\n",
       "  </thead>\n",
       "  <tbody>\n",
       "    <tr>\n",
       "      <th>0</th>\n",
       "      <td>0.0</td>\n",
       "      <td>0.0</td>\n",
       "      <td>0.0</td>\n",
       "      <td>0.0</td>\n",
       "      <td>0.0</td>\n",
       "      <td>0.0</td>\n",
       "      <td>0.0</td>\n",
       "      <td>0.0</td>\n",
       "      <td>0.0</td>\n",
       "      <td>0.0</td>\n",
       "      <td>...</td>\n",
       "      <td>0.0</td>\n",
       "      <td>0.0</td>\n",
       "      <td>0.0</td>\n",
       "      <td>0.000000</td>\n",
       "      <td>0.0</td>\n",
       "      <td>0.0</td>\n",
       "      <td>0.0</td>\n",
       "      <td>0.0</td>\n",
       "      <td>0.0</td>\n",
       "      <td>0.0</td>\n",
       "    </tr>\n",
       "    <tr>\n",
       "      <th>1</th>\n",
       "      <td>0.0</td>\n",
       "      <td>0.0</td>\n",
       "      <td>0.0</td>\n",
       "      <td>0.0</td>\n",
       "      <td>0.0</td>\n",
       "      <td>0.0</td>\n",
       "      <td>0.0</td>\n",
       "      <td>0.0</td>\n",
       "      <td>0.0</td>\n",
       "      <td>0.0</td>\n",
       "      <td>...</td>\n",
       "      <td>0.0</td>\n",
       "      <td>0.0</td>\n",
       "      <td>0.0</td>\n",
       "      <td>0.524753</td>\n",
       "      <td>0.0</td>\n",
       "      <td>0.0</td>\n",
       "      <td>0.0</td>\n",
       "      <td>0.0</td>\n",
       "      <td>0.0</td>\n",
       "      <td>0.0</td>\n",
       "    </tr>\n",
       "    <tr>\n",
       "      <th>2</th>\n",
       "      <td>0.0</td>\n",
       "      <td>0.0</td>\n",
       "      <td>0.0</td>\n",
       "      <td>0.0</td>\n",
       "      <td>0.0</td>\n",
       "      <td>0.0</td>\n",
       "      <td>0.0</td>\n",
       "      <td>0.0</td>\n",
       "      <td>0.0</td>\n",
       "      <td>0.0</td>\n",
       "      <td>...</td>\n",
       "      <td>0.0</td>\n",
       "      <td>0.0</td>\n",
       "      <td>0.0</td>\n",
       "      <td>0.000000</td>\n",
       "      <td>0.0</td>\n",
       "      <td>0.0</td>\n",
       "      <td>0.0</td>\n",
       "      <td>0.0</td>\n",
       "      <td>0.0</td>\n",
       "      <td>0.0</td>\n",
       "    </tr>\n",
       "    <tr>\n",
       "      <th>3</th>\n",
       "      <td>0.0</td>\n",
       "      <td>0.0</td>\n",
       "      <td>0.0</td>\n",
       "      <td>0.0</td>\n",
       "      <td>0.0</td>\n",
       "      <td>0.0</td>\n",
       "      <td>0.0</td>\n",
       "      <td>0.0</td>\n",
       "      <td>0.0</td>\n",
       "      <td>0.0</td>\n",
       "      <td>...</td>\n",
       "      <td>0.0</td>\n",
       "      <td>0.0</td>\n",
       "      <td>0.0</td>\n",
       "      <td>0.000000</td>\n",
       "      <td>0.0</td>\n",
       "      <td>0.0</td>\n",
       "      <td>0.0</td>\n",
       "      <td>0.0</td>\n",
       "      <td>0.0</td>\n",
       "      <td>0.0</td>\n",
       "    </tr>\n",
       "    <tr>\n",
       "      <th>4</th>\n",
       "      <td>0.0</td>\n",
       "      <td>0.0</td>\n",
       "      <td>0.0</td>\n",
       "      <td>0.0</td>\n",
       "      <td>0.0</td>\n",
       "      <td>0.0</td>\n",
       "      <td>0.0</td>\n",
       "      <td>0.0</td>\n",
       "      <td>0.0</td>\n",
       "      <td>0.0</td>\n",
       "      <td>...</td>\n",
       "      <td>0.0</td>\n",
       "      <td>0.0</td>\n",
       "      <td>0.0</td>\n",
       "      <td>0.000000</td>\n",
       "      <td>0.0</td>\n",
       "      <td>0.0</td>\n",
       "      <td>0.0</td>\n",
       "      <td>0.0</td>\n",
       "      <td>0.0</td>\n",
       "      <td>0.0</td>\n",
       "    </tr>\n",
       "  </tbody>\n",
       "</table>\n",
       "<p>5 rows × 64 columns</p>\n",
       "</div>"
      ],
      "text/plain": [
       "   agree  arundhati  arundhati roy  bitch  bollywood  brother  but  called  \\\n",
       "0    0.0        0.0            0.0    0.0        0.0      0.0  0.0     0.0   \n",
       "1    0.0        0.0            0.0    0.0        0.0      0.0  0.0     0.0   \n",
       "2    0.0        0.0            0.0    0.0        0.0      0.0  0.0     0.0   \n",
       "3    0.0        0.0            0.0    0.0        0.0      0.0  0.0     0.0   \n",
       "4    0.0        0.0            0.0    0.0        0.0      0.0  0.0     0.0   \n",
       "\n",
       "   country  don  ...  totally  toxic  understand     video  watch  watching  \\\n",
       "0      0.0  0.0  ...      0.0    0.0         0.0  0.000000    0.0       0.0   \n",
       "1      0.0  0.0  ...      0.0    0.0         0.0  0.524753    0.0       0.0   \n",
       "2      0.0  0.0  ...      0.0    0.0         0.0  0.000000    0.0       0.0   \n",
       "3      0.0  0.0  ...      0.0    0.0         0.0  0.000000    0.0       0.0   \n",
       "4      0.0  0.0  ...      0.0    0.0         0.0  0.000000    0.0       0.0   \n",
       "\n",
       "   what  why  woman  women  \n",
       "0   0.0  0.0    0.0    0.0  \n",
       "1   0.0  0.0    0.0    0.0  \n",
       "2   0.0  0.0    0.0    0.0  \n",
       "3   0.0  0.0    0.0    0.0  \n",
       "4   0.0  0.0    0.0    0.0  \n",
       "\n",
       "[5 rows x 64 columns]"
      ]
     },
     "execution_count": 14,
     "metadata": {},
     "output_type": "execute_result"
    }
   ],
   "source": [
    "train_df = pd.read_csv(\"../Data/eng_train_tfidf.csv\")\n",
    "test_df = pd.read_csv(\"../Data/eng_test_tfidf.csv\")\n",
    "X_train = train_df.drop(columns=[\"Y\"])\n",
    "Y_train = train_df[\"Y\"]\n",
    "X_test = test_df.drop(columns=[\"Y\"])\n",
    "Y_test = test_df[\"Y\"]\n",
    "X_train.head()"
   ]
  },
  {
   "cell_type": "code",
   "execution_count": 15,
   "metadata": {},
   "outputs": [],
   "source": [
    "def run_the_mn_models(model, X_train, X_test, Y_tr, Y_te):\n",
    "    X_train_text_df, X_test_text_df, y_train, y_test = X_train, X_test, Y_tr, Y_te\n",
    "    \n",
    "    if model == 'mnb1':\n",
    "        \n",
    "        mn_params = {\n",
    "            'fit_prior': [True],\n",
    "            'alpha': [0, 0.5, 1]}\n",
    "        \n",
    "        M = GridSearchCV(MultinomialNB(),\n",
    "                        mn_params,\n",
    "                        cv = 5,\n",
    "                        verbose = 1,\n",
    "                        n_jobs = -1)\n",
    "        \n",
    "    elif model == 'mnb2':\n",
    "        \n",
    "         mn_params = {\n",
    "            'fit_prior': [False],\n",
    "            'alpha': [0, 0.5, 1]}\n",
    "        \n",
    "         M = GridSearchCV(MultinomialNB(),\n",
    "                        mn_params,\n",
    "                        cv = 5,\n",
    "                        verbose = 1,\n",
    "                        n_jobs = -1)\n",
    "        \n",
    "    else:\n",
    "        print('There is an error.')\n",
    "        \n",
    "    M.fit(X_train_text_df.values, y_train)\n",
    "     \n",
    "    print(f'Train score = {M.score(X_train_text_df.values, y_train)}')\n",
    "    print(f'Test score = {M.score(X_test_text_df.values, y_test)}')\n",
    "    \n",
    "    predictions = M.predict(X_test_text_df.values)\n",
    "    predictions_train = M.predict(X_train_text_df.values)\n",
    "    print('--------')\n",
    "    print(skplt.plot_confusion_matrix(y_test, predictions))\n",
    "    print(f'Best params = {M.best_params_}')\n",
    "    print('----F1 Score, Recall, Precision----')\n",
    "    # print precision, recall, F1-score per each class/tag\n",
    "    print(classification_report(y_test, predictions))\n",
    "    \n",
    "#     #skplt.plot_roc_curve(predictions,y_test)\n",
    "#     print('----ROC AUC CURVE SCORE----')\n",
    "#     print(\"ROC AUC CURVE SCORE FOR TEST: \",roc_auc_score(y_test, predictions))\n",
    "#     print(\"ROC AUC CURVE SCORE FOR TRAIN: \",roc_auc_score(y_train, predictions_train))"
   ]
  },
  {
   "cell_type": "code",
   "execution_count": 16,
   "metadata": {},
   "outputs": [
    {
     "name": "stdout",
     "output_type": "stream",
     "text": [
      "Fitting 5 folds for each of 3 candidates, totalling 15 fits\n"
     ]
    },
    {
     "name": "stderr",
     "output_type": "stream",
     "text": [
      "[Parallel(n_jobs=-1)]: Using backend LokyBackend with 8 concurrent workers.\n",
      "[Parallel(n_jobs=-1)]: Done  15 out of  15 | elapsed:    0.3s finished\n",
      "/opt/conda/lib/python3.7/site-packages/sklearn/naive_bayes.py:512: UserWarning: alpha too small will result in numeric errors, setting alpha = 1.0e-10\n",
      "  'setting alpha = %.1e' % _ALPHA_MIN)\n"
     ]
    },
    {
     "name": "stdout",
     "output_type": "stream",
     "text": [
      "Train score = 0.5063892344227072\n",
      "Test score = 0.5\n",
      "--------\n",
      "AxesSubplot(0.125,0.125;0.62x0.755)\n",
      "Best params = {'alpha': 0, 'fit_prior': True}\n",
      "----F1 Score, Recall, Precision----\n",
      "              precision    recall  f1-score   support\n",
      "\n",
      "           0       0.39      0.70      0.50      1242\n",
      "           1       0.59      0.28      0.38      1280\n",
      "           2       0.68      0.53      0.60      1268\n",
      "\n",
      "    accuracy                           0.50      3790\n",
      "   macro avg       0.56      0.50      0.49      3790\n",
      "weighted avg       0.56      0.50      0.49      3790\n",
      "\n"
     ]
    },
    {
     "data": {
      "image/png": "[encoded data removed]",
      "text/plain": [
       "<Figure size 432x288 with 2 Axes>"
      ]
     },
     "metadata": {
      "needs_background": "light"
     },
     "output_type": "display_data"
    }
   ],
   "source": [
    "run_the_mn_models(\"mnb1\", X_train, X_test, Y_train, Y_test)"
   ]
  },
  {
   "cell_type": "code",
   "execution_count": 17,
   "metadata": {},
   "outputs": [
    {
     "name": "stdout",
     "output_type": "stream",
     "text": [
      "Fitting 5 folds for each of 3 candidates, totalling 15 fits\n"
     ]
    },
    {
     "name": "stderr",
     "output_type": "stream",
     "text": [
      "[Parallel(n_jobs=-1)]: Using backend LokyBackend with 8 concurrent workers.\n",
      "[Parallel(n_jobs=-1)]: Done  15 out of  15 | elapsed:    0.4s finished\n",
      "/opt/conda/lib/python3.7/site-packages/sklearn/naive_bayes.py:512: UserWarning: alpha too small will result in numeric errors, setting alpha = 1.0e-10\n",
      "  'setting alpha = %.1e' % _ALPHA_MIN)\n"
     ]
    },
    {
     "name": "stdout",
     "output_type": "stream",
     "text": [
      "Train score = 0.5065023182177993\n",
      "Test score = 0.5\n",
      "--------\n",
      "AxesSubplot(0.125,0.125;0.62x0.755)\n",
      "Best params = {'alpha': 0, 'fit_prior': False}\n",
      "----F1 Score, Recall, Precision----\n",
      "              precision    recall  f1-score   support\n",
      "\n",
      "           0       0.39      0.70      0.50      1242\n",
      "           1       0.59      0.28      0.38      1280\n",
      "           2       0.68      0.53      0.60      1268\n",
      "\n",
      "    accuracy                           0.50      3790\n",
      "   macro avg       0.56      0.50      0.49      3790\n",
      "weighted avg       0.56      0.50      0.49      3790\n",
      "\n"
     ]
    },
    {
     "data": {
      "image/png": "[encoded data removed]",
      "text/plain": [
       "<Figure size 432x288 with 2 Axes>"
      ]
     },
     "metadata": {
      "needs_background": "light"
     },
     "output_type": "display_data"
    }
   ],
   "source": [
    "run_the_mn_models(\"mnb2\", X_train, X_test, Y_train, Y_test)"
   ]
  },
  {
   "cell_type": "code",
   "execution_count": 18,
   "metadata": {},
   "outputs": [],
   "source": [
    "def run_the_lr_models(model, X_train, X_test, Y_tr, Y_te):\n",
    "    X_train_text_df, X_test_text_df, y_train, y_test = X_train, X_test, Y_tr, Y_te\n",
    "    \n",
    "    \n",
    "    if model == 'lr1':\n",
    "        \n",
    "        lr_1_params = {\n",
    "            'penalty': ['l1'],\n",
    "            'C': [1, 1.5, 2, 2.5],\n",
    "            'class_weight': ['balanced'],\n",
    "            'warm_start': [True, False],\n",
    "            'random_state': [42],\n",
    "            'solver': ['liblinear']}\n",
    "        \n",
    "        M = GridSearchCV(LogisticRegression(),\n",
    "                        lr_1_params,\n",
    "                        cv = 5,\n",
    "                        verbose = 1,\n",
    "                        n_jobs = -1)\n",
    "        \n",
    "    elif model == 'lr2':\n",
    "        \n",
    "        lr_2_params = {\n",
    "            'penalty': ['l2'],\n",
    "            'C': [1, 1.5, 2, 2.5],\n",
    "            'class_weight': ['balanced'],\n",
    "            'warm_start': [True, False],            \n",
    "            'random_state': [42],\n",
    "            'solver': ['lbfgs', 'liblinear']}\n",
    "        \n",
    "        M = GridSearchCV(LogisticRegression(),\n",
    "                        lr_2_params,\n",
    "                        cv = 5,\n",
    "                        verbose = 1,\n",
    "                        n_jobs = -1)\n",
    "\n",
    "    else:\n",
    "        print('There is an error.')\n",
    "        \n",
    "    M.fit(X_train_text_df.values, y_train)\n",
    "     \n",
    "    print(f'Train score = {M.score(X_train_text_df.values, y_train)}')\n",
    "    print(f'Test score = {M.score(X_test_text_df.values, y_test)}')\n",
    "    \n",
    "    predictions = M.predict(X_test_text_df.values)\n",
    "    predictions_train = M.predict(X_train_text_df.values)\n",
    "    print('--------')\n",
    "    print(skplt.plot_confusion_matrix(y_test, predictions))\n",
    "    print(f'Best params = {M.best_params_}')\n",
    "    print('----F1 Score, Recall, Precision----')\n",
    "    # print precision, recall, F1-score per each class/tag\n",
    "    print(classification_report(y_test, predictions))\n",
    "    \n",
    "#     print('----ROC AUC CURVE SCORE----')\n",
    "#     print(\"ROC AUC CURVE SCORE FOR TEST: \",roc_auc_score(y_test, predictions))\n",
    "#     print(\"ROC AUC CURVE SCORE FOR TRAIN: \",roc_auc_score(y_train, predictions_train))\n",
    "    \n",
    "#     print('----ROC AUC CURVE SCORE----')\n",
    "#     print(\"ROC AUC CURVE SCORE FOR TEST: \",roc_auc_score(y_test, predictions))\n",
    "#     print(\"ROC AUC CURVE SCORE FOR TRAIN: \",roc_auc_score(y_train, predictions_train))"
   ]
  },
  {
   "cell_type": "code",
   "execution_count": 19,
   "metadata": {},
   "outputs": [
    {
     "name": "stdout",
     "output_type": "stream",
     "text": [
      "Fitting 5 folds for each of 8 candidates, totalling 40 fits\n"
     ]
    },
    {
     "name": "stderr",
     "output_type": "stream",
     "text": [
      "[Parallel(n_jobs=-1)]: Using backend LokyBackend with 8 concurrent workers.\n",
      "[Parallel(n_jobs=-1)]: Done  25 out of  40 | elapsed:    0.7s remaining:    0.4s\n",
      "[Parallel(n_jobs=-1)]: Done  40 out of  40 | elapsed:    0.8s finished\n"
     ]
    },
    {
     "name": "stdout",
     "output_type": "stream",
     "text": [
      "Train score = 0.6116702476535113\n",
      "Test score = 0.6047493403693931\n",
      "--------\n",
      "AxesSubplot(0.125,0.125;0.62x0.755)\n",
      "Best params = {'C': 1.5, 'class_weight': 'balanced', 'penalty': 'l1', 'random_state': 42, 'solver': 'liblinear', 'warm_start': True}\n",
      "----F1 Score, Recall, Precision----\n",
      "              precision    recall  f1-score   support\n",
      "\n",
      "           0       0.60      0.50      0.55      1242\n",
      "           1       0.57      0.75      0.65      1280\n",
      "           2       0.67      0.56      0.61      1268\n",
      "\n",
      "    accuracy                           0.60      3790\n",
      "   macro avg       0.61      0.60      0.60      3790\n",
      "weighted avg       0.61      0.60      0.60      3790\n",
      "\n"
     ]
    },
    {
     "data": {
      "image/png": "[encoded data removed]",
      "text/plain": [
       "<Figure size 432x288 with 2 Axes>"
      ]
     },
     "metadata": {
      "needs_background": "light"
     },
     "output_type": "display_data"
    }
   ],
   "source": [
    "run_the_lr_models(\"lr1\", X_train, X_test, Y_train, Y_test)"
   ]
  },
  {
   "cell_type": "code",
   "execution_count": 20,
   "metadata": {},
   "outputs": [
    {
     "name": "stdout",
     "output_type": "stream",
     "text": [
      "Fitting 5 folds for each of 16 candidates, totalling 80 fits\n"
     ]
    },
    {
     "name": "stderr",
     "output_type": "stream",
     "text": [
      "[Parallel(n_jobs=-1)]: Using backend LokyBackend with 8 concurrent workers.\n",
      "[Parallel(n_jobs=-1)]: Done  34 tasks      | elapsed:    3.0s\n",
      "[Parallel(n_jobs=-1)]: Done  80 out of  80 | elapsed:    6.9s finished\n"
     ]
    },
    {
     "name": "stdout",
     "output_type": "stream",
     "text": [
      "Train score = 0.6154020128915526\n",
      "Test score = 0.6073878627968338\n",
      "--------\n",
      "AxesSubplot(0.125,0.125;0.62x0.755)\n",
      "Best params = {'C': 1, 'class_weight': 'balanced', 'penalty': 'l2', 'random_state': 42, 'solver': 'lbfgs', 'warm_start': True}\n",
      "----F1 Score, Recall, Precision----\n",
      "              precision    recall  f1-score   support\n",
      "\n",
      "           0       0.60      0.51      0.55      1242\n",
      "           1       0.57      0.75      0.65      1280\n",
      "           2       0.67      0.56      0.61      1268\n",
      "\n",
      "    accuracy                           0.61      3790\n",
      "   macro avg       0.62      0.61      0.60      3790\n",
      "weighted avg       0.61      0.61      0.60      3790\n",
      "\n"
     ]
    },
    {
     "data": {
      "image/png": "[encoded data removed]",
      "text/plain": [
       "<Figure size 432x288 with 2 Axes>"
      ]
     },
     "metadata": {
      "needs_background": "light"
     },
     "output_type": "display_data"
    }
   ],
   "source": [
    "run_the_lr_models(\"lr2\", X_train, X_test, Y_train, Y_test)"
   ]
  },
  {
   "cell_type": "code",
   "execution_count": 21,
   "metadata": {},
   "outputs": [],
   "source": [
    "def run_the_sv_models(model, X_train, X_test, Y_tr, Y_te):   \n",
    "    X_train_text_df, X_test_text_df, y_train, y_test = X_train, X_test, Y_tr, Y_te\n",
    "    \n",
    "    if model == 'sv1':\n",
    "        \n",
    "        sv_params = {\n",
    "            'kernel': ['rbf'], \n",
    "            'gamma': [1e-3, 1e-4],\n",
    "            'C': [1, 10, 100, 1000] }\n",
    "        \n",
    "        M = GridSearchCV(SVC(probability=True),\n",
    "                        sv_params,\n",
    "                        cv = 5,\n",
    "                        verbose = 1,\n",
    "                        n_jobs = -1)\n",
    "        \n",
    "    elif model == 'sv2':\n",
    "        \n",
    "        \n",
    "        sv_params = {\n",
    "            'kernel': ['rbf'], \n",
    "            'gamma': [0.01, 1, 10, 100],\n",
    "            'C': [1, 10, 100, 1000] }\n",
    "\n",
    "        M = GridSearchCV(SVC(probability=True),\n",
    "                        sv_params,\n",
    "                        cv = 5,\n",
    "                        verbose = 1,\n",
    "                        n_jobs = -1)\n",
    "        \n",
    "    else:\n",
    "        print(\"Invalid Model!\")\n",
    "        \n",
    "    M.fit(X_train_text_df.values, y_train)\n",
    "      \n",
    "    #save in pickle file\n",
    "    joblib.dump(M, \"SVM_TFIDF.pkl\")\n",
    "     \n",
    "    print(f'Train score = {M.score(X_train_text_df.values, y_train)}')\n",
    "    print(f'Test score = {M.score(X_test_text_df.values, y_test)}')\n",
    "    \n",
    "    predictions = M.predict(X_test_text_df.values)\n",
    "    predictions_train = M.predict(X_train_text_df.values)\n",
    "    \n",
    "    print('--------')\n",
    "    print(skplt.plot_confusion_matrix(y_test, predictions))\n",
    "    print(f'Best params = {M.best_params_}')\n",
    "    print('----F1 Score, Recall, Precision----')\n",
    "    # print precision, recall, F1-score per each class/tag\n",
    "    print(classification_report(y_test, predictions))\n",
    "#     print('----ROC AUC CURVE SCORE----')\n",
    "#     print(\"ROC AUC CURVE SCORE FOR TEST: \",roc_auc_score(y_test, predictions))\n",
    "#     print(\"ROC AUC CURVE SCORE FOR TRAIN: \",roc_auc_score(y_train, predictions_train))"
   ]
  },
  {
   "cell_type": "code",
   "execution_count": 22,
   "metadata": {},
   "outputs": [
    {
     "name": "stdout",
     "output_type": "stream",
     "text": [
      "Fitting 5 folds for each of 8 candidates, totalling 40 fits\n"
     ]
    },
    {
     "name": "stderr",
     "output_type": "stream",
     "text": [
      "[Parallel(n_jobs=-1)]: Using backend LokyBackend with 8 concurrent workers.\n",
      "[Parallel(n_jobs=-1)]: Done  40 out of  40 | elapsed: 11.9min finished\n"
     ]
    },
    {
     "name": "stdout",
     "output_type": "stream",
     "text": [
      "Train score = 0.6130272531946173\n",
      "Test score = 0.60844327176781\n",
      "--------\n",
      "AxesSubplot(0.125,0.125;0.62x0.755)\n",
      "Best params = {'C': 1000, 'gamma': 0.001, 'kernel': 'rbf'}\n",
      "----F1 Score, Recall, Precision----\n",
      "              precision    recall  f1-score   support\n",
      "\n",
      "           0       0.60      0.53      0.56      1242\n",
      "           1       0.57      0.75      0.65      1280\n",
      "           2       0.68      0.54      0.60      1268\n",
      "\n",
      "    accuracy                           0.61      3790\n",
      "   macro avg       0.62      0.61      0.60      3790\n",
      "weighted avg       0.62      0.61      0.61      3790\n",
      "\n"
     ]
    },
    {
     "data": {
      "image/png": "[encoded data removed]",
      "text/plain": [
       "<Figure size 432x288 with 2 Axes>"
      ]
     },
     "metadata": {
      "needs_background": "light"
     },
     "output_type": "display_data"
    }
   ],
   "source": [
    "run_the_sv_models(\"sv1\", X_train, X_test, Y_train, Y_test)"
   ]
  },
  {
   "cell_type": "code",
   "execution_count": 23,
   "metadata": {},
   "outputs": [
    {
     "name": "stdout",
     "output_type": "stream",
     "text": [
      "Fitting 5 folds for each of 16 candidates, totalling 80 fits\n"
     ]
    },
    {
     "name": "stderr",
     "output_type": "stream",
     "text": [
      "[Parallel(n_jobs=-1)]: Using backend LokyBackend with 8 concurrent workers.\n",
      "[Parallel(n_jobs=-1)]: Done  34 tasks      | elapsed:  8.8min\n",
      "[Parallel(n_jobs=-1)]: Done  80 out of  80 | elapsed: 19.1min finished\n"
     ]
    },
    {
     "name": "stdout",
     "output_type": "stream",
     "text": [
      "Train score = 0.730634400090467\n",
      "Test score = 0.7313984168865435\n",
      "--------\n",
      "AxesSubplot(0.125,0.125;0.62x0.755)\n",
      "Best params = {'C': 1, 'gamma': 100, 'kernel': 'rbf'}\n",
      "----F1 Score, Recall, Precision----\n",
      "              precision    recall  f1-score   support\n",
      "\n",
      "           0       0.84      0.63      0.72      1242\n",
      "           1       0.62      0.89      0.73      1280\n",
      "           2       0.83      0.68      0.74      1268\n",
      "\n",
      "    accuracy                           0.73      3790\n",
      "   macro avg       0.76      0.73      0.73      3790\n",
      "weighted avg       0.76      0.73      0.73      3790\n",
      "\n"
     ]
    },
    {
     "data": {
      "image/png": "[encoded data removed]",
      "text/plain": [
       "<Figure size 432x288 with 2 Axes>"
      ]
     },
     "metadata": {
      "needs_background": "light"
     },
     "output_type": "display_data"
    }
   ],
   "source": [
    "run_the_sv_models(\"sv2\", X_train, X_test, Y_train, Y_test)"
   ]
  },
  {
   "cell_type": "markdown",
   "metadata": {},
   "source": [
    "## LDA Based Vectors"
   ]
  },
  {
   "cell_type": "code",
   "execution_count": 24,
   "metadata": {},
   "outputs": [
    {
     "data": {
      "text/plain": [
       "(3730, 30)"
      ]
     },
     "execution_count": 24,
     "metadata": {},
     "output_type": "execute_result"
    }
   ],
   "source": [
    "train_df = pd.read_csv(\"../Data/eng_train_lda.csv\")\n",
    "test_df = pd.read_csv(\"../Data/eng_test_lda.csv\")\n",
    "X_train = train_df.drop(columns=[\"Y\"])\n",
    "Y_train = train_df[\"Y\"]\n",
    "X_test = test_df.drop(columns=[\"Y\"])\n",
    "Y_test = test_df[\"Y\"]\n",
    "X_train.shape"
   ]
  },
  {
   "cell_type": "code",
   "execution_count": 25,
   "metadata": {},
   "outputs": [
    {
     "data": {
      "text/plain": [
       "(3730, 30)"
      ]
     },
     "execution_count": 25,
     "metadata": {},
     "output_type": "execute_result"
    }
   ],
   "source": [
    "scaler = MinMaxScaler()\n",
    "X_train = pd.DataFrame(scaler.fit_transform(X_train))\n",
    "X_test = pd.DataFrame(scaler.fit_transform(X_test))\n",
    "X_train.shape"
   ]
  },
  {
   "cell_type": "code",
   "execution_count": 26,
   "metadata": {},
   "outputs": [],
   "source": [
    "def run_the_mn_models(model, X_train, X_test, Y_tr, Y_te):\n",
    "    X_train_text_df, X_test_text_df, y_train, y_test = X_train, X_test, Y_tr, Y_te\n",
    "    \n",
    "    if model == 'mnb1':\n",
    "        \n",
    "        mn_params = {\n",
    "            'fit_prior': [True],\n",
    "            'alpha': [0, 0.5, 1]}\n",
    "        \n",
    "        M = GridSearchCV(MultinomialNB(),\n",
    "                        mn_params,\n",
    "                        cv = 5,\n",
    "                        verbose = 1,\n",
    "                        n_jobs = -1)\n",
    "        \n",
    "    elif model == 'mnb2':\n",
    "        \n",
    "         mn_params = {\n",
    "            'fit_prior': [False],\n",
    "            'alpha': [0, 0.5, 1]}\n",
    "        \n",
    "         M = GridSearchCV(MultinomialNB(),\n",
    "                        mn_params,\n",
    "                        cv = 5,\n",
    "                        verbose = 1,\n",
    "                        n_jobs = -1)\n",
    "        \n",
    "    else:\n",
    "        print('There is an error.')\n",
    "        \n",
    "    M.fit(X_train_text_df.values, y_train)\n",
    "     \n",
    "    print(f'Train score = {M.score(X_train_text_df.values, y_train)}')\n",
    "    print(f'Test score = {M.score(X_test_text_df.values, y_test)}')\n",
    "    \n",
    "    predictions = M.predict(X_test_text_df.values)\n",
    "    predictions_train = M.predict(X_train_text_df.values)\n",
    "    print('--------')\n",
    "    print(skplt.plot_confusion_matrix(y_test, predictions))\n",
    "    print(f'Best params = {M.best_params_}')\n",
    "    print('----F1 Score, Recall, Precision----')\n",
    "    # print precision, recall, F1-score per each class/tag\n",
    "    print(classification_report(y_test, predictions))\n",
    "    \n",
    "#     #skplt.plot_roc_curve(predictions,y_test)\n",
    "#     print('----ROC AUC CURVE SCORE----')\n",
    "#     print(\"ROC AUC CURVE SCORE FOR TEST: \",roc_auc_score(y_test, predictions))\n",
    "#     print(\"ROC AUC CURVE SCORE FOR TRAIN: \",roc_auc_score(y_train, predictions_train))"
   ]
  },
  {
   "cell_type": "code",
   "execution_count": 27,
   "metadata": {
    "scrolled": false
   },
   "outputs": [
    {
     "name": "stdout",
     "output_type": "stream",
     "text": [
      "Fitting 5 folds for each of 3 candidates, totalling 15 fits\n"
     ]
    },
    {
     "name": "stderr",
     "output_type": "stream",
     "text": [
      "[Parallel(n_jobs=-1)]: Using backend LokyBackend with 8 concurrent workers.\n",
      "[Parallel(n_jobs=-1)]: Done  15 out of  15 | elapsed:    0.4s finished\n",
      "/opt/conda/lib/python3.7/site-packages/sklearn/naive_bayes.py:512: UserWarning: alpha too small will result in numeric errors, setting alpha = 1.0e-10\n",
      "  'setting alpha = %.1e' % _ALPHA_MIN)\n"
     ]
    },
    {
     "name": "stdout",
     "output_type": "stream",
     "text": [
      "Train score = 0.7954423592493297\n",
      "Test score = 0.7779862414008756\n",
      "--------\n",
      "AxesSubplot(0.125,0.125;0.62x0.755)\n",
      "Best params = {'alpha': 0, 'fit_prior': True}\n",
      "----F1 Score, Recall, Precision----\n"
     ]
    },
    {
     "name": "stderr",
     "output_type": "stream",
     "text": [
      "/opt/conda/lib/python3.7/site-packages/sklearn/metrics/_classification.py:1221: UndefinedMetricWarning: Precision and F-score are ill-defined and being set to 0.0 in labels with no predicted samples. Use `zero_division` parameter to control this behavior.\n",
      "  _warn_prf(average, modifier, msg_start, len(result))\n"
     ]
    },
    {
     "name": "stdout",
     "output_type": "stream",
     "text": [
      "              precision    recall  f1-score   support\n",
      "\n",
      "         CAG       0.00      0.00      0.00       193\n",
      "         NAG       0.78      1.00      0.88      1244\n",
      "         OAG       0.00      0.00      0.00       162\n",
      "\n",
      "    accuracy                           0.78      1599\n",
      "   macro avg       0.26      0.33      0.29      1599\n",
      "weighted avg       0.61      0.78      0.68      1599\n",
      "\n"
     ]
    },
    {
     "data": {
      "image/png": "[encoded data removed]",
      "text/plain": [
       "<Figure size 432x288 with 2 Axes>"
      ]
     },
     "metadata": {
      "needs_background": "light"
     },
     "output_type": "display_data"
    }
   ],
   "source": [
    "run_the_mn_models(\"mnb1\", X_train, X_test, Y_train, Y_test)"
   ]
  },
  {
   "cell_type": "code",
   "execution_count": 28,
   "metadata": {},
   "outputs": [
    {
     "name": "stdout",
     "output_type": "stream",
     "text": [
      "Fitting 5 folds for each of 3 candidates, totalling 15 fits\n"
     ]
    },
    {
     "name": "stderr",
     "output_type": "stream",
     "text": [
      "[Parallel(n_jobs=-1)]: Using backend LokyBackend with 8 concurrent workers.\n",
      "[Parallel(n_jobs=-1)]: Done  15 out of  15 | elapsed:    0.4s finished\n"
     ]
    },
    {
     "name": "stdout",
     "output_type": "stream",
     "text": [
      "Train score = 0.6053619302949061\n",
      "Test score = 0.5590994371482176\n",
      "--------\n",
      "AxesSubplot(0.125,0.125;0.62x0.755)\n",
      "Best params = {'alpha': 1, 'fit_prior': False}\n",
      "----F1 Score, Recall, Precision----\n",
      "              precision    recall  f1-score   support\n",
      "\n",
      "         CAG       0.17      0.39      0.23       193\n",
      "         NAG       0.89      0.60      0.71      1244\n",
      "         OAG       0.25      0.46      0.32       162\n",
      "\n",
      "    accuracy                           0.56      1599\n",
      "   macro avg       0.43      0.48      0.42      1599\n",
      "weighted avg       0.73      0.56      0.62      1599\n",
      "\n"
     ]
    },
    {
     "data": {
      "image/png": "[encoded data removed]",
      "text/plain": [
       "<Figure size 432x288 with 2 Axes>"
      ]
     },
     "metadata": {
      "needs_background": "light"
     },
     "output_type": "display_data"
    }
   ],
   "source": [
    "run_the_mn_models(\"mnb2\", X_train, X_test, Y_train, Y_test)"
   ]
  },
  {
   "cell_type": "code",
   "execution_count": 29,
   "metadata": {},
   "outputs": [],
   "source": [
    "def run_the_lr_models(model, X_train, X_test, Y_tr, Y_te):\n",
    "    X_train_text_df, X_test_text_df, y_train, y_test = X_train, X_test, Y_tr, Y_te\n",
    "    \n",
    "    \n",
    "    if model == 'lr1':\n",
    "        \n",
    "        lr_1_params = {\n",
    "            'penalty': ['l1'],\n",
    "            'C': [1, 1.5, 2, 2.5],\n",
    "            'class_weight': ['balanced'],\n",
    "            'warm_start': [True, False],\n",
    "            'random_state': [42],\n",
    "            'solver': ['liblinear']}\n",
    "        \n",
    "        M = GridSearchCV(LogisticRegression(),\n",
    "                        lr_1_params,\n",
    "                        cv = 5,\n",
    "                        verbose = 1,\n",
    "                        n_jobs = -1)\n",
    "        \n",
    "    elif model == 'lr2':\n",
    "        \n",
    "        lr_2_params = {\n",
    "            'penalty': ['l2'],\n",
    "            'C': [1, 1.5, 2, 2.5],\n",
    "            'class_weight': ['balanced'],\n",
    "            'warm_start': [True, False],            \n",
    "            'random_state': [42],\n",
    "            'solver': ['lbfgs', 'liblinear']}\n",
    "        \n",
    "        M = GridSearchCV(LogisticRegression(),\n",
    "                        lr_2_params,\n",
    "                        cv = 5,\n",
    "                        verbose = 1,\n",
    "                        n_jobs = -1)\n",
    "\n",
    "    else:\n",
    "        print('There is an error.')\n",
    "        \n",
    "    M.fit(X_train_text_df.values, y_train)\n",
    "     \n",
    "    print(f'Train score = {M.score(X_train_text_df.values, y_train)}')\n",
    "    print(f'Test score = {M.score(X_test_text_df.values, y_test)}')\n",
    "    \n",
    "    predictions = M.predict(X_test_text_df.values)\n",
    "    predictions_train = M.predict(X_train_text_df.values)\n",
    "    print('--------')\n",
    "    print(skplt.plot_confusion_matrix(y_test, predictions))\n",
    "    print(f'Best params = {M.best_params_}')\n",
    "    print('----F1 Score, Recall, Precision----')\n",
    "    # print precision, recall, F1-score per each class/tag\n",
    "    print(classification_report(y_test, predictions))\n",
    "    \n",
    "#     print('----ROC AUC CURVE SCORE----')\n",
    "#     print(\"ROC AUC CURVE SCORE FOR TEST: \",roc_auc_score(y_test, predictions))\n",
    "#     print(\"ROC AUC CURVE SCORE FOR TRAIN: \",roc_auc_score(y_train, predictions_train))\n",
    "    \n",
    "#     print('----ROC AUC CURVE SCORE----')\n",
    "#     print(\"ROC AUC CURVE SCORE FOR TEST: \",roc_auc_score(y_test, predictions))\n",
    "#     print(\"ROC AUC CURVE SCORE FOR TRAIN: \",roc_auc_score(y_train, predictions_train))"
   ]
  },
  {
   "cell_type": "code",
   "execution_count": 30,
   "metadata": {
    "scrolled": false
   },
   "outputs": [
    {
     "name": "stdout",
     "output_type": "stream",
     "text": [
      "Fitting 5 folds for each of 8 candidates, totalling 40 fits\n"
     ]
    },
    {
     "name": "stderr",
     "output_type": "stream",
     "text": [
      "[Parallel(n_jobs=-1)]: Using backend LokyBackend with 8 concurrent workers.\n",
      "[Parallel(n_jobs=-1)]: Done  40 out of  40 | elapsed:    6.9s finished\n"
     ]
    },
    {
     "name": "stdout",
     "output_type": "stream",
     "text": [
      "Train score = 0.7823056300268096\n",
      "Test score = 0.7510944340212633\n",
      "--------\n",
      "AxesSubplot(0.125,0.125;0.62x0.755)\n",
      "Best params = {'C': 1, 'class_weight': 'balanced', 'penalty': 'l1', 'random_state': 42, 'solver': 'liblinear', 'warm_start': True}\n",
      "----F1 Score, Recall, Precision----\n",
      "              precision    recall  f1-score   support\n",
      "\n",
      "         CAG       0.31      0.21      0.25       193\n",
      "         NAG       0.85      0.89      0.87      1244\n",
      "         OAG       0.35      0.35      0.35       162\n",
      "\n",
      "    accuracy                           0.75      1599\n",
      "   macro avg       0.50      0.48      0.49      1599\n",
      "weighted avg       0.73      0.75      0.74      1599\n",
      "\n"
     ]
    },
    {
     "data": {
      "image/png": "[encoded data removed]",
      "text/plain": [
       "<Figure size 432x288 with 2 Axes>"
      ]
     },
     "metadata": {
      "needs_background": "light"
     },
     "output_type": "display_data"
    }
   ],
   "source": [
    "run_the_lr_models(\"lr1\", X_train, X_test, Y_train, Y_test)"
   ]
  },
  {
   "cell_type": "code",
   "execution_count": 31,
   "metadata": {},
   "outputs": [
    {
     "name": "stdout",
     "output_type": "stream",
     "text": [
      "Fitting 5 folds for each of 16 candidates, totalling 80 fits\n"
     ]
    },
    {
     "name": "stderr",
     "output_type": "stream",
     "text": [
      "[Parallel(n_jobs=-1)]: Using backend LokyBackend with 8 concurrent workers.\n",
      "[Parallel(n_jobs=-1)]: Done  34 tasks      | elapsed:    1.9s\n",
      "[Parallel(n_jobs=-1)]: Done  80 out of  80 | elapsed:    4.0s finished\n"
     ]
    },
    {
     "name": "stdout",
     "output_type": "stream",
     "text": [
      "Train score = 0.7841823056300268\n",
      "Test score = 0.7523452157598499\n",
      "--------\n",
      "AxesSubplot(0.125,0.125;0.62x0.755)\n",
      "Best params = {'C': 1, 'class_weight': 'balanced', 'penalty': 'l2', 'random_state': 42, 'solver': 'liblinear', 'warm_start': True}\n",
      "----F1 Score, Recall, Precision----\n",
      "              precision    recall  f1-score   support\n",
      "\n",
      "         CAG       0.28      0.17      0.21       193\n",
      "         NAG       0.84      0.90      0.87      1244\n",
      "         OAG       0.35      0.33      0.34       162\n",
      "\n",
      "    accuracy                           0.75      1599\n",
      "   macro avg       0.49      0.47      0.47      1599\n",
      "weighted avg       0.72      0.75      0.74      1599\n",
      "\n"
     ]
    },
    {
     "data": {
      "image/png": "[encoded data removed]",
      "text/plain": [
       "<Figure size 432x288 with 2 Axes>"
      ]
     },
     "metadata": {
      "needs_background": "light"
     },
     "output_type": "display_data"
    }
   ],
   "source": [
    "run_the_lr_models(\"lr2\", X_train, X_test, Y_train, Y_test)"
   ]
  },
  {
   "cell_type": "code",
   "execution_count": 32,
   "metadata": {},
   "outputs": [],
   "source": [
    "def run_the_sv_models(model, X_train, X_test, Y_tr, Y_te):   \n",
    "    X_train_text_df, X_test_text_df, y_train, y_test = X_train, X_test, Y_tr, Y_te\n",
    "    \n",
    "    if model == 'sv1':\n",
    "        \n",
    "        sv_params = {\n",
    "            'kernel': ['rbf'], \n",
    "            'gamma': [1e-3, 1e-4],\n",
    "            'C': [1, 10, 100, 1000] }\n",
    "        \n",
    "        M = GridSearchCV(SVC(probability=True),\n",
    "                        sv_params,\n",
    "                        cv = 5,\n",
    "                        verbose = 1,\n",
    "                        n_jobs = -1)\n",
    "        \n",
    "    elif model == 'sv2':\n",
    "        \n",
    "        \n",
    "        sv_params = {\n",
    "            'kernel': ['rbf'], \n",
    "            'gamma': [0.01, 1, 10, 100],\n",
    "            'C': [1, 10, 100, 1000] }\n",
    "\n",
    "        M = GridSearchCV(SVC(probability=True),\n",
    "                        sv_params,\n",
    "                        cv = 5,\n",
    "                        verbose = 1,\n",
    "                        n_jobs = -1)\n",
    "        \n",
    "    else:\n",
    "        print(\"Invalid Model!\")\n",
    "        \n",
    "    M.fit(X_train_text_df.values, y_train)\n",
    "      \n",
    "    #save in pickle file\n",
    "    joblib.dump(M, \"SVM_TFIDF.pkl\")\n",
    "     \n",
    "    print(f'Train score = {M.score(X_train_text_df.values, y_train)}')\n",
    "    print(f'Test score = {M.score(X_test_text_df.values, y_test)}')\n",
    "    \n",
    "    predictions = M.predict(X_test_text_df.values)\n",
    "    predictions_train = M.predict(X_train_text_df.values)\n",
    "    \n",
    "    print('--------')\n",
    "    print(skplt.plot_confusion_matrix(y_test, predictions))\n",
    "    print(f'Best params = {M.best_params_}')\n",
    "    print('----F1 Score, Recall, Precision----')\n",
    "    # print precision, recall, F1-score per each class/tag\n",
    "    print(classification_report(y_test, predictions))\n",
    "#     print('----ROC AUC CURVE SCORE----')\n",
    "#     print(\"ROC AUC CURVE SCORE FOR TEST: \",roc_auc_score(y_test, predictions))\n",
    "#     print(\"ROC AUC CURVE SCORE FOR TRAIN: \",roc_auc_score(y_train, predictions_train))"
   ]
  },
  {
   "cell_type": "code",
   "execution_count": 33,
   "metadata": {},
   "outputs": [
    {
     "name": "stdout",
     "output_type": "stream",
     "text": [
      "Fitting 5 folds for each of 8 candidates, totalling 40 fits\n"
     ]
    },
    {
     "name": "stderr",
     "output_type": "stream",
     "text": [
      "[Parallel(n_jobs=-1)]: Using backend LokyBackend with 8 concurrent workers.\n",
      "[Parallel(n_jobs=-1)]: Done  40 out of  40 | elapsed:   37.2s finished\n"
     ]
    },
    {
     "name": "stdout",
     "output_type": "stream",
     "text": [
      "Train score = 0.7954423592493297\n",
      "Test score = 0.7779862414008756\n",
      "--------\n",
      "AxesSubplot(0.125,0.125;0.62x0.755)\n",
      "Best params = {'C': 1, 'gamma': 0.001, 'kernel': 'rbf'}\n",
      "----F1 Score, Recall, Precision----\n"
     ]
    },
    {
     "name": "stderr",
     "output_type": "stream",
     "text": [
      "/opt/conda/lib/python3.7/site-packages/sklearn/metrics/_classification.py:1221: UndefinedMetricWarning: Precision and F-score are ill-defined and being set to 0.0 in labels with no predicted samples. Use `zero_division` parameter to control this behavior.\n",
      "  _warn_prf(average, modifier, msg_start, len(result))\n"
     ]
    },
    {
     "name": "stdout",
     "output_type": "stream",
     "text": [
      "              precision    recall  f1-score   support\n",
      "\n",
      "         CAG       0.00      0.00      0.00       193\n",
      "         NAG       0.78      1.00      0.88      1244\n",
      "         OAG       0.00      0.00      0.00       162\n",
      "\n",
      "    accuracy                           0.78      1599\n",
      "   macro avg       0.26      0.33      0.29      1599\n",
      "weighted avg       0.61      0.78      0.68      1599\n",
      "\n"
     ]
    },
    {
     "data": {
      "image/png": "[encoded data removed]",
      "text/plain": [
       "<Figure size 432x288 with 2 Axes>"
      ]
     },
     "metadata": {
      "needs_background": "light"
     },
     "output_type": "display_data"
    }
   ],
   "source": [
    "run_the_sv_models(\"sv1\", X_train, X_test, Y_train, Y_test)"
   ]
  },
  {
   "cell_type": "code",
   "execution_count": 34,
   "metadata": {},
   "outputs": [
    {
     "name": "stdout",
     "output_type": "stream",
     "text": [
      "Fitting 5 folds for each of 16 candidates, totalling 80 fits\n"
     ]
    },
    {
     "name": "stderr",
     "output_type": "stream",
     "text": [
      "[Parallel(n_jobs=-1)]: Using backend LokyBackend with 8 concurrent workers.\n",
      "[Parallel(n_jobs=-1)]: Done  34 tasks      | elapsed:  1.0min\n",
      "[Parallel(n_jobs=-1)]: Done  80 out of  80 | elapsed:  3.5min finished\n"
     ]
    },
    {
     "name": "stdout",
     "output_type": "stream",
     "text": [
      "Train score = 0.8048257372654155\n",
      "Test score = 0.7854909318323953\n",
      "--------\n",
      "AxesSubplot(0.125,0.125;0.62x0.755)\n",
      "Best params = {'C': 1000, 'gamma': 0.01, 'kernel': 'rbf'}\n",
      "----F1 Score, Recall, Precision----\n",
      "              precision    recall  f1-score   support\n",
      "\n",
      "         CAG       0.00      0.00      0.00       193\n",
      "         NAG       0.80      0.98      0.88      1244\n",
      "         OAG       0.53      0.22      0.31       162\n",
      "\n",
      "    accuracy                           0.79      1599\n",
      "   macro avg       0.44      0.40      0.40      1599\n",
      "weighted avg       0.67      0.79      0.72      1599\n",
      "\n"
     ]
    },
    {
     "name": "stderr",
     "output_type": "stream",
     "text": [
      "/opt/conda/lib/python3.7/site-packages/sklearn/metrics/_classification.py:1221: UndefinedMetricWarning: Precision and F-score are ill-defined and being set to 0.0 in labels with no predicted samples. Use `zero_division` parameter to control this behavior.\n",
      "  _warn_prf(average, modifier, msg_start, len(result))\n"
     ]
    },
    {
     "data": {
      "image/png": "[encoded data removed]",
      "text/plain": [
       "<Figure size 432x288 with 2 Axes>"
      ]
     },
     "metadata": {
      "needs_background": "light"
     },
     "output_type": "display_data"
    }
   ],
   "source": [
    "run_the_sv_models(\"sv2\", X_train, X_test, Y_train, Y_test)"
   ]
  },
  {
   "cell_type": "markdown",
   "metadata": {},
   "source": [
    "## Bag of Words"
   ]
  },
  {
   "cell_type": "code",
   "execution_count": 35,
   "metadata": {},
   "outputs": [
    {
     "data": {
      "text/html": [
       "<div>\n",
       "<style scoped>\n",
       "    .dataframe tbody tr th:only-of-type {\n",
       "        vertical-align: middle;\n",
       "    }\n",
       "\n",
       "    .dataframe tbody tr th {\n",
       "        vertical-align: top;\n",
       "    }\n",
       "\n",
       "    .dataframe thead th {\n",
       "        text-align: right;\n",
       "    }\n",
       "</style>\n",
       "<table border=\"1\" class=\"dataframe\">\n",
       "  <thead>\n",
       "    <tr style=\"text-align: right;\">\n",
       "      <th></th>\n",
       "      <th>Unnamed: 0</th>\n",
       "      <th>agree</th>\n",
       "      <th>arundhati</th>\n",
       "      <th>arundhati roy</th>\n",
       "      <th>bitch</th>\n",
       "      <th>bollywood</th>\n",
       "      <th>brother</th>\n",
       "      <th>but</th>\n",
       "      <th>called</th>\n",
       "      <th>country</th>\n",
       "      <th>...</th>\n",
       "      <th>toxic</th>\n",
       "      <th>understand</th>\n",
       "      <th>video</th>\n",
       "      <th>watch</th>\n",
       "      <th>watching</th>\n",
       "      <th>what</th>\n",
       "      <th>why</th>\n",
       "      <th>woman</th>\n",
       "      <th>women</th>\n",
       "      <th>Sub-task B</th>\n",
       "    </tr>\n",
       "  </thead>\n",
       "  <tbody>\n",
       "    <tr>\n",
       "      <th>0</th>\n",
       "      <td>394</td>\n",
       "      <td>0</td>\n",
       "      <td>0</td>\n",
       "      <td>0</td>\n",
       "      <td>0</td>\n",
       "      <td>0</td>\n",
       "      <td>0</td>\n",
       "      <td>0</td>\n",
       "      <td>0</td>\n",
       "      <td>0</td>\n",
       "      <td>...</td>\n",
       "      <td>0</td>\n",
       "      <td>0</td>\n",
       "      <td>0</td>\n",
       "      <td>0</td>\n",
       "      <td>0</td>\n",
       "      <td>0</td>\n",
       "      <td>0</td>\n",
       "      <td>0</td>\n",
       "      <td>0</td>\n",
       "      <td>1</td>\n",
       "    </tr>\n",
       "    <tr>\n",
       "      <th>1</th>\n",
       "      <td>12299</td>\n",
       "      <td>0</td>\n",
       "      <td>0</td>\n",
       "      <td>0</td>\n",
       "      <td>0</td>\n",
       "      <td>0</td>\n",
       "      <td>0</td>\n",
       "      <td>0</td>\n",
       "      <td>0</td>\n",
       "      <td>0</td>\n",
       "      <td>...</td>\n",
       "      <td>0</td>\n",
       "      <td>0</td>\n",
       "      <td>0</td>\n",
       "      <td>0</td>\n",
       "      <td>0</td>\n",
       "      <td>0</td>\n",
       "      <td>0</td>\n",
       "      <td>0</td>\n",
       "      <td>1</td>\n",
       "      <td>1</td>\n",
       "    </tr>\n",
       "    <tr>\n",
       "      <th>2</th>\n",
       "      <td>379</td>\n",
       "      <td>0</td>\n",
       "      <td>0</td>\n",
       "      <td>0</td>\n",
       "      <td>0</td>\n",
       "      <td>0</td>\n",
       "      <td>0</td>\n",
       "      <td>0</td>\n",
       "      <td>0</td>\n",
       "      <td>0</td>\n",
       "      <td>...</td>\n",
       "      <td>0</td>\n",
       "      <td>0</td>\n",
       "      <td>0</td>\n",
       "      <td>0</td>\n",
       "      <td>0</td>\n",
       "      <td>0</td>\n",
       "      <td>0</td>\n",
       "      <td>0</td>\n",
       "      <td>0</td>\n",
       "      <td>1</td>\n",
       "    </tr>\n",
       "    <tr>\n",
       "      <th>3</th>\n",
       "      <td>85</td>\n",
       "      <td>0</td>\n",
       "      <td>1</td>\n",
       "      <td>0</td>\n",
       "      <td>0</td>\n",
       "      <td>0</td>\n",
       "      <td>0</td>\n",
       "      <td>0</td>\n",
       "      <td>0</td>\n",
       "      <td>0</td>\n",
       "      <td>...</td>\n",
       "      <td>0</td>\n",
       "      <td>0</td>\n",
       "      <td>0</td>\n",
       "      <td>0</td>\n",
       "      <td>0</td>\n",
       "      <td>0</td>\n",
       "      <td>0</td>\n",
       "      <td>0</td>\n",
       "      <td>0</td>\n",
       "      <td>0</td>\n",
       "    </tr>\n",
       "    <tr>\n",
       "      <th>4</th>\n",
       "      <td>10697</td>\n",
       "      <td>0</td>\n",
       "      <td>0</td>\n",
       "      <td>0</td>\n",
       "      <td>0</td>\n",
       "      <td>1</td>\n",
       "      <td>0</td>\n",
       "      <td>0</td>\n",
       "      <td>0</td>\n",
       "      <td>0</td>\n",
       "      <td>...</td>\n",
       "      <td>0</td>\n",
       "      <td>0</td>\n",
       "      <td>0</td>\n",
       "      <td>0</td>\n",
       "      <td>0</td>\n",
       "      <td>0</td>\n",
       "      <td>0</td>\n",
       "      <td>0</td>\n",
       "      <td>0</td>\n",
       "      <td>1</td>\n",
       "    </tr>\n",
       "  </tbody>\n",
       "</table>\n",
       "<p>5 rows × 66 columns</p>\n",
       "</div>"
      ],
      "text/plain": [
       "   Unnamed: 0  agree  arundhati  arundhati roy  bitch  bollywood  brother  \\\n",
       "0         394      0          0              0      0          0        0   \n",
       "1       12299      0          0              0      0          0        0   \n",
       "2         379      0          0              0      0          0        0   \n",
       "3          85      0          1              0      0          0        0   \n",
       "4       10697      0          0              0      0          1        0   \n",
       "\n",
       "   but  called  country  ...  toxic  understand  video  watch  watching  what  \\\n",
       "0    0       0        0  ...      0           0      0      0         0     0   \n",
       "1    0       0        0  ...      0           0      0      0         0     0   \n",
       "2    0       0        0  ...      0           0      0      0         0     0   \n",
       "3    0       0        0  ...      0           0      0      0         0     0   \n",
       "4    0       0        0  ...      0           0      0      0         0     0   \n",
       "\n",
       "   why  woman  women  Sub-task B  \n",
       "0    0      0      0           1  \n",
       "1    0      0      1           1  \n",
       "2    0      0      0           1  \n",
       "3    0      0      0           0  \n",
       "4    0      0      0           1  \n",
       "\n",
       "[5 rows x 66 columns]"
      ]
     },
     "execution_count": 35,
     "metadata": {},
     "output_type": "execute_result"
    }
   ],
   "source": [
    "train_df = pd.read_csv(\"../Data/eng_train_bow.csv\")\n",
    "test_df = pd.read_csv(\"../Data/eng_test_bow.csv\")\n",
    "X_train = train_df.drop(columns=[\"Y\"])\n",
    "Y_train = train_df[\"Y\"]\n",
    "X_test = test_df.drop(columns=[\"Y\"])\n",
    "Y_test = test_df[\"Y\"]\n",
    "X_train.head()"
   ]
  },
  {
   "cell_type": "code",
   "execution_count": 36,
   "metadata": {},
   "outputs": [],
   "source": [
    "scaler = MinMaxScaler()\n",
    "scaler.fit(X_train)\n",
    "scaler.partial_fit(X_test)\n",
    "X_train_tf = scaler.transform(X_train)\n",
    "X_test_tf = scaler.transform(X_test)"
   ]
  },
  {
   "cell_type": "code",
   "execution_count": 37,
   "metadata": {},
   "outputs": [],
   "source": [
    "def run_the_mn_models(model, X_train, X_test, Y_tr, Y_te):\n",
    "    X_train_text_df, X_test_text_df, y_train, y_test = X_train, X_test, Y_tr, Y_te\n",
    "    \n",
    "    if model == 'mnb1':\n",
    "        \n",
    "        mn_params = {\n",
    "            'fit_prior': [True],\n",
    "            'alpha': [0, 0.5, 1]}\n",
    "        \n",
    "        M = GridSearchCV(MultinomialNB(),\n",
    "                        mn_params,\n",
    "                        cv = 5,\n",
    "                        verbose = 1,\n",
    "                        n_jobs = -1)\n",
    "        \n",
    "    elif model == 'mnb2':\n",
    "        \n",
    "         mn_params = {\n",
    "            'fit_prior': [False],\n",
    "            'alpha': [0, 0.5, 1]}\n",
    "        \n",
    "         M = GridSearchCV(MultinomialNB(),\n",
    "                        mn_params,\n",
    "                        cv = 5,\n",
    "                        verbose = 1,\n",
    "                        n_jobs = -1)\n",
    "        \n",
    "    else:\n",
    "        print('There is an error.')\n",
    "        \n",
    "    M.fit(X_train_text_df, y_train)\n",
    "     \n",
    "    print(f'Train score = {M.score(X_train_text_df, y_train)}')\n",
    "    print(f'Test score = {M.score(X_test_text_df, y_test)}')\n",
    "    \n",
    "    predictions = M.predict(X_test_text_df)\n",
    "    predictions_train = M.predict(X_train_text_df)\n",
    "    print('--------')\n",
    "    print(skplt.plot_confusion_matrix(y_test, predictions))\n",
    "    print(f'Best params = {M.best_params_}')\n",
    "    print('----F1 Score, Recall, Precision----')\n",
    "    # print precision, recall, F1-score per each class/tag\n",
    "    print(classification_report(y_test, predictions))\n",
    "    \n",
    "#     #skplt.plot_roc_curve(predictions,y_test)\n",
    "#     print('----ROC AUC CURVE SCORE----')\n",
    "#     print(\"ROC AUC CURVE SCORE FOR TEST: \",roc_auc_score(y_test, predictions))\n",
    "#     print(\"ROC AUC CURVE SCORE FOR TRAIN: \",roc_auc_score(y_train, predictions_train))"
   ]
  },
  {
   "cell_type": "code",
   "execution_count": 38,
   "metadata": {},
   "outputs": [
    {
     "name": "stdout",
     "output_type": "stream",
     "text": [
      "Fitting 5 folds for each of 3 candidates, totalling 15 fits\n"
     ]
    },
    {
     "name": "stderr",
     "output_type": "stream",
     "text": [
      "[Parallel(n_jobs=-1)]: Using backend LokyBackend with 8 concurrent workers.\n",
      "[Parallel(n_jobs=-1)]: Done  15 out of  15 | elapsed:    0.3s finished\n"
     ]
    },
    {
     "name": "stdout",
     "output_type": "stream",
     "text": [
      "Train score = 0.6889064797014588\n",
      "Test score = 0.6812664907651715\n",
      "--------\n",
      "AxesSubplot(0.125,0.125;0.62x0.755)\n",
      "Best params = {'alpha': 1, 'fit_prior': True}\n",
      "----F1 Score, Recall, Precision----\n",
      "              precision    recall  f1-score   support\n",
      "\n",
      "         CAG       0.64      0.48      0.55      1290\n",
      "         NAG       0.65      0.86      0.74      1254\n",
      "         OAG       0.76      0.71      0.73      1246\n",
      "\n",
      "    accuracy                           0.68      3790\n",
      "   macro avg       0.68      0.68      0.67      3790\n",
      "weighted avg       0.68      0.68      0.67      3790\n",
      "\n"
     ]
    },
    {
     "data": {
      "image/png": "[encoded data removed]",
      "text/plain": [
       "<Figure size 432x288 with 2 Axes>"
      ]
     },
     "metadata": {
      "needs_background": "light"
     },
     "output_type": "display_data"
    }
   ],
   "source": [
    "run_the_mn_models(\"mnb1\", X_train_tf, X_test_tf, Y_train, Y_test)"
   ]
  },
  {
   "cell_type": "code",
   "execution_count": 39,
   "metadata": {},
   "outputs": [
    {
     "name": "stdout",
     "output_type": "stream",
     "text": [
      "Fitting 5 folds for each of 3 candidates, totalling 15 fits\n"
     ]
    },
    {
     "name": "stderr",
     "output_type": "stream",
     "text": [
      "[Parallel(n_jobs=-1)]: Using backend LokyBackend with 8 concurrent workers.\n",
      "[Parallel(n_jobs=-1)]: Done  15 out of  15 | elapsed:    0.4s finished\n"
     ]
    },
    {
     "name": "stdout",
     "output_type": "stream",
     "text": [
      "Train score = 0.6856270496437861\n",
      "Test score = 0.6817941952506597\n",
      "--------\n",
      "AxesSubplot(0.125,0.125;0.62x0.755)\n",
      "Best params = {'alpha': 1, 'fit_prior': False}\n",
      "----F1 Score, Recall, Precision----\n",
      "              precision    recall  f1-score   support\n",
      "\n",
      "         CAG       0.63      0.50      0.56      1290\n",
      "         NAG       0.66      0.86      0.75      1254\n",
      "         OAG       0.76      0.69      0.73      1246\n",
      "\n",
      "    accuracy                           0.68      3790\n",
      "   macro avg       0.68      0.68      0.68      3790\n",
      "weighted avg       0.68      0.68      0.68      3790\n",
      "\n"
     ]
    },
    {
     "data": {
      "image/png": "[encoded data removed]",
      "text/plain": [
       "<Figure size 432x288 with 2 Axes>"
      ]
     },
     "metadata": {
      "needs_background": "light"
     },
     "output_type": "display_data"
    }
   ],
   "source": [
    "run_the_mn_models(\"mnb2\", X_train_tf, X_test_tf, Y_train, Y_test)"
   ]
  },
  {
   "cell_type": "code",
   "execution_count": 40,
   "metadata": {},
   "outputs": [],
   "source": [
    "def run_the_lr_models(model, X_train, X_test, Y_tr, Y_te):\n",
    "    X_train_text_df, X_test_text_df, y_train, y_test = X_train, X_test, Y_tr, Y_te\n",
    "    \n",
    "    \n",
    "    if model == 'lr1':\n",
    "        \n",
    "        lr_1_params = {\n",
    "            'penalty': ['l1'],\n",
    "            'C': [1, 1.5, 2, 2.5],\n",
    "            'class_weight': ['balanced'],\n",
    "            'warm_start': [True, False],\n",
    "            'random_state': [42],\n",
    "            'solver': ['liblinear']}\n",
    "        \n",
    "        M = GridSearchCV(LogisticRegression(),\n",
    "                        lr_1_params,\n",
    "                        cv = 5,\n",
    "                        verbose = 1,\n",
    "                        n_jobs = -1)\n",
    "        \n",
    "    elif model == 'lr2':\n",
    "        \n",
    "        lr_2_params = {\n",
    "            'penalty': ['l2'],\n",
    "            'C': [1, 1.5, 2, 2.5],\n",
    "            'class_weight': ['balanced'],\n",
    "            'warm_start': [True, False],            \n",
    "            'random_state': [42],\n",
    "            'solver': ['lbfgs', 'liblinear']}\n",
    "        \n",
    "        M = GridSearchCV(LogisticRegression(),\n",
    "                        lr_2_params,\n",
    "                        cv = 5,\n",
    "                        verbose = 1,\n",
    "                        n_jobs = -1)\n",
    "\n",
    "    else:\n",
    "        print('There is an error.')\n",
    "        \n",
    "    M.fit(X_train_text_df.values, y_train)\n",
    "     \n",
    "    print(f'Train score = {M.score(X_train_text_df.values, y_train)}')\n",
    "    print(f'Test score = {M.score(X_test_text_df.values, y_test)}')\n",
    "    \n",
    "    predictions = M.predict(X_test_text_df.values)\n",
    "    predictions_train = M.predict(X_train_text_df.values)\n",
    "    print('--------')\n",
    "    print(skplt.plot_confusion_matrix(y_test, predictions))\n",
    "    print(f'Best params = {M.best_params_}')\n",
    "    print('----F1 Score, Recall, Precision----')\n",
    "    # print precision, recall, F1-score per each class/tag\n",
    "    print(classification_report(y_test, predictions))\n",
    "    \n",
    "#     print('----ROC AUC CURVE SCORE----')\n",
    "#     print(\"ROC AUC CURVE SCORE FOR TEST: \",roc_auc_score(y_test, predictions))\n",
    "#     print(\"ROC AUC CURVE SCORE FOR TRAIN: \",roc_auc_score(y_train, predictions_train))\n",
    "    \n",
    "#     print('----ROC AUC CURVE SCORE----')\n",
    "#     print(\"ROC AUC CURVE SCORE FOR TEST: \",roc_auc_score(y_test, predictions))\n",
    "#     print(\"ROC AUC CURVE SCORE FOR TRAIN: \",roc_auc_score(y_train, predictions_train))"
   ]
  },
  {
   "cell_type": "code",
   "execution_count": 41,
   "metadata": {},
   "outputs": [
    {
     "name": "stdout",
     "output_type": "stream",
     "text": [
      "Fitting 5 folds for each of 8 candidates, totalling 40 fits\n"
     ]
    },
    {
     "name": "stderr",
     "output_type": "stream",
     "text": [
      "[Parallel(n_jobs=-1)]: Using backend LokyBackend with 8 concurrent workers.\n",
      "[Parallel(n_jobs=-1)]: Done  40 out of  40 | elapsed:    1.8s finished\n"
     ]
    },
    {
     "name": "stdout",
     "output_type": "stream",
     "text": [
      "Train score = 0.8097930566549814\n",
      "Test score = 0.8126649076517151\n",
      "--------\n",
      "AxesSubplot(0.125,0.125;0.62x0.755)\n",
      "Best params = {'C': 1, 'class_weight': 'balanced', 'penalty': 'l1', 'random_state': 42, 'solver': 'liblinear', 'warm_start': True}\n",
      "----F1 Score, Recall, Precision----\n",
      "              precision    recall  f1-score   support\n",
      "\n",
      "         CAG       0.86      0.64      0.73      1290\n",
      "         NAG       0.82      0.95      0.88      1254\n",
      "         OAG       0.78      0.86      0.82      1246\n",
      "\n",
      "    accuracy                           0.81      3790\n",
      "   macro avg       0.82      0.81      0.81      3790\n",
      "weighted avg       0.82      0.81      0.81      3790\n",
      "\n"
     ]
    },
    {
     "data": {
      "image/png": "[encoded data removed]",
      "text/plain": [
       "<Figure size 432x288 with 2 Axes>"
      ]
     },
     "metadata": {
      "needs_background": "light"
     },
     "output_type": "display_data"
    }
   ],
   "source": [
    "run_the_lr_models(\"lr1\", X_train, X_test, Y_train, Y_test)"
   ]
  },
  {
   "cell_type": "code",
   "execution_count": 42,
   "metadata": {},
   "outputs": [
    {
     "name": "stdout",
     "output_type": "stream",
     "text": [
      "Fitting 5 folds for each of 16 candidates, totalling 80 fits\n"
     ]
    },
    {
     "name": "stderr",
     "output_type": "stream",
     "text": [
      "[Parallel(n_jobs=-1)]: Using backend LokyBackend with 8 concurrent workers.\n",
      "[Parallel(n_jobs=-1)]: Done  34 tasks      | elapsed:    3.1s\n",
      "[Parallel(n_jobs=-1)]: Done  80 out of  80 | elapsed:    6.5s finished\n"
     ]
    },
    {
     "name": "stdout",
     "output_type": "stream",
     "text": [
      "Train score = 0.8320705642881375\n",
      "Test score = 0.833509234828496\n",
      "--------\n",
      "AxesSubplot(0.125,0.125;0.62x0.755)\n",
      "Best params = {'C': 1.5, 'class_weight': 'balanced', 'penalty': 'l2', 'random_state': 42, 'solver': 'lbfgs', 'warm_start': True}\n",
      "----F1 Score, Recall, Precision----\n",
      "              precision    recall  f1-score   support\n",
      "\n",
      "         CAG       0.83      0.76      0.80      1290\n",
      "         NAG       0.81      0.86      0.84      1254\n",
      "         OAG       0.86      0.88      0.87      1246\n",
      "\n",
      "    accuracy                           0.83      3790\n",
      "   macro avg       0.83      0.83      0.83      3790\n",
      "weighted avg       0.83      0.83      0.83      3790\n",
      "\n"
     ]
    },
    {
     "data": {
      "image/png": "[encoded data removed]",
      "text/plain": [
       "<Figure size 432x288 with 2 Axes>"
      ]
     },
     "metadata": {
      "needs_background": "light"
     },
     "output_type": "display_data"
    }
   ],
   "source": [
    "run_the_lr_models(\"lr2\", X_train, X_test, Y_train, Y_test)"
   ]
  },
  {
   "cell_type": "code",
   "execution_count": 43,
   "metadata": {},
   "outputs": [],
   "source": [
    "def run_the_sv_models(model, X_train, X_test, Y_tr, Y_te):   \n",
    "    X_train_text_df, X_test_text_df, y_train, y_test = X_train, X_test, Y_tr, Y_te\n",
    "    \n",
    "    if model == 'sv1':\n",
    "        \n",
    "        sv_params = {\n",
    "            'kernel': ['rbf'], \n",
    "            'gamma': [1e-3, 1e-4],\n",
    "            'C': [1, 10, 100, 1000] }\n",
    "        \n",
    "        M = GridSearchCV(SVC(probability=True),\n",
    "                        sv_params,\n",
    "                        cv = 5,\n",
    "                        verbose = 1,\n",
    "                        n_jobs = -1)\n",
    "        \n",
    "    elif model == 'sv2':\n",
    "        \n",
    "        \n",
    "        sv_params = {\n",
    "            'kernel': ['rbf'], \n",
    "            'gamma': [0.01, 1, 10, 100],\n",
    "            'C': [1, 10, 100, 1000] }\n",
    "\n",
    "        M = GridSearchCV(SVC(probability=True),\n",
    "                        sv_params,\n",
    "                        cv = 5,\n",
    "                        verbose = 1,\n",
    "                        n_jobs = -1)\n",
    "        \n",
    "    else:\n",
    "        print(\"Invalid Model!\")\n",
    "        \n",
    "    M.fit(X_train_text_df.values, y_train)\n",
    "      \n",
    "    #save in pickle file\n",
    "    joblib.dump(M, \"SVM_TFIDF.pkl\")\n",
    "     \n",
    "    print(f'Train score = {M.score(X_train_text_df.values, y_train)}')\n",
    "    print(f'Test score = {M.score(X_test_text_df.values, y_test)}')\n",
    "    \n",
    "    predictions = M.predict(X_test_text_df.values)\n",
    "    predictions_train = M.predict(X_train_text_df.values)\n",
    "    \n",
    "    print('--------')\n",
    "    print(skplt.plot_confusion_matrix(y_test, predictions))\n",
    "    print(f'Best params = {M.best_params_}')\n",
    "    print('----F1 Score, Recall, Precision----')\n",
    "    # print precision, recall, F1-score per each class/tag\n",
    "    print(classification_report(y_test, predictions))\n",
    "#     print('----ROC AUC CURVE SCORE----')\n",
    "#     print(\"ROC AUC CURVE SCORE FOR TEST: \",roc_auc_score(y_test, predictions))\n",
    "#     print(\"ROC AUC CURVE SCORE FOR TRAIN: \",roc_auc_score(y_train, predictions_train))"
   ]
  },
  {
   "cell_type": "code",
   "execution_count": 44,
   "metadata": {},
   "outputs": [
    {
     "name": "stdout",
     "output_type": "stream",
     "text": [
      "Fitting 5 folds for each of 8 candidates, totalling 40 fits\n"
     ]
    },
    {
     "name": "stderr",
     "output_type": "stream",
     "text": [
      "[Parallel(n_jobs=-1)]: Using backend LokyBackend with 8 concurrent workers.\n",
      "[Parallel(n_jobs=-1)]: Done  40 out of  40 | elapsed: 35.5min finished\n"
     ]
    },
    {
     "name": "stdout",
     "output_type": "stream",
     "text": [
      "Train score = 0.9241207734931585\n",
      "Test score = 0.9121372031662269\n",
      "--------\n",
      "AxesSubplot(0.125,0.125;0.62x0.755)\n",
      "Best params = {'C': 1000, 'gamma': 0.0001, 'kernel': 'rbf'}\n",
      "----F1 Score, Recall, Precision----\n",
      "              precision    recall  f1-score   support\n",
      "\n",
      "         CAG       1.00      0.86      0.92      1290\n",
      "         NAG       0.79      0.99      0.88      1254\n",
      "         OAG       1.00      0.88      0.93      1246\n",
      "\n",
      "    accuracy                           0.91      3790\n",
      "   macro avg       0.93      0.91      0.91      3790\n",
      "weighted avg       0.93      0.91      0.91      3790\n",
      "\n"
     ]
    },
    {
     "data": {
      "image/png": "[encoded data removed]",
      "text/plain": [
       "<Figure size 432x288 with 2 Axes>"
      ]
     },
     "metadata": {
      "needs_background": "light"
     },
     "output_type": "display_data"
    }
   ],
   "source": [
    "run_the_sv_models(\"sv1\", X_train, X_test, Y_train, Y_test)"
   ]
  },
  {
   "cell_type": "code",
   "execution_count": 45,
   "metadata": {},
   "outputs": [
    {
     "name": "stdout",
     "output_type": "stream",
     "text": [
      "Fitting 5 folds for each of 16 candidates, totalling 80 fits\n"
     ]
    },
    {
     "name": "stderr",
     "output_type": "stream",
     "text": [
      "[Parallel(n_jobs=-1)]: Using backend LokyBackend with 8 concurrent workers.\n",
      "[Parallel(n_jobs=-1)]: Done  34 tasks      | elapsed: 18.4min\n",
      "[Parallel(n_jobs=-1)]: Done  80 out of  80 | elapsed: 37.3min finished\n"
     ]
    },
    {
     "name": "stdout",
     "output_type": "stream",
     "text": [
      "Train score = 0.911342304647744\n",
      "Test score = 0.9116094986807388\n",
      "--------\n",
      "AxesSubplot(0.125,0.125;0.62x0.755)\n",
      "Best params = {'C': 1, 'gamma': 0.01, 'kernel': 'rbf'}\n",
      "----F1 Score, Recall, Precision----\n",
      "              precision    recall  f1-score   support\n",
      "\n",
      "         CAG       1.00      0.86      0.92      1290\n",
      "         NAG       0.79      1.00      0.88      1254\n",
      "         OAG       1.00      0.88      0.94      1246\n",
      "\n",
      "    accuracy                           0.91      3790\n",
      "   macro avg       0.93      0.91      0.91      3790\n",
      "weighted avg       0.93      0.91      0.91      3790\n",
      "\n"
     ]
    },
    {
     "data": {
      "image/png": "[encoded data removed]",
      "text/plain": [
       "<Figure size 432x288 with 2 Axes>"
      ]
     },
     "metadata": {
      "needs_background": "light"
     },
     "output_type": "display_data"
    }
   ],
   "source": [
    "run_the_sv_models(\"sv2\", X_train, X_test, Y_train, Y_test)"
   ]
  }
 ],
 "metadata": {
  "kernelspec": {
   "display_name": "Python 3",
   "language": "python",
   "name": "python3"
  },
  "language_info": {
   "codemirror_mode": {
    "name": "ipython",
    "version": 3
   },
   "file_extension": ".py",
   "mimetype": "text/x-python",
   "name": "python",
   "nbconvert_exporter": "python",
   "pygments_lexer": "ipython3",
   "version": "3.7.6"
  }
 },
 "nbformat": 4,
 "nbformat_minor": 2
}
