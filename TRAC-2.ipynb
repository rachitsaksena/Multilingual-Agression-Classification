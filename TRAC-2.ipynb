{
 "cells": [
  {
   "cell_type": "code",
   "execution_count": 40,
   "metadata": {},
   "outputs": [
    {
     "name": "stdout",
     "output_type": "stream",
     "text": [
      "shell-init: error retrieving current directory: getcwd: cannot access parent directories: Operation not permitted\n",
      "zsh: can't open input file: push.sh\n"
     ]
    }
   ],
   "source": [
    "!bash push.sh"
   ]
  },
  {
   "cell_type": "code",
   "execution_count": 21,
   "metadata": {},
   "outputs": [],
   "source": [
    "import pandas as pd\n",
    "import seaborn as sns\n",
    "import matplotlib.pyplot as plt"
   ]
  },
  {
   "cell_type": "code",
   "execution_count": 23,
   "metadata": {},
   "outputs": [
    {
     "data": {
      "text/html": [
       "<div>\n",
       "<style scoped>\n",
       "    .dataframe tbody tr th:only-of-type {\n",
       "        vertical-align: middle;\n",
       "    }\n",
       "\n",
       "    .dataframe tbody tr th {\n",
       "        vertical-align: top;\n",
       "    }\n",
       "\n",
       "    .dataframe thead th {\n",
       "        text-align: right;\n",
       "    }\n",
       "</style>\n",
       "<table border=\"1\" class=\"dataframe\">\n",
       "  <thead>\n",
       "    <tr style=\"text-align: right;\">\n",
       "      <th></th>\n",
       "      <th>ID</th>\n",
       "      <th>Text</th>\n",
       "      <th>Sub-task A</th>\n",
       "      <th>Sub-task B</th>\n",
       "    </tr>\n",
       "  </thead>\n",
       "  <tbody>\n",
       "    <tr>\n",
       "      <th>872</th>\n",
       "      <td>C68.56.4</td>\n",
       "      <td>Of course why not</td>\n",
       "      <td>NAG</td>\n",
       "      <td>NGEN</td>\n",
       "    </tr>\n",
       "    <tr>\n",
       "      <th>1113</th>\n",
       "      <td>C4.1995</td>\n",
       "      <td>Best line of this video is\\n[4:20](https://www...</td>\n",
       "      <td>NAG</td>\n",
       "      <td>NGEN</td>\n",
       "    </tr>\n",
       "    <tr>\n",
       "      <th>237</th>\n",
       "      <td>C7.1224</td>\n",
       "      <td>Bhai good analysis</td>\n",
       "      <td>NAG</td>\n",
       "      <td>NGEN</td>\n",
       "    </tr>\n",
       "    <tr>\n",
       "      <th>4062</th>\n",
       "      <td>C33.497</td>\n",
       "      <td>Fuck off... Don't u day dare spread homophobia...</td>\n",
       "      <td>OAG</td>\n",
       "      <td>GEN</td>\n",
       "    </tr>\n",
       "    <tr>\n",
       "      <th>2426</th>\n",
       "      <td>C7.927</td>\n",
       "      <td>Next role of preeti Is for pratik..</td>\n",
       "      <td>NAG</td>\n",
       "      <td>NGEN</td>\n",
       "    </tr>\n",
       "  </tbody>\n",
       "</table>\n",
       "</div>"
      ],
      "text/plain": [
       "            ID                                               Text Sub-task A  \\\n",
       "872   C68.56.4                                  Of course why not        NAG   \n",
       "1113   C4.1995  Best line of this video is\\n[4:20](https://www...        NAG   \n",
       "237    C7.1224                                 Bhai good analysis        NAG   \n",
       "4062   C33.497  Fuck off... Don't u day dare spread homophobia...        OAG   \n",
       "2426    C7.927                Next role of preeti Is for pratik..        NAG   \n",
       "\n",
       "     Sub-task B  \n",
       "872        NGEN  \n",
       "1113       NGEN  \n",
       "237        NGEN  \n",
       "4062        GEN  \n",
       "2426       NGEN  "
      ]
     },
     "execution_count": 23,
     "metadata": {},
     "output_type": "execute_result"
    }
   ],
   "source": [
    "eng_train = pd.read_csv('trac2_eng_train.csv')\n",
    "eng_train.sample(5)"
   ]
  },
  {
   "cell_type": "code",
   "execution_count": 22,
   "metadata": {},
   "outputs": [
    {
     "name": "stdout",
     "output_type": "stream",
     "text": [
      "<class 'pandas.core.frame.DataFrame'>\n",
      "RangeIndex: 4263 entries, 0 to 4262\n",
      "Data columns (total 4 columns):\n",
      "ID            4263 non-null object\n",
      "Text          4263 non-null object\n",
      "Sub-task A    4263 non-null object\n",
      "Sub-task B    4263 non-null object\n",
      "dtypes: object(4)\n",
      "memory usage: 133.3+ KB\n"
     ]
    }
   ],
   "source": [
    "eng_train.info() # no null enteries"
   ]
  },
  {
   "cell_type": "code",
   "execution_count": 13,
   "metadata": {},
   "outputs": [
    {
     "data": {
      "text/plain": [
       "('feminism means equality not discrimination first you should learn about this\\ngo and study about feminism.',\n",
       " 'OAG')"
      ]
     },
     "execution_count": 13,
     "metadata": {},
     "output_type": "execute_result"
    }
   ],
   "source": [
    "eng_train.iloc[28].Text, eng_train.iloc[28]['Sub-task A'] "
   ]
  },
  {
   "cell_type": "code",
   "execution_count": 24,
   "metadata": {},
   "outputs": [
    {
     "data": {
      "text/html": [
       "<div>\n",
       "<style scoped>\n",
       "    .dataframe tbody tr th:only-of-type {\n",
       "        vertical-align: middle;\n",
       "    }\n",
       "\n",
       "    .dataframe tbody tr th {\n",
       "        vertical-align: top;\n",
       "    }\n",
       "\n",
       "    .dataframe thead th {\n",
       "        text-align: right;\n",
       "    }\n",
       "</style>\n",
       "<table border=\"1\" class=\"dataframe\">\n",
       "  <thead>\n",
       "    <tr style=\"text-align: right;\">\n",
       "      <th></th>\n",
       "      <th>ID</th>\n",
       "      <th>Text</th>\n",
       "      <th>Sub-task A</th>\n",
       "      <th>Sub-task B</th>\n",
       "    </tr>\n",
       "  </thead>\n",
       "  <tbody>\n",
       "    <tr>\n",
       "      <th>2082</th>\n",
       "      <td>C10.227</td>\n",
       "      <td>This woman is terror for any country 🤔 she don...</td>\n",
       "      <td>NAG</td>\n",
       "      <td>NGEN</td>\n",
       "    </tr>\n",
       "    <tr>\n",
       "      <th>1805</th>\n",
       "      <td>C33.778.2</td>\n",
       "      <td>@b bro I agree with u bro👍</td>\n",
       "      <td>NAG</td>\n",
       "      <td>NGEN</td>\n",
       "    </tr>\n",
       "    <tr>\n",
       "      <th>3924</th>\n",
       "      <td>C7.763</td>\n",
       "      <td>Cultural values are subjective... liberty stan...</td>\n",
       "      <td>NAG</td>\n",
       "      <td>NGEN</td>\n",
       "    </tr>\n",
       "    <tr>\n",
       "      <th>2170</th>\n",
       "      <td>C26.208</td>\n",
       "      <td>salute for him</td>\n",
       "      <td>NAG</td>\n",
       "      <td>NGEN</td>\n",
       "    </tr>\n",
       "    <tr>\n",
       "      <th>4243</th>\n",
       "      <td>C10.459</td>\n",
       "      <td>Absolutely, how the hell can she do this here ...</td>\n",
       "      <td>NAG</td>\n",
       "      <td>NGEN</td>\n",
       "    </tr>\n",
       "  </tbody>\n",
       "</table>\n",
       "</div>"
      ],
      "text/plain": [
       "             ID                                               Text Sub-task A  \\\n",
       "2082    C10.227  This woman is terror for any country 🤔 she don...        NAG   \n",
       "1805  C33.778.2                         @b bro I agree with u bro👍        NAG   \n",
       "3924     C7.763  Cultural values are subjective... liberty stan...        NAG   \n",
       "2170    C26.208                                     salute for him        NAG   \n",
       "4243    C10.459  Absolutely, how the hell can she do this here ...        NAG   \n",
       "\n",
       "     Sub-task B  \n",
       "2082       NGEN  \n",
       "1805       NGEN  \n",
       "3924       NGEN  \n",
       "2170       NGEN  \n",
       "4243       NGEN  "
      ]
     },
     "execution_count": 24,
     "metadata": {},
     "output_type": "execute_result"
    }
   ],
   "source": [
    "eng_train[eng_train['Sub-task A'] == 'NAG'].sample(5)"
   ]
  },
  {
   "cell_type": "code",
   "execution_count": 32,
   "metadata": {},
   "outputs": [
    {
     "data": {
      "text/plain": [
       "NAG    3375\n",
       "CAG     453\n",
       "OAG     435\n",
       "Name: Sub-task A, dtype: int64"
      ]
     },
     "execution_count": 32,
     "metadata": {},
     "output_type": "execute_result"
    },
    {
     "data": {
      "image/png": "[encoded data removed]",
      "text/plain": [
       "<Figure size 1440x360 with 1 Axes>"
      ]
     },
     "metadata": {},
     "output_type": "display_data"
    }
   ],
   "source": [
    "def barplot(df, x, y, title, label, ylabel, dim, orient = \"v\", ci = False, hue = None):\n",
    "    \n",
    "    plt.figure(figsize = dim, facecolor = \"white\")\n",
    "    sns.barplot(x = x, y = y, data = df, orient = orient, ci = ci, hue = hue)\n",
    "    plt.title(f\"{title}\", size = 18)\n",
    "    plt.xlabel(f\"{label}\", size = 16)\n",
    "    plt.ylabel(f\"{ylabel}\", size = 16)\n",
    "    plt.xticks(size = 14)\n",
    "    plt.yticks(size = 14)\n",
    "    plt.tight_layout();\n",
    "    \n",
    "\n",
    "df = (eng_train.set_index(['ID', 'Sub-task A']).count(level='Sub-task A'))\n",
    "\n",
    "barplot(df = df,\n",
    "        x = df.index,\n",
    "        y = \"Text\",\n",
    "        title = \"Distribution of Classes\",\n",
    "        label = \"Aggression Annotation\",\n",
    "        ylabel = \"Count\",\n",
    "        dim = (20,5))\n",
    "\n",
    "eng_train['Sub-task A'].value_counts()"
   ]
  }
 ],
 "metadata": {
  "kernelspec": {
   "display_name": "Python 3",
   "language": "python",
   "name": "python3"
  },
  "language_info": {
   "codemirror_mode": {
    "name": "ipython",
    "version": 3
   },
   "file_extension": ".py",
   "mimetype": "text/x-python",
   "name": "python",
   "nbconvert_exporter": "python",
   "pygments_lexer": "ipython3",
   "version": "3.6.8"
  }
 },
 "nbformat": 4,
 "nbformat_minor": 2
}
