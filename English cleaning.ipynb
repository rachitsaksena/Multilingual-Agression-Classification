{
 "cells": [
  {
   "cell_type": "markdown",
   "metadata": {},
   "source": [
    "# EDA, Data Visualization, and Feature Engineering"
   ]
  },
  {
   "cell_type": "code",
   "execution_count": 1,
   "metadata": {},
   "outputs": [],
   "source": [
    "# !bash push.sh"
   ]
  },
  {
   "cell_type": "code",
   "execution_count": 2,
   "metadata": {
    "scrolled": true
   },
   "outputs": [],
   "source": [
    "# !python -m spacy download en_core_web_sm"
   ]
  },
  {
   "cell_type": "markdown",
   "metadata": {},
   "source": [
    "## IMPORTS"
   ]
  },
  {
   "cell_type": "code",
   "execution_count": 3,
   "metadata": {},
   "outputs": [],
   "source": [
    "import requests\n",
    "import pandas                        as pd\n",
    "import numpy                         as np\n",
    "\n",
    "import seaborn                       as sns\n",
    "import matplotlib.pyplot             as plt\n",
    "from wordcloud                       import WordCloud, STOPWORDS \n",
    "\n",
    "from googletrans                     import Translator\n",
    "translator = Translator()\n",
    "from spellchecker                    import SpellChecker\n",
    "spellcheck = SpellChecker()\n",
    "\n",
    "import spacy\n",
    "nlp = spacy.load('en_core_web_sm')\n",
    "import nltk\n",
    "from nltk.tokenize                   import TweetTokenizer\n",
    "from nltk.corpus                     import stopwords\n",
    "import sklearn\n",
    "from sklearn.feature_extraction.text import TfidfVectorizer, CountVectorizer\n",
    "cvec = CountVectorizer()\n",
    "import re\n",
    "tokenizer = TweetTokenizer(preserve_case = True, strip_handles = True)\n",
    "\n",
    "import time\n",
    "import warnings\n",
    "warnings.filterwarnings(\"ignore\", category = DeprecationWarning)"
   ]
  },
  {
   "cell_type": "code",
   "execution_count": 4,
   "metadata": {},
   "outputs": [
    {
     "data": {
      "text/html": [
       "<div>\n",
       "<style scoped>\n",
       "    .dataframe tbody tr th:only-of-type {\n",
       "        vertical-align: middle;\n",
       "    }\n",
       "\n",
       "    .dataframe tbody tr th {\n",
       "        vertical-align: top;\n",
       "    }\n",
       "\n",
       "    .dataframe thead th {\n",
       "        text-align: right;\n",
       "    }\n",
       "</style>\n",
       "<table border=\"1\" class=\"dataframe\">\n",
       "  <thead>\n",
       "    <tr style=\"text-align: right;\">\n",
       "      <th></th>\n",
       "      <th>ID</th>\n",
       "      <th>Text</th>\n",
       "      <th>Sub-task A</th>\n",
       "      <th>Sub-task B</th>\n",
       "    </tr>\n",
       "  </thead>\n",
       "  <tbody>\n",
       "    <tr>\n",
       "      <th>1339</th>\n",
       "      <td>C7.596.2</td>\n",
       "      <td>Similarly liberals also should stop bashing ev...</td>\n",
       "      <td>CAG</td>\n",
       "      <td>NGEN</td>\n",
       "    </tr>\n",
       "    <tr>\n",
       "      <th>1044</th>\n",
       "      <td>C33.417</td>\n",
       "      <td>Any lesbian here for me.... Yea am a man...i t...</td>\n",
       "      <td>NAG</td>\n",
       "      <td>NGEN</td>\n",
       "    </tr>\n",
       "    <tr>\n",
       "      <th>856</th>\n",
       "      <td>C4.341</td>\n",
       "      <td>Best line 4.20 nationalism mein bhi cash cow</td>\n",
       "      <td>NAG</td>\n",
       "      <td>NGEN</td>\n",
       "    </tr>\n",
       "    <tr>\n",
       "      <th>1288</th>\n",
       "      <td>C7.504</td>\n",
       "      <td>Two wrongs dont make a right... Just because n...</td>\n",
       "      <td>OAG</td>\n",
       "      <td>NGEN</td>\n",
       "    </tr>\n",
       "    <tr>\n",
       "      <th>4063</th>\n",
       "      <td>C59.424.1</td>\n",
       "      <td>Your acting</td>\n",
       "      <td>NAG</td>\n",
       "      <td>NGEN</td>\n",
       "    </tr>\n",
       "  </tbody>\n",
       "</table>\n",
       "</div>"
      ],
      "text/plain": [
       "             ID                                               Text Sub-task A  \\\n",
       "1339   C7.596.2  Similarly liberals also should stop bashing ev...        CAG   \n",
       "1044    C33.417  Any lesbian here for me.... Yea am a man...i t...        NAG   \n",
       "856      C4.341       Best line 4.20 nationalism mein bhi cash cow        NAG   \n",
       "1288     C7.504  Two wrongs dont make a right... Just because n...        OAG   \n",
       "4063  C59.424.1                                        Your acting        NAG   \n",
       "\n",
       "     Sub-task B  \n",
       "1339       NGEN  \n",
       "1044       NGEN  \n",
       "856        NGEN  \n",
       "1288       NGEN  \n",
       "4063       NGEN  "
      ]
     },
     "execution_count": 4,
     "metadata": {},
     "output_type": "execute_result"
    }
   ],
   "source": [
    "eng_train = pd.read_csv('Data/trac2_eng_train.csv')\n",
    "eng_train.sample(5)"
   ]
  },
  {
   "cell_type": "code",
   "execution_count": 5,
   "metadata": {},
   "outputs": [],
   "source": [
    "classes = ['NAG', 'CAG', 'OAG'] # Dependant variable"
   ]
  },
  {
   "cell_type": "markdown",
   "metadata": {},
   "source": [
    "### Null / Duplicate Entries"
   ]
  },
  {
   "cell_type": "code",
   "execution_count": 6,
   "metadata": {},
   "outputs": [
    {
     "name": "stdout",
     "output_type": "stream",
     "text": [
      "<class 'pandas.core.frame.DataFrame'>\n",
      "RangeIndex: 4263 entries, 0 to 4262\n",
      "Data columns (total 4 columns):\n",
      " #   Column      Non-Null Count  Dtype \n",
      "---  ------      --------------  ----- \n",
      " 0   ID          4263 non-null   object\n",
      " 1   Text        4263 non-null   object\n",
      " 2   Sub-task A  4263 non-null   object\n",
      " 3   Sub-task B  4263 non-null   object\n",
      "dtypes: object(4)\n",
      "memory usage: 133.3+ KB\n"
     ]
    }
   ],
   "source": [
    "eng_train.info() # no null enteries"
   ]
  },
  {
   "cell_type": "code",
   "execution_count": 7,
   "metadata": {},
   "outputs": [
    {
     "data": {
      "text/plain": [
       "{False}"
      ]
     },
     "execution_count": 7,
     "metadata": {},
     "output_type": "execute_result"
    }
   ],
   "source": [
    "set(eng_train.duplicated().tolist()) # no duplicates"
   ]
  },
  {
   "cell_type": "markdown",
   "metadata": {},
   "source": [
    "### Class Balance"
   ]
  },
  {
   "cell_type": "code",
   "execution_count": 8,
   "metadata": {},
   "outputs": [],
   "source": [
    "def barplot(df, x, y, title, label, ylabel, dim, orient = \"v\", ci = False, hue = None):\n",
    "    \n",
    "    plt.figure(figsize = dim, facecolor = \"white\")\n",
    "    sns.barplot(x = x, y = y, data = df, orient = orient, ci = ci, hue = hue)\n",
    "    plt.title(f\"{title}\", size = 18)\n",
    "    plt.xlabel(f\"{label}\", size = 16)\n",
    "    plt.ylabel(f\"{ylabel}\", size = 16)\n",
    "    plt.xticks(size = 14)\n",
    "    plt.yticks(size = 14)\n",
    "    plt.tight_layout();"
   ]
  },
  {
   "cell_type": "code",
   "execution_count": 9,
   "metadata": {},
   "outputs": [
    {
     "data": {
      "text/plain": [
       "NAG    3375\n",
       "CAG     453\n",
       "OAG     435\n",
       "Name: Sub-task A, dtype: int64"
      ]
     },
     "execution_count": 9,
     "metadata": {},
     "output_type": "execute_result"
    },
    {
     "data": {
      "image/png": "[encoded data removed]",
      "text/plain": [
       "<Figure size 1440x360 with 1 Axes>"
      ]
     },
     "metadata": {},
     "output_type": "display_data"
    }
   ],
   "source": [
    "taskA_df = (eng_train.set_index(['ID', 'Sub-task A']).count(level='Sub-task A'))\n",
    "\n",
    "barplot(df = taskA_df,\n",
    "        x = taskA_df.index,\n",
    "        y = \"Text\",\n",
    "        title = \"Distribution of Classes\",\n",
    "        label = \"Aggression Annotation\",\n",
    "        ylabel = \"Count\",\n",
    "        dim = (20, 5))\n",
    "\n",
    "eng_train['Sub-task A'].value_counts()"
   ]
  },
  {
   "cell_type": "code",
   "execution_count": 10,
   "metadata": {},
   "outputs": [
    {
     "data": {
      "text/plain": [
       "NGEN    3954\n",
       "GEN      309\n",
       "Name: Sub-task B, dtype: int64"
      ]
     },
     "execution_count": 10,
     "metadata": {},
     "output_type": "execute_result"
    },
    {
     "data": {
      "image/png": "[encoded data removed]",
      "text/plain": [
       "<Figure size 1440x360 with 1 Axes>"
      ]
     },
     "metadata": {},
     "output_type": "display_data"
    }
   ],
   "source": [
    "taskB_df = (eng_train.set_index(['ID', 'Sub-task B']).count(level='Sub-task B'))\n",
    "\n",
    "barplot(df = taskB_df,\n",
    "        x = taskB_df.index,\n",
    "        y = \"Text\",\n",
    "        title = \"Distribution of Classes\",\n",
    "        label = \"Misogyny Annotation\",\n",
    "        ylabel = \"Count\",\n",
    "        dim = (20, 5))\n",
    "\n",
    "eng_train['Sub-task B'].value_counts()"
   ]
  },
  {
   "cell_type": "markdown",
   "metadata": {},
   "source": [
    "## DATA CLEANING & NORMALIZATION"
   ]
  },
  {
   "cell_type": "markdown",
   "metadata": {},
   "source": [
    "### Part-of-Speech Distribution"
   ]
  },
  {
   "cell_type": "code",
   "execution_count": 11,
   "metadata": {},
   "outputs": [],
   "source": [
    "def POS(df, attribute):\n",
    "    total_tokens = []\n",
    "    freq = {}\n",
    "    for text in df[attribute]:\n",
    "        doc = nlp(text)\n",
    "        tokens = []\n",
    "        for word in doc:\n",
    "            pos = word.pos_\n",
    "            if (pos in freq): \n",
    "                freq[pos] += 1\n",
    "            else: \n",
    "                freq[pos] = 1\n",
    "            tokens.append(pos)\n",
    "\n",
    "        total_tokens.append(tokens)\n",
    "    pos_df = pd.DataFrame({'POS': list(freq.keys()), 'Frequency':list(freq.values())})\n",
    "    return pos_df"
   ]
  },
  {
   "cell_type": "code",
   "execution_count": 12,
   "metadata": {},
   "outputs": [
    {
     "name": "stdout",
     "output_type": "stream",
     "text": [
      "      POS  Frequency\n",
      "0     ADJ       5849\n",
      "1    NOUN      15118\n",
      "2       X        783\n",
      "3   SPACE       4237\n",
      "4   PROPN       8739\n",
      "5   PUNCT       8672\n",
      "6    VERB       9851\n",
      "7    PRON       6318\n",
      "8     ADP       5727\n",
      "9   SCONJ       1536\n",
      "10    DET       7262\n",
      "11    AUX       4990\n",
      "12  CCONJ       2422\n",
      "13   PART       2262\n",
      "14    ADV       4292\n",
      "15   INTJ        734\n",
      "16    NUM        845\n",
      "17    SYM        259\n",
      "\n",
      "Part-of-speech tagging counts for combined corpus\n"
     ]
    },
    {
     "data": {
      "text/plain": [
       "<matplotlib.axes._subplots.AxesSubplot at 0x7f60038d9dd0>"
      ]
     },
     "execution_count": 12,
     "metadata": {},
     "output_type": "execute_result"
    },
    {
     "data": {
      "image/png": "[encoded data removed]",
      "text/plain": [
       "<Figure size 1296x360 with 1 Axes>"
      ]
     },
     "metadata": {
      "needs_background": "light"
     },
     "output_type": "display_data"
    }
   ],
   "source": [
    "pos_df = POS(eng_train, 'Text')\n",
    "print(pos_df)\n",
    "print('\\nPart-of-speech tagging counts for combined corpus')\n",
    "pos_df.plot.bar(x ='POS', y ='Frequency', rot = 0, figsize=(18,5))"
   ]
  },
  {
   "cell_type": "markdown",
   "metadata": {},
   "source": [
    "### List of transliterated proper nouns (PROPN) in the corpus"
   ]
  },
  {
   "cell_type": "code",
   "execution_count": 13,
   "metadata": {},
   "outputs": [],
   "source": [
    "def transliteration_list(df):\n",
    "    propn = []\n",
    "    for text in df['Text']:\n",
    "        doc = nlp(text)\n",
    "        for word in doc:\n",
    "            pos = word.pos_\n",
    "            if (pos == 'PROPN'): \n",
    "                propn.append(word.text)\n",
    "            else: \n",
    "                continue\n",
    "    return propn"
   ]
  },
  {
   "cell_type": "code",
   "execution_count": 14,
   "metadata": {},
   "outputs": [],
   "source": [
    "propn = transliteration_list(eng_train)"
   ]
  },
  {
   "cell_type": "markdown",
   "metadata": {},
   "source": [
    "### Stopwords"
   ]
  },
  {
   "cell_type": "code",
   "execution_count": 15,
   "metadata": {},
   "outputs": [],
   "source": [
    "def fetch_stopwords(url):\n",
    "    stop = pd.read_csv(url, sep='\\n', header=0, names=['words'])\n",
    "    stop = stop['words'].values.tolist()\n",
    "    return stop"
   ]
  },
  {
   "cell_type": "code",
   "execution_count": 18,
   "metadata": {
    "scrolled": true
   },
   "outputs": [],
   "source": [
    "# from stopwordsiso import stopwords\n",
    "# bangla_stopwords = stopwords('bn')\n",
    "\n",
    "hinglish_stopwords = fetch_stopwords('https://raw.githubusercontent.com/TrigonaMinima/HinglishNLP/master/data/assets/stop_hinglish')\n",
    "english_stopwords = set(stopwords.words('english') + hinglish_stopwords)\n",
    "hindi_stopwords = set(fetch_stopwords('https://raw.githubusercontent.com/TrigonaMinima/HinglishNLP/master/data/assets/stop_hindi'))\n",
    "bangla_stopwords = set(fetch_stopwords('https://raw.githubusercontent.com/rachitsaksena/Multilingual-Agression-Classification/master/bangla%20stop.txt'))"
   ]
  },
  {
   "cell_type": "code",
   "execution_count": 19,
   "metadata": {},
   "outputs": [],
   "source": [
    "stop_dict = {'en': english_stopwords,\n",
    "             'hi': hindi_stopwords,\n",
    "             'bn': bangla_stopwords}"
   ]
  },
  {
   "cell_type": "markdown",
   "metadata": {},
   "source": [
    "### Emoji and Special Character Removal"
   ]
  },
  {
   "cell_type": "code",
   "execution_count": 20,
   "metadata": {},
   "outputs": [],
   "source": [
    "def deEmojify(string):\n",
    "    emoji_pattern = re.compile(\"[\"\n",
    "                           u\"\\U0001F600-\\U0001F64F\"  # emoticons\n",
    "                           u\"\\U0001F300-\\U0001F5FF\"  # symbols & pictographs\n",
    "                           u\"\\U0001F680-\\U0001F6FF\"  # transport & map symbols\n",
    "                           u\"\\U0001F1E0-\\U0001F1FF\"  # flags (iOS)\n",
    "                           u\"\\U00002702-\\U000027B0\"\n",
    "                           u\"\\U000024C2-\\U0001F251\"\n",
    "                           u\"\\U0001F923\"\n",
    "                           \"]+\", flags=re.UNICODE)\n",
    "    return emoji_pattern.sub(r'', string)"
   ]
  },
  {
   "cell_type": "code",
   "execution_count": 21,
   "metadata": {},
   "outputs": [],
   "source": [
    "def clean_text(df, lang):\n",
    "    stop_words = stop_dict[lang]\n",
    "    df['clean text'] = df['Text']\n",
    "    for i in range(df.shape[0]):\n",
    "        sentence = df['Text'].iloc[i]\n",
    "        sentence = deEmojify(sentence)\n",
    "        sentence = re.sub(r\"([.!?])\", r\"\\1 \", sentence)\n",
    "        sentence = re.sub(r'[/(){}\\[\\]\\|@,;:.]', r'', str(sentence))\n",
    "#         sentence = re.sub(r\"[^a-z]+\", r\" \", sentence)\n",
    "        sentence = ' '.join(word.lower() for word in sentence.split() if word not in stop_words and len(word)>2)\n",
    "        df['clean text'].iloc[i] = sentence\n",
    "    df['tokenized'] = [tokenizer.tokenize(text) for text in df['clean text']]\n",
    "    return df"
   ]
  },
  {
   "cell_type": "code",
   "execution_count": 22,
   "metadata": {},
   "outputs": [
    {
     "data": {
      "text/html": [
       "<div>\n",
       "<style scoped>\n",
       "    .dataframe tbody tr th:only-of-type {\n",
       "        vertical-align: middle;\n",
       "    }\n",
       "\n",
       "    .dataframe tbody tr th {\n",
       "        vertical-align: top;\n",
       "    }\n",
       "\n",
       "    .dataframe thead th {\n",
       "        text-align: right;\n",
       "    }\n",
       "</style>\n",
       "<table border=\"1\" class=\"dataframe\">\n",
       "  <thead>\n",
       "    <tr style=\"text-align: right;\">\n",
       "      <th></th>\n",
       "      <th>ID</th>\n",
       "      <th>Text</th>\n",
       "      <th>Sub-task A</th>\n",
       "      <th>Sub-task B</th>\n",
       "      <th>clean text</th>\n",
       "      <th>tokenized</th>\n",
       "    </tr>\n",
       "  </thead>\n",
       "  <tbody>\n",
       "    <tr>\n",
       "      <th>0</th>\n",
       "      <td>C45.451</td>\n",
       "      <td>Next part</td>\n",
       "      <td>NAG</td>\n",
       "      <td>NGEN</td>\n",
       "      <td>next part</td>\n",
       "      <td>[next, part]</td>\n",
       "    </tr>\n",
       "    <tr>\n",
       "      <th>1</th>\n",
       "      <td>C47.11</td>\n",
       "      <td>Iii8mllllllm\\nMdxfvb8o90lplppi0005</td>\n",
       "      <td>NAG</td>\n",
       "      <td>NGEN</td>\n",
       "      <td>iii8mllllllm mdxfvb8o90lplppi0005</td>\n",
       "      <td>[iii, 8mllllllm, mdxfvb, 8o90lplppi0005]</td>\n",
       "    </tr>\n",
       "    <tr>\n",
       "      <th>2</th>\n",
       "      <td>C33.79</td>\n",
       "      <td>🤣🤣😂😂🤣🤣🤣😂osm vedio ....keep it up...make more v...</td>\n",
       "      <td>NAG</td>\n",
       "      <td>NGEN</td>\n",
       "      <td>osm vedio make vedios</td>\n",
       "      <td>[osm, vedio, make, vedios]</td>\n",
       "    </tr>\n",
       "    <tr>\n",
       "      <th>3</th>\n",
       "      <td>C4.1961</td>\n",
       "      <td>What the fuck was this? I respect shwetabh and...</td>\n",
       "      <td>NAG</td>\n",
       "      <td>NGEN</td>\n",
       "      <td>what fuck this? respect shwetabh watching vide...</td>\n",
       "      <td>[what, fuck, this, ?, respect, shwetabh, watch...</td>\n",
       "    </tr>\n",
       "    <tr>\n",
       "      <th>4</th>\n",
       "      <td>C10.153</td>\n",
       "      <td>Concerned authorities should bring arundathi R...</td>\n",
       "      <td>NAG</td>\n",
       "      <td>NGEN</td>\n",
       "      <td>concerned authorities bring arundathi roy type...</td>\n",
       "      <td>[concerned, authorities, bring, arundathi, roy...</td>\n",
       "    </tr>\n",
       "  </tbody>\n",
       "</table>\n",
       "</div>"
      ],
      "text/plain": [
       "        ID                                               Text Sub-task A  \\\n",
       "0  C45.451                                          Next part        NAG   \n",
       "1   C47.11                 Iii8mllllllm\\nMdxfvb8o90lplppi0005        NAG   \n",
       "2   C33.79  🤣🤣😂😂🤣🤣🤣😂osm vedio ....keep it up...make more v...        NAG   \n",
       "3  C4.1961  What the fuck was this? I respect shwetabh and...        NAG   \n",
       "4  C10.153  Concerned authorities should bring arundathi R...        NAG   \n",
       "\n",
       "  Sub-task B                                         clean text  \\\n",
       "0       NGEN                                          next part   \n",
       "1       NGEN                  iii8mllllllm mdxfvb8o90lplppi0005   \n",
       "2       NGEN                              osm vedio make vedios   \n",
       "3       NGEN  what fuck this? respect shwetabh watching vide...   \n",
       "4       NGEN  concerned authorities bring arundathi roy type...   \n",
       "\n",
       "                                           tokenized  \n",
       "0                                       [next, part]  \n",
       "1           [iii, 8mllllllm, mdxfvb, 8o90lplppi0005]  \n",
       "2                         [osm, vedio, make, vedios]  \n",
       "3  [what, fuck, this, ?, respect, shwetabh, watch...  \n",
       "4  [concerned, authorities, bring, arundathi, roy...  "
      ]
     },
     "execution_count": 22,
     "metadata": {},
     "output_type": "execute_result"
    }
   ],
   "source": [
    "clean_text(eng_train, 'en')\n",
    "eng_train.head()"
   ]
  },
  {
   "cell_type": "code",
   "execution_count": 23,
   "metadata": {},
   "outputs": [
    {
     "name": "stdout",
     "output_type": "stream",
     "text": [
      "      POS  Frequency\n",
      "0     ADJ       4344\n",
      "1    NOUN      12042\n",
      "2   PROPN       9135\n",
      "3    VERB       5722\n",
      "4    PRON        803\n",
      "5     DET        673\n",
      "6   PUNCT       1260\n",
      "7    INTJ        303\n",
      "8   CCONJ        270\n",
      "9     ADV       1374\n",
      "10   PART        340\n",
      "11    NUM        361\n",
      "12    AUX        384\n",
      "13  SCONJ        103\n",
      "14    ADP        160\n",
      "15      X        210\n",
      "16    SYM        124\n",
      "\n",
      "Part-of-speech tagging counts for combined corpus\n"
     ]
    },
    {
     "data": {
      "text/plain": [
       "<matplotlib.axes._subplots.AxesSubplot at 0x7f6003231a90>"
      ]
     },
     "execution_count": 23,
     "metadata": {},
     "output_type": "execute_result"
    },
    {
     "data": {
      "image/png": "[encoded data removed]",
      "text/plain": [
       "<Figure size 1296x360 with 1 Axes>"
      ]
     },
     "metadata": {
      "needs_background": "light"
     },
     "output_type": "display_data"
    }
   ],
   "source": [
    "pos_df = POS(eng_train, 'clean text')\n",
    "print(pos_df)\n",
    "print('\\nPart-of-speech tagging counts for combined corpus')\n",
    "pos_df.plot.bar(x ='POS', y ='Frequency', rot = 0, figsize=(18,5))"
   ]
  },
  {
   "cell_type": "markdown",
   "metadata": {},
   "source": [
    "### Lexicon Normalization"
   ]
  },
  {
   "cell_type": "code",
   "execution_count": 24,
   "metadata": {},
   "outputs": [],
   "source": [
    "def script_tag(text):\n",
    "    ben = re.compile(\"[\" u\"\\U00000980-\\U000009FF\" \"]+\", flags=re.UNICODE) # Bengali\n",
    "    hin = re.compile(\"[\" u\"\\U00000900-\\U0000097F\" \"]+\", flags=re.UNICODE) # Hindi\n",
    "\n",
    "    if ben.match(text):\n",
    "        return 'bn'\n",
    "    elif hin.match(text):\n",
    "        return 'hi'\n",
    "    else:\n",
    "        return 'en'"
   ]
  },
  {
   "cell_type": "code",
   "execution_count": 25,
   "metadata": {},
   "outputs": [],
   "source": [
    "def language_tag(df):\n",
    "    df['normalized lexicon'] = df['clean text']\n",
    "    for i in range(df.shape[0]):\n",
    "        lis = []\n",
    "        words = df['tokenized'].loc[i]\n",
    "        for word in words:\n",
    "            script = script_tag(word) \n",
    "            trans_script = translator.translate(word).src\n",
    "            if(script == 'hi' or trans_script == 'hi'):\n",
    "                lis.append(translator.translate(word, src='hi').text.lower())\n",
    "            elif(script == 'bn' or trans_script == 'bn'):\n",
    "                lis.append(translator.translate(word, src='bn').text.lower())\n",
    "            elif(script == 'en' or trans_script == 'en'):\n",
    "                if word in propn: #PROPN\n",
    "                    lis.append(word.lower())\n",
    "                elif len(spellcheck.unknown([word]))!=0: #SPELL CHECK\n",
    "                    lis.append(spellcheck.correction(word).lower())\n",
    "                else:\n",
    "                    lis.append(word.lower())\n",
    "        df['normalized lexicon'].loc[i] = lis\n",
    "    return df"
   ]
  },
  {
   "cell_type": "code",
   "execution_count": 26,
   "metadata": {},
   "outputs": [
    {
     "data": {
      "text/html": [
       "<div>\n",
       "<style scoped>\n",
       "    .dataframe tbody tr th:only-of-type {\n",
       "        vertical-align: middle;\n",
       "    }\n",
       "\n",
       "    .dataframe tbody tr th {\n",
       "        vertical-align: top;\n",
       "    }\n",
       "\n",
       "    .dataframe thead th {\n",
       "        text-align: right;\n",
       "    }\n",
       "</style>\n",
       "<table border=\"1\" class=\"dataframe\">\n",
       "  <thead>\n",
       "    <tr style=\"text-align: right;\">\n",
       "      <th></th>\n",
       "      <th>ID</th>\n",
       "      <th>Text</th>\n",
       "      <th>Sub-task A</th>\n",
       "      <th>Sub-task B</th>\n",
       "      <th>clean text</th>\n",
       "      <th>tokenized</th>\n",
       "      <th>normalized lexicon</th>\n",
       "    </tr>\n",
       "  </thead>\n",
       "  <tbody>\n",
       "    <tr>\n",
       "      <th>0</th>\n",
       "      <td>C45.451</td>\n",
       "      <td>Next part</td>\n",
       "      <td>NAG</td>\n",
       "      <td>NGEN</td>\n",
       "      <td>next part</td>\n",
       "      <td>[next, part]</td>\n",
       "      <td>[next, part]</td>\n",
       "    </tr>\n",
       "    <tr>\n",
       "      <th>1</th>\n",
       "      <td>C47.11</td>\n",
       "      <td>Iii8mllllllm\\nMdxfvb8o90lplppi0005</td>\n",
       "      <td>NAG</td>\n",
       "      <td>NGEN</td>\n",
       "      <td>iii8mllllllm mdxfvb8o90lplppi0005</td>\n",
       "      <td>[iii, 8mllllllm, mdxfvb, 8o90lplppi0005]</td>\n",
       "      <td>[iii, 8mllllllm, mdxfvb, 8o90lplppi0005]</td>\n",
       "    </tr>\n",
       "    <tr>\n",
       "      <th>2</th>\n",
       "      <td>C33.79</td>\n",
       "      <td>🤣🤣😂😂🤣🤣🤣😂osm vedio ....keep it up...make more v...</td>\n",
       "      <td>NAG</td>\n",
       "      <td>NGEN</td>\n",
       "      <td>osm vedio make vedios</td>\n",
       "      <td>[osm, vedio, make, vedios]</td>\n",
       "      <td>[osm, osf, vedic, make, videos]</td>\n",
       "    </tr>\n",
       "    <tr>\n",
       "      <th>3</th>\n",
       "      <td>C4.1961</td>\n",
       "      <td>What the fuck was this? I respect shwetabh and...</td>\n",
       "      <td>NAG</td>\n",
       "      <td>NGEN</td>\n",
       "      <td>what fuck this? respect shwetabh watching vide...</td>\n",
       "      <td>[what, fuck, this, ?, respect, shwetabh, watch...</td>\n",
       "      <td>[what, fuck, fuck, this, ?, respect, respect, ...</td>\n",
       "    </tr>\n",
       "    <tr>\n",
       "      <th>4</th>\n",
       "      <td>C10.153</td>\n",
       "      <td>Concerned authorities should bring arundathi R...</td>\n",
       "      <td>NAG</td>\n",
       "      <td>NGEN</td>\n",
       "      <td>concerned authorities bring arundathi roy type...</td>\n",
       "      <td>[concerned, authorities, bring, arundathi, roy...</td>\n",
       "      <td>[concerned, authorities, bring, arundathi, roy...</td>\n",
       "    </tr>\n",
       "    <tr>\n",
       "      <th>...</th>\n",
       "      <td>...</td>\n",
       "      <td>...</td>\n",
       "      <td>...</td>\n",
       "      <td>...</td>\n",
       "      <td>...</td>\n",
       "      <td>...</td>\n",
       "      <td>...</td>\n",
       "    </tr>\n",
       "    <tr>\n",
       "      <th>4258</th>\n",
       "      <td>C10.123</td>\n",
       "      <td>Abey loudey Arnab... Did u ever see the vedios...</td>\n",
       "      <td>OAG</td>\n",
       "      <td>GEN</td>\n",
       "      <td>abey loudey arnab did vedios hijdi police vand...</td>\n",
       "      <td>[abey, loudey, arnab, did, vedios, hijdi, poli...</td>\n",
       "      <td>[abbey, loudly, arnab, arab, did, videos, eunu...</td>\n",
       "    </tr>\n",
       "    <tr>\n",
       "      <th>4259</th>\n",
       "      <td>C10.545</td>\n",
       "      <td>Arundati is very rich where she get money who ...</td>\n",
       "      <td>NAG</td>\n",
       "      <td>NGEN</td>\n",
       "      <td>arundati rich money paying depressed senile</td>\n",
       "      <td>[arundati, rich, money, paying, depressed, sen...</td>\n",
       "      <td>[arundati, rich, money, paying, depressed, sen...</td>\n",
       "    </tr>\n",
       "    <tr>\n",
       "      <th>4260</th>\n",
       "      <td>C4.1082</td>\n",
       "      <td>People may criticize Pratik Borade by saying t...</td>\n",
       "      <td>CAG</td>\n",
       "      <td>NGEN</td>\n",
       "      <td>people criticize pratik borade takes movies ta...</td>\n",
       "      <td>[people, criticize, pratik, borade, takes, mov...</td>\n",
       "      <td>[people, criticize, pratik, ratio, borade, tak...</td>\n",
       "    </tr>\n",
       "    <tr>\n",
       "      <th>4261</th>\n",
       "      <td>C33.592.4</td>\n",
       "      <td>@Naaz Sk hello</td>\n",
       "      <td>NAG</td>\n",
       "      <td>NGEN</td>\n",
       "      <td>naaz</td>\n",
       "      <td>[naaz]</td>\n",
       "      <td>[nawaz]</td>\n",
       "    </tr>\n",
       "    <tr>\n",
       "      <th>4262</th>\n",
       "      <td>C4.2184</td>\n",
       "      <td>We want to read your book sir, please make it ...</td>\n",
       "      <td>NAG</td>\n",
       "      <td>NGEN</td>\n",
       "      <td>read book sir make available</td>\n",
       "      <td>[read, book, sir, make, available]</td>\n",
       "      <td>[read, book, sir, sir, make, available]</td>\n",
       "    </tr>\n",
       "  </tbody>\n",
       "</table>\n",
       "<p>4263 rows × 7 columns</p>\n",
       "</div>"
      ],
      "text/plain": [
       "             ID                                               Text Sub-task A  \\\n",
       "0       C45.451                                          Next part        NAG   \n",
       "1        C47.11                 Iii8mllllllm\\nMdxfvb8o90lplppi0005        NAG   \n",
       "2        C33.79  🤣🤣😂😂🤣🤣🤣😂osm vedio ....keep it up...make more v...        NAG   \n",
       "3       C4.1961  What the fuck was this? I respect shwetabh and...        NAG   \n",
       "4       C10.153  Concerned authorities should bring arundathi R...        NAG   \n",
       "...         ...                                                ...        ...   \n",
       "4258    C10.123  Abey loudey Arnab... Did u ever see the vedios...        OAG   \n",
       "4259    C10.545  Arundati is very rich where she get money who ...        NAG   \n",
       "4260    C4.1082  People may criticize Pratik Borade by saying t...        CAG   \n",
       "4261  C33.592.4                                     @Naaz Sk hello        NAG   \n",
       "4262    C4.2184  We want to read your book sir, please make it ...        NAG   \n",
       "\n",
       "     Sub-task B                                         clean text  \\\n",
       "0          NGEN                                          next part   \n",
       "1          NGEN                  iii8mllllllm mdxfvb8o90lplppi0005   \n",
       "2          NGEN                              osm vedio make vedios   \n",
       "3          NGEN  what fuck this? respect shwetabh watching vide...   \n",
       "4          NGEN  concerned authorities bring arundathi roy type...   \n",
       "...         ...                                                ...   \n",
       "4258        GEN  abey loudey arnab did vedios hijdi police vand...   \n",
       "4259       NGEN        arundati rich money paying depressed senile   \n",
       "4260       NGEN  people criticize pratik borade takes movies ta...   \n",
       "4261       NGEN                                               naaz   \n",
       "4262       NGEN                       read book sir make available   \n",
       "\n",
       "                                              tokenized  \\\n",
       "0                                          [next, part]   \n",
       "1              [iii, 8mllllllm, mdxfvb, 8o90lplppi0005]   \n",
       "2                            [osm, vedio, make, vedios]   \n",
       "3     [what, fuck, this, ?, respect, shwetabh, watch...   \n",
       "4     [concerned, authorities, bring, arundathi, roy...   \n",
       "...                                                 ...   \n",
       "4258  [abey, loudey, arnab, did, vedios, hijdi, poli...   \n",
       "4259  [arundati, rich, money, paying, depressed, sen...   \n",
       "4260  [people, criticize, pratik, borade, takes, mov...   \n",
       "4261                                             [naaz]   \n",
       "4262                 [read, book, sir, make, available]   \n",
       "\n",
       "                                     normalized lexicon  \n",
       "0                                          [next, part]  \n",
       "1              [iii, 8mllllllm, mdxfvb, 8o90lplppi0005]  \n",
       "2                       [osm, osf, vedic, make, videos]  \n",
       "3     [what, fuck, fuck, this, ?, respect, respect, ...  \n",
       "4     [concerned, authorities, bring, arundathi, roy...  \n",
       "...                                                 ...  \n",
       "4258  [abbey, loudly, arnab, arab, did, videos, eunu...  \n",
       "4259  [arundati, rich, money, paying, depressed, sen...  \n",
       "4260  [people, criticize, pratik, ratio, borade, tak...  \n",
       "4261                                            [nawaz]  \n",
       "4262            [read, book, sir, sir, make, available]  \n",
       "\n",
       "[4263 rows x 7 columns]"
      ]
     },
     "execution_count": 26,
     "metadata": {},
     "output_type": "execute_result"
    }
   ],
   "source": [
    "language_tag(eng_train)  # Takes considerable amount of time to run"
   ]
  },
  {
   "cell_type": "code",
   "execution_count": 27,
   "metadata": {},
   "outputs": [],
   "source": [
    "def normalized_lex_string(lis):\n",
    "    return ' '.join(word for word in lis)"
   ]
  },
  {
   "cell_type": "code",
   "execution_count": 29,
   "metadata": {},
   "outputs": [],
   "source": [
    "eng_train['monolingual'] = eng_train['normalized lexicon'].apply(lambda x : normalized_lex_string(x))"
   ]
  },
  {
   "cell_type": "code",
   "execution_count": 30,
   "metadata": {},
   "outputs": [
    {
     "data": {
      "text/html": [
       "<div>\n",
       "<style scoped>\n",
       "    .dataframe tbody tr th:only-of-type {\n",
       "        vertical-align: middle;\n",
       "    }\n",
       "\n",
       "    .dataframe tbody tr th {\n",
       "        vertical-align: top;\n",
       "    }\n",
       "\n",
       "    .dataframe thead th {\n",
       "        text-align: right;\n",
       "    }\n",
       "</style>\n",
       "<table border=\"1\" class=\"dataframe\">\n",
       "  <thead>\n",
       "    <tr style=\"text-align: right;\">\n",
       "      <th></th>\n",
       "      <th>ID</th>\n",
       "      <th>Text</th>\n",
       "      <th>Sub-task A</th>\n",
       "      <th>Sub-task B</th>\n",
       "      <th>clean text</th>\n",
       "      <th>tokenized</th>\n",
       "      <th>normalized lexicon</th>\n",
       "      <th>monolingual</th>\n",
       "    </tr>\n",
       "  </thead>\n",
       "  <tbody>\n",
       "    <tr>\n",
       "      <th>1120</th>\n",
       "      <td>C33.322.1</td>\n",
       "      <td>Vinod Jat hi</td>\n",
       "      <td>NAG</td>\n",
       "      <td>NGEN</td>\n",
       "      <td>vinod jat</td>\n",
       "      <td>[vinod, jat]</td>\n",
       "      <td>[vinod, at]</td>\n",
       "      <td>vinod at</td>\n",
       "    </tr>\n",
       "    <tr>\n",
       "      <th>1471</th>\n",
       "      <td>C26.299</td>\n",
       "      <td>As you sow so shall you reap... Innocent husba...</td>\n",
       "      <td>CAG</td>\n",
       "      <td>NGEN</td>\n",
       "      <td>sow reap innocent husband prosecuted legal ter...</td>\n",
       "      <td>[sow, reap, innocent, husband, prosecuted, leg...</td>\n",
       "      <td>[sow, reap, innocent, husband, prosecuted, leg...</td>\n",
       "      <td>sow reap innocent husband prosecuted legal ter...</td>\n",
       "    </tr>\n",
       "    <tr>\n",
       "      <th>4144</th>\n",
       "      <td>C58.492</td>\n",
       "      <td>Great de</td>\n",
       "      <td>NAG</td>\n",
       "      <td>NGEN</td>\n",
       "      <td>great</td>\n",
       "      <td>[great]</td>\n",
       "      <td>[great, great]</td>\n",
       "      <td>great great</td>\n",
       "    </tr>\n",
       "    <tr>\n",
       "      <th>503</th>\n",
       "      <td>C63.51</td>\n",
       "      <td>nicevedio</td>\n",
       "      <td>NAG</td>\n",
       "      <td>NGEN</td>\n",
       "      <td>nicevedio</td>\n",
       "      <td>[nicevedio]</td>\n",
       "      <td>[nicevedio, nicevedio]</td>\n",
       "      <td>nicevedio nicevedio</td>\n",
       "    </tr>\n",
       "    <tr>\n",
       "      <th>2979</th>\n",
       "      <td>C7.1404</td>\n",
       "      <td>11.52 best reply to feminists</td>\n",
       "      <td>NAG</td>\n",
       "      <td>NGEN</td>\n",
       "      <td>reply feminists</td>\n",
       "      <td>[reply, feminists]</td>\n",
       "      <td>[reply, reply, feminists]</td>\n",
       "      <td>reply reply feminists</td>\n",
       "    </tr>\n",
       "  </tbody>\n",
       "</table>\n",
       "</div>"
      ],
      "text/plain": [
       "             ID                                               Text Sub-task A  \\\n",
       "1120  C33.322.1                                       Vinod Jat hi        NAG   \n",
       "1471    C26.299  As you sow so shall you reap... Innocent husba...        CAG   \n",
       "4144    C58.492                                           Great de        NAG   \n",
       "503      C63.51                                          nicevedio        NAG   \n",
       "2979    C7.1404                      11.52 best reply to feminists        NAG   \n",
       "\n",
       "     Sub-task B                                         clean text  \\\n",
       "1120       NGEN                                          vinod jat   \n",
       "1471       NGEN  sow reap innocent husband prosecuted legal ter...   \n",
       "4144       NGEN                                              great   \n",
       "503        NGEN                                          nicevedio   \n",
       "2979       NGEN                                    reply feminists   \n",
       "\n",
       "                                              tokenized  \\\n",
       "1120                                       [vinod, jat]   \n",
       "1471  [sow, reap, innocent, husband, prosecuted, leg...   \n",
       "4144                                            [great]   \n",
       "503                                         [nicevedio]   \n",
       "2979                                 [reply, feminists]   \n",
       "\n",
       "                                     normalized lexicon  \\\n",
       "1120                                        [vinod, at]   \n",
       "1471  [sow, reap, innocent, husband, prosecuted, leg...   \n",
       "4144                                     [great, great]   \n",
       "503                              [nicevedio, nicevedio]   \n",
       "2979                          [reply, reply, feminists]   \n",
       "\n",
       "                                            monolingual  \n",
       "1120                                           vinod at  \n",
       "1471  sow reap innocent husband prosecuted legal ter...  \n",
       "4144                                        great great  \n",
       "503                                 nicevedio nicevedio  \n",
       "2979                              reply reply feminists  "
      ]
     },
     "execution_count": 30,
     "metadata": {},
     "output_type": "execute_result"
    }
   ],
   "source": [
    "eng_train.sample(5)"
   ]
  },
  {
   "cell_type": "markdown",
   "metadata": {},
   "source": [
    "### Class Interdependence"
   ]
  },
  {
   "cell_type": "code",
   "execution_count": null,
   "metadata": {},
   "outputs": [],
   "source": [
    "# WORD CLOUD\n",
    "for agg in classes:\n",
    "    words = ''\n",
    "    stopwords = set(STOPWORDS)\n",
    "\n",
    "    for val in eng_train[eng_train[\"Sub-task A\"] == agg]['monolingual']: \n",
    "        tokens = str(val).split() \n",
    "        words += \" \".join(tokens)+\" \"\n",
    "\n",
    "    wordcloud = WordCloud(width = 800, \n",
    "                          height = 800, \n",
    "                          background_color ='white', \n",
    "                          stopwords = stopwords, \n",
    "                          min_font_size = 10).generate(words) \n",
    "\n",
    "    plt.figure(figsize = (8, 8), facecolor = None) \n",
    "    plt.imshow(wordcloud) \n",
    "    plt.axis(\"off\") \n",
    "    plt.tight_layout(pad = 0) \n",
    "    \n",
    "    print(agg)\n",
    "    plt.show() \n",
    "    print(\"\\n\\n\\n\")"
   ]
  },
  {
   "cell_type": "code",
   "execution_count": null,
   "metadata": {},
   "outputs": [],
   "source": [
    "# MOST FREQUENT STATS\n",
    "\n",
    "def plot_most_frequent_words(df, agg):\n",
    "    cnt = 0\n",
    "    fig = plt.figure(figsize = (24, 20), facecolor = \"white\")   \n",
    "    cnt += 1\n",
    "    ax = fig.add_subplot(2, 2, cnt)\n",
    "\n",
    "    sns.barplot(x = 0, y = df['Sub-task A'], data = df, palette = \"deep\")\n",
    "\n",
    "    plt.title(f\"Most Common Words from {agg} class are\", size = 20)\n",
    "    plt.xlabel(\"Frequency\", size = 18)\n",
    "    plt.ylabel(\"Word\", size = 18)\n",
    "    plt.xticks(size = 16)\n",
    "    plt.yticks(size = 17)"
   ]
  },
  {
   "cell_type": "code",
   "execution_count": null,
   "metadata": {},
   "outputs": [],
   "source": [
    "sns.set(style = \"white\", palette = \"deep\")\n",
    "\n",
    "for agg in classes:\n",
    "    subset = eng_train[eng_train[\"Sub-task A\"] == agg]\n",
    "    vecs = cvec.fit_transform(subset[\"monolingual\"])\n",
    "    vectorized_df = pd.DataFrame(vecs.toarray(), columns = cvec.get_feature_names())\n",
    "\n",
    "    # Getting the 20 most frequent words from each\n",
    "    frequent = pd.DataFrame(vectorized_df.sum().sort_values(ascending = False).head(20))\n",
    "    \n",
    "    plot_most_frequent_words(df = frequent, agg = agg)"
   ]
  },
  {
   "cell_type": "code",
   "execution_count": null,
   "metadata": {},
   "outputs": [],
   "source": [
    "# CLEANING"
   ]
  }
 ],
 "metadata": {
  "kernelspec": {
   "display_name": "Python 3",
   "language": "python",
   "name": "python3"
  },
  "language_info": {
   "codemirror_mode": {
    "name": "ipython",
    "version": 3
   },
   "file_extension": ".py",
   "mimetype": "text/x-python",
   "name": "python",
   "nbconvert_exporter": "python",
   "pygments_lexer": "ipython3",
   "version": "3.7.6"
  }
 },
 "nbformat": 4,
 "nbformat_minor": 2
}
